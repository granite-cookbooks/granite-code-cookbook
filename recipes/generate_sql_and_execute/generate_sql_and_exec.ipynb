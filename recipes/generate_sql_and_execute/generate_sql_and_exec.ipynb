{
 "cells": [
  {
   "cell_type": "markdown",
   "id": "24c38e47-9379-4e35-a045-03b50948cca7",
   "metadata": {},
   "source": [
    "# Generate SQL using IBM Granite LLM and execute it on IBM DB2 on cloud."
   ]
  },
  {
   "cell_type": "markdown",
   "id": "d504f020-73d1-4d77-ac2a-9dc00be5af3a",
   "metadata": {},
   "source": [
    "In this notebook, we are going to use ibm granite model to generate a sql for a given table schema and execute the sql on DB2 on IBM cloud.\n",
    "\n",
    "Following are the steps that we will follow in the cookbook.\n",
    "\n",
    "1. #### Setup DB2 on IBM Cloud\n",
    "2. #### Initialize DB with Tables and populate the tables with data\n",
    "3. #### Populate the tables with data by executing the following SQL in the DB2 UI\n",
    "4. #### Get the User id, password and deployment id from the Service credentials of IBM DB2 instance\n",
    "5. #### Get the DB2 rest end point from IBM DB2 on cloud > dashboard > Administration section\n",
    "6. #### Install IBM Granite Utils and import lang chain utils.\n",
    "7. #### Setup IBM Granite LLM from Replicate\n",
    "8. #### Develop the prompt to generate SQL for a given query and a table structure\n",
    "9. #### Invoke the granite model with the prompt to get the SQL and apply regex to get the SQL only in case of addition text in generated response\n",
    "10. #### Get the http connection to IBM DB2 on cloud and get the auth token\n",
    "11. #### Execute the generated SQL on DB2 on IBM cloud and get the SQL ID of the execution using the sql_jobs api endpoint\n",
    "12. #### Get the output of the SQL execution using the SQL id thru the sql_jobs api"
   ]
  },
  {
   "cell_type": "markdown",
   "id": "b9b43834-a88d-450b-9f54-d914f4e2ddac",
   "metadata": {},
   "source": [
    "### Pre Requisites\n",
    "For this we need,\n",
    "a replicate account that hosts IBM granite models,\n",
    "an IBM cloud account with IBM DB2 deployed in it.\n"
   ]
  },
  {
   "cell_type": "markdown",
   "id": "cab4a127-85cd-4adf-8eb3-e10846ced3ff",
   "metadata": {},
   "source": [
    "Once the pre requisites are setup, using this cookbook, we will pass a prompt to granite model and get the response. The response sql is passed on to IBM DB2 through rest api endpoints and executed on IBM DB2 on cloud. The output of the sql is then displayed to the user."
   ]
  },
  {
   "cell_type": "markdown",
   "id": "d4d4e736-9d7c-4bbd-a823-d25e8f42c60e",
   "metadata": {},
   "source": [
    "### Setup DB2 on IBM Cloud"
   ]
  },
  {
   "cell_type": "markdown",
   "id": "3da9a461-a9bd-4005-ae0c-042655e45f9d",
   "metadata": {},
   "source": [
    "Visit https://cloud.ibm.com/docs/Db2onCloud?topic=Db2onCloud-getting-started and setup IBM Db2 on Cloud"
   ]
  },
  {
   "cell_type": "markdown",
   "id": "96a8a2c6-e7b6-40e1-a1de-3a5b6448e72f",
   "metadata": {},
   "source": [
    "### Initialize DB with Tables and populate the tables with data"
   ]
  },
  {
   "cell_type": "markdown",
   "id": "ae6dbb61-b2b4-4d8e-8a4e-da0c1ee3fd39",
   "metadata": {},
   "source": [
    "After setting up IBM DB2 on cloud go to SQL section of the IBM DB2 UI,\n",
    "execute the following DDL Sql."
   ]
  },
  {
   "cell_type": "markdown",
   "id": "1ce6871c-9a5d-4a2c-b1a4-3a08720e898e",
   "metadata": {},
   "source": [
    "CREATE TABLE User (\n",
    "    user_id INT NOT NULL PRIMARY KEY,\n",
    "    username VARCHAR(50) NOT NULL,\n",
    "    email VARCHAR(100) NOT NULL,\n",
    "    password_hash VARCHAR(100) NOT NULL,\n",
    "    full_name VARCHAR(100),\n",
    "    address VARCHAR(255),\n",
    "    phone_number VARCHAR(20)\n",
    ");\n",
    "\n",
    "CREATE TABLE Product (\n",
    "    product_id INT NOT NULL PRIMARY KEY,\n",
    "    name VARCHAR(100) NOT NULL,\n",
    "    description VARCHAR(500),\n",
    "    price DECIMAL(10, 2) NOT NULL,\n",
    "    category VARCHAR(50),\n",
    "    image_url VARCHAR(255),\n",
    "    available_quantity INT\n",
    ");\n",
    "\n",
    "CREATE TABLE Store (\n",
    "    store_id INT NOT NULL PRIMARY KEY,\n",
    "    name VARCHAR(100) NOT NULL,\n",
    "    location VARCHAR(255),\n",
    "    capacity INT,\n",
    "    available_capacity INT\n",
    ");\n",
    "\n",
    "CREATE TABLE Order (\n",
    "    order_id INT NOT NULL PRIMARY KEY,\n",
    "    user_id INT REFERENCES User(user_id),\n",
    "    order_date TIMESTAMP,\n",
    "    status VARCHAR(50),\n",
    "    total_amount DECIMAL(10, 2),\n",
    "    store_id INT REFERENCES Store(store_id)\n",
    ");\n",
    "\n",
    "CREATE TABLE OrderItem (\n",
    "    order_item_id INT NOT NULL PRIMARY KEY,\n",
    "    order_id INT REFERENCES Order(order_id),\n",
    "    product_id INT REFERENCES Product(product_id),\n",
    "    quantity INT,\n",
    "    subtotal DECIMAL(10, 2)\n",
    ");"
   ]
  },
  {
   "cell_type": "markdown",
   "id": "1f57fad0-986f-4f7a-8f09-247f275792e8",
   "metadata": {},
   "source": [
    "#### Populate the tables with data by executing the following SQL in the DB2 UI"
   ]
  },
  {
   "cell_type": "markdown",
   "id": "d2fe952d-5aa9-4411-bcd3-48febb85555b",
   "metadata": {},
   "source": [
    "INSERT INTO User (user_id, username, email, password_hash, full_name, address, phone_number)\n",
    "VALUES\n",
    "    (1, 'john_doe', 'john@example.com', 'hashed_password', 'John Doe', '123 Main St', '123-456-7890'),\n",
    "    (2, 'jane_smith', 'jane@example.com', 'hashed_password', 'Jane Smith', '456 Elm St', '987-654-3210');\n",
    "\n",
    "INSERT INTO Product (product_id, name, description, price, category, image_url, available_quantity)\n",
    "VALUES\n",
    "    (1, 'Toy Car', 'Remote control toy car', 19.99, 'Toys', 'car.jpg', 50),\n",
    "    (2, 'Action Figure', 'Superhero action figure', 12.99, 'Toys', 'action_figure.jpg', 30),\n",
    "    (3, 'Laptop', 'High-performance laptop', 899.99, 'Electronics', 'laptop.jpg', 10),\n",
    "    (4, 'Smartphone', 'Latest smartphone model', 699.99, 'Electronics', 'smartphone.jpg', 15);\n",
    "\n",
    "INSERT INTO Store (store_id, name, location, capacity, available_capacity)\n",
    "VALUES\n",
    "    (1, 'Center A', 'Location A', 100, 80),\n",
    "    (2, 'Center B', 'Location B', 150, 120);\n",
    "\n",
    "INSERT INTO Order (order_id, user_id, order_date, status, total_amount, store_id)\n",
    "VALUES\n",
    "    (1, 1, '2023-08-01', 'Pending', 32.98, 1),\n",
    "    (2, 2, '2023-08-02', 'Shipped', 19.99, 2);\n",
    "\n",
    "INSERT INTO OrderItem (order_item_id, order_id, product_id, quantity, subtotal)\n",
    "VALUES\n",
    "    (1, 1, 1, 2, 39.98),\n",
    "    (2, 1, 2, 1, 12.99),\n",
    "    (3, 2, 1, 1, 19.99);\n"
   ]
  },
  {
   "attachments": {},
   "cell_type": "markdown",
   "id": "ffc7787a-d76c-42e8-b8ef-d3b4cb23c50c",
   "metadata": {},
   "source": [
    "### Get the User id, password and deployment id from the Service credentials of IBM DB2 instance"
   ]
  },
  {
   "attachments": {},
   "cell_type": "markdown",
   "id": "6b0590a6-3abc-4158-9990-de3b1e3eb0f7",
   "metadata": {},
   "source": [
    "From the Service credential's db2.authentication key, get the user id and password\n",
    "\n",
    "db2\": {\n",
    "      \"authentication\": {\n",
    "        \"method\": \"direct\",\n",
    "        \"password\": \"maDVHz4oUqmVE_mod\",\n",
    "        \"username\": \"tcq27st\"\n",
    "      },\n",
    "\n",
    "Also, get the deployment id from,\n",
    "\"instance_administration_api\": {\n",
    "    \"deployment_id\": \"crn:v1:bluemix:public:dashdb-for-transactions:us-south:a/f665a69257a9fbe8b8bf0f77bc176a0\",\n",
    "    \"instance_id\": \"crn:v1:bluemix:public:\",\n",
    "    \"root\": \"https://api.db2.cloud.ibm.com/v5/ibm\"\n",
    "  }"
   ]
  },
  {
   "cell_type": "code",
   "execution_count": 17,
   "id": "8523f756-2bbc-4bfe-a0cf-2a418b55e2cf",
   "metadata": {},
   "outputs": [],
   "source": [
    "db_username = \"username-from-service-credentials\"\n",
    "db_password = \"password-from-service-credentials\""
   ]
  },
  {
   "attachments": {},
   "cell_type": "markdown",
   "id": "a8a9ef9b-a2d4-47cc-a7aa-2732e6cb7293",
   "metadata": {},
   "source": [
    "#### Get the DB2 rest end point from IBM DB2 on cloud > dashboard > Administration section"
   ]
  },
  {
   "cell_type": "code",
   "execution_count": 18,
   "id": "185aeb6f-ee05-4e9f-ba97-abb62aec33f4",
   "metadata": {},
   "outputs": [],
   "source": [
    "db2_rest_endpoint = \"rest-api-host-name-from-IBM-DB2-Administration-section\"\n",
    "db2_deployment_id = \"deployment-id-from-service-credentials\""
   ]
  },
  {
   "cell_type": "markdown",
   "id": "ab0a77e9-c5fc-482d-81bf-5cee55edded8",
   "metadata": {},
   "source": [
    "### Install IBM Granite Utils and import lang chain utils."
   ]
  },
  {
   "cell_type": "code",
   "execution_count": 25,
   "id": "dfb239c1-1105-43fd-bda6-1850c267c08f",
   "metadata": {},
   "outputs": [
    {
     "name": "stdout",
     "output_type": "stream",
     "text": [
      "Collecting git+https://github.com/ibm-granite-community/granite-kitchen\n",
      "  Cloning https://github.com/ibm-granite-community/granite-kitchen to /private/var/folders/d4/_1ct8yfn6zz71d9bmw0c2n1r0000gn/T/pip-req-build-_j0fwk3p\n",
      "  Running command git clone --filter=blob:none --quiet https://github.com/ibm-granite-community/granite-kitchen /private/var/folders/d4/_1ct8yfn6zz71d9bmw0c2n1r0000gn/T/pip-req-build-_j0fwk3p\n",
      "  Resolved https://github.com/ibm-granite-community/granite-kitchen to commit cee1513c77429d7ddbf0e5a49b29b7bc9ca0d996\n",
      "  Preparing metadata (setup.py) ... \u001b[?25ldone\n",
      "\u001b[?25hCollecting ibm-granite-community@ git+https://github.com/ibm-granite-community/utils (from granite-kitchen==0.1.0)\n",
      "  Cloning https://github.com/ibm-granite-community/utils to /private/var/folders/d4/_1ct8yfn6zz71d9bmw0c2n1r0000gn/T/pip-install-j7dfyjfy/ibm-granite-community_7bd366b14a2e4729a502aecd2f4ee3ba\n",
      "  Running command git clone --filter=blob:none --quiet https://github.com/ibm-granite-community/utils /private/var/folders/d4/_1ct8yfn6zz71d9bmw0c2n1r0000gn/T/pip-install-j7dfyjfy/ibm-granite-community_7bd366b14a2e4729a502aecd2f4ee3ba\n",
      "  Resolved https://github.com/ibm-granite-community/utils to commit f1902ed1bca6a87a9afa3de33855a1707199d98b\n",
      "  Preparing metadata (setup.py) ... \u001b[?25ldone\n",
      "\u001b[?25hRequirement already satisfied: python-dotenv in /usr/local/lib/python3.11/site-packages (from granite-kitchen==0.1.0) (1.0.1)\n",
      "Requirement already satisfied: langchain_community<0.3.0 in /usr/local/lib/python3.11/site-packages (from granite-kitchen==0.1.0) (0.2.17)\n",
      "Requirement already satisfied: langchain_ollama<0.2.0 in /usr/local/lib/python3.11/site-packages (from granite-kitchen==0.1.0) (0.1.3)\n",
      "Requirement already satisfied: replicate in /usr/local/lib/python3.11/site-packages (from granite-kitchen==0.1.0) (0.33.0)\n",
      "Requirement already satisfied: langchain-pinecone in /usr/local/lib/python3.11/site-packages (from granite-kitchen==0.1.0) (0.1.3)\n",
      "Requirement already satisfied: langchain-milvus in /usr/local/lib/python3.11/site-packages (from granite-kitchen==0.1.0) (0.1.5)\n",
      "Requirement already satisfied: langchain-chroma in /usr/local/lib/python3.11/site-packages (from granite-kitchen==0.1.0) (0.1.4)\n",
      "Requirement already satisfied: langchain_ibm in /usr/local/lib/python3.11/site-packages (from granite-kitchen==0.1.0) (0.1.12)\n",
      "Requirement already satisfied: langchain_huggingface in /usr/local/lib/python3.11/site-packages (from granite-kitchen==0.1.0) (0.0.3)\n",
      "Requirement already satisfied: requests==2.32.3 in /usr/local/lib/python3.11/site-packages (from granite-kitchen==0.1.0) (2.32.3)\n",
      "Requirement already satisfied: charset-normalizer<4,>=2 in /usr/local/lib/python3.11/site-packages (from requests==2.32.3->granite-kitchen==0.1.0) (3.2.0)\n",
      "Requirement already satisfied: idna<4,>=2.5 in /usr/local/lib/python3.11/site-packages (from requests==2.32.3->granite-kitchen==0.1.0) (3.4)\n",
      "Requirement already satisfied: urllib3<3,>=1.21.1 in /usr/local/lib/python3.11/site-packages (from requests==2.32.3->granite-kitchen==0.1.0) (1.26.16)\n",
      "Requirement already satisfied: certifi>=2017.4.17 in /usr/local/lib/python3.11/site-packages (from requests==2.32.3->granite-kitchen==0.1.0) (2023.7.22)\n",
      "Requirement already satisfied: PyYAML>=5.3 in /usr/local/lib/python3.11/site-packages (from langchain_community<0.3.0->granite-kitchen==0.1.0) (6.0.1)\n",
      "Requirement already satisfied: SQLAlchemy<3,>=1.4 in /usr/local/lib/python3.11/site-packages (from langchain_community<0.3.0->granite-kitchen==0.1.0) (2.0.20)\n",
      "Requirement already satisfied: aiohttp<4.0.0,>=3.8.3 in /usr/local/lib/python3.11/site-packages (from langchain_community<0.3.0->granite-kitchen==0.1.0) (3.10.9)\n",
      "Requirement already satisfied: dataclasses-json<0.7,>=0.5.7 in /usr/local/lib/python3.11/site-packages (from langchain_community<0.3.0->granite-kitchen==0.1.0) (0.5.14)\n",
      "Requirement already satisfied: langchain<0.3.0,>=0.2.16 in /usr/local/lib/python3.11/site-packages (from langchain_community<0.3.0->granite-kitchen==0.1.0) (0.2.16)\n",
      "Requirement already satisfied: langchain-core<0.3.0,>=0.2.39 in /usr/local/lib/python3.11/site-packages (from langchain_community<0.3.0->granite-kitchen==0.1.0) (0.2.40)\n",
      "Requirement already satisfied: langsmith<0.2.0,>=0.1.112 in /usr/local/lib/python3.11/site-packages (from langchain_community<0.3.0->granite-kitchen==0.1.0) (0.1.121)\n",
      "Requirement already satisfied: numpy<2,>=1 in /usr/local/lib/python3.11/site-packages (from langchain_community<0.3.0->granite-kitchen==0.1.0) (1.24.3)\n",
      "Requirement already satisfied: tenacity!=8.4.0,<9.0.0,>=8.1.0 in /usr/local/lib/python3.11/site-packages (from langchain_community<0.3.0->granite-kitchen==0.1.0) (8.2.3)\n",
      "Requirement already satisfied: ollama<1,>=0.3.0 in /usr/local/lib/python3.11/site-packages (from langchain_ollama<0.2.0->granite-kitchen==0.1.0) (0.3.3)\n",
      "Requirement already satisfied: pytest in /usr/local/lib/python3.11/site-packages (from ibm-granite-community@ git+https://github.com/ibm-granite-community/utils->granite-kitchen==0.1.0) (8.3.3)\n",
      "Requirement already satisfied: chromadb!=0.5.4,!=0.5.5,<0.6.0,>=0.4.0 in /usr/local/lib/python3.11/site-packages (from langchain-chroma->granite-kitchen==0.1.0) (0.5.12)\n",
      "Requirement already satisfied: fastapi<1,>=0.95.2 in /usr/local/lib/python3.11/site-packages (from langchain-chroma->granite-kitchen==0.1.0) (0.115.0)\n",
      "Requirement already satisfied: huggingface-hub>=0.23.0 in /usr/local/lib/python3.11/site-packages (from langchain_huggingface->granite-kitchen==0.1.0) (0.25.2)\n",
      "Requirement already satisfied: sentence-transformers>=2.6.0 in /usr/local/lib/python3.11/site-packages (from langchain_huggingface->granite-kitchen==0.1.0) (3.1.1)\n",
      "Requirement already satisfied: tokenizers>=0.19.1 in /usr/local/lib/python3.11/site-packages (from langchain_huggingface->granite-kitchen==0.1.0) (0.20.0)\n",
      "Requirement already satisfied: transformers>=4.39.0 in /usr/local/lib/python3.11/site-packages (from langchain_huggingface->granite-kitchen==0.1.0) (4.45.2)\n",
      "Requirement already satisfied: ibm-watsonx-ai<2.0.0,>=1.0.8 in /usr/local/lib/python3.11/site-packages (from langchain_ibm->granite-kitchen==0.1.0) (1.1.14)\n",
      "Requirement already satisfied: pymilvus<3.0.0,>=2.4.3 in /usr/local/lib/python3.11/site-packages (from langchain-milvus->granite-kitchen==0.1.0) (2.4.7)\n",
      "Requirement already satisfied: scipy<2.0,>=1.7 in /usr/local/lib/python3.11/site-packages (from langchain-milvus->granite-kitchen==0.1.0) (1.11.1)\n",
      "Requirement already satisfied: pinecone-client<6.0.0,>=5.0.0 in /usr/local/lib/python3.11/site-packages (from langchain-pinecone->granite-kitchen==0.1.0) (5.0.1)\n",
      "Requirement already satisfied: httpx<1,>=0.21.0 in /usr/local/lib/python3.11/site-packages (from replicate->granite-kitchen==0.1.0) (0.27.2)\n",
      "Requirement already satisfied: packaging in /usr/local/lib/python3.11/site-packages (from replicate->granite-kitchen==0.1.0) (24.1)\n",
      "Requirement already satisfied: pydantic>1.10.7 in /usr/local/lib/python3.11/site-packages (from replicate->granite-kitchen==0.1.0) (1.10.12)\n",
      "Requirement already satisfied: typing-extensions>=4.5.0 in /usr/local/lib/python3.11/site-packages (from replicate->granite-kitchen==0.1.0) (4.12.2)\n",
      "Requirement already satisfied: aiohappyeyeballs>=2.3.0 in /usr/local/lib/python3.11/site-packages (from aiohttp<4.0.0,>=3.8.3->langchain_community<0.3.0->granite-kitchen==0.1.0) (2.4.3)\n",
      "Requirement already satisfied: aiosignal>=1.1.2 in /usr/local/lib/python3.11/site-packages (from aiohttp<4.0.0,>=3.8.3->langchain_community<0.3.0->granite-kitchen==0.1.0) (1.3.1)\n",
      "Requirement already satisfied: attrs>=17.3.0 in /usr/local/lib/python3.11/site-packages (from aiohttp<4.0.0,>=3.8.3->langchain_community<0.3.0->granite-kitchen==0.1.0) (23.1.0)\n",
      "Requirement already satisfied: frozenlist>=1.1.1 in /usr/local/lib/python3.11/site-packages (from aiohttp<4.0.0,>=3.8.3->langchain_community<0.3.0->granite-kitchen==0.1.0) (1.4.0)\n",
      "Requirement already satisfied: multidict<7.0,>=4.5 in /usr/local/lib/python3.11/site-packages (from aiohttp<4.0.0,>=3.8.3->langchain_community<0.3.0->granite-kitchen==0.1.0) (6.0.4)\n",
      "Requirement already satisfied: yarl<2.0,>=1.12.0 in /usr/local/lib/python3.11/site-packages (from aiohttp<4.0.0,>=3.8.3->langchain_community<0.3.0->granite-kitchen==0.1.0) (1.14.0)\n",
      "Requirement already satisfied: build>=1.0.3 in /usr/local/lib/python3.11/site-packages (from chromadb!=0.5.4,!=0.5.5,<0.6.0,>=0.4.0->langchain-chroma->granite-kitchen==0.1.0) (1.2.2.post1)\n",
      "Requirement already satisfied: chroma-hnswlib==0.7.6 in /usr/local/lib/python3.11/site-packages (from chromadb!=0.5.4,!=0.5.5,<0.6.0,>=0.4.0->langchain-chroma->granite-kitchen==0.1.0) (0.7.6)\n",
      "Requirement already satisfied: uvicorn>=0.18.3 in /usr/local/lib/python3.11/site-packages (from uvicorn[standard]>=0.18.3->chromadb!=0.5.4,!=0.5.5,<0.6.0,>=0.4.0->langchain-chroma->granite-kitchen==0.1.0) (0.31.0)\n",
      "Requirement already satisfied: posthog>=2.4.0 in /usr/local/lib/python3.11/site-packages (from chromadb!=0.5.4,!=0.5.5,<0.6.0,>=0.4.0->langchain-chroma->granite-kitchen==0.1.0) (3.7.0)\n",
      "Requirement already satisfied: onnxruntime>=1.14.1 in /usr/local/lib/python3.11/site-packages (from chromadb!=0.5.4,!=0.5.5,<0.6.0,>=0.4.0->langchain-chroma->granite-kitchen==0.1.0) (1.19.2)\n",
      "Requirement already satisfied: opentelemetry-api>=1.2.0 in /usr/local/lib/python3.11/site-packages (from chromadb!=0.5.4,!=0.5.5,<0.6.0,>=0.4.0->langchain-chroma->granite-kitchen==0.1.0) (1.27.0)\n",
      "Requirement already satisfied: opentelemetry-exporter-otlp-proto-grpc>=1.2.0 in /usr/local/lib/python3.11/site-packages (from chromadb!=0.5.4,!=0.5.5,<0.6.0,>=0.4.0->langchain-chroma->granite-kitchen==0.1.0) (1.27.0)\n",
      "Requirement already satisfied: opentelemetry-instrumentation-fastapi>=0.41b0 in /usr/local/lib/python3.11/site-packages (from chromadb!=0.5.4,!=0.5.5,<0.6.0,>=0.4.0->langchain-chroma->granite-kitchen==0.1.0) (0.48b0)\n",
      "Requirement already satisfied: opentelemetry-sdk>=1.2.0 in /usr/local/lib/python3.11/site-packages (from chromadb!=0.5.4,!=0.5.5,<0.6.0,>=0.4.0->langchain-chroma->granite-kitchen==0.1.0) (1.27.0)\n",
      "Requirement already satisfied: pypika>=0.48.9 in /usr/local/lib/python3.11/site-packages (from chromadb!=0.5.4,!=0.5.5,<0.6.0,>=0.4.0->langchain-chroma->granite-kitchen==0.1.0) (0.48.9)\n",
      "Requirement already satisfied: tqdm>=4.65.0 in /usr/local/lib/python3.11/site-packages (from chromadb!=0.5.4,!=0.5.5,<0.6.0,>=0.4.0->langchain-chroma->granite-kitchen==0.1.0) (4.65.0)\n",
      "Requirement already satisfied: overrides>=7.3.1 in /usr/local/lib/python3.11/site-packages (from chromadb!=0.5.4,!=0.5.5,<0.6.0,>=0.4.0->langchain-chroma->granite-kitchen==0.1.0) (7.4.0)\n",
      "Requirement already satisfied: importlib-resources in /usr/local/lib/python3.11/site-packages (from chromadb!=0.5.4,!=0.5.5,<0.6.0,>=0.4.0->langchain-chroma->granite-kitchen==0.1.0) (6.4.5)\n",
      "Requirement already satisfied: grpcio>=1.58.0 in /usr/local/lib/python3.11/site-packages (from chromadb!=0.5.4,!=0.5.5,<0.6.0,>=0.4.0->langchain-chroma->granite-kitchen==0.1.0) (1.66.2)\n",
      "Requirement already satisfied: bcrypt>=4.0.1 in /usr/local/lib/python3.11/site-packages (from chromadb!=0.5.4,!=0.5.5,<0.6.0,>=0.4.0->langchain-chroma->granite-kitchen==0.1.0) (4.2.0)\n",
      "Requirement already satisfied: typer>=0.9.0 in /usr/local/lib/python3.11/site-packages (from chromadb!=0.5.4,!=0.5.5,<0.6.0,>=0.4.0->langchain-chroma->granite-kitchen==0.1.0) (0.12.5)\n",
      "Requirement already satisfied: kubernetes>=28.1.0 in /usr/local/lib/python3.11/site-packages (from chromadb!=0.5.4,!=0.5.5,<0.6.0,>=0.4.0->langchain-chroma->granite-kitchen==0.1.0) (31.0.0)\n",
      "Requirement already satisfied: mmh3>=4.0.1 in /usr/local/lib/python3.11/site-packages (from chromadb!=0.5.4,!=0.5.5,<0.6.0,>=0.4.0->langchain-chroma->granite-kitchen==0.1.0) (5.0.1)\n",
      "Requirement already satisfied: orjson>=3.9.12 in /usr/local/lib/python3.11/site-packages (from chromadb!=0.5.4,!=0.5.5,<0.6.0,>=0.4.0->langchain-chroma->granite-kitchen==0.1.0) (3.10.7)\n",
      "Requirement already satisfied: rich>=10.11.0 in /usr/local/lib/python3.11/site-packages (from chromadb!=0.5.4,!=0.5.5,<0.6.0,>=0.4.0->langchain-chroma->granite-kitchen==0.1.0) (13.9.2)\n",
      "Requirement already satisfied: marshmallow<4.0.0,>=3.18.0 in /usr/local/lib/python3.11/site-packages (from dataclasses-json<0.7,>=0.5.7->langchain_community<0.3.0->granite-kitchen==0.1.0) (3.20.1)\n",
      "Requirement already satisfied: typing-inspect<1,>=0.4.0 in /usr/local/lib/python3.11/site-packages (from dataclasses-json<0.7,>=0.5.7->langchain_community<0.3.0->granite-kitchen==0.1.0) (0.9.0)\n",
      "Requirement already satisfied: starlette<0.39.0,>=0.37.2 in /usr/local/lib/python3.11/site-packages (from fastapi<1,>=0.95.2->langchain-chroma->granite-kitchen==0.1.0) (0.38.6)\n",
      "Requirement already satisfied: anyio in /usr/local/lib/python3.11/site-packages (from httpx<1,>=0.21.0->replicate->granite-kitchen==0.1.0) (3.7.1)\n",
      "Requirement already satisfied: httpcore==1.* in /usr/local/lib/python3.11/site-packages (from httpx<1,>=0.21.0->replicate->granite-kitchen==0.1.0) (1.0.5)\n",
      "Requirement already satisfied: sniffio in /usr/local/lib/python3.11/site-packages (from httpx<1,>=0.21.0->replicate->granite-kitchen==0.1.0) (1.3.0)\n",
      "Requirement already satisfied: h11<0.15,>=0.13 in /usr/local/lib/python3.11/site-packages (from httpcore==1.*->httpx<1,>=0.21.0->replicate->granite-kitchen==0.1.0) (0.14.0)\n",
      "Requirement already satisfied: filelock in /usr/local/lib/python3.11/site-packages (from huggingface-hub>=0.23.0->langchain_huggingface->granite-kitchen==0.1.0) (3.12.2)\n",
      "Requirement already satisfied: fsspec>=2023.5.0 in /usr/local/lib/python3.11/site-packages (from huggingface-hub>=0.23.0->langchain_huggingface->granite-kitchen==0.1.0) (2023.6.0)\n",
      "Requirement already satisfied: pandas<2.2.0,>=0.24.2 in /usr/local/lib/python3.11/site-packages (from ibm-watsonx-ai<2.0.0,>=1.0.8->langchain_ibm->granite-kitchen==0.1.0) (1.5.3)\n",
      "Requirement already satisfied: lomond in /usr/local/lib/python3.11/site-packages (from ibm-watsonx-ai<2.0.0,>=1.0.8->langchain_ibm->granite-kitchen==0.1.0) (0.3.3)\n",
      "Requirement already satisfied: tabulate in /usr/local/lib/python3.11/site-packages (from ibm-watsonx-ai<2.0.0,>=1.0.8->langchain_ibm->granite-kitchen==0.1.0) (0.9.0)\n",
      "Requirement already satisfied: ibm-cos-sdk<2.14.0,>=2.12.0 in /usr/local/lib/python3.11/site-packages (from ibm-watsonx-ai<2.0.0,>=1.0.8->langchain_ibm->granite-kitchen==0.1.0) (2.13.1)\n",
      "Requirement already satisfied: importlib-metadata in /usr/local/lib/python3.11/site-packages (from ibm-watsonx-ai<2.0.0,>=1.0.8->langchain_ibm->granite-kitchen==0.1.0) (6.8.0)\n",
      "Requirement already satisfied: langchain-text-splitters<0.3.0,>=0.2.0 in /usr/local/lib/python3.11/site-packages (from langchain<0.3.0,>=0.2.16->langchain_community<0.3.0->granite-kitchen==0.1.0) (0.2.4)\n",
      "Requirement already satisfied: jsonpatch<2.0,>=1.33 in /usr/local/lib/python3.11/site-packages (from langchain-core<0.3.0,>=0.2.39->langchain_community<0.3.0->granite-kitchen==0.1.0) (1.33)\n",
      "Requirement already satisfied: pinecone-plugin-inference<2.0.0,>=1.0.3 in /usr/local/lib/python3.11/site-packages (from pinecone-client<6.0.0,>=5.0.0->langchain-pinecone->granite-kitchen==0.1.0) (1.1.0)\n",
      "Requirement already satisfied: pinecone-plugin-interface<0.0.8,>=0.0.7 in /usr/local/lib/python3.11/site-packages (from pinecone-client<6.0.0,>=5.0.0->langchain-pinecone->granite-kitchen==0.1.0) (0.0.7)\n",
      "Requirement already satisfied: setuptools>69 in /usr/local/lib/python3.11/site-packages (from pymilvus<3.0.0,>=2.4.3->langchain-milvus->granite-kitchen==0.1.0) (74.1.2)\n",
      "Requirement already satisfied: protobuf>=3.20.0 in /usr/local/lib/python3.11/site-packages (from pymilvus<3.0.0,>=2.4.3->langchain-milvus->granite-kitchen==0.1.0) (4.25.5)\n",
      "Requirement already satisfied: environs<=9.5.0 in /usr/local/lib/python3.11/site-packages (from pymilvus<3.0.0,>=2.4.3->langchain-milvus->granite-kitchen==0.1.0) (9.5.0)\n",
      "Requirement already satisfied: ujson>=2.0.0 in /usr/local/lib/python3.11/site-packages (from pymilvus<3.0.0,>=2.4.3->langchain-milvus->granite-kitchen==0.1.0) (5.10.0)\n",
      "Requirement already satisfied: milvus-lite<2.5.0,>=2.4.0 in /usr/local/lib/python3.11/site-packages (from pymilvus<3.0.0,>=2.4.3->langchain-milvus->granite-kitchen==0.1.0) (2.4.10)\n",
      "Requirement already satisfied: torch>=1.11.0 in /usr/local/lib/python3.11/site-packages (from sentence-transformers>=2.6.0->langchain_huggingface->granite-kitchen==0.1.0) (2.0.1)\n",
      "Requirement already satisfied: scikit-learn in /usr/local/lib/python3.11/site-packages (from sentence-transformers>=2.6.0->langchain_huggingface->granite-kitchen==0.1.0) (1.3.0)\n",
      "Requirement already satisfied: Pillow in /usr/local/lib/python3.11/site-packages (from sentence-transformers>=2.6.0->langchain_huggingface->granite-kitchen==0.1.0) (10.4.0)\n",
      "Requirement already satisfied: greenlet!=0.4.17 in /usr/local/lib/python3.11/site-packages (from SQLAlchemy<3,>=1.4->langchain_community<0.3.0->granite-kitchen==0.1.0) (2.0.2)\n",
      "Requirement already satisfied: regex!=2019.12.17 in /usr/local/lib/python3.11/site-packages (from transformers>=4.39.0->langchain_huggingface->granite-kitchen==0.1.0) (2023.8.8)\n",
      "Requirement already satisfied: safetensors>=0.4.1 in /usr/local/lib/python3.11/site-packages (from transformers>=4.39.0->langchain_huggingface->granite-kitchen==0.1.0) (0.4.5)\n",
      "Requirement already satisfied: iniconfig in /usr/local/lib/python3.11/site-packages (from pytest->ibm-granite-community@ git+https://github.com/ibm-granite-community/utils->granite-kitchen==0.1.0) (2.0.0)\n",
      "Requirement already satisfied: pluggy<2,>=1.5 in /usr/local/lib/python3.11/site-packages (from pytest->ibm-granite-community@ git+https://github.com/ibm-granite-community/utils->granite-kitchen==0.1.0) (1.5.0)\n",
      "Requirement already satisfied: pyproject_hooks in /usr/local/lib/python3.11/site-packages (from build>=1.0.3->chromadb!=0.5.4,!=0.5.5,<0.6.0,>=0.4.0->langchain-chroma->granite-kitchen==0.1.0) (1.2.0)\n",
      "Requirement already satisfied: ibm-cos-sdk-core==2.13.1 in /usr/local/lib/python3.11/site-packages (from ibm-cos-sdk<2.14.0,>=2.12.0->ibm-watsonx-ai<2.0.0,>=1.0.8->langchain_ibm->granite-kitchen==0.1.0) (2.13.1)\n",
      "Requirement already satisfied: ibm-cos-sdk-s3transfer==2.13.1 in /usr/local/lib/python3.11/site-packages (from ibm-cos-sdk<2.14.0,>=2.12.0->ibm-watsonx-ai<2.0.0,>=1.0.8->langchain_ibm->granite-kitchen==0.1.0) (2.13.1)\n",
      "Requirement already satisfied: jmespath<=1.0.1,>=0.10.0 in /usr/local/lib/python3.11/site-packages (from ibm-cos-sdk<2.14.0,>=2.12.0->ibm-watsonx-ai<2.0.0,>=1.0.8->langchain_ibm->granite-kitchen==0.1.0) (1.0.1)\n",
      "Requirement already satisfied: python-dateutil<3.0.0,>=2.8.2 in /usr/local/lib/python3.11/site-packages (from ibm-cos-sdk-core==2.13.1->ibm-cos-sdk<2.14.0,>=2.12.0->ibm-watsonx-ai<2.0.0,>=1.0.8->langchain_ibm->granite-kitchen==0.1.0) (2.8.2)\n",
      "Requirement already satisfied: jsonpointer>=1.9 in /usr/local/lib/python3.11/site-packages (from jsonpatch<2.0,>=1.33->langchain-core<0.3.0,>=0.2.39->langchain_community<0.3.0->granite-kitchen==0.1.0) (2.4)\n",
      "Requirement already satisfied: six>=1.9.0 in /usr/local/lib/python3.11/site-packages (from kubernetes>=28.1.0->chromadb!=0.5.4,!=0.5.5,<0.6.0,>=0.4.0->langchain-chroma->granite-kitchen==0.1.0) (1.16.0)\n",
      "Requirement already satisfied: google-auth>=1.0.1 in /usr/local/lib/python3.11/site-packages (from kubernetes>=28.1.0->chromadb!=0.5.4,!=0.5.5,<0.6.0,>=0.4.0->langchain-chroma->granite-kitchen==0.1.0) (2.35.0)\n",
      "Requirement already satisfied: websocket-client!=0.40.0,!=0.41.*,!=0.42.*,>=0.32.0 in /usr/local/lib/python3.11/site-packages (from kubernetes>=28.1.0->chromadb!=0.5.4,!=0.5.5,<0.6.0,>=0.4.0->langchain-chroma->granite-kitchen==0.1.0) (1.6.1)\n",
      "Requirement already satisfied: requests-oauthlib in /usr/local/lib/python3.11/site-packages (from kubernetes>=28.1.0->chromadb!=0.5.4,!=0.5.5,<0.6.0,>=0.4.0->langchain-chroma->granite-kitchen==0.1.0) (2.0.0)\n",
      "Requirement already satisfied: oauthlib>=3.2.2 in /usr/local/lib/python3.11/site-packages (from kubernetes>=28.1.0->chromadb!=0.5.4,!=0.5.5,<0.6.0,>=0.4.0->langchain-chroma->granite-kitchen==0.1.0) (3.2.2)\n",
      "Requirement already satisfied: durationpy>=0.7 in /usr/local/lib/python3.11/site-packages (from kubernetes>=28.1.0->chromadb!=0.5.4,!=0.5.5,<0.6.0,>=0.4.0->langchain-chroma->granite-kitchen==0.1.0) (0.9)\n",
      "Requirement already satisfied: coloredlogs in /usr/local/lib/python3.11/site-packages (from onnxruntime>=1.14.1->chromadb!=0.5.4,!=0.5.5,<0.6.0,>=0.4.0->langchain-chroma->granite-kitchen==0.1.0) (15.0.1)\n",
      "Requirement already satisfied: flatbuffers in /usr/local/lib/python3.11/site-packages (from onnxruntime>=1.14.1->chromadb!=0.5.4,!=0.5.5,<0.6.0,>=0.4.0->langchain-chroma->granite-kitchen==0.1.0) (24.3.25)\n",
      "Requirement already satisfied: sympy in /usr/local/lib/python3.11/site-packages (from onnxruntime>=1.14.1->chromadb!=0.5.4,!=0.5.5,<0.6.0,>=0.4.0->langchain-chroma->granite-kitchen==0.1.0) (1.12)\n",
      "Requirement already satisfied: deprecated>=1.2.6 in /usr/local/lib/python3.11/site-packages (from opentelemetry-api>=1.2.0->chromadb!=0.5.4,!=0.5.5,<0.6.0,>=0.4.0->langchain-chroma->granite-kitchen==0.1.0) (1.2.14)\n",
      "Requirement already satisfied: zipp>=0.5 in /usr/local/lib/python3.11/site-packages (from importlib-metadata->ibm-watsonx-ai<2.0.0,>=1.0.8->langchain_ibm->granite-kitchen==0.1.0) (3.16.2)\n",
      "Requirement already satisfied: googleapis-common-protos~=1.52 in /usr/local/lib/python3.11/site-packages (from opentelemetry-exporter-otlp-proto-grpc>=1.2.0->chromadb!=0.5.4,!=0.5.5,<0.6.0,>=0.4.0->langchain-chroma->granite-kitchen==0.1.0) (1.65.0)\n",
      "Requirement already satisfied: opentelemetry-exporter-otlp-proto-common==1.27.0 in /usr/local/lib/python3.11/site-packages (from opentelemetry-exporter-otlp-proto-grpc>=1.2.0->chromadb!=0.5.4,!=0.5.5,<0.6.0,>=0.4.0->langchain-chroma->granite-kitchen==0.1.0) (1.27.0)\n",
      "Requirement already satisfied: opentelemetry-proto==1.27.0 in /usr/local/lib/python3.11/site-packages (from opentelemetry-exporter-otlp-proto-grpc>=1.2.0->chromadb!=0.5.4,!=0.5.5,<0.6.0,>=0.4.0->langchain-chroma->granite-kitchen==0.1.0) (1.27.0)\n",
      "Requirement already satisfied: opentelemetry-instrumentation-asgi==0.48b0 in /usr/local/lib/python3.11/site-packages (from opentelemetry-instrumentation-fastapi>=0.41b0->chromadb!=0.5.4,!=0.5.5,<0.6.0,>=0.4.0->langchain-chroma->granite-kitchen==0.1.0) (0.48b0)\n",
      "Requirement already satisfied: opentelemetry-instrumentation==0.48b0 in /usr/local/lib/python3.11/site-packages (from opentelemetry-instrumentation-fastapi>=0.41b0->chromadb!=0.5.4,!=0.5.5,<0.6.0,>=0.4.0->langchain-chroma->granite-kitchen==0.1.0) (0.48b0)\n",
      "Requirement already satisfied: opentelemetry-semantic-conventions==0.48b0 in /usr/local/lib/python3.11/site-packages (from opentelemetry-instrumentation-fastapi>=0.41b0->chromadb!=0.5.4,!=0.5.5,<0.6.0,>=0.4.0->langchain-chroma->granite-kitchen==0.1.0) (0.48b0)\n",
      "Requirement already satisfied: opentelemetry-util-http==0.48b0 in /usr/local/lib/python3.11/site-packages (from opentelemetry-instrumentation-fastapi>=0.41b0->chromadb!=0.5.4,!=0.5.5,<0.6.0,>=0.4.0->langchain-chroma->granite-kitchen==0.1.0) (0.48b0)\n",
      "Requirement already satisfied: wrapt<2.0.0,>=1.0.0 in /usr/local/lib/python3.11/site-packages (from opentelemetry-instrumentation==0.48b0->opentelemetry-instrumentation-fastapi>=0.41b0->chromadb!=0.5.4,!=0.5.5,<0.6.0,>=0.4.0->langchain-chroma->granite-kitchen==0.1.0) (1.16.0)\n",
      "Requirement already satisfied: asgiref~=3.0 in /usr/local/lib/python3.11/site-packages (from opentelemetry-instrumentation-asgi==0.48b0->opentelemetry-instrumentation-fastapi>=0.41b0->chromadb!=0.5.4,!=0.5.5,<0.6.0,>=0.4.0->langchain-chroma->granite-kitchen==0.1.0) (3.8.1)\n",
      "Requirement already satisfied: pytz>=2020.1 in /usr/local/lib/python3.11/site-packages (from pandas<2.2.0,>=0.24.2->ibm-watsonx-ai<2.0.0,>=1.0.8->langchain_ibm->granite-kitchen==0.1.0) (2023.3)\n",
      "Requirement already satisfied: monotonic>=1.5 in /usr/local/lib/python3.11/site-packages (from posthog>=2.4.0->chromadb!=0.5.4,!=0.5.5,<0.6.0,>=0.4.0->langchain-chroma->granite-kitchen==0.1.0) (1.6)\n",
      "Requirement already satisfied: backoff>=1.10.0 in /usr/local/lib/python3.11/site-packages (from posthog>=2.4.0->chromadb!=0.5.4,!=0.5.5,<0.6.0,>=0.4.0->langchain-chroma->granite-kitchen==0.1.0) (2.2.1)\n",
      "Requirement already satisfied: markdown-it-py>=2.2.0 in /usr/local/lib/python3.11/site-packages (from rich>=10.11.0->chromadb!=0.5.4,!=0.5.5,<0.6.0,>=0.4.0->langchain-chroma->granite-kitchen==0.1.0) (3.0.0)\n",
      "Requirement already satisfied: pygments<3.0.0,>=2.13.0 in /usr/local/lib/python3.11/site-packages (from rich>=10.11.0->chromadb!=0.5.4,!=0.5.5,<0.6.0,>=0.4.0->langchain-chroma->granite-kitchen==0.1.0) (2.16.1)\n",
      "Requirement already satisfied: networkx in /usr/local/lib/python3.11/site-packages (from torch>=1.11.0->sentence-transformers>=2.6.0->langchain_huggingface->granite-kitchen==0.1.0) (3.1)\n",
      "Requirement already satisfied: jinja2 in /usr/local/lib/python3.11/site-packages (from torch>=1.11.0->sentence-transformers>=2.6.0->langchain_huggingface->granite-kitchen==0.1.0) (3.1.2)\n",
      "Requirement already satisfied: click>=8.0.0 in /usr/local/lib/python3.11/site-packages (from typer>=0.9.0->chromadb!=0.5.4,!=0.5.5,<0.6.0,>=0.4.0->langchain-chroma->granite-kitchen==0.1.0) (8.1.7)\n",
      "Requirement already satisfied: shellingham>=1.3.0 in /usr/local/lib/python3.11/site-packages (from typer>=0.9.0->chromadb!=0.5.4,!=0.5.5,<0.6.0,>=0.4.0->langchain-chroma->granite-kitchen==0.1.0) (1.5.4)\n",
      "Requirement already satisfied: mypy-extensions>=0.3.0 in /usr/local/lib/python3.11/site-packages (from typing-inspect<1,>=0.4.0->dataclasses-json<0.7,>=0.5.7->langchain_community<0.3.0->granite-kitchen==0.1.0) (1.0.0)\n",
      "Requirement already satisfied: httptools>=0.5.0 in /usr/local/lib/python3.11/site-packages (from uvicorn[standard]>=0.18.3->chromadb!=0.5.4,!=0.5.5,<0.6.0,>=0.4.0->langchain-chroma->granite-kitchen==0.1.0) (0.6.1)\n",
      "Requirement already satisfied: uvloop!=0.15.0,!=0.15.1,>=0.14.0 in /usr/local/lib/python3.11/site-packages (from uvicorn[standard]>=0.18.3->chromadb!=0.5.4,!=0.5.5,<0.6.0,>=0.4.0->langchain-chroma->granite-kitchen==0.1.0) (0.20.0)\n",
      "Requirement already satisfied: watchfiles>=0.13 in /usr/local/lib/python3.11/site-packages (from uvicorn[standard]>=0.18.3->chromadb!=0.5.4,!=0.5.5,<0.6.0,>=0.4.0->langchain-chroma->granite-kitchen==0.1.0) (0.24.0)\n",
      "Requirement already satisfied: websockets>=10.4 in /usr/local/lib/python3.11/site-packages (from uvicorn[standard]>=0.18.3->chromadb!=0.5.4,!=0.5.5,<0.6.0,>=0.4.0->langchain-chroma->granite-kitchen==0.1.0) (13.1)\n",
      "Requirement already satisfied: propcache>=0.2.0 in /usr/local/lib/python3.11/site-packages (from yarl<2.0,>=1.12.0->aiohttp<4.0.0,>=3.8.3->langchain_community<0.3.0->granite-kitchen==0.1.0) (0.2.0)\n",
      "Requirement already satisfied: joblib>=1.1.1 in /usr/local/lib/python3.11/site-packages (from scikit-learn->sentence-transformers>=2.6.0->langchain_huggingface->granite-kitchen==0.1.0) (1.3.1)\n",
      "Requirement already satisfied: threadpoolctl>=2.0.0 in /usr/local/lib/python3.11/site-packages (from scikit-learn->sentence-transformers>=2.6.0->langchain_huggingface->granite-kitchen==0.1.0) (3.2.0)\n",
      "Requirement already satisfied: cachetools<6.0,>=2.0.0 in /usr/local/lib/python3.11/site-packages (from google-auth>=1.0.1->kubernetes>=28.1.0->chromadb!=0.5.4,!=0.5.5,<0.6.0,>=0.4.0->langchain-chroma->granite-kitchen==0.1.0) (5.5.0)\n",
      "Requirement already satisfied: pyasn1-modules>=0.2.1 in /usr/local/lib/python3.11/site-packages (from google-auth>=1.0.1->kubernetes>=28.1.0->chromadb!=0.5.4,!=0.5.5,<0.6.0,>=0.4.0->langchain-chroma->granite-kitchen==0.1.0) (0.4.1)\n",
      "Requirement already satisfied: rsa<5,>=3.1.4 in /usr/local/lib/python3.11/site-packages (from google-auth>=1.0.1->kubernetes>=28.1.0->chromadb!=0.5.4,!=0.5.5,<0.6.0,>=0.4.0->langchain-chroma->granite-kitchen==0.1.0) (4.9)\n",
      "Requirement already satisfied: mdurl~=0.1 in /usr/local/lib/python3.11/site-packages (from markdown-it-py>=2.2.0->rich>=10.11.0->chromadb!=0.5.4,!=0.5.5,<0.6.0,>=0.4.0->langchain-chroma->granite-kitchen==0.1.0) (0.1.2)\n",
      "Requirement already satisfied: humanfriendly>=9.1 in /usr/local/lib/python3.11/site-packages (from coloredlogs->onnxruntime>=1.14.1->chromadb!=0.5.4,!=0.5.5,<0.6.0,>=0.4.0->langchain-chroma->granite-kitchen==0.1.0) (10.0)\n",
      "Requirement already satisfied: MarkupSafe>=2.0 in /usr/local/lib/python3.11/site-packages (from jinja2->torch>=1.11.0->sentence-transformers>=2.6.0->langchain_huggingface->granite-kitchen==0.1.0) (2.1.3)\n",
      "Requirement already satisfied: mpmath>=0.19 in /usr/local/lib/python3.11/site-packages (from sympy->onnxruntime>=1.14.1->chromadb!=0.5.4,!=0.5.5,<0.6.0,>=0.4.0->langchain-chroma->granite-kitchen==0.1.0) (1.3.0)\n",
      "Requirement already satisfied: pyasn1<0.7.0,>=0.4.6 in /usr/local/lib/python3.11/site-packages (from pyasn1-modules>=0.2.1->google-auth>=1.0.1->kubernetes>=28.1.0->chromadb!=0.5.4,!=0.5.5,<0.6.0,>=0.4.0->langchain-chroma->granite-kitchen==0.1.0) (0.6.1)\n"
     ]
    }
   ],
   "source": [
    "!pip install git+https://github.com/ibm-granite-community/granite-kitchen"
   ]
  },
  {
   "cell_type": "markdown",
   "id": "c3ff1454-a51b-4fab-b36e-ec9048ca7042",
   "metadata": {},
   "source": [
    "### Setup IBM Granite LLM from Replicate"
   ]
  },
  {
   "cell_type": "code",
   "execution_count": 26,
   "id": "2a7e0b9f-48e9-4852-a4f2-45d950bce62e",
   "metadata": {},
   "outputs": [
    {
     "ename": "ImportError",
     "evalue": "cannot import name 'get_env_var' from 'ibm_granite_community.notebook_utils' (/usr/local/lib/python3.11/site-packages/ibm_granite_community/notebook_utils.py)",
     "output_type": "error",
     "traceback": [
      "\u001b[0;31m---------------------------------------------------------------------------\u001b[0m",
      "\u001b[0;31mImportError\u001b[0m                               Traceback (most recent call last)",
      "Cell \u001b[0;32mIn[26], line 1\u001b[0m\n\u001b[0;32m----> 1\u001b[0m \u001b[38;5;28;01mfrom\u001b[39;00m \u001b[38;5;21;01mibm_granite_community\u001b[39;00m\u001b[38;5;21;01m.\u001b[39;00m\u001b[38;5;21;01mnotebook_utils\u001b[39;00m \u001b[38;5;28;01mimport\u001b[39;00m get_env_var\n\u001b[1;32m      2\u001b[0m \u001b[38;5;28;01mfrom\u001b[39;00m \u001b[38;5;21;01mlangchain_community\u001b[39;00m\u001b[38;5;21;01m.\u001b[39;00m\u001b[38;5;21;01mllms\u001b[39;00m \u001b[38;5;28;01mimport\u001b[39;00m Replicate\n\u001b[1;32m      4\u001b[0m model_id \u001b[38;5;241m=\u001b[39m \u001b[38;5;124m\"\u001b[39m\u001b[38;5;124mibm-granite/granite-8b-code-instruct-128k\u001b[39m\u001b[38;5;124m\"\u001b[39m\n",
      "\u001b[0;31mImportError\u001b[0m: cannot import name 'get_env_var' from 'ibm_granite_community.notebook_utils' (/usr/local/lib/python3.11/site-packages/ibm_granite_community/notebook_utils.py)"
     ]
    }
   ],
   "source": [
    "from ibm_granite_community.notebook_utils import get_env_var\n",
    "from langchain_community.llms import Replicate\n",
    "\n",
    "model_id = \"ibm-granite/granite-8b-code-instruct-128k\"\n",
    "\n",
    "model = Replicate(\n",
    "    model=model_id,\n",
    "    replicate_api_token=get_env_var('REPLICATE_API_TOKEN'),\n",
    ")\n"
   ]
  },
  {
   "cell_type": "code",
   "execution_count": null,
   "id": "3cce343d-06dc-4ceb-bf57-d4030e20887b",
   "metadata": {},
   "outputs": [],
   "source": []
  },
  {
   "cell_type": "markdown",
   "id": "05c26b40-774a-461f-bbc0-81fdb7215fb8",
   "metadata": {},
   "source": [
    "### Develop the prompt to generate SQL for a given query and a table structure "
   ]
  },
  {
   "cell_type": "code",
   "execution_count": 22,
   "id": "90c4cf32-05d6-4df0-b7e0-3b5204cc8b37",
   "metadata": {},
   "outputs": [
    {
     "name": "stdout",
     "output_type": "stream",
     "text": [
      "Prompt to model : Write an executable SQL Query to display the order items of orders that are marked 'Pending' using the tables enclosed in ~~\n",
      "~~Table: Product\n",
      "columns: product_id, name, description, price, category, image_url, available_quantity\n",
      "Table: Order\n",
      "Columns: order_id, user_id, order_date, status, total_amount, store_id\n",
      "Table: OrderItem\n",
      "Columns: order_item_id, order_id, product_id, quantity, subtotal\n",
      "~~.'\n"
     ]
    }
   ],
   "source": [
    "user_text = \"display the order items of orders that are marked 'Pending'\"\n",
    "prompt = f\"Write an executable SQL Query to {user_text} using the tables enclosed in ~~\\n~~Table: Product\\ncolumns: product_id, name, description, price, category, image_url, available_quantity\\nTable: Order\\nColumns: order_id, user_id, order_date, status, total_amount, store_id\\nTable: OrderItem\\nColumns: order_item_id, order_id, product_id, quantity, subtotal\\n~~.'\"\n",
    "print(f\"Prompt to model : {prompt}\")"
   ]
  },
  {
   "cell_type": "markdown",
   "id": "2a98b09c-06b1-4eb3-96e8-87b1b1ba83cd",
   "metadata": {},
   "source": [
    "#### Invoke the granite model with the prompt to get the SQL and apply regex to get the SQL only in case of addition text in generated response"
   ]
  },
  {
   "cell_type": "code",
   "execution_count": 23,
   "id": "7130f937-7d12-425e-8dfc-4bc1cc9cd840",
   "metadata": {},
   "outputs": [
    {
     "name": "stdout",
     "output_type": "stream",
     "text": [
      "Granite response from Replicate: Here's an executable SQL query that displays the order items of orders that are marked 'Pending' using the tables enclosed in ~~:\n",
      "```\n",
      "SELECT OrderItem.order_item_id, OrderItem.order_id, OrderItem.product_id, OrderItem.quantity, OrderItem.subtotal\n",
      "FROM OrderItem\n",
      "JOIN Order ON OrderItem.order_id = Order.order_id\n",
      "WHERE Order.status = 'Pending';\n",
      "```\n",
      "This query joins the OrderItem, Order, and Product tables to retrieve the order items of orders that are marked 'Pending'. It selects the order_item_id, order_id, product_id, quantity, and subtotal columns from the OrderItem table. The WHERE clause filters the results to only include orders that have a status of 'Pending'.\n",
      "\n",
      "\n",
      "Extracted SQL from LLM response\n",
      "\n",
      "SELECT OrderItem.order_item_id, OrderItem.order_id, OrderItem.product_id, OrderItem.quantity, OrderItem.subtotal\n",
      "FROM OrderItem\n",
      "JOIN Order ON OrderItem.order_id = Order.order_id\n",
      "WHERE Order.status = 'Pending';\n"
     ]
    }
   ],
   "source": [
    "import re\n",
    "replicate_response = model.invoke(prompt)\n",
    "sqlRegex = re.compile('SELECT[\\\\s\\\\S]*;')\n",
    "sqlMatch = sqlRegex.search(replicate_response)\n",
    "sqlString = sqlMatch.group()\n",
    "print(f\"Granite response from Replicate: {replicate_response}\\n\")\n",
    "print(\"Extracted SQL from LLM response\\n\")\n",
    "print(sqlString)\n"
   ]
  },
  {
   "cell_type": "markdown",
   "id": "3dcdec95-a9a0-400a-86d6-acb85c85af69",
   "metadata": {},
   "source": [
    "### Get the http connection to IBM DB2 on cloud and get the auth token"
   ]
  },
  {
   "cell_type": "code",
   "execution_count": 14,
   "id": "b71c7582-7137-491b-911e-673e55bcef7a",
   "metadata": {},
   "outputs": [
    {
     "name": "stdout",
     "output_type": "stream",
     "text": [
      "An exception occurred\n"
     ]
    }
   ],
   "source": [
    "import http.client\n",
    "import json\n",
    "conn = http.client.HTTPSConnection(db2_rest_endpoint)\n",
    "\n",
    "payload = {\"userid\":db_username,\"password\":db_password}\n",
    "headers = {\n",
    "    'content-type': \"application/json\",\n",
    "    'x-deployment-id': db2_deployment_id\n",
    "    }\n",
    "has_auth=False\n",
    "try:\n",
    "    conn.request(\"POST\", \"/dbapi/v4/auth/tokens\", json.dumps(payload), headers)\n",
    "    res = conn.getresponse()\n",
    "    data = res.read()\n",
    "    auth_token = data.decode(\"utf-8\")\n",
    "    auth_resp = json.loads(auth_token)\n",
    "    print(auth_resp['token'])\n",
    "    print(\"Got Auth Token\")\n",
    "    has_auth=True\n",
    "except:\n",
    "  print(\"An exception occurred\") \n"
   ]
  },
  {
   "cell_type": "markdown",
   "id": "3e216b51-ec53-4afd-b4bb-7c6cb7b798c3",
   "metadata": {},
   "source": [
    "### Execute the generated SQL on DB2 on IBM cloud and get the SQL ID of the execution using the sql_jobs api endpoint"
   ]
  },
  {
   "cell_type": "code",
   "execution_count": 15,
   "id": "c8c0d3bf-959b-4694-b8ce-6e00e9c3847d",
   "metadata": {},
   "outputs": [],
   "source": [
    "\n",
    "if has_auth:\n",
    "    payload = {\"commands\":sqlString,\"limit\":10,\"separator\":\";\",\"stop_on_error\" : \"no\"}\n",
    "    headers = {\n",
    "        'content-type': \"application/json\",\n",
    "        'authorization': f\"Bearer {auth_resp['token']}\",\n",
    "        'x-deployment-id': db2_deployment_id\n",
    "        }\n",
    "    \n",
    "    conn.request(\"POST\", \"/dbapi/v4/sql_jobs\", json.dumps(payload), headers)\n",
    "    \n",
    "    res = conn.getresponse()\n",
    "    data = res.read()\n",
    "    json_data = json.loads(data)\n",
    "    sql_id = json_data['id']\n",
    "    print(\"Executed SQL on DB..\\n\")\n",
    "    print(json_data)\n",
    "    print()\n",
    "    print(f\"SQL ID : {sql_id}\")"
   ]
  },
  {
   "cell_type": "markdown",
   "id": "94b3e3a4-1ded-4cfb-843f-6ee10de86829",
   "metadata": {},
   "source": [
    "### Get the output of the SQL execution using the SQL id thru the sql_jobs api"
   ]
  },
  {
   "cell_type": "code",
   "execution_count": 16,
   "id": "fcbb0839-9c57-4896-b10c-3eb997a79bb4",
   "metadata": {},
   "outputs": [],
   "source": [
    "if has_auth:\n",
    "    conn.request(\"GET\", f\"/dbapi/v4/sql_jobs/{sql_id}\", headers=headers)\n",
    "    res = conn.getresponse()\n",
    "    data = res.read()\n",
    "    \n",
    "    json_data = json.loads(data)\n",
    "    # print(data.decode(\"utf-8\"))\n",
    "    print(json_data['results'][0]['columns'])\n",
    "    for row in json_data['results'][0]['rows']:\n",
    "        print(row)\n"
   ]
  }
 ],
 "metadata": {
  "kernelspec": {
   "display_name": "Python 3 (ipykernel)",
   "language": "python",
   "name": "python3"
  },
  "language_info": {
   "codemirror_mode": {
    "name": "ipython",
    "version": 3
   },
   "file_extension": ".py",
   "mimetype": "text/x-python",
   "name": "python",
   "nbconvert_exporter": "python",
   "pygments_lexer": "ipython3",
   "version": "3.11.10"
  }
 },
 "nbformat": 4,
 "nbformat_minor": 5
}
