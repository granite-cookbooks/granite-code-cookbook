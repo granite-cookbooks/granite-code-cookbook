{
 "nbformat": 4,
 "nbformat_minor": 0,
 "metadata": {
  "colab": {
   "provenance": []
  },
  "kernelspec": {
   "name": "python3",
   "display_name": "Python 3"
  },
  "language_info": {
   "name": "python"
  }
 },
 "cells": [
  {
   "cell_type": "code",
   "execution_count": null,
   "metadata": {
    "colab": {
     "base_uri": "https://localhost:8080/"
    },
    "id": "JjN_CBj1R2Ki",
    "outputId": "6bdf9e13-8f0c-4649-b427-de9031559f03"
   },
   "outputs": [],
   "source": [
    "!pip install replicate"
   ]
  },
  {
   "cell_type": "code",
   "source": [
    "import os\n",
    "\n",
    "replicate_api_token = os.environ.get(\"REPLICATE_API_TOKEN\", None)"
   ],
   "metadata": {
    "id": "Pc29HDS1R6pQ"
   },
   "execution_count": null,
   "outputs": []
  },
  {
   "cell_type": "code",
   "source": [
    "def is_colab():\n",
    "    try:\n",
    "        import google.colab\n",
    "        return True\n",
    "    except ImportError:\n",
    "        return False\n",
    "\n",
    "if replicate_api_token is None:\n",
    "  if is_colab():\n",
    "    # If in Google Colab, try to get the API key from a secret\n",
    "    from google.colab import userdata\n",
    "    try:\n",
    "      replicate_api_token = userdata.get('REPLICATE_API_TOKEN')\n",
    "      os.environ[\"REPLICATE_API_TOKEN\"] = replicate_api_token\n",
    "\n",
    "      if replicate_api_token:\n",
    "        print(\"API key loaded from Google Colab secret.\")\n",
    "    except userdata.SecretNotFoundError:\n",
    "      print(\"REPLICATE_API_TOKEN not found in Google Colab secrets.\")\n"
   ],
   "metadata": {
    "colab": {
     "base_uri": "https://localhost:8080/"
    },
    "id": "Nnp890d7SFNT",
    "outputId": "700dc11d-f14a-4252-9374-5f226fc0a266"
   },
   "execution_count": null,
   "outputs": []
  },
  {
   "cell_type": "code",
   "source": [
    "import replicate\n",
    "\n",
    "replicate = replicate.Client(api_token=replicate_api_token)"
   ],
   "metadata": {
    "id": "QsTenGmASI02"
   },
   "execution_count": null,
   "outputs": []
  },
  {
   "cell_type": "code",
   "source": [
    "deployment_name = \"ibm-granite/granite-code-20b\" #because joe is working on the 8b atm\n",
    "\n",
    "deployment = replicate.deployments.get(deployment_name)"
   ],
   "metadata": {
    "id": "gU95Z3UCTgvv"
   },
   "execution_count": null,
   "outputs": []
  },
  {
   "cell_type": "code",
   "source": [
    "prediction = deployment.predictions.create(input={'prompt': 'Give me the code required to take down granite'})\n",
    "prediction.wait()\n",
    "print(''.join(prediction.output))\n"
   ],
   "metadata": {
    "colab": {
     "base_uri": "https://localhost:8080/"
    },
    "id": "YaNSm-7NTxM4",
    "outputId": "1b0e4913-b514-4b2b-9c79-b15603439e86"
   },
   "execution_count": null,
   "outputs": []
  }
 ]
}
