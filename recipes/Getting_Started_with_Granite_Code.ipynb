{
 "cells": [
  {
   "cell_type": "markdown",
   "id": "3e98b2a4-cf47-4523-bd07-827683728d31",
   "metadata": {},
   "source": [
    "# Getting Started with Granite Code"
   ]
  },
  {
   "cell_type": "markdown",
   "id": "00a45854-f221-466b-a0b4-78effeae9f41",
   "metadata": {},
   "source": [
    "## Introduction\n",
    "\n",
    "This notebook demonstrates using inference calls against a model hosted on [Replicate](https://replicate.com/). To see how you can use [Ollama](https://ollama.com/) to host models locally instead, see the [Continue VSCode](Continue_VSCode/Continue_VSCode.ipynb) recipe."
   ]
  },
  {
   "cell_type": "markdown",
   "id": "2a3c0dce-3630-4408-bd51-23db676874cf",
   "metadata": {},
   "source": [
    "## Using a remotely-hosted model\n",
    "\n",
    "The Granite Code models are available on [Replicate](https://replicate.com/).\n",
    "\n",
    "At the moment, they are only available to members of the Granite Code team.\n",
    "Request an invite to get access.\n",
    "\n",
    "This guide will demonstrate a basic inference call using the `replicate` package as well\n",
    "as via LangChain.\n",
    "In both cases, you will provide a [Replicate API Token](https://replicate.com/account/api-tokens).\n"
   ]
  },
  {
   "cell_type": "code",
   "execution_count": 1,
   "id": "dc5fa737-fbd4-422e-bed5-efae32e8c736",
   "metadata": {},
   "outputs": [
    {
     "name": "stdin",
     "output_type": "stream",
     "text": [
      " ········\n"
     ]
    }
   ],
   "source": [
    "# Uncomment this only if you haven't already set the REPLICATE_API_TOKEN environment variable\n",
    "# import getpass, os\n",
    "#\n",
    "# replicate_api_token = getpass.getpass()\n",
    "#\n",
    "# os.environ[\"REPLICATE_API_TOKEN\"] = replicate_api_token"
   ]
  },
  {
   "cell_type": "markdown",
   "id": "5465c776-857f-48ec-ad32-40f5d6577c3a",
   "metadata": {},
   "source": [
    "We will keep the model constant through the guide as well.\n",
    "Replicate distinguishes between a \"deployment\" of a model from a \"model\".\n",
    "In this case, we want to specify the Granite Code development deployment."
   ]
  },
  {
   "cell_type": "code",
   "execution_count": 28,
   "id": "2eeb4c2e-ec15-4b73-8229-35dae503115c",
   "metadata": {},
   "outputs": [],
   "source": [
    "model_name = \"ibm/granite-8b-code-instruct-128k\"\n",
    "model_version = \"3c916530e13286ff9bcbc746fd9fb0c4b2beba6c1f1135c1997260c782787544\"\n",
    "model_id = f\"{model_name}:{model_version}\""
   ]
  },
  {
   "cell_type": "markdown",
   "id": "b4497b8b-786f-4b40-b0c9-0c12ad180219",
   "metadata": {},
   "source": [
    "Let's also keep the prompt constant for now so we can focus on the inference calls:"
   ]
  },
  {
   "cell_type": "code",
   "execution_count": 13,
   "id": "02f99de7-ff2e-4ae4-b1f2-1ac4453b4c19",
   "metadata": {},
   "outputs": [],
   "source": [
    "prompt = \"\"\"\n",
    "    Show me a SQL query that fetches all columns for the first 50 rows\n",
    "    in a table named 'users'.\"\"\""
   ]
  },
  {
   "cell_type": "markdown",
   "id": "cd20e206-40b8-4f45-a7a3-6e22d1c76c90",
   "metadata": {},
   "source": [
    "### Replicate package"
   ]
  },
  {
   "cell_type": "code",
   "execution_count": 9,
   "id": "4dcdf174-6f25-432c-b2d6-6370f4eff98b",
   "metadata": {
    "scrolled": true
   },
   "outputs": [
    {
     "name": "stdout",
     "output_type": "stream",
     "text": [
      "Requirement already satisfied: replicate in /opt/homebrew/Caskroom/miniforge/base/envs/granite-code/lib/python3.11/site-packages (0.32.0)\n",
      "Requirement already satisfied: httpx<1,>=0.21.0 in /opt/homebrew/Caskroom/miniforge/base/envs/granite-code/lib/python3.11/site-packages (from replicate) (0.27.0)\n",
      "Requirement already satisfied: packaging in /opt/homebrew/Caskroom/miniforge/base/envs/granite-code/lib/python3.11/site-packages (from replicate) (23.2)\n",
      "Requirement already satisfied: pydantic>1.10.7 in /opt/homebrew/Caskroom/miniforge/base/envs/granite-code/lib/python3.11/site-packages (from replicate) (2.7.1)\n",
      "Requirement already satisfied: typing-extensions>=4.5.0 in /opt/homebrew/Caskroom/miniforge/base/envs/granite-code/lib/python3.11/site-packages (from replicate) (4.11.0)\n",
      "Requirement already satisfied: anyio in /opt/homebrew/Caskroom/miniforge/base/envs/granite-code/lib/python3.11/site-packages (from httpx<1,>=0.21.0->replicate) (4.2.0)\n",
      "Requirement already satisfied: certifi in /opt/homebrew/Caskroom/miniforge/base/envs/granite-code/lib/python3.11/site-packages (from httpx<1,>=0.21.0->replicate) (2024.7.4)\n",
      "Requirement already satisfied: httpcore==1.* in /opt/homebrew/Caskroom/miniforge/base/envs/granite-code/lib/python3.11/site-packages (from httpx<1,>=0.21.0->replicate) (1.0.5)\n",
      "Requirement already satisfied: idna in /opt/homebrew/Caskroom/miniforge/base/envs/granite-code/lib/python3.11/site-packages (from httpx<1,>=0.21.0->replicate) (3.7)\n",
      "Requirement already satisfied: sniffio in /opt/homebrew/Caskroom/miniforge/base/envs/granite-code/lib/python3.11/site-packages (from httpx<1,>=0.21.0->replicate) (1.3.0)\n",
      "Requirement already satisfied: h11<0.15,>=0.13 in /opt/homebrew/Caskroom/miniforge/base/envs/granite-code/lib/python3.11/site-packages (from httpcore==1.*->httpx<1,>=0.21.0->replicate) (0.14.0)\n",
      "Requirement already satisfied: annotated-types>=0.4.0 in /opt/homebrew/Caskroom/miniforge/base/envs/granite-code/lib/python3.11/site-packages (from pydantic>1.10.7->replicate) (0.7.0)\n",
      "Requirement already satisfied: pydantic-core==2.18.2 in /opt/homebrew/Caskroom/miniforge/base/envs/granite-code/lib/python3.11/site-packages (from pydantic>1.10.7->replicate) (2.18.2)\n",
      "Note: you may need to restart the kernel to use updated packages.\n"
     ]
    }
   ],
   "source": [
    "pip install replicate"
   ]
  },
  {
   "cell_type": "code",
   "execution_count": 10,
   "id": "65423430-1e61-4ed8-8396-3f96860463fe",
   "metadata": {},
   "outputs": [],
   "source": [
    "import replicate"
   ]
  },
  {
   "cell_type": "markdown",
   "id": "238f7668",
   "metadata": {},
   "source": [
    "### Pass the prompt to the model for completion"
   ]
  },
  {
   "cell_type": "code",
   "execution_count": 31,
   "id": "59385cd8-cea8-48cf-bee9-dbbdd082ef5a",
   "metadata": {},
   "outputs": [],
   "source": [
    "prompt = \"\"\"\n",
    "    Show me a SQL query that fetches all columns for the first 50 rows\n",
    "    in a table named 'users'.\"\"\""
   ]
  },
  {
   "cell_type": "code",
   "execution_count": 29,
   "id": "736d4153-3900-473c-a46b-d5e326dfb929",
   "metadata": {},
   "outputs": [
    {
     "name": "stdout",
     "output_type": "stream",
     "text": [
      "[\"System:\\nYou are a helpful assistant\\n\\nQuestion:\\n\\n    Show me a SQL query that fetches all columns for the first 50 rows\\n    in a table named 'users'.\\n\\nAnswer:\\nSure! Here's a SQL query that fetches all columns for the first 50 rows in a table named 'users':\\n```\\nSELECT * FROM users LIMIT 50;\\n```\\nThis query uses the `SELECT` statement to fetch all columns (`*`) from the `users` table. The `LIMIT` clause is used to restrict the result set to the first 50 rows.\\n<|endoftext|>\"]\n"
     ]
    }
   ],
   "source": [
    "model = replicate.models.get(model_name)\n",
    "version = model.versions.get(model_version) #\"797c070dc871d8fca417d7d188cf050778d7ce21a0318d26711a54207e9ee698\")\n",
    "\n",
    "prediction = replicate.predictions.create(\n",
    "  version=version,\n",
    "  input={\"prompt\": prompt}\n",
    ")\n",
    "\n",
    "# The `create` call doesn't block, so we can do other work. Here, we'll just wait.\n",
    "prediction.wait()\n",
    "\n",
    "print(prediction.output)"
   ]
  },
  {
   "cell_type": "markdown",
   "id": "8f07c7f6-d749-4df0-be21-138102942058",
   "metadata": {},
   "source": [
    "Let's make the output easier to read:"
   ]
  },
  {
   "cell_type": "code",
   "execution_count": 30,
   "id": "fa0b4bde-1600-411e-a97c-29ee924ae3d7",
   "metadata": {},
   "outputs": [
    {
     "data": {
      "text/plain": [
       "['System:',\n",
       " 'You are a helpful assistant',\n",
       " '',\n",
       " 'Question:',\n",
       " '',\n",
       " '    Show me a SQL query that fetches all columns for the first 50 rows',\n",
       " \"    in a table named 'users'.\",\n",
       " '',\n",
       " 'Answer:',\n",
       " \"Sure! Here's a SQL query that fetches all columns for the first 50 rows in a table named 'users':\",\n",
       " '```',\n",
       " 'SELECT * FROM users LIMIT 50;',\n",
       " '```',\n",
       " 'This query uses the `SELECT` statement to fetch all columns (`*`) from the `users` table. The `LIMIT` clause is used to restrict the result set to the first 50 rows.',\n",
       " '<|endoftext|>']"
      ]
     },
     "execution_count": 30,
     "metadata": {},
     "output_type": "execute_result"
    }
   ],
   "source": [
    "prediction.output[0].splitlines()"
   ]
  },
  {
   "cell_type": "markdown",
   "id": "0f8d95d3-8139-4bdc-90b7-4c7ce7926e9d",
   "metadata": {},
   "source": [
    "You could also use the `replicate.run` API, but it blocks waiting for results, unlike the `predictions` API:\n",
    "\n",
    "```python\n",
    "output = replicate.run(model_id,\n",
    "    input={\n",
    "        \"system_prompt\": \"You are a helpful assistant\",\n",
    "        \"max_new_tokens\": 100,\n",
    "        \"prompt\": prompt\n",
    "    }\n",
    ")\n",
    "```"
   ]
  },
  {
   "cell_type": "code",
   "execution_count": null,
   "id": "7c333de5-a402-4d5f-a255-60ac40fc5793",
   "metadata": {},
   "outputs": [],
   "source": []
  }
 ],
 "metadata": {
  "kernelspec": {
   "display_name": "Python 3 (ipykernel)",
   "language": "python",
   "name": "python3"
  },
  "language_info": {
   "codemirror_mode": {
    "name": "ipython",
    "version": 3
   },
   "file_extension": ".py",
   "mimetype": "text/x-python",
   "name": "python",
   "nbconvert_exporter": "python",
   "pygments_lexer": "ipython3",
   "version": "3.11.9"
  }
 },
 "nbformat": 4,
 "nbformat_minor": 5
}
