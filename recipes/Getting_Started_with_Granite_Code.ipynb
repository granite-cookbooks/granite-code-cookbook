{
 "cells": [
  {
   "cell_type": "markdown",
   "id": "3e98b2a4-cf47-4523-bd07-827683728d31",
   "metadata": {},
   "source": [
    "# Use Remote and Local Granite Code Models with LangChain"
   ]
  },
  {
   "cell_type": "markdown",
   "id": "00a45854-f221-466b-a0b4-78effeae9f41",
   "metadata": {},
   "source": [
    "## Introduction and Setup\n",
    "\n",
    "This notebook demonstrates using inference calls against a model hosted remotely on [Replicate](https://replicate.com/)."
   ]
  },
  {
   "cell_type": "markdown",
   "id": "a9b04485-3c77-40c3-a4ba-0a901f747f42",
   "metadata": {},
   "source": [
    "### Install Granite `utils` package\n",
    "\n",
    "This package contains various functions that are required for notebooks.\n",
    "\n",
    "To see the implementation of its functions, see the [utils repo](https://github.com/ibm-granite-community/utils/tree/main)."
   ]
  },
  {
   "cell_type": "code",
   "execution_count": 2,
   "id": "119fc048",
   "metadata": {
    "scrolled": true
   },
   "outputs": [
    {
     "name": "stdout",
     "output_type": "stream",
     "text": [
      "Collecting git+https://github.com/ibm-granite-community/utils\n",
      "  Cloning https://github.com/ibm-granite-community/utils to /private/var/folders/6t/w4dh1q7d4v54qn05s7r6k5h80000gn/T/pip-req-build-ub1kianq\n",
      "  Running command git clone --filter=blob:none --quiet https://github.com/ibm-granite-community/utils /private/var/folders/6t/w4dh1q7d4v54qn05s7r6k5h80000gn/T/pip-req-build-ub1kianq\n",
      "  Resolved https://github.com/ibm-granite-community/utils to commit dce80abffd436de9423558000524468edade1680\n",
      "  Installing build dependencies ... \u001b[?25ldone\n",
      "\u001b[?25h  Getting requirements to build wheel ... \u001b[?25ldone\n",
      "\u001b[?25h  Preparing metadata (pyproject.toml) ... \u001b[?25ldone\n",
      "\u001b[?25hRequirement already satisfied: python-dotenv in /Users/pingel/git_repos/github.com/ibm-granite-community/granite-code-cookbook/venv/lib/python3.11/site-packages (from ibm_granite_community==0.1.0) (1.0.1)\n",
      "Requirement already satisfied: langchain-community<0.3.0 in /Users/pingel/git_repos/github.com/ibm-granite-community/granite-code-cookbook/venv/lib/python3.11/site-packages (from ibm_granite_community==0.1.0) (0.2.17)\n",
      "Requirement already satisfied: langchain-ollama<0.2.0 in /Users/pingel/git_repos/github.com/ibm-granite-community/granite-code-cookbook/venv/lib/python3.11/site-packages (from ibm_granite_community==0.1.0) (0.1.3)\n",
      "Requirement already satisfied: replicate in /Users/pingel/git_repos/github.com/ibm-granite-community/granite-code-cookbook/venv/lib/python3.11/site-packages (from ibm_granite_community==0.1.0) (0.34.1)\n",
      "Requirement already satisfied: langchain-pinecone in /Users/pingel/git_repos/github.com/ibm-granite-community/granite-code-cookbook/venv/lib/python3.11/site-packages (from ibm_granite_community==0.1.0) (0.1.3)\n",
      "Requirement already satisfied: langchain-milvus in /Users/pingel/git_repos/github.com/ibm-granite-community/granite-code-cookbook/venv/lib/python3.11/site-packages (from ibm_granite_community==0.1.0) (0.1.5)\n",
      "Requirement already satisfied: langchain-chroma in /Users/pingel/git_repos/github.com/ibm-granite-community/granite-code-cookbook/venv/lib/python3.11/site-packages (from ibm_granite_community==0.1.0) (0.1.4)\n",
      "Requirement already satisfied: langchain-ibm in /Users/pingel/git_repos/github.com/ibm-granite-community/granite-code-cookbook/venv/lib/python3.11/site-packages (from ibm_granite_community==0.1.0) (0.1.12)\n",
      "Requirement already satisfied: langchain-huggingface in /Users/pingel/git_repos/github.com/ibm-granite-community/granite-code-cookbook/venv/lib/python3.11/site-packages (from ibm_granite_community==0.1.0) (0.0.3)\n",
      "Requirement already satisfied: PyYAML>=5.3 in /Users/pingel/git_repos/github.com/ibm-granite-community/granite-code-cookbook/venv/lib/python3.11/site-packages (from langchain-community<0.3.0->ibm_granite_community==0.1.0) (6.0.2)\n",
      "Requirement already satisfied: SQLAlchemy<3,>=1.4 in /Users/pingel/git_repos/github.com/ibm-granite-community/granite-code-cookbook/venv/lib/python3.11/site-packages (from langchain-community<0.3.0->ibm_granite_community==0.1.0) (2.0.35)\n",
      "Requirement already satisfied: aiohttp<4.0.0,>=3.8.3 in /Users/pingel/git_repos/github.com/ibm-granite-community/granite-code-cookbook/venv/lib/python3.11/site-packages (from langchain-community<0.3.0->ibm_granite_community==0.1.0) (3.10.6)\n",
      "Requirement already satisfied: dataclasses-json<0.7,>=0.5.7 in /Users/pingel/git_repos/github.com/ibm-granite-community/granite-code-cookbook/venv/lib/python3.11/site-packages (from langchain-community<0.3.0->ibm_granite_community==0.1.0) (0.6.7)\n",
      "Requirement already satisfied: langchain<0.3.0,>=0.2.16 in /Users/pingel/git_repos/github.com/ibm-granite-community/granite-code-cookbook/venv/lib/python3.11/site-packages (from langchain-community<0.3.0->ibm_granite_community==0.1.0) (0.2.16)\n",
      "Requirement already satisfied: langchain-core<0.3.0,>=0.2.39 in /Users/pingel/git_repos/github.com/ibm-granite-community/granite-code-cookbook/venv/lib/python3.11/site-packages (from langchain-community<0.3.0->ibm_granite_community==0.1.0) (0.2.41)\n",
      "Requirement already satisfied: langsmith<0.2.0,>=0.1.112 in /Users/pingel/git_repos/github.com/ibm-granite-community/granite-code-cookbook/venv/lib/python3.11/site-packages (from langchain-community<0.3.0->ibm_granite_community==0.1.0) (0.1.129)\n",
      "Requirement already satisfied: numpy<2,>=1 in /Users/pingel/git_repos/github.com/ibm-granite-community/granite-code-cookbook/venv/lib/python3.11/site-packages (from langchain-community<0.3.0->ibm_granite_community==0.1.0) (1.26.4)\n",
      "Requirement already satisfied: requests<3,>=2 in /Users/pingel/git_repos/github.com/ibm-granite-community/granite-code-cookbook/venv/lib/python3.11/site-packages (from langchain-community<0.3.0->ibm_granite_community==0.1.0) (2.32.2)\n",
      "Requirement already satisfied: tenacity!=8.4.0,<9.0.0,>=8.1.0 in /Users/pingel/git_repos/github.com/ibm-granite-community/granite-code-cookbook/venv/lib/python3.11/site-packages (from langchain-community<0.3.0->ibm_granite_community==0.1.0) (8.5.0)\n",
      "Requirement already satisfied: ollama<1,>=0.3.0 in /Users/pingel/git_repos/github.com/ibm-granite-community/granite-code-cookbook/venv/lib/python3.11/site-packages (from langchain-ollama<0.2.0->ibm_granite_community==0.1.0) (0.3.3)\n",
      "Requirement already satisfied: chromadb!=0.5.4,!=0.5.5,<0.6.0,>=0.4.0 in /Users/pingel/git_repos/github.com/ibm-granite-community/granite-code-cookbook/venv/lib/python3.11/site-packages (from langchain-chroma->ibm_granite_community==0.1.0) (0.5.11)\n",
      "Requirement already satisfied: fastapi<1,>=0.95.2 in /Users/pingel/git_repos/github.com/ibm-granite-community/granite-code-cookbook/venv/lib/python3.11/site-packages (from langchain-chroma->ibm_granite_community==0.1.0) (0.115.0)\n",
      "Requirement already satisfied: huggingface-hub>=0.23.0 in /Users/pingel/git_repos/github.com/ibm-granite-community/granite-code-cookbook/venv/lib/python3.11/site-packages (from langchain-huggingface->ibm_granite_community==0.1.0) (0.25.1)\n",
      "Requirement already satisfied: sentence-transformers>=2.6.0 in /Users/pingel/git_repos/github.com/ibm-granite-community/granite-code-cookbook/venv/lib/python3.11/site-packages (from langchain-huggingface->ibm_granite_community==0.1.0) (3.1.1)\n",
      "Requirement already satisfied: tokenizers>=0.19.1 in /Users/pingel/git_repos/github.com/ibm-granite-community/granite-code-cookbook/venv/lib/python3.11/site-packages (from langchain-huggingface->ibm_granite_community==0.1.0) (0.20.0)\n",
      "Requirement already satisfied: transformers>=4.39.0 in /Users/pingel/git_repos/github.com/ibm-granite-community/granite-code-cookbook/venv/lib/python3.11/site-packages (from langchain-huggingface->ibm_granite_community==0.1.0) (4.45.1)\n",
      "Requirement already satisfied: ibm-watsonx-ai<2.0.0,>=1.0.8 in /Users/pingel/git_repos/github.com/ibm-granite-community/granite-code-cookbook/venv/lib/python3.11/site-packages (from langchain-ibm->ibm_granite_community==0.1.0) (1.1.11)\n",
      "Requirement already satisfied: pymilvus<3.0.0,>=2.4.3 in /Users/pingel/git_repos/github.com/ibm-granite-community/granite-code-cookbook/venv/lib/python3.11/site-packages (from langchain-milvus->ibm_granite_community==0.1.0) (2.4.7)\n",
      "Requirement already satisfied: scipy<2.0,>=1.7 in /Users/pingel/git_repos/github.com/ibm-granite-community/granite-code-cookbook/venv/lib/python3.11/site-packages (from langchain-milvus->ibm_granite_community==0.1.0) (1.14.1)\n",
      "Requirement already satisfied: pinecone-client<6.0.0,>=5.0.0 in /Users/pingel/git_repos/github.com/ibm-granite-community/granite-code-cookbook/venv/lib/python3.11/site-packages (from langchain-pinecone->ibm_granite_community==0.1.0) (5.0.1)\n",
      "Requirement already satisfied: httpx<1,>=0.21.0 in /Users/pingel/git_repos/github.com/ibm-granite-community/granite-code-cookbook/venv/lib/python3.11/site-packages (from replicate->ibm_granite_community==0.1.0) (0.27.2)\n",
      "Requirement already satisfied: packaging in /Users/pingel/git_repos/github.com/ibm-granite-community/granite-code-cookbook/venv/lib/python3.11/site-packages (from replicate->ibm_granite_community==0.1.0) (24.1)\n",
      "Requirement already satisfied: pydantic>1.10.7 in /Users/pingel/git_repos/github.com/ibm-granite-community/granite-code-cookbook/venv/lib/python3.11/site-packages (from replicate->ibm_granite_community==0.1.0) (2.9.2)\n",
      "Requirement already satisfied: typing-extensions>=4.5.0 in /Users/pingel/git_repos/github.com/ibm-granite-community/granite-code-cookbook/venv/lib/python3.11/site-packages (from replicate->ibm_granite_community==0.1.0) (4.12.2)\n",
      "Requirement already satisfied: aiohappyeyeballs>=2.3.0 in /Users/pingel/git_repos/github.com/ibm-granite-community/granite-code-cookbook/venv/lib/python3.11/site-packages (from aiohttp<4.0.0,>=3.8.3->langchain-community<0.3.0->ibm_granite_community==0.1.0) (2.4.2)\n",
      "Requirement already satisfied: aiosignal>=1.1.2 in /Users/pingel/git_repos/github.com/ibm-granite-community/granite-code-cookbook/venv/lib/python3.11/site-packages (from aiohttp<4.0.0,>=3.8.3->langchain-community<0.3.0->ibm_granite_community==0.1.0) (1.3.1)\n",
      "Requirement already satisfied: attrs>=17.3.0 in /Users/pingel/git_repos/github.com/ibm-granite-community/granite-code-cookbook/venv/lib/python3.11/site-packages (from aiohttp<4.0.0,>=3.8.3->langchain-community<0.3.0->ibm_granite_community==0.1.0) (24.2.0)\n",
      "Requirement already satisfied: frozenlist>=1.1.1 in /Users/pingel/git_repos/github.com/ibm-granite-community/granite-code-cookbook/venv/lib/python3.11/site-packages (from aiohttp<4.0.0,>=3.8.3->langchain-community<0.3.0->ibm_granite_community==0.1.0) (1.4.1)\n",
      "Requirement already satisfied: multidict<7.0,>=4.5 in /Users/pingel/git_repos/github.com/ibm-granite-community/granite-code-cookbook/venv/lib/python3.11/site-packages (from aiohttp<4.0.0,>=3.8.3->langchain-community<0.3.0->ibm_granite_community==0.1.0) (6.1.0)\n",
      "Requirement already satisfied: yarl<2.0,>=1.12.0 in /Users/pingel/git_repos/github.com/ibm-granite-community/granite-code-cookbook/venv/lib/python3.11/site-packages (from aiohttp<4.0.0,>=3.8.3->langchain-community<0.3.0->ibm_granite_community==0.1.0) (1.13.0)\n",
      "Requirement already satisfied: build>=1.0.3 in /Users/pingel/git_repos/github.com/ibm-granite-community/granite-code-cookbook/venv/lib/python3.11/site-packages (from chromadb!=0.5.4,!=0.5.5,<0.6.0,>=0.4.0->langchain-chroma->ibm_granite_community==0.1.0) (1.2.2)\n",
      "Requirement already satisfied: chroma-hnswlib==0.7.6 in /Users/pingel/git_repos/github.com/ibm-granite-community/granite-code-cookbook/venv/lib/python3.11/site-packages (from chromadb!=0.5.4,!=0.5.5,<0.6.0,>=0.4.0->langchain-chroma->ibm_granite_community==0.1.0) (0.7.6)\n",
      "Requirement already satisfied: uvicorn[standard]>=0.18.3 in /Users/pingel/git_repos/github.com/ibm-granite-community/granite-code-cookbook/venv/lib/python3.11/site-packages (from chromadb!=0.5.4,!=0.5.5,<0.6.0,>=0.4.0->langchain-chroma->ibm_granite_community==0.1.0) (0.30.6)\n",
      "Requirement already satisfied: posthog>=2.4.0 in /Users/pingel/git_repos/github.com/ibm-granite-community/granite-code-cookbook/venv/lib/python3.11/site-packages (from chromadb!=0.5.4,!=0.5.5,<0.6.0,>=0.4.0->langchain-chroma->ibm_granite_community==0.1.0) (3.6.6)\n",
      "Requirement already satisfied: onnxruntime>=1.14.1 in /Users/pingel/git_repos/github.com/ibm-granite-community/granite-code-cookbook/venv/lib/python3.11/site-packages (from chromadb!=0.5.4,!=0.5.5,<0.6.0,>=0.4.0->langchain-chroma->ibm_granite_community==0.1.0) (1.16.3)\n",
      "Requirement already satisfied: opentelemetry-api>=1.2.0 in /Users/pingel/git_repos/github.com/ibm-granite-community/granite-code-cookbook/venv/lib/python3.11/site-packages (from chromadb!=0.5.4,!=0.5.5,<0.6.0,>=0.4.0->langchain-chroma->ibm_granite_community==0.1.0) (1.27.0)\n",
      "Requirement already satisfied: opentelemetry-exporter-otlp-proto-grpc>=1.2.0 in /Users/pingel/git_repos/github.com/ibm-granite-community/granite-code-cookbook/venv/lib/python3.11/site-packages (from chromadb!=0.5.4,!=0.5.5,<0.6.0,>=0.4.0->langchain-chroma->ibm_granite_community==0.1.0) (1.27.0)\n",
      "Requirement already satisfied: opentelemetry-instrumentation-fastapi>=0.41b0 in /Users/pingel/git_repos/github.com/ibm-granite-community/granite-code-cookbook/venv/lib/python3.11/site-packages (from chromadb!=0.5.4,!=0.5.5,<0.6.0,>=0.4.0->langchain-chroma->ibm_granite_community==0.1.0) (0.48b0)\n",
      "Requirement already satisfied: opentelemetry-sdk>=1.2.0 in /Users/pingel/git_repos/github.com/ibm-granite-community/granite-code-cookbook/venv/lib/python3.11/site-packages (from chromadb!=0.5.4,!=0.5.5,<0.6.0,>=0.4.0->langchain-chroma->ibm_granite_community==0.1.0) (1.27.0)\n",
      "Requirement already satisfied: pypika>=0.48.9 in /Users/pingel/git_repos/github.com/ibm-granite-community/granite-code-cookbook/venv/lib/python3.11/site-packages (from chromadb!=0.5.4,!=0.5.5,<0.6.0,>=0.4.0->langchain-chroma->ibm_granite_community==0.1.0) (0.48.9)\n",
      "Requirement already satisfied: tqdm>=4.65.0 in /Users/pingel/git_repos/github.com/ibm-granite-community/granite-code-cookbook/venv/lib/python3.11/site-packages (from chromadb!=0.5.4,!=0.5.5,<0.6.0,>=0.4.0->langchain-chroma->ibm_granite_community==0.1.0) (4.66.5)\n",
      "Requirement already satisfied: overrides>=7.3.1 in /Users/pingel/git_repos/github.com/ibm-granite-community/granite-code-cookbook/venv/lib/python3.11/site-packages (from chromadb!=0.5.4,!=0.5.5,<0.6.0,>=0.4.0->langchain-chroma->ibm_granite_community==0.1.0) (7.7.0)\n",
      "Requirement already satisfied: importlib-resources in /Users/pingel/git_repos/github.com/ibm-granite-community/granite-code-cookbook/venv/lib/python3.11/site-packages (from chromadb!=0.5.4,!=0.5.5,<0.6.0,>=0.4.0->langchain-chroma->ibm_granite_community==0.1.0) (6.4.5)\n",
      "Requirement already satisfied: grpcio>=1.58.0 in /Users/pingel/git_repos/github.com/ibm-granite-community/granite-code-cookbook/venv/lib/python3.11/site-packages (from chromadb!=0.5.4,!=0.5.5,<0.6.0,>=0.4.0->langchain-chroma->ibm_granite_community==0.1.0) (1.66.1)\n",
      "Requirement already satisfied: bcrypt>=4.0.1 in /Users/pingel/git_repos/github.com/ibm-granite-community/granite-code-cookbook/venv/lib/python3.11/site-packages (from chromadb!=0.5.4,!=0.5.5,<0.6.0,>=0.4.0->langchain-chroma->ibm_granite_community==0.1.0) (4.2.0)\n",
      "Requirement already satisfied: typer>=0.9.0 in /Users/pingel/git_repos/github.com/ibm-granite-community/granite-code-cookbook/venv/lib/python3.11/site-packages (from chromadb!=0.5.4,!=0.5.5,<0.6.0,>=0.4.0->langchain-chroma->ibm_granite_community==0.1.0) (0.12.5)\n",
      "Requirement already satisfied: kubernetes>=28.1.0 in /Users/pingel/git_repos/github.com/ibm-granite-community/granite-code-cookbook/venv/lib/python3.11/site-packages (from chromadb!=0.5.4,!=0.5.5,<0.6.0,>=0.4.0->langchain-chroma->ibm_granite_community==0.1.0) (31.0.0)\n",
      "Requirement already satisfied: mmh3>=4.0.1 in /Users/pingel/git_repos/github.com/ibm-granite-community/granite-code-cookbook/venv/lib/python3.11/site-packages (from chromadb!=0.5.4,!=0.5.5,<0.6.0,>=0.4.0->langchain-chroma->ibm_granite_community==0.1.0) (5.0.1)\n",
      "Requirement already satisfied: orjson>=3.9.12 in /Users/pingel/git_repos/github.com/ibm-granite-community/granite-code-cookbook/venv/lib/python3.11/site-packages (from chromadb!=0.5.4,!=0.5.5,<0.6.0,>=0.4.0->langchain-chroma->ibm_granite_community==0.1.0) (3.10.7)\n",
      "Requirement already satisfied: rich>=10.11.0 in /Users/pingel/git_repos/github.com/ibm-granite-community/granite-code-cookbook/venv/lib/python3.11/site-packages (from chromadb!=0.5.4,!=0.5.5,<0.6.0,>=0.4.0->langchain-chroma->ibm_granite_community==0.1.0) (13.8.1)\n",
      "Requirement already satisfied: marshmallow<4.0.0,>=3.18.0 in /Users/pingel/git_repos/github.com/ibm-granite-community/granite-code-cookbook/venv/lib/python3.11/site-packages (from dataclasses-json<0.7,>=0.5.7->langchain-community<0.3.0->ibm_granite_community==0.1.0) (3.22.0)\n",
      "Requirement already satisfied: typing-inspect<1,>=0.4.0 in /Users/pingel/git_repos/github.com/ibm-granite-community/granite-code-cookbook/venv/lib/python3.11/site-packages (from dataclasses-json<0.7,>=0.5.7->langchain-community<0.3.0->ibm_granite_community==0.1.0) (0.9.0)\n",
      "Requirement already satisfied: starlette<0.39.0,>=0.37.2 in /Users/pingel/git_repos/github.com/ibm-granite-community/granite-code-cookbook/venv/lib/python3.11/site-packages (from fastapi<1,>=0.95.2->langchain-chroma->ibm_granite_community==0.1.0) (0.38.6)\n",
      "Requirement already satisfied: anyio in /Users/pingel/git_repos/github.com/ibm-granite-community/granite-code-cookbook/venv/lib/python3.11/site-packages (from httpx<1,>=0.21.0->replicate->ibm_granite_community==0.1.0) (4.6.0)\n",
      "Requirement already satisfied: certifi in /Users/pingel/git_repos/github.com/ibm-granite-community/granite-code-cookbook/venv/lib/python3.11/site-packages (from httpx<1,>=0.21.0->replicate->ibm_granite_community==0.1.0) (2024.8.30)\n",
      "Requirement already satisfied: httpcore==1.* in /Users/pingel/git_repos/github.com/ibm-granite-community/granite-code-cookbook/venv/lib/python3.11/site-packages (from httpx<1,>=0.21.0->replicate->ibm_granite_community==0.1.0) (1.0.5)\n",
      "Requirement already satisfied: idna in /Users/pingel/git_repos/github.com/ibm-granite-community/granite-code-cookbook/venv/lib/python3.11/site-packages (from httpx<1,>=0.21.0->replicate->ibm_granite_community==0.1.0) (3.10)\n",
      "Requirement already satisfied: sniffio in /Users/pingel/git_repos/github.com/ibm-granite-community/granite-code-cookbook/venv/lib/python3.11/site-packages (from httpx<1,>=0.21.0->replicate->ibm_granite_community==0.1.0) (1.3.1)\n",
      "Requirement already satisfied: h11<0.15,>=0.13 in /Users/pingel/git_repos/github.com/ibm-granite-community/granite-code-cookbook/venv/lib/python3.11/site-packages (from httpcore==1.*->httpx<1,>=0.21.0->replicate->ibm_granite_community==0.1.0) (0.14.0)\n",
      "Requirement already satisfied: filelock in /Users/pingel/git_repos/github.com/ibm-granite-community/granite-code-cookbook/venv/lib/python3.11/site-packages (from huggingface-hub>=0.23.0->langchain-huggingface->ibm_granite_community==0.1.0) (3.16.1)\n",
      "Requirement already satisfied: fsspec>=2023.5.0 in /Users/pingel/git_repos/github.com/ibm-granite-community/granite-code-cookbook/venv/lib/python3.11/site-packages (from huggingface-hub>=0.23.0->langchain-huggingface->ibm_granite_community==0.1.0) (2024.9.0)\n",
      "Requirement already satisfied: urllib3 in /Users/pingel/git_repos/github.com/ibm-granite-community/granite-code-cookbook/venv/lib/python3.11/site-packages (from ibm-watsonx-ai<2.0.0,>=1.0.8->langchain-ibm->ibm_granite_community==0.1.0) (2.2.3)\n",
      "Requirement already satisfied: pandas<2.2.0,>=0.24.2 in /Users/pingel/git_repos/github.com/ibm-granite-community/granite-code-cookbook/venv/lib/python3.11/site-packages (from ibm-watsonx-ai<2.0.0,>=1.0.8->langchain-ibm->ibm_granite_community==0.1.0) (2.1.4)\n",
      "Requirement already satisfied: lomond in /Users/pingel/git_repos/github.com/ibm-granite-community/granite-code-cookbook/venv/lib/python3.11/site-packages (from ibm-watsonx-ai<2.0.0,>=1.0.8->langchain-ibm->ibm_granite_community==0.1.0) (0.3.3)\n",
      "Requirement already satisfied: tabulate in /Users/pingel/git_repos/github.com/ibm-granite-community/granite-code-cookbook/venv/lib/python3.11/site-packages (from ibm-watsonx-ai<2.0.0,>=1.0.8->langchain-ibm->ibm_granite_community==0.1.0) (0.9.0)\n",
      "Requirement already satisfied: ibm-cos-sdk<2.14.0,>=2.12.0 in /Users/pingel/git_repos/github.com/ibm-granite-community/granite-code-cookbook/venv/lib/python3.11/site-packages (from ibm-watsonx-ai<2.0.0,>=1.0.8->langchain-ibm->ibm_granite_community==0.1.0) (2.13.6)\n",
      "Requirement already satisfied: importlib-metadata in /Users/pingel/git_repos/github.com/ibm-granite-community/granite-code-cookbook/venv/lib/python3.11/site-packages (from ibm-watsonx-ai<2.0.0,>=1.0.8->langchain-ibm->ibm_granite_community==0.1.0) (8.4.0)\n",
      "Requirement already satisfied: langchain-text-splitters<0.3.0,>=0.2.0 in /Users/pingel/git_repos/github.com/ibm-granite-community/granite-code-cookbook/venv/lib/python3.11/site-packages (from langchain<0.3.0,>=0.2.16->langchain-community<0.3.0->ibm_granite_community==0.1.0) (0.2.4)\n",
      "Requirement already satisfied: jsonpatch<2.0,>=1.33 in /Users/pingel/git_repos/github.com/ibm-granite-community/granite-code-cookbook/venv/lib/python3.11/site-packages (from langchain-core<0.3.0,>=0.2.39->langchain-community<0.3.0->ibm_granite_community==0.1.0) (1.33)\n",
      "Requirement already satisfied: pinecone-plugin-inference<2.0.0,>=1.0.3 in /Users/pingel/git_repos/github.com/ibm-granite-community/granite-code-cookbook/venv/lib/python3.11/site-packages (from pinecone-client<6.0.0,>=5.0.0->langchain-pinecone->ibm_granite_community==0.1.0) (1.1.0)\n",
      "Requirement already satisfied: pinecone-plugin-interface<0.0.8,>=0.0.7 in /Users/pingel/git_repos/github.com/ibm-granite-community/granite-code-cookbook/venv/lib/python3.11/site-packages (from pinecone-client<6.0.0,>=5.0.0->langchain-pinecone->ibm_granite_community==0.1.0) (0.0.7)\n",
      "Requirement already satisfied: annotated-types>=0.6.0 in /Users/pingel/git_repos/github.com/ibm-granite-community/granite-code-cookbook/venv/lib/python3.11/site-packages (from pydantic>1.10.7->replicate->ibm_granite_community==0.1.0) (0.7.0)\n",
      "Requirement already satisfied: pydantic-core==2.23.4 in /Users/pingel/git_repos/github.com/ibm-granite-community/granite-code-cookbook/venv/lib/python3.11/site-packages (from pydantic>1.10.7->replicate->ibm_granite_community==0.1.0) (2.23.4)\n",
      "Requirement already satisfied: setuptools>69 in /Users/pingel/git_repos/github.com/ibm-granite-community/granite-code-cookbook/venv/lib/python3.11/site-packages (from pymilvus<3.0.0,>=2.4.3->langchain-milvus->ibm_granite_community==0.1.0) (75.1.0)\n",
      "Requirement already satisfied: protobuf>=3.20.0 in /Users/pingel/git_repos/github.com/ibm-granite-community/granite-code-cookbook/venv/lib/python3.11/site-packages (from pymilvus<3.0.0,>=2.4.3->langchain-milvus->ibm_granite_community==0.1.0) (4.25.5)\n",
      "Requirement already satisfied: environs<=9.5.0 in /Users/pingel/git_repos/github.com/ibm-granite-community/granite-code-cookbook/venv/lib/python3.11/site-packages (from pymilvus<3.0.0,>=2.4.3->langchain-milvus->ibm_granite_community==0.1.0) (9.5.0)\n",
      "Requirement already satisfied: ujson>=2.0.0 in /Users/pingel/git_repos/github.com/ibm-granite-community/granite-code-cookbook/venv/lib/python3.11/site-packages (from pymilvus<3.0.0,>=2.4.3->langchain-milvus->ibm_granite_community==0.1.0) (5.10.0)\n",
      "Requirement already satisfied: milvus-lite<2.5.0,>=2.4.0 in /Users/pingel/git_repos/github.com/ibm-granite-community/granite-code-cookbook/venv/lib/python3.11/site-packages (from pymilvus<3.0.0,>=2.4.3->langchain-milvus->ibm_granite_community==0.1.0) (2.4.10)\n",
      "Requirement already satisfied: charset-normalizer<4,>=2 in /Users/pingel/git_repos/github.com/ibm-granite-community/granite-code-cookbook/venv/lib/python3.11/site-packages (from requests<3,>=2->langchain-community<0.3.0->ibm_granite_community==0.1.0) (3.3.2)\n",
      "Requirement already satisfied: torch>=1.11.0 in /Users/pingel/git_repos/github.com/ibm-granite-community/granite-code-cookbook/venv/lib/python3.11/site-packages (from sentence-transformers>=2.6.0->langchain-huggingface->ibm_granite_community==0.1.0) (2.2.2)\n",
      "Requirement already satisfied: scikit-learn in /Users/pingel/git_repos/github.com/ibm-granite-community/granite-code-cookbook/venv/lib/python3.11/site-packages (from sentence-transformers>=2.6.0->langchain-huggingface->ibm_granite_community==0.1.0) (1.5.2)\n",
      "Requirement already satisfied: Pillow in /Users/pingel/git_repos/github.com/ibm-granite-community/granite-code-cookbook/venv/lib/python3.11/site-packages (from sentence-transformers>=2.6.0->langchain-huggingface->ibm_granite_community==0.1.0) (10.4.0)\n",
      "Requirement already satisfied: greenlet!=0.4.17 in /Users/pingel/git_repos/github.com/ibm-granite-community/granite-code-cookbook/venv/lib/python3.11/site-packages (from SQLAlchemy<3,>=1.4->langchain-community<0.3.0->ibm_granite_community==0.1.0) (3.1.1)\n",
      "Requirement already satisfied: regex!=2019.12.17 in /Users/pingel/git_repos/github.com/ibm-granite-community/granite-code-cookbook/venv/lib/python3.11/site-packages (from transformers>=4.39.0->langchain-huggingface->ibm_granite_community==0.1.0) (2024.9.11)\n",
      "Requirement already satisfied: safetensors>=0.4.1 in /Users/pingel/git_repos/github.com/ibm-granite-community/granite-code-cookbook/venv/lib/python3.11/site-packages (from transformers>=4.39.0->langchain-huggingface->ibm_granite_community==0.1.0) (0.4.5)\n",
      "Requirement already satisfied: pyproject_hooks in /Users/pingel/git_repos/github.com/ibm-granite-community/granite-code-cookbook/venv/lib/python3.11/site-packages (from build>=1.0.3->chromadb!=0.5.4,!=0.5.5,<0.6.0,>=0.4.0->langchain-chroma->ibm_granite_community==0.1.0) (1.1.0)\n",
      "Requirement already satisfied: ibm-cos-sdk-core==2.13.6 in /Users/pingel/git_repos/github.com/ibm-granite-community/granite-code-cookbook/venv/lib/python3.11/site-packages (from ibm-cos-sdk<2.14.0,>=2.12.0->ibm-watsonx-ai<2.0.0,>=1.0.8->langchain-ibm->ibm_granite_community==0.1.0) (2.13.6)\n",
      "Requirement already satisfied: ibm-cos-sdk-s3transfer==2.13.6 in /Users/pingel/git_repos/github.com/ibm-granite-community/granite-code-cookbook/venv/lib/python3.11/site-packages (from ibm-cos-sdk<2.14.0,>=2.12.0->ibm-watsonx-ai<2.0.0,>=1.0.8->langchain-ibm->ibm_granite_community==0.1.0) (2.13.6)\n",
      "Requirement already satisfied: jmespath<=1.0.1,>=0.10.0 in /Users/pingel/git_repos/github.com/ibm-granite-community/granite-code-cookbook/venv/lib/python3.11/site-packages (from ibm-cos-sdk<2.14.0,>=2.12.0->ibm-watsonx-ai<2.0.0,>=1.0.8->langchain-ibm->ibm_granite_community==0.1.0) (1.0.1)\n",
      "Requirement already satisfied: python-dateutil<3.0.0,>=2.9.0 in /Users/pingel/git_repos/github.com/ibm-granite-community/granite-code-cookbook/venv/lib/python3.11/site-packages (from ibm-cos-sdk-core==2.13.6->ibm-cos-sdk<2.14.0,>=2.12.0->ibm-watsonx-ai<2.0.0,>=1.0.8->langchain-ibm->ibm_granite_community==0.1.0) (2.9.0.post0)\n",
      "Requirement already satisfied: jsonpointer>=1.9 in /Users/pingel/git_repos/github.com/ibm-granite-community/granite-code-cookbook/venv/lib/python3.11/site-packages (from jsonpatch<2.0,>=1.33->langchain-core<0.3.0,>=0.2.39->langchain-community<0.3.0->ibm_granite_community==0.1.0) (3.0.0)\n",
      "Requirement already satisfied: six>=1.9.0 in /Users/pingel/git_repos/github.com/ibm-granite-community/granite-code-cookbook/venv/lib/python3.11/site-packages (from kubernetes>=28.1.0->chromadb!=0.5.4,!=0.5.5,<0.6.0,>=0.4.0->langchain-chroma->ibm_granite_community==0.1.0) (1.16.0)\n",
      "Requirement already satisfied: google-auth>=1.0.1 in /Users/pingel/git_repos/github.com/ibm-granite-community/granite-code-cookbook/venv/lib/python3.11/site-packages (from kubernetes>=28.1.0->chromadb!=0.5.4,!=0.5.5,<0.6.0,>=0.4.0->langchain-chroma->ibm_granite_community==0.1.0) (2.35.0)\n",
      "Requirement already satisfied: websocket-client!=0.40.0,!=0.41.*,!=0.42.*,>=0.32.0 in /Users/pingel/git_repos/github.com/ibm-granite-community/granite-code-cookbook/venv/lib/python3.11/site-packages (from kubernetes>=28.1.0->chromadb!=0.5.4,!=0.5.5,<0.6.0,>=0.4.0->langchain-chroma->ibm_granite_community==0.1.0) (1.8.0)\n",
      "Requirement already satisfied: requests-oauthlib in /Users/pingel/git_repos/github.com/ibm-granite-community/granite-code-cookbook/venv/lib/python3.11/site-packages (from kubernetes>=28.1.0->chromadb!=0.5.4,!=0.5.5,<0.6.0,>=0.4.0->langchain-chroma->ibm_granite_community==0.1.0) (2.0.0)\n",
      "Requirement already satisfied: oauthlib>=3.2.2 in /Users/pingel/git_repos/github.com/ibm-granite-community/granite-code-cookbook/venv/lib/python3.11/site-packages (from kubernetes>=28.1.0->chromadb!=0.5.4,!=0.5.5,<0.6.0,>=0.4.0->langchain-chroma->ibm_granite_community==0.1.0) (3.2.2)\n",
      "Requirement already satisfied: durationpy>=0.7 in /Users/pingel/git_repos/github.com/ibm-granite-community/granite-code-cookbook/venv/lib/python3.11/site-packages (from kubernetes>=28.1.0->chromadb!=0.5.4,!=0.5.5,<0.6.0,>=0.4.0->langchain-chroma->ibm_granite_community==0.1.0) (0.7)\n",
      "Requirement already satisfied: coloredlogs in /Users/pingel/git_repos/github.com/ibm-granite-community/granite-code-cookbook/venv/lib/python3.11/site-packages (from onnxruntime>=1.14.1->chromadb!=0.5.4,!=0.5.5,<0.6.0,>=0.4.0->langchain-chroma->ibm_granite_community==0.1.0) (15.0.1)\n",
      "Requirement already satisfied: flatbuffers in /Users/pingel/git_repos/github.com/ibm-granite-community/granite-code-cookbook/venv/lib/python3.11/site-packages (from onnxruntime>=1.14.1->chromadb!=0.5.4,!=0.5.5,<0.6.0,>=0.4.0->langchain-chroma->ibm_granite_community==0.1.0) (24.3.25)\n",
      "Requirement already satisfied: sympy in /Users/pingel/git_repos/github.com/ibm-granite-community/granite-code-cookbook/venv/lib/python3.11/site-packages (from onnxruntime>=1.14.1->chromadb!=0.5.4,!=0.5.5,<0.6.0,>=0.4.0->langchain-chroma->ibm_granite_community==0.1.0) (1.13.3)\n",
      "Requirement already satisfied: deprecated>=1.2.6 in /Users/pingel/git_repos/github.com/ibm-granite-community/granite-code-cookbook/venv/lib/python3.11/site-packages (from opentelemetry-api>=1.2.0->chromadb!=0.5.4,!=0.5.5,<0.6.0,>=0.4.0->langchain-chroma->ibm_granite_community==0.1.0) (1.2.14)\n",
      "Requirement already satisfied: zipp>=0.5 in /Users/pingel/git_repos/github.com/ibm-granite-community/granite-code-cookbook/venv/lib/python3.11/site-packages (from importlib-metadata->ibm-watsonx-ai<2.0.0,>=1.0.8->langchain-ibm->ibm_granite_community==0.1.0) (3.20.2)\n",
      "Requirement already satisfied: googleapis-common-protos~=1.52 in /Users/pingel/git_repos/github.com/ibm-granite-community/granite-code-cookbook/venv/lib/python3.11/site-packages (from opentelemetry-exporter-otlp-proto-grpc>=1.2.0->chromadb!=0.5.4,!=0.5.5,<0.6.0,>=0.4.0->langchain-chroma->ibm_granite_community==0.1.0) (1.65.0)\n",
      "Requirement already satisfied: opentelemetry-exporter-otlp-proto-common==1.27.0 in /Users/pingel/git_repos/github.com/ibm-granite-community/granite-code-cookbook/venv/lib/python3.11/site-packages (from opentelemetry-exporter-otlp-proto-grpc>=1.2.0->chromadb!=0.5.4,!=0.5.5,<0.6.0,>=0.4.0->langchain-chroma->ibm_granite_community==0.1.0) (1.27.0)\n",
      "Requirement already satisfied: opentelemetry-proto==1.27.0 in /Users/pingel/git_repos/github.com/ibm-granite-community/granite-code-cookbook/venv/lib/python3.11/site-packages (from opentelemetry-exporter-otlp-proto-grpc>=1.2.0->chromadb!=0.5.4,!=0.5.5,<0.6.0,>=0.4.0->langchain-chroma->ibm_granite_community==0.1.0) (1.27.0)\n",
      "Requirement already satisfied: opentelemetry-instrumentation-asgi==0.48b0 in /Users/pingel/git_repos/github.com/ibm-granite-community/granite-code-cookbook/venv/lib/python3.11/site-packages (from opentelemetry-instrumentation-fastapi>=0.41b0->chromadb!=0.5.4,!=0.5.5,<0.6.0,>=0.4.0->langchain-chroma->ibm_granite_community==0.1.0) (0.48b0)\n",
      "Requirement already satisfied: opentelemetry-instrumentation==0.48b0 in /Users/pingel/git_repos/github.com/ibm-granite-community/granite-code-cookbook/venv/lib/python3.11/site-packages (from opentelemetry-instrumentation-fastapi>=0.41b0->chromadb!=0.5.4,!=0.5.5,<0.6.0,>=0.4.0->langchain-chroma->ibm_granite_community==0.1.0) (0.48b0)\n",
      "Requirement already satisfied: opentelemetry-semantic-conventions==0.48b0 in /Users/pingel/git_repos/github.com/ibm-granite-community/granite-code-cookbook/venv/lib/python3.11/site-packages (from opentelemetry-instrumentation-fastapi>=0.41b0->chromadb!=0.5.4,!=0.5.5,<0.6.0,>=0.4.0->langchain-chroma->ibm_granite_community==0.1.0) (0.48b0)\n",
      "Requirement already satisfied: opentelemetry-util-http==0.48b0 in /Users/pingel/git_repos/github.com/ibm-granite-community/granite-code-cookbook/venv/lib/python3.11/site-packages (from opentelemetry-instrumentation-fastapi>=0.41b0->chromadb!=0.5.4,!=0.5.5,<0.6.0,>=0.4.0->langchain-chroma->ibm_granite_community==0.1.0) (0.48b0)\n",
      "Requirement already satisfied: wrapt<2.0.0,>=1.0.0 in /Users/pingel/git_repos/github.com/ibm-granite-community/granite-code-cookbook/venv/lib/python3.11/site-packages (from opentelemetry-instrumentation==0.48b0->opentelemetry-instrumentation-fastapi>=0.41b0->chromadb!=0.5.4,!=0.5.5,<0.6.0,>=0.4.0->langchain-chroma->ibm_granite_community==0.1.0) (1.16.0)\n",
      "Requirement already satisfied: asgiref~=3.0 in /Users/pingel/git_repos/github.com/ibm-granite-community/granite-code-cookbook/venv/lib/python3.11/site-packages (from opentelemetry-instrumentation-asgi==0.48b0->opentelemetry-instrumentation-fastapi>=0.41b0->chromadb!=0.5.4,!=0.5.5,<0.6.0,>=0.4.0->langchain-chroma->ibm_granite_community==0.1.0) (3.8.1)\n",
      "Requirement already satisfied: pytz>=2020.1 in /Users/pingel/git_repos/github.com/ibm-granite-community/granite-code-cookbook/venv/lib/python3.11/site-packages (from pandas<2.2.0,>=0.24.2->ibm-watsonx-ai<2.0.0,>=1.0.8->langchain-ibm->ibm_granite_community==0.1.0) (2024.2)\n",
      "Requirement already satisfied: tzdata>=2022.1 in /Users/pingel/git_repos/github.com/ibm-granite-community/granite-code-cookbook/venv/lib/python3.11/site-packages (from pandas<2.2.0,>=0.24.2->ibm-watsonx-ai<2.0.0,>=1.0.8->langchain-ibm->ibm_granite_community==0.1.0) (2024.2)\n",
      "Requirement already satisfied: monotonic>=1.5 in /Users/pingel/git_repos/github.com/ibm-granite-community/granite-code-cookbook/venv/lib/python3.11/site-packages (from posthog>=2.4.0->chromadb!=0.5.4,!=0.5.5,<0.6.0,>=0.4.0->langchain-chroma->ibm_granite_community==0.1.0) (1.6)\n",
      "Requirement already satisfied: backoff>=1.10.0 in /Users/pingel/git_repos/github.com/ibm-granite-community/granite-code-cookbook/venv/lib/python3.11/site-packages (from posthog>=2.4.0->chromadb!=0.5.4,!=0.5.5,<0.6.0,>=0.4.0->langchain-chroma->ibm_granite_community==0.1.0) (2.2.1)\n",
      "Requirement already satisfied: markdown-it-py>=2.2.0 in /Users/pingel/git_repos/github.com/ibm-granite-community/granite-code-cookbook/venv/lib/python3.11/site-packages (from rich>=10.11.0->chromadb!=0.5.4,!=0.5.5,<0.6.0,>=0.4.0->langchain-chroma->ibm_granite_community==0.1.0) (3.0.0)\n",
      "Requirement already satisfied: pygments<3.0.0,>=2.13.0 in /Users/pingel/git_repos/github.com/ibm-granite-community/granite-code-cookbook/venv/lib/python3.11/site-packages (from rich>=10.11.0->chromadb!=0.5.4,!=0.5.5,<0.6.0,>=0.4.0->langchain-chroma->ibm_granite_community==0.1.0) (2.18.0)\n",
      "Requirement already satisfied: networkx in /Users/pingel/git_repos/github.com/ibm-granite-community/granite-code-cookbook/venv/lib/python3.11/site-packages (from torch>=1.11.0->sentence-transformers>=2.6.0->langchain-huggingface->ibm_granite_community==0.1.0) (3.3)\n",
      "Requirement already satisfied: jinja2 in /Users/pingel/git_repos/github.com/ibm-granite-community/granite-code-cookbook/venv/lib/python3.11/site-packages (from torch>=1.11.0->sentence-transformers>=2.6.0->langchain-huggingface->ibm_granite_community==0.1.0) (3.1.4)\n",
      "Requirement already satisfied: click>=8.0.0 in /Users/pingel/git_repos/github.com/ibm-granite-community/granite-code-cookbook/venv/lib/python3.11/site-packages (from typer>=0.9.0->chromadb!=0.5.4,!=0.5.5,<0.6.0,>=0.4.0->langchain-chroma->ibm_granite_community==0.1.0) (8.1.7)\n",
      "Requirement already satisfied: shellingham>=1.3.0 in /Users/pingel/git_repos/github.com/ibm-granite-community/granite-code-cookbook/venv/lib/python3.11/site-packages (from typer>=0.9.0->chromadb!=0.5.4,!=0.5.5,<0.6.0,>=0.4.0->langchain-chroma->ibm_granite_community==0.1.0) (1.5.4)\n",
      "Requirement already satisfied: mypy-extensions>=0.3.0 in /Users/pingel/git_repos/github.com/ibm-granite-community/granite-code-cookbook/venv/lib/python3.11/site-packages (from typing-inspect<1,>=0.4.0->dataclasses-json<0.7,>=0.5.7->langchain-community<0.3.0->ibm_granite_community==0.1.0) (1.0.0)\n",
      "Requirement already satisfied: httptools>=0.5.0 in /Users/pingel/git_repos/github.com/ibm-granite-community/granite-code-cookbook/venv/lib/python3.11/site-packages (from uvicorn[standard]>=0.18.3->chromadb!=0.5.4,!=0.5.5,<0.6.0,>=0.4.0->langchain-chroma->ibm_granite_community==0.1.0) (0.6.1)\n",
      "Requirement already satisfied: uvloop!=0.15.0,!=0.15.1,>=0.14.0 in /Users/pingel/git_repos/github.com/ibm-granite-community/granite-code-cookbook/venv/lib/python3.11/site-packages (from uvicorn[standard]>=0.18.3->chromadb!=0.5.4,!=0.5.5,<0.6.0,>=0.4.0->langchain-chroma->ibm_granite_community==0.1.0) (0.20.0)\n",
      "Requirement already satisfied: watchfiles>=0.13 in /Users/pingel/git_repos/github.com/ibm-granite-community/granite-code-cookbook/venv/lib/python3.11/site-packages (from uvicorn[standard]>=0.18.3->chromadb!=0.5.4,!=0.5.5,<0.6.0,>=0.4.0->langchain-chroma->ibm_granite_community==0.1.0) (0.24.0)\n",
      "Requirement already satisfied: websockets>=10.4 in /Users/pingel/git_repos/github.com/ibm-granite-community/granite-code-cookbook/venv/lib/python3.11/site-packages (from uvicorn[standard]>=0.18.3->chromadb!=0.5.4,!=0.5.5,<0.6.0,>=0.4.0->langchain-chroma->ibm_granite_community==0.1.0) (13.1)\n",
      "Requirement already satisfied: joblib>=1.2.0 in /Users/pingel/git_repos/github.com/ibm-granite-community/granite-code-cookbook/venv/lib/python3.11/site-packages (from scikit-learn->sentence-transformers>=2.6.0->langchain-huggingface->ibm_granite_community==0.1.0) (1.4.2)\n",
      "Requirement already satisfied: threadpoolctl>=3.1.0 in /Users/pingel/git_repos/github.com/ibm-granite-community/granite-code-cookbook/venv/lib/python3.11/site-packages (from scikit-learn->sentence-transformers>=2.6.0->langchain-huggingface->ibm_granite_community==0.1.0) (3.5.0)\n",
      "Requirement already satisfied: cachetools<6.0,>=2.0.0 in /Users/pingel/git_repos/github.com/ibm-granite-community/granite-code-cookbook/venv/lib/python3.11/site-packages (from google-auth>=1.0.1->kubernetes>=28.1.0->chromadb!=0.5.4,!=0.5.5,<0.6.0,>=0.4.0->langchain-chroma->ibm_granite_community==0.1.0) (5.5.0)\n",
      "Requirement already satisfied: pyasn1-modules>=0.2.1 in /Users/pingel/git_repos/github.com/ibm-granite-community/granite-code-cookbook/venv/lib/python3.11/site-packages (from google-auth>=1.0.1->kubernetes>=28.1.0->chromadb!=0.5.4,!=0.5.5,<0.6.0,>=0.4.0->langchain-chroma->ibm_granite_community==0.1.0) (0.4.1)\n",
      "Requirement already satisfied: rsa<5,>=3.1.4 in /Users/pingel/git_repos/github.com/ibm-granite-community/granite-code-cookbook/venv/lib/python3.11/site-packages (from google-auth>=1.0.1->kubernetes>=28.1.0->chromadb!=0.5.4,!=0.5.5,<0.6.0,>=0.4.0->langchain-chroma->ibm_granite_community==0.1.0) (4.9)\n",
      "Requirement already satisfied: mdurl~=0.1 in /Users/pingel/git_repos/github.com/ibm-granite-community/granite-code-cookbook/venv/lib/python3.11/site-packages (from markdown-it-py>=2.2.0->rich>=10.11.0->chromadb!=0.5.4,!=0.5.5,<0.6.0,>=0.4.0->langchain-chroma->ibm_granite_community==0.1.0) (0.1.2)\n",
      "Requirement already satisfied: humanfriendly>=9.1 in /Users/pingel/git_repos/github.com/ibm-granite-community/granite-code-cookbook/venv/lib/python3.11/site-packages (from coloredlogs->onnxruntime>=1.14.1->chromadb!=0.5.4,!=0.5.5,<0.6.0,>=0.4.0->langchain-chroma->ibm_granite_community==0.1.0) (10.0)\n",
      "Requirement already satisfied: MarkupSafe>=2.0 in /Users/pingel/git_repos/github.com/ibm-granite-community/granite-code-cookbook/venv/lib/python3.11/site-packages (from jinja2->torch>=1.11.0->sentence-transformers>=2.6.0->langchain-huggingface->ibm_granite_community==0.1.0) (2.1.5)\n",
      "Requirement already satisfied: mpmath<1.4,>=1.1.0 in /Users/pingel/git_repos/github.com/ibm-granite-community/granite-code-cookbook/venv/lib/python3.11/site-packages (from sympy->onnxruntime>=1.14.1->chromadb!=0.5.4,!=0.5.5,<0.6.0,>=0.4.0->langchain-chroma->ibm_granite_community==0.1.0) (1.3.0)\n",
      "Requirement already satisfied: pyasn1<0.7.0,>=0.4.6 in /Users/pingel/git_repos/github.com/ibm-granite-community/granite-code-cookbook/venv/lib/python3.11/site-packages (from pyasn1-modules>=0.2.1->google-auth>=1.0.1->kubernetes>=28.1.0->chromadb!=0.5.4,!=0.5.5,<0.6.0,>=0.4.0->langchain-chroma->ibm_granite_community==0.1.0) (0.6.1)\n",
      "\n",
      "\u001b[1m[\u001b[0m\u001b[34;49mnotice\u001b[0m\u001b[1;39;49m]\u001b[0m\u001b[39;49m A new release of pip is available: \u001b[0m\u001b[31;49m23.1.2\u001b[0m\u001b[39;49m -> \u001b[0m\u001b[32;49m24.2\u001b[0m\n",
      "\u001b[1m[\u001b[0m\u001b[34;49mnotice\u001b[0m\u001b[1;39;49m]\u001b[0m\u001b[39;49m To update, run: \u001b[0m\u001b[32;49mpip install --upgrade pip\u001b[0m\n"
     ]
    }
   ],
   "source": [
    "!pip install git+https://github.com/ibm-granite-community/utils"
   ]
  },
  {
   "cell_type": "markdown",
   "id": "6ab1f48d-a625-4210-80ef-a505c728b331",
   "metadata": {},
   "source": [
    "## Using a Remote Model on Replicate"
   ]
  },
  {
   "cell_type": "markdown",
   "id": "3386acab-a8c6-41cc-b9b8-e20494ca4828",
   "metadata": {},
   "source": [
    "### Establish Replicate Account\n",
    "\n",
    "To use this remote option, create an account at [Replicate](https://replicate.com)."
   ]
  },
  {
   "cell_type": "markdown",
   "id": "0b3ab4d4-b6ee-4bac-8969-46b0204169af",
   "metadata": {},
   "source": [
    "### Add credit to your Replicate Account (optional)\n",
    "\n",
    "To remove a barrier to entry to try the Granite Code models on the Replicate platform,\n",
    "use [this link](https://replicate.com/invites/a8717bfe-2f3d-4a52-88ed-1356231cdf03) to add a\n",
    "small amount of credit to your Replicate account."
   ]
  },
  {
   "cell_type": "markdown",
   "id": "2a3c0dce-3630-4408-bd51-23db676874cf",
   "metadata": {},
   "source": [
    "### Provide your API Token\n",
    "\n",
    "Obtain your `REPLICATE_API_TOKEN` at [replicate.com/account/api-tokens](https://replicate.com/account/api-tokens)\n",
    "\n",
    "There are three ways to provide this value to the cells below.  In order of precedence:\n",
    "\n",
    "1. As an environment variable\n",
    "2. As a Google colab secret\n",
    "3. Supplied by the user using `getpass()`"
   ]
  },
  {
   "cell_type": "code",
   "execution_count": null,
   "id": "a3a74c9d-6925-4045-ac4a-220e19c1df0c",
   "metadata": {},
   "outputs": [],
   "source": [
    "from ibm_granite_community.notebook_utils import get_env_var\n",
    "import os\n",
    "\n",
    "os.environ[\"REPLICATE_API_TOKEN\"] = get_env_var('REPLICATE_API_TOKEN')"
   ]
  },
  {
   "cell_type": "markdown",
   "id": "0db3e69f-82cb-424d-8358-d981453aab93",
   "metadata": {},
   "source": [
    "### Choose a Model\n",
    "\n",
    "Two Granite Code models are available in the [`ibm-granite`](https://replicate.com/ibm-granite) org at Replicate.\n"
   ]
  },
  {
   "cell_type": "code",
   "execution_count": null,
   "id": "2eeb4c2e-ec15-4b73-8229-35dae503115c",
   "metadata": {},
   "outputs": [],
   "source": [
    "model_id = \"ibm-granite/granite-8b-code-instruct-128k\"\n",
    "# model_id = \"ibm-granite/granite-20b-code-instruct-8k\""
   ]
  },
  {
   "cell_type": "markdown",
   "id": "d9a8ef60",
   "metadata": {},
   "source": [
    "### Instantiate the model client\n",
    "\n",
    "Use the Langchain client to connect to the Granite Code LLM on Replicate."
   ]
  },
  {
   "cell_type": "code",
   "execution_count": null,
   "id": "b4cb9b74",
   "metadata": {},
   "outputs": [],
   "source": [
    "from langchain_community.llms import Replicate\n",
    "\n",
    "model = Replicate(\n",
    "    model=model_id,\n",
    "    model_kwargs={},\n",
    ")"
   ]
  },
  {
   "cell_type": "markdown",
   "id": "d6bcc704-3cab-4da5-8ada-9032d5bafdb4",
   "metadata": {},
   "source": [
    "### Perform Inference\n",
    "\n",
    "Define a prompt and invoke the granite model on Replicate."
   ]
  },
  {
   "cell_type": "code",
   "execution_count": null,
   "id": "79a5b2e1-f7eb-4de3-bfb9-f049b0c3fe10",
   "metadata": {},
   "outputs": [],
   "source": [
    "prompt = \"\"\"\n",
    "    Show me a SQL query that fetches all columns for the first 50 rows\n",
    "    in a table named 'users'.\"\"\"\n",
    "\n",
    "response = model.invoke(prompt)\n",
    "\n",
    "print(f\"Granite response from Replicate:\\n\\n{response}\")"
   ]
  }
 ],
 "metadata": {
  "kernelspec": {
   "display_name": "Python 3 (ipykernel)",
   "language": "python",
   "name": "python3"
  },
  "language_info": {
   "codemirror_mode": {
    "name": "ipython",
    "version": 3
   },
   "file_extension": ".py",
   "mimetype": "text/x-python",
   "name": "python",
   "nbconvert_exporter": "python",
   "pygments_lexer": "ipython3",
   "version": "3.11.4"
  }
 },
 "nbformat": 4,
 "nbformat_minor": 5
}
