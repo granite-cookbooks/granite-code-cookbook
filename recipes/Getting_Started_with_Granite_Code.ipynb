{
 "cells": [
  {
   "cell_type": "markdown",
   "id": "3e98b2a4-cf47-4523-bd07-827683728d31",
   "metadata": {},
   "source": [
    "# Getting Started with Granite Code"
   ]
  },
  {
   "cell_type": "markdown",
   "id": "00a45854-f221-466b-a0b4-78effeae9f41",
   "metadata": {},
   "source": [
    "## Introduction\n"
   ]
  },
  {
   "cell_type": "markdown",
   "id": "fe10934b-14de-4b36-a251-1178a3ada873",
   "metadata": {},
   "source": [
    "## Using a local model"
   ]
  },
  {
   "cell_type": "code",
   "execution_count": null,
   "id": "f29cf3fd-50b0-45d6-8588-a6ffc3d51da9",
   "metadata": {},
   "outputs": [],
   "source": []
  },
  {
   "cell_type": "code",
   "execution_count": null,
   "id": "cfc017ba-fe00-43a4-9299-d4610946076d",
   "metadata": {},
   "outputs": [],
   "source": []
  },
  {
   "cell_type": "markdown",
   "id": "2a3c0dce-3630-4408-bd51-23db676874cf",
   "metadata": {},
   "source": [
    "## Using a remotely-hosted model\n",
    "\n",
    "The Granite Code models are available on [Replicate](https://replicate.com/).\n",
    "\n",
    "At the moment, they are only available to members of the Granite Code team.\n",
    "Request an invite to get access.\n",
    "\n",
    "This guide will demonstrate a basic inference call using the `replicate` package as well\n",
    "as via LangChain.\n",
    "In both cases, you will provide a [Replicate API Token](https://replicate.com/account/api-tokens).\n"
   ]
  },
  {
   "cell_type": "code",
   "execution_count": 1,
   "id": "dc5fa737-fbd4-422e-bed5-efae32e8c736",
   "metadata": {},
   "outputs": [],
   "source": [
    "import getpass, os\n",
    "\n",
    "replicate_api_token = getpass.getpass()\n",
    "\n",
    "os.environ[\"REPLICATE_API_TOKEN\"] = replicate_api_token\n"
   ]
  },
  {
   "cell_type": "markdown",
   "id": "5465c776-857f-48ec-ad32-40f5d6577c3a",
   "metadata": {},
   "source": [
    "We will keep the model constant through the guide as well.\n",
    "Replicate distinguishes between a \"deployment\" of a model from a \"model\".\n",
    "In this case, we want to specify the Granite Code development deployment."
   ]
  },
  {
   "cell_type": "code",
   "execution_count": 2,
   "id": "2eeb4c2e-ec15-4b73-8229-35dae503115c",
   "metadata": {},
   "outputs": [],
   "source": [
    "deployment_id = \"ibm/granite-dev\"\n",
    "\n",
    "model_id = \"ibm/granite-8b-code-instruct:50da94a0b1b5d28e3161d1312077d856eb673b87e633438362e4820fed563444\""
   ]
  },
  {
   "cell_type": "markdown",
   "id": "b4497b8b-786f-4b40-b0c9-0c12ad180219",
   "metadata": {},
   "source": [
    "Let's also keep the prompt constant for now so we can focus on the inference calls:"
   ]
  },
  {
   "cell_type": "code",
   "execution_count": 3,
   "id": "02f99de7-ff2e-4ae4-b1f2-1ac4453b4c19",
   "metadata": {},
   "outputs": [],
   "source": [
    "prompt = \"def f(x):\""
   ]
  },
  {
   "cell_type": "markdown",
   "id": "cd20e206-40b8-4f45-a7a3-6e22d1c76c90",
   "metadata": {},
   "source": [
    "### Replicate package"
   ]
  },
  {
   "cell_type": "code",
   "execution_count": 4,
   "id": "4dcdf174-6f25-432c-b2d6-6370f4eff98b",
   "metadata": {
    "collapsed": true,
    "jupyter": {
     "outputs_hidden": true
    },
    "scrolled": true
   },
   "outputs": [
    {
     "name": "stdout",
     "output_type": "stream",
     "text": [
      "Requirement already satisfied: replicate in /Users/anupamchakraborty/Code/granite-code-cookbook/.codecb_env/lib/python3.11/site-packages (0.31.0)\n",
      "Requirement already satisfied: httpx<1,>=0.21.0 in /Users/anupamchakraborty/Code/granite-code-cookbook/.codecb_env/lib/python3.11/site-packages (from replicate) (0.27.0)\n",
      "Requirement already satisfied: packaging in /Users/anupamchakraborty/Code/granite-code-cookbook/.codecb_env/lib/python3.11/site-packages (from replicate) (24.1)\n",
      "Requirement already satisfied: pydantic>1.10.7 in /Users/anupamchakraborty/Code/granite-code-cookbook/.codecb_env/lib/python3.11/site-packages (from replicate) (2.8.2)\n",
      "Requirement already satisfied: typing-extensions>=4.5.0 in /Users/anupamchakraborty/Code/granite-code-cookbook/.codecb_env/lib/python3.11/site-packages (from replicate) (4.12.2)\n",
      "Requirement already satisfied: anyio in /Users/anupamchakraborty/Code/granite-code-cookbook/.codecb_env/lib/python3.11/site-packages (from httpx<1,>=0.21.0->replicate) (4.4.0)\n",
      "Requirement already satisfied: certifi in /Users/anupamchakraborty/Code/granite-code-cookbook/.codecb_env/lib/python3.11/site-packages (from httpx<1,>=0.21.0->replicate) (2024.7.4)\n",
      "Requirement already satisfied: httpcore==1.* in /Users/anupamchakraborty/Code/granite-code-cookbook/.codecb_env/lib/python3.11/site-packages (from httpx<1,>=0.21.0->replicate) (1.0.5)\n",
      "Requirement already satisfied: idna in /Users/anupamchakraborty/Code/granite-code-cookbook/.codecb_env/lib/python3.11/site-packages (from httpx<1,>=0.21.0->replicate) (3.7)\n",
      "Requirement already satisfied: sniffio in /Users/anupamchakraborty/Code/granite-code-cookbook/.codecb_env/lib/python3.11/site-packages (from httpx<1,>=0.21.0->replicate) (1.3.1)\n",
      "Requirement already satisfied: h11<0.15,>=0.13 in /Users/anupamchakraborty/Code/granite-code-cookbook/.codecb_env/lib/python3.11/site-packages (from httpcore==1.*->httpx<1,>=0.21.0->replicate) (0.14.0)\n",
      "Requirement already satisfied: annotated-types>=0.4.0 in /Users/anupamchakraborty/Code/granite-code-cookbook/.codecb_env/lib/python3.11/site-packages (from pydantic>1.10.7->replicate) (0.7.0)\n",
      "Requirement already satisfied: pydantic-core==2.20.1 in /Users/anupamchakraborty/Code/granite-code-cookbook/.codecb_env/lib/python3.11/site-packages (from pydantic>1.10.7->replicate) (2.20.1)\n",
      "\n",
      "\u001b[1m[\u001b[0m\u001b[34;49mnotice\u001b[0m\u001b[1;39;49m]\u001b[0m\u001b[39;49m A new release of pip is available: \u001b[0m\u001b[31;49m23.2.1\u001b[0m\u001b[39;49m -> \u001b[0m\u001b[32;49m24.2\u001b[0m\n",
      "\u001b[1m[\u001b[0m\u001b[34;49mnotice\u001b[0m\u001b[1;39;49m]\u001b[0m\u001b[39;49m To update, run: \u001b[0m\u001b[32;49mpip install --upgrade pip\u001b[0m\n"
     ]
    }
   ],
   "source": [
    "!pip install replicate"
   ]
  },
  {
   "cell_type": "code",
   "execution_count": 5,
   "id": "65423430-1e61-4ed8-8396-3f96860463fe",
   "metadata": {},
   "outputs": [],
   "source": [
    "import replicate"
   ]
  },
  {
   "cell_type": "code",
   "execution_count": 6,
   "id": "736d4153-3900-473c-a46b-d5e326dfb929",
   "metadata": {},
   "outputs": [
    {
     "name": "stdout",
     "output_type": "stream",
     "text": [
      "['System:\\nYou are a helpful assistant\\n\\nQuestion:\\ndef f(x):\\n\\nAnswer:\\ndef f(x):\\n    return x*x<|endoftext|>']\n"
     ]
    }
   ],
   "source": [
    "deployment = replicate.deployments.get(deployment_id)\n",
    "\n",
    "prediction = deployment.predictions.create(\n",
    "  input={\"prompt\": prompt}\n",
    ")\n",
    "\n",
    "prediction.wait()\n",
    "\n",
    "print(prediction.output)\n"
   ]
  },
  {
   "cell_type": "markdown",
   "id": "8f6b04ff-1750-425f-a677-ac31715b4388",
   "metadata": {},
   "source": [
    "### Using Granite Code hosted on Replicate from LangChain"
   ]
  },
  {
   "cell_type": "markdown",
   "id": "246b83c6-a7fc-4e83-a000-4f18c9d42f1f",
   "metadata": {},
   "source": [
    "See https://python.langchain.com/v0.2/docs/integrations/providers/replicate/\n",
    "\n",
    "See https://python.langchain.com/v0.2/docs/integrations/llms/replicate/"
   ]
  },
  {
   "cell_type": "code",
   "execution_count": 7,
   "id": "a2b30d2d",
   "metadata": {},
   "outputs": [
    {
     "name": "stdout",
     "output_type": "stream",
     "text": [
      "Requirement already satisfied: langchain_community in /Users/anupamchakraborty/Code/granite-code-cookbook/.codecb_env/lib/python3.11/site-packages (0.2.11)\n",
      "Requirement already satisfied: PyYAML>=5.3 in /Users/anupamchakraborty/Code/granite-code-cookbook/.codecb_env/lib/python3.11/site-packages (from langchain_community) (6.0.2)\n",
      "Requirement already satisfied: SQLAlchemy<3,>=1.4 in /Users/anupamchakraborty/Code/granite-code-cookbook/.codecb_env/lib/python3.11/site-packages (from langchain_community) (2.0.32)\n",
      "Requirement already satisfied: aiohttp<4.0.0,>=3.8.3 in /Users/anupamchakraborty/Code/granite-code-cookbook/.codecb_env/lib/python3.11/site-packages (from langchain_community) (3.10.1)\n",
      "Requirement already satisfied: dataclasses-json<0.7,>=0.5.7 in /Users/anupamchakraborty/Code/granite-code-cookbook/.codecb_env/lib/python3.11/site-packages (from langchain_community) (0.6.7)\n",
      "Requirement already satisfied: langchain<0.3.0,>=0.2.12 in /Users/anupamchakraborty/Code/granite-code-cookbook/.codecb_env/lib/python3.11/site-packages (from langchain_community) (0.2.12)\n",
      "Requirement already satisfied: langchain-core<0.3.0,>=0.2.27 in /Users/anupamchakraborty/Code/granite-code-cookbook/.codecb_env/lib/python3.11/site-packages (from langchain_community) (0.2.28)\n",
      "Requirement already satisfied: langsmith<0.2.0,>=0.1.0 in /Users/anupamchakraborty/Code/granite-code-cookbook/.codecb_env/lib/python3.11/site-packages (from langchain_community) (0.1.98)\n",
      "Requirement already satisfied: numpy<2,>=1 in /Users/anupamchakraborty/Code/granite-code-cookbook/.codecb_env/lib/python3.11/site-packages (from langchain_community) (1.26.4)\n",
      "Requirement already satisfied: requests<3,>=2 in /Users/anupamchakraborty/Code/granite-code-cookbook/.codecb_env/lib/python3.11/site-packages (from langchain_community) (2.32.3)\n",
      "Requirement already satisfied: tenacity!=8.4.0,<9.0.0,>=8.1.0 in /Users/anupamchakraborty/Code/granite-code-cookbook/.codecb_env/lib/python3.11/site-packages (from langchain_community) (8.5.0)\n",
      "Requirement already satisfied: aiohappyeyeballs>=2.3.0 in /Users/anupamchakraborty/Code/granite-code-cookbook/.codecb_env/lib/python3.11/site-packages (from aiohttp<4.0.0,>=3.8.3->langchain_community) (2.3.4)\n",
      "Requirement already satisfied: aiosignal>=1.1.2 in /Users/anupamchakraborty/Code/granite-code-cookbook/.codecb_env/lib/python3.11/site-packages (from aiohttp<4.0.0,>=3.8.3->langchain_community) (1.3.1)\n",
      "Requirement already satisfied: attrs>=17.3.0 in /Users/anupamchakraborty/Code/granite-code-cookbook/.codecb_env/lib/python3.11/site-packages (from aiohttp<4.0.0,>=3.8.3->langchain_community) (24.2.0)\n",
      "Requirement already satisfied: frozenlist>=1.1.1 in /Users/anupamchakraborty/Code/granite-code-cookbook/.codecb_env/lib/python3.11/site-packages (from aiohttp<4.0.0,>=3.8.3->langchain_community) (1.4.1)\n",
      "Requirement already satisfied: multidict<7.0,>=4.5 in /Users/anupamchakraborty/Code/granite-code-cookbook/.codecb_env/lib/python3.11/site-packages (from aiohttp<4.0.0,>=3.8.3->langchain_community) (6.0.5)\n",
      "Requirement already satisfied: yarl<2.0,>=1.0 in /Users/anupamchakraborty/Code/granite-code-cookbook/.codecb_env/lib/python3.11/site-packages (from aiohttp<4.0.0,>=3.8.3->langchain_community) (1.9.4)\n",
      "Requirement already satisfied: marshmallow<4.0.0,>=3.18.0 in /Users/anupamchakraborty/Code/granite-code-cookbook/.codecb_env/lib/python3.11/site-packages (from dataclasses-json<0.7,>=0.5.7->langchain_community) (3.21.3)\n",
      "Requirement already satisfied: typing-inspect<1,>=0.4.0 in /Users/anupamchakraborty/Code/granite-code-cookbook/.codecb_env/lib/python3.11/site-packages (from dataclasses-json<0.7,>=0.5.7->langchain_community) (0.9.0)\n",
      "Requirement already satisfied: langchain-text-splitters<0.3.0,>=0.2.0 in /Users/anupamchakraborty/Code/granite-code-cookbook/.codecb_env/lib/python3.11/site-packages (from langchain<0.3.0,>=0.2.12->langchain_community) (0.2.2)\n",
      "Requirement already satisfied: pydantic<3,>=1 in /Users/anupamchakraborty/Code/granite-code-cookbook/.codecb_env/lib/python3.11/site-packages (from langchain<0.3.0,>=0.2.12->langchain_community) (2.8.2)\n",
      "Requirement already satisfied: jsonpatch<2.0,>=1.33 in /Users/anupamchakraborty/Code/granite-code-cookbook/.codecb_env/lib/python3.11/site-packages (from langchain-core<0.3.0,>=0.2.27->langchain_community) (1.33)\n",
      "Requirement already satisfied: packaging<25,>=23.2 in /Users/anupamchakraborty/Code/granite-code-cookbook/.codecb_env/lib/python3.11/site-packages (from langchain-core<0.3.0,>=0.2.27->langchain_community) (24.1)\n",
      "Requirement already satisfied: typing-extensions>=4.7 in /Users/anupamchakraborty/Code/granite-code-cookbook/.codecb_env/lib/python3.11/site-packages (from langchain-core<0.3.0,>=0.2.27->langchain_community) (4.12.2)\n",
      "Requirement already satisfied: orjson<4.0.0,>=3.9.14 in /Users/anupamchakraborty/Code/granite-code-cookbook/.codecb_env/lib/python3.11/site-packages (from langsmith<0.2.0,>=0.1.0->langchain_community) (3.10.6)\n",
      "Requirement already satisfied: charset-normalizer<4,>=2 in /Users/anupamchakraborty/Code/granite-code-cookbook/.codecb_env/lib/python3.11/site-packages (from requests<3,>=2->langchain_community) (3.3.2)\n",
      "Requirement already satisfied: idna<4,>=2.5 in /Users/anupamchakraborty/Code/granite-code-cookbook/.codecb_env/lib/python3.11/site-packages (from requests<3,>=2->langchain_community) (3.7)\n",
      "Requirement already satisfied: urllib3<3,>=1.21.1 in /Users/anupamchakraborty/Code/granite-code-cookbook/.codecb_env/lib/python3.11/site-packages (from requests<3,>=2->langchain_community) (2.2.2)\n",
      "Requirement already satisfied: certifi>=2017.4.17 in /Users/anupamchakraborty/Code/granite-code-cookbook/.codecb_env/lib/python3.11/site-packages (from requests<3,>=2->langchain_community) (2024.7.4)\n",
      "Requirement already satisfied: jsonpointer>=1.9 in /Users/anupamchakraborty/Code/granite-code-cookbook/.codecb_env/lib/python3.11/site-packages (from jsonpatch<2.0,>=1.33->langchain-core<0.3.0,>=0.2.27->langchain_community) (3.0.0)\n",
      "Requirement already satisfied: annotated-types>=0.4.0 in /Users/anupamchakraborty/Code/granite-code-cookbook/.codecb_env/lib/python3.11/site-packages (from pydantic<3,>=1->langchain<0.3.0,>=0.2.12->langchain_community) (0.7.0)\n",
      "Requirement already satisfied: pydantic-core==2.20.1 in /Users/anupamchakraborty/Code/granite-code-cookbook/.codecb_env/lib/python3.11/site-packages (from pydantic<3,>=1->langchain<0.3.0,>=0.2.12->langchain_community) (2.20.1)\n",
      "Requirement already satisfied: mypy-extensions>=0.3.0 in /Users/anupamchakraborty/Code/granite-code-cookbook/.codecb_env/lib/python3.11/site-packages (from typing-inspect<1,>=0.4.0->dataclasses-json<0.7,>=0.5.7->langchain_community) (1.0.0)\n",
      "\n",
      "\u001b[1m[\u001b[0m\u001b[34;49mnotice\u001b[0m\u001b[1;39;49m]\u001b[0m\u001b[39;49m A new release of pip is available: \u001b[0m\u001b[31;49m23.2.1\u001b[0m\u001b[39;49m -> \u001b[0m\u001b[32;49m24.2\u001b[0m\n",
      "\u001b[1m[\u001b[0m\u001b[34;49mnotice\u001b[0m\u001b[1;39;49m]\u001b[0m\u001b[39;49m To update, run: \u001b[0m\u001b[32;49mpip install --upgrade pip\u001b[0m\n"
     ]
    }
   ],
   "source": [
    "!pip install langchain_community"
   ]
  },
  {
   "cell_type": "code",
   "execution_count": 8,
   "id": "94f036ed-f12c-4409-b474-a8ef5ce6e8c2",
   "metadata": {},
   "outputs": [],
   "source": [
    "from langchain_community.llms import Replicate\n",
    "\n",
    "model = Replicate(model=model_id,\n",
    "                  model_kwargs={\"max_length\": 100},)"
   ]
  },
  {
   "cell_type": "code",
   "execution_count": 9,
   "id": "13445753-e887-4146-a732-0685046e9cec",
   "metadata": {},
   "outputs": [
    {
     "name": "stderr",
     "output_type": "stream",
     "text": [
      "/Users/anupamchakraborty/Code/granite-code-cookbook/.codecb_env/lib/python3.11/site-packages/langchain_core/_api/deprecation.py:139: LangChainDeprecationWarning: The method `BaseLLM.__call__` was deprecated in langchain-core 0.1.7 and will be removed in 0.3.0. Use invoke instead.\n",
      "  warn_deprecated(\n"
     ]
    },
    {
     "data": {
      "text/plain": [
       "'System:\\nYou are a helpful assistant\\n\\nQuestion:\\ndef f(x):\\n\\nAnswer:\\ndef f(x):\\n    return x*x<|endoftext|>'"
      ]
     },
     "execution_count": 9,
     "metadata": {},
     "output_type": "execute_result"
    }
   ],
   "source": [
    "model(prompt)"
   ]
  },
  {
   "cell_type": "code",
   "execution_count": null,
   "id": "54337192",
   "metadata": {},
   "outputs": [],
   "source": []
  }
 ],
 "metadata": {
  "kernelspec": {
   "display_name": "Python 3 (ipykernel)",
   "language": "python",
   "name": "python3"
  },
  "language_info": {
   "codemirror_mode": {
    "name": "ipython",
    "version": 3
   },
   "file_extension": ".py",
   "mimetype": "text/x-python",
   "name": "python",
   "nbconvert_exporter": "python",
   "pygments_lexer": "ipython3",
   "version": "3.11.7"
  }
 },
 "nbformat": 4,
 "nbformat_minor": 5
}
