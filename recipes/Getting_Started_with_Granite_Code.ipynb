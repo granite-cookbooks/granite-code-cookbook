{
 "cells": [
  {
   "cell_type": "markdown",
   "id": "3e98b2a4-cf47-4523-bd07-827683728d31",
   "metadata": {},
   "source": [
    "# Getting Started with Granite Code"
   ]
  },
  {
   "cell_type": "markdown",
   "id": "00a45854-f221-466b-a0b4-78effeae9f41",
   "metadata": {},
   "source": [
    "## Introduction\n",
    "\n",
    "This notebook demonstrates using inference calls against a model hosted on [Replicate](https://replicate.com/). To see how you can use [Ollama](https://ollama.com/) to host models locally instead, see the [Continue VSCode](Continue_VSCode/Continue_VSCode.ipynb) recipe."
   ]
  },
  {
   "cell_type": "markdown",
   "id": "2a3c0dce-3630-4408-bd51-23db676874cf",
   "metadata": {},
   "source": [
    "## Using a remotely-hosted model\n",
    "\n",
    "The Granite Code models are available on [Replicate](https://replicate.com/).\n",
    "\n",
    "At the moment, they are only available to members of the Granite Code team.\n",
    "Request an invite to get access.\n",
    "\n",
    "This guide will demonstrate a basic inference call using the `replicate` package as well\n",
    "as via LangChain.\n",
    "In both cases, you will provide a [Replicate API Token](https://replicate.com/account/api-tokens).\n"
   ]
  },
  {
   "cell_type": "code",
   "execution_count": 6,
   "id": "dc5fa737-fbd4-422e-bed5-efae32e8c736",
   "metadata": {},
   "outputs": [
    {
     "name": "stdin",
     "output_type": "stream",
     "text": [
      " ········\n"
     ]
    }
   ],
   "source": [
    "import getpass, os\n",
    "\n",
    "replicate_api_token = getpass.getpass()\n",
    "\n",
    "os.environ[\"REPLICATE_API_TOKEN\"] = replicate_api_token\n"
   ]
  },
  {
   "cell_type": "markdown",
   "id": "5465c776-857f-48ec-ad32-40f5d6577c3a",
   "metadata": {},
   "source": [
    "We will keep the model constant through the guide as well.\n",
    "Replicate distinguishes between a \"deployment\" of a model from a \"model\".\n",
    "In this case, we want to specify the Granite Code development deployment."
   ]
  },
  {
   "cell_type": "code",
   "execution_count": 7,
   "id": "2eeb4c2e-ec15-4b73-8229-35dae503115c",
   "metadata": {},
   "outputs": [],
   "source": [
    "deployment_name = \"ibm-granite/granite-code-20b\" #because joe is working on the 8b atm"
   ]
  },
  {
   "cell_type": "markdown",
   "id": "cd20e206-40b8-4f45-a7a3-6e22d1c76c90",
   "metadata": {},
   "source": [
    "### Replicate package"
   ]
  },
  {
   "cell_type": "code",
   "execution_count": 10,
   "id": "cc010f56-b975-48ce-ba52-6d248fe6d4de",
   "metadata": {},
   "outputs": [],
   "source": [
    "import replicate\n"
   ]
  },
  {
   "cell_type": "markdown",
   "id": "39f2db6c-f3cc-48a1-94c8-d12849446a77",
   "metadata": {},
   "source": [
    "### Connect to Replicate and Model Deployment"
   ]
  },
  {
   "cell_type": "code",
   "execution_count": 11,
   "id": "faeb924c-f39b-4510-b66b-23dc68c5287f",
   "metadata": {},
   "outputs": [],
   "source": [
    "replicate_client = replicate.Client(api_token=replicate_api_token)\n",
    "\n",
    "deployment = replicate_client.deployments.get(deployment_name)"
   ]
  },
  {
   "cell_type": "code",
   "execution_count": 12,
   "id": "02f99de7-ff2e-4ae4-b1f2-1ac4453b4c19",
   "metadata": {},
   "outputs": [],
   "source": [
    "prompt = \"\"\"\n",
    "    Show me a SQL query that fetches all columns for the first 50 rows\n",
    "    in a table named 'users'.\"\"\""
   ]
  },
  {
   "cell_type": "code",
   "execution_count": 14,
   "id": "c94b2cce-4766-4bb6-bf6b-12a022f739c4",
   "metadata": {},
   "outputs": [
    {
     "name": "stdout",
     "output_type": "stream",
     "text": [
      "Sure! Here's a SQL query that should do the trick:\n",
      "```\n",
      "SELECT *\n",
      "FROM users\n",
      "LIMIT 50;\n",
      "```\n",
      "This query selects all columns (`*`) from the `users` table and limits the result set to the first 50 rows using the `LIMIT` clause. \n"
     ]
    }
   ],
   "source": [
    "prediction = deployment.predictions.create(input={'prompt': prompt})\n",
    "\n",
    "prediction.wait()\n",
    "\n",
    "print(''.join(prediction.output))"
   ]
  },
  {
   "cell_type": "markdown",
   "id": "238f7668",
   "metadata": {},
   "source": [
    "### Pass the prompt to the model for completion"
   ]
  },
  {
   "cell_type": "code",
   "execution_count": 31,
   "id": "59385cd8-cea8-48cf-bee9-dbbdd082ef5a",
   "metadata": {},
   "outputs": [],
   "source": [
    "prompt = \"\"\"\n",
    "    Show me a SQL query that fetches all columns for the first 50 rows\n",
    "    in a table named 'users'.\"\"\""
   ]
  },
  {
   "cell_type": "code",
   "execution_count": 29,
   "id": "736d4153-3900-473c-a46b-d5e326dfb929",
   "metadata": {},
   "outputs": [
    {
     "name": "stdout",
     "output_type": "stream",
     "text": [
      "[\"System:\\nYou are a helpful assistant\\n\\nQuestion:\\n\\n    Show me a SQL query that fetches all columns for the first 50 rows\\n    in a table named 'users'.\\n\\nAnswer:\\nSure! Here's a SQL query that fetches all columns for the first 50 rows in a table named 'users':\\n```\\nSELECT * FROM users LIMIT 50;\\n```\\nThis query uses the `SELECT` statement to fetch all columns (`*`) from the `users` table. The `LIMIT` clause is used to restrict the result set to the first 50 rows.\\n<|endoftext|>\"]\n"
     ]
    }
   ],
   "source": [
    "model = replicate.models.get(model_name)\n",
    "version = model.versions.get(model_version) #\"797c070dc871d8fca417d7d188cf050778d7ce21a0318d26711a54207e9ee698\")\n",
    "\n",
    "prediction = replicate.predictions.create(\n",
    "  version=version,\n",
    "  input={\"prompt\": prompt}\n",
    ")\n",
    "\n",
    "# The `create` call doesn't block, so we can do other work. Here, we'll just wait.\n",
    "prediction.wait()\n",
    "\n",
    "print(prediction.output)"
   ]
  },
  {
   "cell_type": "markdown",
   "id": "8f07c7f6-d749-4df0-be21-138102942058",
   "metadata": {},
   "source": [
    "Let's make the output easier to read:"
   ]
  },
  {
   "cell_type": "code",
   "execution_count": 30,
   "id": "fa0b4bde-1600-411e-a97c-29ee924ae3d7",
   "metadata": {},
   "outputs": [
    {
     "data": {
      "text/plain": [
       "['System:',\n",
       " 'You are a helpful assistant',\n",
       " '',\n",
       " 'Question:',\n",
       " '',\n",
       " '    Show me a SQL query that fetches all columns for the first 50 rows',\n",
       " \"    in a table named 'users'.\",\n",
       " '',\n",
       " 'Answer:',\n",
       " \"Sure! Here's a SQL query that fetches all columns for the first 50 rows in a table named 'users':\",\n",
       " '```',\n",
       " 'SELECT * FROM users LIMIT 50;',\n",
       " '```',\n",
       " 'This query uses the `SELECT` statement to fetch all columns (`*`) from the `users` table. The `LIMIT` clause is used to restrict the result set to the first 50 rows.',\n",
       " '<|endoftext|>']"
      ]
     },
     "execution_count": 30,
     "metadata": {},
     "output_type": "execute_result"
    }
   ],
   "source": [
    "prediction.output[0].splitlines()"
   ]
  },
  {
   "cell_type": "markdown",
   "id": "0f8d95d3-8139-4bdc-90b7-4c7ce7926e9d",
   "metadata": {},
   "source": [
    "You could also use the `replicate.run` API, but it blocks waiting for results, unlike the `predictions` API:\n",
    "\n",
    "```python\n",
    "output = replicate.run(model_id,\n",
    "    input={\n",
    "        \"system_prompt\": \"You are a helpful assistant\",\n",
    "        \"max_new_tokens\": 100,\n",
    "        \"prompt\": prompt\n",
    "    }\n",
    ")\n",
    "```"
   ]
  },
  {
   "cell_type": "code",
   "execution_count": null,
   "id": "7c333de5-a402-4d5f-a255-60ac40fc5793",
   "metadata": {},
   "outputs": [],
   "source": []
  },
  {
   "cell_type": "code",
   "execution_count": null,
   "id": "bfbd377c-eae7-4897-858d-4c899c0ed760",
   "metadata": {},
   "outputs": [],
   "source": []
  }
 ],
 "metadata": {
  "kernelspec": {
   "display_name": "Python 3 (ipykernel)",
   "language": "python",
   "name": "python3"
  },
  "language_info": {
   "codemirror_mode": {
    "name": "ipython",
    "version": 3
   },
   "file_extension": ".py",
   "mimetype": "text/x-python",
   "name": "python",
   "nbconvert_exporter": "python",
   "pygments_lexer": "ipython3",
   "version": "3.11.4"
  }
 },
 "nbformat": 4,
 "nbformat_minor": 5
}
