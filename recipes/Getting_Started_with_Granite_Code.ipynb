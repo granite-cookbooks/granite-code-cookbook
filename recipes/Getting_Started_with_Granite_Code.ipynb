{
 "cells": [
  {
   "cell_type": "markdown",
   "id": "3e98b2a4-cf47-4523-bd07-827683728d31",
   "metadata": {},
   "source": [
    "# Getting Started with Granite Code"
   ]
  },
  {
   "cell_type": "markdown",
   "id": "00a45854-f221-466b-a0b4-78effeae9f41",
   "metadata": {},
   "source": [
    "## Introduction\n",
    "\n",
    "This notebook demonstrates using inference calls against a model hosted on [Replicate](https://replicate.com/). To see how you can use [Ollama](https://ollama.com/) to host models locally instead, see the [Continue VSCode](Continue_VSCode/Continue_VSCode.ipynb) recipe."
   ]
  },
  {
   "cell_type": "markdown",
   "id": "2a3c0dce-3630-4408-bd51-23db676874cf",
   "metadata": {},
   "source": [
    "## Using a remotely-hosted model\n",
    "\n",
    "The Granite Code models are available on [Replicate](https://replicate.com/).\n",
    "\n",
    "At the moment, they are only available to members of the Granite Code team.\n",
    "Request an invite to get access.\n",
    "\n",
    "This guide will demonstrate a basic inference call using the `replicate` package as well\n",
    "as via LangChain.\n",
    "In both cases, you will provide a [Replicate API Token](https://replicate.com/account/api-tokens).\n"
   ]
  },
  {
   "cell_type": "code",
   "execution_count": null,
   "id": "dc5fa737-fbd4-422e-bed5-efae32e8c736",
   "metadata": {},
   "outputs": [],
   "source": [
    "import getpass, os\n",
    "\n",
    "replicate_api_token = getpass.getpass()\n",
    "\n",
    "os.environ[\"REPLICATE_API_TOKEN\"] = replicate_api_token\n"
   ]
  },
  {
   "cell_type": "markdown",
   "id": "5465c776-857f-48ec-ad32-40f5d6577c3a",
   "metadata": {},
   "source": [
    "We will keep the model constant through the guide as well.\n",
    "Replicate distinguishes between a \"deployment\" of a model from a \"model\".\n",
    "In this case, we want to specify the Granite Code development deployment."
   ]
  },
  {
   "cell_type": "code",
   "execution_count": null,
   "id": "2eeb4c2e-ec15-4b73-8229-35dae503115c",
   "metadata": {},
   "outputs": [],
   "source": [
    "model_id = \"ibm-granite/granite-8b-code-instruct-128k\""
   ]
  },
  {
   "cell_type": "markdown",
   "id": "b4497b8b-786f-4b40-b0c9-0c12ad180219",
   "metadata": {},
   "source": [
    "Let's also keep the prompt constant for now so we can focus on the inference calls:"
   ]
  },
  {
   "cell_type": "code",
   "execution_count": null,
   "id": "02f99de7-ff2e-4ae4-b1f2-1ac4453b4c19",
   "metadata": {},
   "outputs": [],
   "source": [
    "prompt = \"def f(x):\""
   ]
  },
  {
   "cell_type": "markdown",
   "id": "cd20e206-40b8-4f45-a7a3-6e22d1c76c90",
   "metadata": {},
   "source": [
    "### Replicate package"
   ]
  },
  {
   "cell_type": "code",
   "execution_count": null,
   "id": "4dcdf174-6f25-432c-b2d6-6370f4eff98b",
   "metadata": {
    "scrolled": true
   },
   "outputs": [],
   "source": [
    "pip install replicate"
   ]
  },
  {
   "cell_type": "code",
   "execution_count": null,
   "id": "65423430-1e61-4ed8-8396-3f96860463fe",
   "metadata": {},
   "outputs": [],
   "source": [
    "import replicate"
   ]
  },
  {
   "cell_type": "markdown",
   "id": "238f7668",
   "metadata": {},
   "source": [
    "### Pass the prompt to the model for completion"
   ]
  },
  {
   "cell_type": "code",
   "execution_count": null,
   "id": "736d4153-3900-473c-a46b-d5e326dfb929",
   "metadata": {},
   "outputs": [],
   "source": [
    "model = replicate.models.get(model_id)\n",
    "version = model.versions.get(\"797c070dc871d8fca417d7d188cf050778d7ce21a0318d26711a54207e9ee698\")\n",
    "\n",
    "prediction = replicate.predictions.create(\n",
    "  version=version,\n",
    "  input={\"prompt\": prompt}\n",
    ")\n",
    "\n",
    "prediction.wait()\n",
    "\n",
    "print(prediction.output)\n"
   ]
  }
 ],
 "metadata": {
  "kernelspec": {
   "display_name": "Python 3 (ipykernel)",
   "language": "python",
   "name": "python3"
  },
  "language_info": {
   "codemirror_mode": {
    "name": "ipython",
    "version": 3
   },
   "file_extension": ".py",
   "mimetype": "text/x-python",
   "name": "python",
   "nbconvert_exporter": "python",
   "pygments_lexer": "ipython3",
   "version": "3.11.9"
  }
 },
 "nbformat": 4,
 "nbformat_minor": 5
}
