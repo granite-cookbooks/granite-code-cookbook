{
 "cells": [
  {
   "cell_type": "markdown",
   "metadata": {},
   "source": [
    "# Generating Code _from_ Your Tests"
   ]
  },
  {
   "cell_type": "markdown",
   "metadata": {},
   "source": [
    "It's somewhat typical to want to generate unit tests from code, but the _test-driven development_ approach writes the test _first_, then the code. So, let's try that."
   ]
  },
  {
   "cell_type": "markdown",
   "metadata": {},
   "source": [
    "## Setting Up\n",
    "\n",
    "In this notebook, we will use both Ollama running locally and a Granite Code model staged in Replicate."
   ]
  },
  {
   "cell_type": "markdown",
   "metadata": {},
   "source": [
    "### Install dependencies\n",
    "\n",
    "Granite Kitchen comes with a bundle of dependencies that are required for Granite Cookbook recipes. See the list of packages in its [`setup.py`](https://github.com/ibm-granite-community/granite-kitchen/blob/main/setup.py). "
   ]
  },
  {
   "cell_type": "code",
   "execution_count": 1,
   "metadata": {
    "scrolled": true
   },
   "outputs": [
    {
     "name": "stdout",
     "output_type": "stream",
     "text": [
      "Collecting git+https://github.com/ibm-granite-community/granite-kitchen\n",
      "  Cloning https://github.com/ibm-granite-community/granite-kitchen to /private/var/folders/66/rbkl_n1s7sn38mx0sg8p1n600000gn/T/pip-req-build-ltwu8tss\n",
      "  Running command git clone --filter=blob:none --quiet https://github.com/ibm-granite-community/granite-kitchen /private/var/folders/66/rbkl_n1s7sn38mx0sg8p1n600000gn/T/pip-req-build-ltwu8tss\n",
      "  Resolved https://github.com/ibm-granite-community/granite-kitchen to commit cee1513c77429d7ddbf0e5a49b29b7bc9ca0d996\n",
      "  Preparing metadata (setup.py) ... \u001b[?25ldone\n",
      "\u001b[?25hCollecting ibm-granite-community@ git+https://github.com/ibm-granite-community/utils (from granite-kitchen==0.1.0)\n",
      "  Cloning https://github.com/ibm-granite-community/utils to /private/var/folders/66/rbkl_n1s7sn38mx0sg8p1n600000gn/T/pip-install-8g1yxsxw/ibm-granite-community_22e6602c9d934055a2c348e4259ebdc5\n",
      "  Running command git clone --filter=blob:none --quiet https://github.com/ibm-granite-community/utils /private/var/folders/66/rbkl_n1s7sn38mx0sg8p1n600000gn/T/pip-install-8g1yxsxw/ibm-granite-community_22e6602c9d934055a2c348e4259ebdc5\n",
      "  Resolved https://github.com/ibm-granite-community/utils to commit f1902ed1bca6a87a9afa3de33855a1707199d98b\n",
      "  Preparing metadata (setup.py) ... \u001b[?25ldone\n",
      "\u001b[?25hRequirement already satisfied: python-dotenv in /opt/homebrew/Caskroom/miniforge/base/envs/granite-311b/lib/python3.11/site-packages (from granite-kitchen==0.1.0) (1.0.1)\n",
      "Requirement already satisfied: langchain_community<0.3.0 in /opt/homebrew/Caskroom/miniforge/base/envs/granite-311b/lib/python3.11/site-packages (from granite-kitchen==0.1.0) (0.2.17)\n",
      "Requirement already satisfied: langchain_ollama<0.2.0 in /opt/homebrew/Caskroom/miniforge/base/envs/granite-311b/lib/python3.11/site-packages (from granite-kitchen==0.1.0) (0.1.3)\n",
      "Requirement already satisfied: replicate in /opt/homebrew/Caskroom/miniforge/base/envs/granite-311b/lib/python3.11/site-packages (from granite-kitchen==0.1.0) (0.34.2)\n",
      "Requirement already satisfied: langchain-pinecone in /opt/homebrew/Caskroom/miniforge/base/envs/granite-311b/lib/python3.11/site-packages (from granite-kitchen==0.1.0) (0.1.3)\n",
      "Requirement already satisfied: langchain-milvus in /opt/homebrew/Caskroom/miniforge/base/envs/granite-311b/lib/python3.11/site-packages (from granite-kitchen==0.1.0) (0.1.5)\n",
      "Requirement already satisfied: langchain-chroma in /opt/homebrew/Caskroom/miniforge/base/envs/granite-311b/lib/python3.11/site-packages (from granite-kitchen==0.1.0) (0.1.4)\n",
      "Requirement already satisfied: langchain_ibm in /opt/homebrew/Caskroom/miniforge/base/envs/granite-311b/lib/python3.11/site-packages (from granite-kitchen==0.1.0) (0.1.12)\n",
      "Requirement already satisfied: langchain_huggingface in /opt/homebrew/Caskroom/miniforge/base/envs/granite-311b/lib/python3.11/site-packages (from granite-kitchen==0.1.0) (0.0.3)\n",
      "Requirement already satisfied: requests==2.32.3 in /opt/homebrew/Caskroom/miniforge/base/envs/granite-311b/lib/python3.11/site-packages (from granite-kitchen==0.1.0) (2.32.3)\n",
      "Requirement already satisfied: charset-normalizer<4,>=2 in /opt/homebrew/Caskroom/miniforge/base/envs/granite-311b/lib/python3.11/site-packages (from requests==2.32.3->granite-kitchen==0.1.0) (3.3.2)\n",
      "Requirement already satisfied: idna<4,>=2.5 in /opt/homebrew/Caskroom/miniforge/base/envs/granite-311b/lib/python3.11/site-packages (from requests==2.32.3->granite-kitchen==0.1.0) (3.10)\n",
      "Requirement already satisfied: urllib3<3,>=1.21.1 in /opt/homebrew/Caskroom/miniforge/base/envs/granite-311b/lib/python3.11/site-packages (from requests==2.32.3->granite-kitchen==0.1.0) (2.1.0)\n",
      "Requirement already satisfied: certifi>=2017.4.17 in /opt/homebrew/Caskroom/miniforge/base/envs/granite-311b/lib/python3.11/site-packages (from requests==2.32.3->granite-kitchen==0.1.0) (2024.8.30)\n",
      "Requirement already satisfied: PyYAML>=5.3 in /opt/homebrew/Caskroom/miniforge/base/envs/granite-311b/lib/python3.11/site-packages (from langchain_community<0.3.0->granite-kitchen==0.1.0) (6.0.2)\n",
      "Requirement already satisfied: SQLAlchemy<3,>=1.4 in /opt/homebrew/Caskroom/miniforge/base/envs/granite-311b/lib/python3.11/site-packages (from langchain_community<0.3.0->granite-kitchen==0.1.0) (2.0.35)\n",
      "Requirement already satisfied: aiohttp<4.0.0,>=3.8.3 in /opt/homebrew/Caskroom/miniforge/base/envs/granite-311b/lib/python3.11/site-packages (from langchain_community<0.3.0->granite-kitchen==0.1.0) (3.10.9)\n",
      "Requirement already satisfied: dataclasses-json<0.7,>=0.5.7 in /opt/homebrew/Caskroom/miniforge/base/envs/granite-311b/lib/python3.11/site-packages (from langchain_community<0.3.0->granite-kitchen==0.1.0) (0.6.7)\n",
      "Requirement already satisfied: langchain<0.3.0,>=0.2.16 in /opt/homebrew/Caskroom/miniforge/base/envs/granite-311b/lib/python3.11/site-packages (from langchain_community<0.3.0->granite-kitchen==0.1.0) (0.2.16)\n",
      "Requirement already satisfied: langchain-core<0.3.0,>=0.2.39 in /opt/homebrew/Caskroom/miniforge/base/envs/granite-311b/lib/python3.11/site-packages (from langchain_community<0.3.0->granite-kitchen==0.1.0) (0.2.41)\n",
      "Requirement already satisfied: langsmith<0.2.0,>=0.1.112 in /opt/homebrew/Caskroom/miniforge/base/envs/granite-311b/lib/python3.11/site-packages (from langchain_community<0.3.0->granite-kitchen==0.1.0) (0.1.132)\n",
      "Requirement already satisfied: numpy<2,>=1 in /opt/homebrew/Caskroom/miniforge/base/envs/granite-311b/lib/python3.11/site-packages (from langchain_community<0.3.0->granite-kitchen==0.1.0) (1.26.4)\n",
      "Requirement already satisfied: tenacity!=8.4.0,<9.0.0,>=8.1.0 in /opt/homebrew/Caskroom/miniforge/base/envs/granite-311b/lib/python3.11/site-packages (from langchain_community<0.3.0->granite-kitchen==0.1.0) (8.5.0)\n",
      "Requirement already satisfied: ollama<1,>=0.3.0 in /opt/homebrew/Caskroom/miniforge/base/envs/granite-311b/lib/python3.11/site-packages (from langchain_ollama<0.2.0->granite-kitchen==0.1.0) (0.3.3)\n",
      "Requirement already satisfied: pytest in /opt/homebrew/Caskroom/miniforge/base/envs/granite-311b/lib/python3.11/site-packages (from ibm-granite-community@ git+https://github.com/ibm-granite-community/utils->granite-kitchen==0.1.0) (8.3.3)\n",
      "Requirement already satisfied: chromadb!=0.5.4,!=0.5.5,<0.6.0,>=0.4.0 in /opt/homebrew/Caskroom/miniforge/base/envs/granite-311b/lib/python3.11/site-packages (from langchain-chroma->granite-kitchen==0.1.0) (0.5.12)\n",
      "Requirement already satisfied: fastapi<1,>=0.95.2 in /opt/homebrew/Caskroom/miniforge/base/envs/granite-311b/lib/python3.11/site-packages (from langchain-chroma->granite-kitchen==0.1.0) (0.115.0)\n",
      "Requirement already satisfied: huggingface-hub>=0.23.0 in /opt/homebrew/Caskroom/miniforge/base/envs/granite-311b/lib/python3.11/site-packages (from langchain_huggingface->granite-kitchen==0.1.0) (0.25.1)\n",
      "Requirement already satisfied: sentence-transformers>=2.6.0 in /opt/homebrew/Caskroom/miniforge/base/envs/granite-311b/lib/python3.11/site-packages (from langchain_huggingface->granite-kitchen==0.1.0) (3.1.1)\n",
      "Requirement already satisfied: tokenizers>=0.19.1 in /opt/homebrew/Caskroom/miniforge/base/envs/granite-311b/lib/python3.11/site-packages (from langchain_huggingface->granite-kitchen==0.1.0) (0.20.0)\n",
      "Requirement already satisfied: transformers>=4.39.0 in /opt/homebrew/Caskroom/miniforge/base/envs/granite-311b/lib/python3.11/site-packages (from langchain_huggingface->granite-kitchen==0.1.0) (4.45.2)\n",
      "Requirement already satisfied: ibm-watsonx-ai<2.0.0,>=1.0.8 in /opt/homebrew/Caskroom/miniforge/base/envs/granite-311b/lib/python3.11/site-packages (from langchain_ibm->granite-kitchen==0.1.0) (1.1.14)\n",
      "Requirement already satisfied: pymilvus<3.0.0,>=2.4.3 in /opt/homebrew/Caskroom/miniforge/base/envs/granite-311b/lib/python3.11/site-packages (from langchain-milvus->granite-kitchen==0.1.0) (2.4.7)\n",
      "Requirement already satisfied: scipy<2.0,>=1.7 in /opt/homebrew/Caskroom/miniforge/base/envs/granite-311b/lib/python3.11/site-packages (from langchain-milvus->granite-kitchen==0.1.0) (1.14.1)\n",
      "Requirement already satisfied: pinecone-client<6.0.0,>=5.0.0 in /opt/homebrew/Caskroom/miniforge/base/envs/granite-311b/lib/python3.11/site-packages (from langchain-pinecone->granite-kitchen==0.1.0) (5.0.1)\n",
      "Requirement already satisfied: httpx<1,>=0.21.0 in /opt/homebrew/Caskroom/miniforge/base/envs/granite-311b/lib/python3.11/site-packages (from replicate->granite-kitchen==0.1.0) (0.27.2)\n",
      "Requirement already satisfied: packaging in /opt/homebrew/Caskroom/miniforge/base/envs/granite-311b/lib/python3.11/site-packages (from replicate->granite-kitchen==0.1.0) (24.1)\n",
      "Requirement already satisfied: pydantic>1.10.7 in /opt/homebrew/Caskroom/miniforge/base/envs/granite-311b/lib/python3.11/site-packages (from replicate->granite-kitchen==0.1.0) (2.9.2)\n",
      "Requirement already satisfied: typing-extensions>=4.5.0 in /opt/homebrew/Caskroom/miniforge/base/envs/granite-311b/lib/python3.11/site-packages (from replicate->granite-kitchen==0.1.0) (4.12.2)\n",
      "Requirement already satisfied: aiohappyeyeballs>=2.3.0 in /opt/homebrew/Caskroom/miniforge/base/envs/granite-311b/lib/python3.11/site-packages (from aiohttp<4.0.0,>=3.8.3->langchain_community<0.3.0->granite-kitchen==0.1.0) (2.4.3)\n",
      "Requirement already satisfied: aiosignal>=1.1.2 in /opt/homebrew/Caskroom/miniforge/base/envs/granite-311b/lib/python3.11/site-packages (from aiohttp<4.0.0,>=3.8.3->langchain_community<0.3.0->granite-kitchen==0.1.0) (1.3.1)\n",
      "Requirement already satisfied: attrs>=17.3.0 in /opt/homebrew/Caskroom/miniforge/base/envs/granite-311b/lib/python3.11/site-packages (from aiohttp<4.0.0,>=3.8.3->langchain_community<0.3.0->granite-kitchen==0.1.0) (24.2.0)\n",
      "Requirement already satisfied: frozenlist>=1.1.1 in /opt/homebrew/Caskroom/miniforge/base/envs/granite-311b/lib/python3.11/site-packages (from aiohttp<4.0.0,>=3.8.3->langchain_community<0.3.0->granite-kitchen==0.1.0) (1.4.1)\n",
      "Requirement already satisfied: multidict<7.0,>=4.5 in /opt/homebrew/Caskroom/miniforge/base/envs/granite-311b/lib/python3.11/site-packages (from aiohttp<4.0.0,>=3.8.3->langchain_community<0.3.0->granite-kitchen==0.1.0) (6.1.0)\n",
      "Requirement already satisfied: yarl<2.0,>=1.12.0 in /opt/homebrew/Caskroom/miniforge/base/envs/granite-311b/lib/python3.11/site-packages (from aiohttp<4.0.0,>=3.8.3->langchain_community<0.3.0->granite-kitchen==0.1.0) (1.14.0)\n",
      "Requirement already satisfied: build>=1.0.3 in /opt/homebrew/Caskroom/miniforge/base/envs/granite-311b/lib/python3.11/site-packages (from chromadb!=0.5.4,!=0.5.5,<0.6.0,>=0.4.0->langchain-chroma->granite-kitchen==0.1.0) (1.2.2.post1)\n",
      "Requirement already satisfied: chroma-hnswlib==0.7.6 in /opt/homebrew/Caskroom/miniforge/base/envs/granite-311b/lib/python3.11/site-packages (from chromadb!=0.5.4,!=0.5.5,<0.6.0,>=0.4.0->langchain-chroma->granite-kitchen==0.1.0) (0.7.6)\n",
      "Requirement already satisfied: uvicorn>=0.18.3 in /opt/homebrew/Caskroom/miniforge/base/envs/granite-311b/lib/python3.11/site-packages (from uvicorn[standard]>=0.18.3->chromadb!=0.5.4,!=0.5.5,<0.6.0,>=0.4.0->langchain-chroma->granite-kitchen==0.1.0) (0.31.0)\n",
      "Requirement already satisfied: posthog>=2.4.0 in /opt/homebrew/Caskroom/miniforge/base/envs/granite-311b/lib/python3.11/site-packages (from chromadb!=0.5.4,!=0.5.5,<0.6.0,>=0.4.0->langchain-chroma->granite-kitchen==0.1.0) (3.7.0)\n",
      "Requirement already satisfied: onnxruntime>=1.14.1 in /opt/homebrew/Caskroom/miniforge/base/envs/granite-311b/lib/python3.11/site-packages (from chromadb!=0.5.4,!=0.5.5,<0.6.0,>=0.4.0->langchain-chroma->granite-kitchen==0.1.0) (1.19.2)\n",
      "Requirement already satisfied: opentelemetry-api>=1.2.0 in /opt/homebrew/Caskroom/miniforge/base/envs/granite-311b/lib/python3.11/site-packages (from chromadb!=0.5.4,!=0.5.5,<0.6.0,>=0.4.0->langchain-chroma->granite-kitchen==0.1.0) (1.27.0)\n",
      "Requirement already satisfied: opentelemetry-exporter-otlp-proto-grpc>=1.2.0 in /opt/homebrew/Caskroom/miniforge/base/envs/granite-311b/lib/python3.11/site-packages (from chromadb!=0.5.4,!=0.5.5,<0.6.0,>=0.4.0->langchain-chroma->granite-kitchen==0.1.0) (1.27.0)\n",
      "Requirement already satisfied: opentelemetry-instrumentation-fastapi>=0.41b0 in /opt/homebrew/Caskroom/miniforge/base/envs/granite-311b/lib/python3.11/site-packages (from chromadb!=0.5.4,!=0.5.5,<0.6.0,>=0.4.0->langchain-chroma->granite-kitchen==0.1.0) (0.48b0)\n",
      "Requirement already satisfied: opentelemetry-sdk>=1.2.0 in /opt/homebrew/Caskroom/miniforge/base/envs/granite-311b/lib/python3.11/site-packages (from chromadb!=0.5.4,!=0.5.5,<0.6.0,>=0.4.0->langchain-chroma->granite-kitchen==0.1.0) (1.27.0)\n",
      "Requirement already satisfied: pypika>=0.48.9 in /opt/homebrew/Caskroom/miniforge/base/envs/granite-311b/lib/python3.11/site-packages (from chromadb!=0.5.4,!=0.5.5,<0.6.0,>=0.4.0->langchain-chroma->granite-kitchen==0.1.0) (0.48.9)\n",
      "Requirement already satisfied: tqdm>=4.65.0 in /opt/homebrew/Caskroom/miniforge/base/envs/granite-311b/lib/python3.11/site-packages (from chromadb!=0.5.4,!=0.5.5,<0.6.0,>=0.4.0->langchain-chroma->granite-kitchen==0.1.0) (4.66.5)\n",
      "Requirement already satisfied: overrides>=7.3.1 in /opt/homebrew/Caskroom/miniforge/base/envs/granite-311b/lib/python3.11/site-packages (from chromadb!=0.5.4,!=0.5.5,<0.6.0,>=0.4.0->langchain-chroma->granite-kitchen==0.1.0) (7.7.0)\n",
      "Requirement already satisfied: importlib-resources in /opt/homebrew/Caskroom/miniforge/base/envs/granite-311b/lib/python3.11/site-packages (from chromadb!=0.5.4,!=0.5.5,<0.6.0,>=0.4.0->langchain-chroma->granite-kitchen==0.1.0) (6.4.5)\n",
      "Requirement already satisfied: grpcio>=1.58.0 in /opt/homebrew/Caskroom/miniforge/base/envs/granite-311b/lib/python3.11/site-packages (from chromadb!=0.5.4,!=0.5.5,<0.6.0,>=0.4.0->langchain-chroma->granite-kitchen==0.1.0) (1.66.2)\n",
      "Requirement already satisfied: bcrypt>=4.0.1 in /opt/homebrew/Caskroom/miniforge/base/envs/granite-311b/lib/python3.11/site-packages (from chromadb!=0.5.4,!=0.5.5,<0.6.0,>=0.4.0->langchain-chroma->granite-kitchen==0.1.0) (4.2.0)\n",
      "Requirement already satisfied: typer>=0.9.0 in /opt/homebrew/Caskroom/miniforge/base/envs/granite-311b/lib/python3.11/site-packages (from chromadb!=0.5.4,!=0.5.5,<0.6.0,>=0.4.0->langchain-chroma->granite-kitchen==0.1.0) (0.12.5)\n",
      "Requirement already satisfied: kubernetes>=28.1.0 in /opt/homebrew/Caskroom/miniforge/base/envs/granite-311b/lib/python3.11/site-packages (from chromadb!=0.5.4,!=0.5.5,<0.6.0,>=0.4.0->langchain-chroma->granite-kitchen==0.1.0) (31.0.0)\n",
      "Requirement already satisfied: mmh3>=4.0.1 in /opt/homebrew/Caskroom/miniforge/base/envs/granite-311b/lib/python3.11/site-packages (from chromadb!=0.5.4,!=0.5.5,<0.6.0,>=0.4.0->langchain-chroma->granite-kitchen==0.1.0) (5.0.1)\n",
      "Requirement already satisfied: orjson>=3.9.12 in /opt/homebrew/Caskroom/miniforge/base/envs/granite-311b/lib/python3.11/site-packages (from chromadb!=0.5.4,!=0.5.5,<0.6.0,>=0.4.0->langchain-chroma->granite-kitchen==0.1.0) (3.10.7)\n",
      "Requirement already satisfied: rich>=10.11.0 in /opt/homebrew/Caskroom/miniforge/base/envs/granite-311b/lib/python3.11/site-packages (from chromadb!=0.5.4,!=0.5.5,<0.6.0,>=0.4.0->langchain-chroma->granite-kitchen==0.1.0) (13.9.2)\n",
      "Requirement already satisfied: marshmallow<4.0.0,>=3.18.0 in /opt/homebrew/Caskroom/miniforge/base/envs/granite-311b/lib/python3.11/site-packages (from dataclasses-json<0.7,>=0.5.7->langchain_community<0.3.0->granite-kitchen==0.1.0) (3.22.0)\n",
      "Requirement already satisfied: typing-inspect<1,>=0.4.0 in /opt/homebrew/Caskroom/miniforge/base/envs/granite-311b/lib/python3.11/site-packages (from dataclasses-json<0.7,>=0.5.7->langchain_community<0.3.0->granite-kitchen==0.1.0) (0.9.0)\n",
      "Requirement already satisfied: starlette<0.39.0,>=0.37.2 in /opt/homebrew/Caskroom/miniforge/base/envs/granite-311b/lib/python3.11/site-packages (from fastapi<1,>=0.95.2->langchain-chroma->granite-kitchen==0.1.0) (0.38.6)\n",
      "Requirement already satisfied: anyio in /opt/homebrew/Caskroom/miniforge/base/envs/granite-311b/lib/python3.11/site-packages (from httpx<1,>=0.21.0->replicate->granite-kitchen==0.1.0) (4.6.0)\n",
      "Requirement already satisfied: httpcore==1.* in /opt/homebrew/Caskroom/miniforge/base/envs/granite-311b/lib/python3.11/site-packages (from httpx<1,>=0.21.0->replicate->granite-kitchen==0.1.0) (1.0.6)\n",
      "Requirement already satisfied: sniffio in /opt/homebrew/Caskroom/miniforge/base/envs/granite-311b/lib/python3.11/site-packages (from httpx<1,>=0.21.0->replicate->granite-kitchen==0.1.0) (1.3.1)\n",
      "Requirement already satisfied: h11<0.15,>=0.13 in /opt/homebrew/Caskroom/miniforge/base/envs/granite-311b/lib/python3.11/site-packages (from httpcore==1.*->httpx<1,>=0.21.0->replicate->granite-kitchen==0.1.0) (0.14.0)\n",
      "Requirement already satisfied: filelock in /opt/homebrew/Caskroom/miniforge/base/envs/granite-311b/lib/python3.11/site-packages (from huggingface-hub>=0.23.0->langchain_huggingface->granite-kitchen==0.1.0) (3.16.1)\n",
      "Requirement already satisfied: fsspec>=2023.5.0 in /opt/homebrew/Caskroom/miniforge/base/envs/granite-311b/lib/python3.11/site-packages (from huggingface-hub>=0.23.0->langchain_huggingface->granite-kitchen==0.1.0) (2024.9.0)\n",
      "Requirement already satisfied: pandas<2.2.0,>=0.24.2 in /opt/homebrew/Caskroom/miniforge/base/envs/granite-311b/lib/python3.11/site-packages (from ibm-watsonx-ai<2.0.0,>=1.0.8->langchain_ibm->granite-kitchen==0.1.0) (2.1.4)\n",
      "Requirement already satisfied: lomond in /opt/homebrew/Caskroom/miniforge/base/envs/granite-311b/lib/python3.11/site-packages (from ibm-watsonx-ai<2.0.0,>=1.0.8->langchain_ibm->granite-kitchen==0.1.0) (0.3.3)\n",
      "Requirement already satisfied: tabulate in /opt/homebrew/Caskroom/miniforge/base/envs/granite-311b/lib/python3.11/site-packages (from ibm-watsonx-ai<2.0.0,>=1.0.8->langchain_ibm->granite-kitchen==0.1.0) (0.9.0)\n",
      "Requirement already satisfied: ibm-cos-sdk<2.14.0,>=2.12.0 in /opt/homebrew/Caskroom/miniforge/base/envs/granite-311b/lib/python3.11/site-packages (from ibm-watsonx-ai<2.0.0,>=1.0.8->langchain_ibm->granite-kitchen==0.1.0) (2.13.5)\n",
      "Requirement already satisfied: importlib-metadata in /opt/homebrew/Caskroom/miniforge/base/envs/granite-311b/lib/python3.11/site-packages (from ibm-watsonx-ai<2.0.0,>=1.0.8->langchain_ibm->granite-kitchen==0.1.0) (8.4.0)\n",
      "Requirement already satisfied: langchain-text-splitters<0.3.0,>=0.2.0 in /opt/homebrew/Caskroom/miniforge/base/envs/granite-311b/lib/python3.11/site-packages (from langchain<0.3.0,>=0.2.16->langchain_community<0.3.0->granite-kitchen==0.1.0) (0.2.4)\n",
      "Requirement already satisfied: jsonpatch<2.0,>=1.33 in /opt/homebrew/Caskroom/miniforge/base/envs/granite-311b/lib/python3.11/site-packages (from langchain-core<0.3.0,>=0.2.39->langchain_community<0.3.0->granite-kitchen==0.1.0) (1.33)\n",
      "Requirement already satisfied: requests-toolbelt<2.0.0,>=1.0.0 in /opt/homebrew/Caskroom/miniforge/base/envs/granite-311b/lib/python3.11/site-packages (from langsmith<0.2.0,>=0.1.112->langchain_community<0.3.0->granite-kitchen==0.1.0) (1.0.0)\n",
      "Requirement already satisfied: pinecone-plugin-inference<2.0.0,>=1.0.3 in /opt/homebrew/Caskroom/miniforge/base/envs/granite-311b/lib/python3.11/site-packages (from pinecone-client<6.0.0,>=5.0.0->langchain-pinecone->granite-kitchen==0.1.0) (1.1.0)\n",
      "Requirement already satisfied: pinecone-plugin-interface<0.0.8,>=0.0.7 in /opt/homebrew/Caskroom/miniforge/base/envs/granite-311b/lib/python3.11/site-packages (from pinecone-client<6.0.0,>=5.0.0->langchain-pinecone->granite-kitchen==0.1.0) (0.0.7)\n",
      "Requirement already satisfied: annotated-types>=0.6.0 in /opt/homebrew/Caskroom/miniforge/base/envs/granite-311b/lib/python3.11/site-packages (from pydantic>1.10.7->replicate->granite-kitchen==0.1.0) (0.7.0)\n",
      "Requirement already satisfied: pydantic-core==2.23.4 in /opt/homebrew/Caskroom/miniforge/base/envs/granite-311b/lib/python3.11/site-packages (from pydantic>1.10.7->replicate->granite-kitchen==0.1.0) (2.23.4)\n",
      "Requirement already satisfied: setuptools>69 in /opt/homebrew/Caskroom/miniforge/base/envs/granite-311b/lib/python3.11/site-packages (from pymilvus<3.0.0,>=2.4.3->langchain-milvus->granite-kitchen==0.1.0) (75.1.0)\n",
      "Requirement already satisfied: protobuf>=3.20.0 in /opt/homebrew/Caskroom/miniforge/base/envs/granite-311b/lib/python3.11/site-packages (from pymilvus<3.0.0,>=2.4.3->langchain-milvus->granite-kitchen==0.1.0) (4.25.5)\n",
      "Requirement already satisfied: environs<=9.5.0 in /opt/homebrew/Caskroom/miniforge/base/envs/granite-311b/lib/python3.11/site-packages (from pymilvus<3.0.0,>=2.4.3->langchain-milvus->granite-kitchen==0.1.0) (9.5.0)\n",
      "Requirement already satisfied: ujson>=2.0.0 in /opt/homebrew/Caskroom/miniforge/base/envs/granite-311b/lib/python3.11/site-packages (from pymilvus<3.0.0,>=2.4.3->langchain-milvus->granite-kitchen==0.1.0) (5.10.0)\n",
      "Requirement already satisfied: milvus-lite<2.5.0,>=2.4.0 in /opt/homebrew/Caskroom/miniforge/base/envs/granite-311b/lib/python3.11/site-packages (from pymilvus<3.0.0,>=2.4.3->langchain-milvus->granite-kitchen==0.1.0) (2.4.10)\n",
      "Requirement already satisfied: torch>=1.11.0 in /opt/homebrew/Caskroom/miniforge/base/envs/granite-311b/lib/python3.11/site-packages (from sentence-transformers>=2.6.0->langchain_huggingface->granite-kitchen==0.1.0) (2.4.1)\n",
      "Requirement already satisfied: scikit-learn in /opt/homebrew/Caskroom/miniforge/base/envs/granite-311b/lib/python3.11/site-packages (from sentence-transformers>=2.6.0->langchain_huggingface->granite-kitchen==0.1.0) (1.5.2)\n",
      "Requirement already satisfied: Pillow in /opt/homebrew/Caskroom/miniforge/base/envs/granite-311b/lib/python3.11/site-packages (from sentence-transformers>=2.6.0->langchain_huggingface->granite-kitchen==0.1.0) (10.4.0)\n",
      "Requirement already satisfied: regex!=2019.12.17 in /opt/homebrew/Caskroom/miniforge/base/envs/granite-311b/lib/python3.11/site-packages (from transformers>=4.39.0->langchain_huggingface->granite-kitchen==0.1.0) (2024.9.11)\n",
      "Requirement already satisfied: safetensors>=0.4.1 in /opt/homebrew/Caskroom/miniforge/base/envs/granite-311b/lib/python3.11/site-packages (from transformers>=4.39.0->langchain_huggingface->granite-kitchen==0.1.0) (0.4.5)\n",
      "Requirement already satisfied: iniconfig in /opt/homebrew/Caskroom/miniforge/base/envs/granite-311b/lib/python3.11/site-packages (from pytest->ibm-granite-community@ git+https://github.com/ibm-granite-community/utils->granite-kitchen==0.1.0) (2.0.0)\n",
      "Requirement already satisfied: pluggy<2,>=1.5 in /opt/homebrew/Caskroom/miniforge/base/envs/granite-311b/lib/python3.11/site-packages (from pytest->ibm-granite-community@ git+https://github.com/ibm-granite-community/utils->granite-kitchen==0.1.0) (1.5.0)\n",
      "Requirement already satisfied: pyproject_hooks in /opt/homebrew/Caskroom/miniforge/base/envs/granite-311b/lib/python3.11/site-packages (from build>=1.0.3->chromadb!=0.5.4,!=0.5.5,<0.6.0,>=0.4.0->langchain-chroma->granite-kitchen==0.1.0) (1.2.0)\n",
      "Requirement already satisfied: ibm-cos-sdk-core==2.13.5 in /opt/homebrew/Caskroom/miniforge/base/envs/granite-311b/lib/python3.11/site-packages (from ibm-cos-sdk<2.14.0,>=2.12.0->ibm-watsonx-ai<2.0.0,>=1.0.8->langchain_ibm->granite-kitchen==0.1.0) (2.13.5)\n",
      "Requirement already satisfied: ibm-cos-sdk-s3transfer==2.13.5 in /opt/homebrew/Caskroom/miniforge/base/envs/granite-311b/lib/python3.11/site-packages (from ibm-cos-sdk<2.14.0,>=2.12.0->ibm-watsonx-ai<2.0.0,>=1.0.8->langchain_ibm->granite-kitchen==0.1.0) (2.13.5)\n",
      "Requirement already satisfied: jmespath<=1.0.1,>=0.10.0 in /opt/homebrew/Caskroom/miniforge/base/envs/granite-311b/lib/python3.11/site-packages (from ibm-cos-sdk<2.14.0,>=2.12.0->ibm-watsonx-ai<2.0.0,>=1.0.8->langchain_ibm->granite-kitchen==0.1.0) (1.0.1)\n",
      "Requirement already satisfied: python-dateutil<3.0.0,>=2.9.0 in /opt/homebrew/Caskroom/miniforge/base/envs/granite-311b/lib/python3.11/site-packages (from ibm-cos-sdk-core==2.13.5->ibm-cos-sdk<2.14.0,>=2.12.0->ibm-watsonx-ai<2.0.0,>=1.0.8->langchain_ibm->granite-kitchen==0.1.0) (2.9.0.post0)\n",
      "Requirement already satisfied: jsonpointer>=1.9 in /opt/homebrew/Caskroom/miniforge/base/envs/granite-311b/lib/python3.11/site-packages (from jsonpatch<2.0,>=1.33->langchain-core<0.3.0,>=0.2.39->langchain_community<0.3.0->granite-kitchen==0.1.0) (3.0.0)\n",
      "Requirement already satisfied: six>=1.9.0 in /opt/homebrew/Caskroom/miniforge/base/envs/granite-311b/lib/python3.11/site-packages (from kubernetes>=28.1.0->chromadb!=0.5.4,!=0.5.5,<0.6.0,>=0.4.0->langchain-chroma->granite-kitchen==0.1.0) (1.16.0)\n",
      "Requirement already satisfied: google-auth>=1.0.1 in /opt/homebrew/Caskroom/miniforge/base/envs/granite-311b/lib/python3.11/site-packages (from kubernetes>=28.1.0->chromadb!=0.5.4,!=0.5.5,<0.6.0,>=0.4.0->langchain-chroma->granite-kitchen==0.1.0) (2.35.0)\n",
      "Requirement already satisfied: websocket-client!=0.40.0,!=0.41.*,!=0.42.*,>=0.32.0 in /opt/homebrew/Caskroom/miniforge/base/envs/granite-311b/lib/python3.11/site-packages (from kubernetes>=28.1.0->chromadb!=0.5.4,!=0.5.5,<0.6.0,>=0.4.0->langchain-chroma->granite-kitchen==0.1.0) (1.8.0)\n",
      "Requirement already satisfied: requests-oauthlib in /opt/homebrew/Caskroom/miniforge/base/envs/granite-311b/lib/python3.11/site-packages (from kubernetes>=28.1.0->chromadb!=0.5.4,!=0.5.5,<0.6.0,>=0.4.0->langchain-chroma->granite-kitchen==0.1.0) (2.0.0)\n",
      "Requirement already satisfied: oauthlib>=3.2.2 in /opt/homebrew/Caskroom/miniforge/base/envs/granite-311b/lib/python3.11/site-packages (from kubernetes>=28.1.0->chromadb!=0.5.4,!=0.5.5,<0.6.0,>=0.4.0->langchain-chroma->granite-kitchen==0.1.0) (3.2.2)\n",
      "Requirement already satisfied: durationpy>=0.7 in /opt/homebrew/Caskroom/miniforge/base/envs/granite-311b/lib/python3.11/site-packages (from kubernetes>=28.1.0->chromadb!=0.5.4,!=0.5.5,<0.6.0,>=0.4.0->langchain-chroma->granite-kitchen==0.1.0) (0.9)\n",
      "Requirement already satisfied: coloredlogs in /opt/homebrew/Caskroom/miniforge/base/envs/granite-311b/lib/python3.11/site-packages (from onnxruntime>=1.14.1->chromadb!=0.5.4,!=0.5.5,<0.6.0,>=0.4.0->langchain-chroma->granite-kitchen==0.1.0) (15.0.1)\n",
      "Requirement already satisfied: flatbuffers in /opt/homebrew/Caskroom/miniforge/base/envs/granite-311b/lib/python3.11/site-packages (from onnxruntime>=1.14.1->chromadb!=0.5.4,!=0.5.5,<0.6.0,>=0.4.0->langchain-chroma->granite-kitchen==0.1.0) (24.3.25)\n",
      "Requirement already satisfied: sympy in /opt/homebrew/Caskroom/miniforge/base/envs/granite-311b/lib/python3.11/site-packages (from onnxruntime>=1.14.1->chromadb!=0.5.4,!=0.5.5,<0.6.0,>=0.4.0->langchain-chroma->granite-kitchen==0.1.0) (1.13.3)\n",
      "Requirement already satisfied: deprecated>=1.2.6 in /opt/homebrew/Caskroom/miniforge/base/envs/granite-311b/lib/python3.11/site-packages (from opentelemetry-api>=1.2.0->chromadb!=0.5.4,!=0.5.5,<0.6.0,>=0.4.0->langchain-chroma->granite-kitchen==0.1.0) (1.2.14)\n",
      "Requirement already satisfied: zipp>=0.5 in /opt/homebrew/Caskroom/miniforge/base/envs/granite-311b/lib/python3.11/site-packages (from importlib-metadata->ibm-watsonx-ai<2.0.0,>=1.0.8->langchain_ibm->granite-kitchen==0.1.0) (3.20.2)\n",
      "Requirement already satisfied: googleapis-common-protos~=1.52 in /opt/homebrew/Caskroom/miniforge/base/envs/granite-311b/lib/python3.11/site-packages (from opentelemetry-exporter-otlp-proto-grpc>=1.2.0->chromadb!=0.5.4,!=0.5.5,<0.6.0,>=0.4.0->langchain-chroma->granite-kitchen==0.1.0) (1.65.0)\n",
      "Requirement already satisfied: opentelemetry-exporter-otlp-proto-common==1.27.0 in /opt/homebrew/Caskroom/miniforge/base/envs/granite-311b/lib/python3.11/site-packages (from opentelemetry-exporter-otlp-proto-grpc>=1.2.0->chromadb!=0.5.4,!=0.5.5,<0.6.0,>=0.4.0->langchain-chroma->granite-kitchen==0.1.0) (1.27.0)\n",
      "Requirement already satisfied: opentelemetry-proto==1.27.0 in /opt/homebrew/Caskroom/miniforge/base/envs/granite-311b/lib/python3.11/site-packages (from opentelemetry-exporter-otlp-proto-grpc>=1.2.0->chromadb!=0.5.4,!=0.5.5,<0.6.0,>=0.4.0->langchain-chroma->granite-kitchen==0.1.0) (1.27.0)\n",
      "Requirement already satisfied: opentelemetry-instrumentation-asgi==0.48b0 in /opt/homebrew/Caskroom/miniforge/base/envs/granite-311b/lib/python3.11/site-packages (from opentelemetry-instrumentation-fastapi>=0.41b0->chromadb!=0.5.4,!=0.5.5,<0.6.0,>=0.4.0->langchain-chroma->granite-kitchen==0.1.0) (0.48b0)\n",
      "Requirement already satisfied: opentelemetry-instrumentation==0.48b0 in /opt/homebrew/Caskroom/miniforge/base/envs/granite-311b/lib/python3.11/site-packages (from opentelemetry-instrumentation-fastapi>=0.41b0->chromadb!=0.5.4,!=0.5.5,<0.6.0,>=0.4.0->langchain-chroma->granite-kitchen==0.1.0) (0.48b0)\n",
      "Requirement already satisfied: opentelemetry-semantic-conventions==0.48b0 in /opt/homebrew/Caskroom/miniforge/base/envs/granite-311b/lib/python3.11/site-packages (from opentelemetry-instrumentation-fastapi>=0.41b0->chromadb!=0.5.4,!=0.5.5,<0.6.0,>=0.4.0->langchain-chroma->granite-kitchen==0.1.0) (0.48b0)\n",
      "Requirement already satisfied: opentelemetry-util-http==0.48b0 in /opt/homebrew/Caskroom/miniforge/base/envs/granite-311b/lib/python3.11/site-packages (from opentelemetry-instrumentation-fastapi>=0.41b0->chromadb!=0.5.4,!=0.5.5,<0.6.0,>=0.4.0->langchain-chroma->granite-kitchen==0.1.0) (0.48b0)\n",
      "Requirement already satisfied: wrapt<2.0.0,>=1.0.0 in /opt/homebrew/Caskroom/miniforge/base/envs/granite-311b/lib/python3.11/site-packages (from opentelemetry-instrumentation==0.48b0->opentelemetry-instrumentation-fastapi>=0.41b0->chromadb!=0.5.4,!=0.5.5,<0.6.0,>=0.4.0->langchain-chroma->granite-kitchen==0.1.0) (1.16.0)\n",
      "Requirement already satisfied: asgiref~=3.0 in /opt/homebrew/Caskroom/miniforge/base/envs/granite-311b/lib/python3.11/site-packages (from opentelemetry-instrumentation-asgi==0.48b0->opentelemetry-instrumentation-fastapi>=0.41b0->chromadb!=0.5.4,!=0.5.5,<0.6.0,>=0.4.0->langchain-chroma->granite-kitchen==0.1.0) (3.8.1)\n",
      "Requirement already satisfied: pytz>=2020.1 in /opt/homebrew/Caskroom/miniforge/base/envs/granite-311b/lib/python3.11/site-packages (from pandas<2.2.0,>=0.24.2->ibm-watsonx-ai<2.0.0,>=1.0.8->langchain_ibm->granite-kitchen==0.1.0) (2024.2)\n",
      "Requirement already satisfied: tzdata>=2022.1 in /opt/homebrew/Caskroom/miniforge/base/envs/granite-311b/lib/python3.11/site-packages (from pandas<2.2.0,>=0.24.2->ibm-watsonx-ai<2.0.0,>=1.0.8->langchain_ibm->granite-kitchen==0.1.0) (2024.2)\n",
      "Requirement already satisfied: monotonic>=1.5 in /opt/homebrew/Caskroom/miniforge/base/envs/granite-311b/lib/python3.11/site-packages (from posthog>=2.4.0->chromadb!=0.5.4,!=0.5.5,<0.6.0,>=0.4.0->langchain-chroma->granite-kitchen==0.1.0) (1.6)\n",
      "Requirement already satisfied: backoff>=1.10.0 in /opt/homebrew/Caskroom/miniforge/base/envs/granite-311b/lib/python3.11/site-packages (from posthog>=2.4.0->chromadb!=0.5.4,!=0.5.5,<0.6.0,>=0.4.0->langchain-chroma->granite-kitchen==0.1.0) (2.2.1)\n",
      "Requirement already satisfied: markdown-it-py>=2.2.0 in /opt/homebrew/Caskroom/miniforge/base/envs/granite-311b/lib/python3.11/site-packages (from rich>=10.11.0->chromadb!=0.5.4,!=0.5.5,<0.6.0,>=0.4.0->langchain-chroma->granite-kitchen==0.1.0) (3.0.0)\n",
      "Requirement already satisfied: pygments<3.0.0,>=2.13.0 in /opt/homebrew/Caskroom/miniforge/base/envs/granite-311b/lib/python3.11/site-packages (from rich>=10.11.0->chromadb!=0.5.4,!=0.5.5,<0.6.0,>=0.4.0->langchain-chroma->granite-kitchen==0.1.0) (2.18.0)\n",
      "Requirement already satisfied: networkx in /opt/homebrew/Caskroom/miniforge/base/envs/granite-311b/lib/python3.11/site-packages (from torch>=1.11.0->sentence-transformers>=2.6.0->langchain_huggingface->granite-kitchen==0.1.0) (3.3)\n",
      "Requirement already satisfied: jinja2 in /opt/homebrew/Caskroom/miniforge/base/envs/granite-311b/lib/python3.11/site-packages (from torch>=1.11.0->sentence-transformers>=2.6.0->langchain_huggingface->granite-kitchen==0.1.0) (3.1.4)\n",
      "Requirement already satisfied: click>=8.0.0 in /opt/homebrew/Caskroom/miniforge/base/envs/granite-311b/lib/python3.11/site-packages (from typer>=0.9.0->chromadb!=0.5.4,!=0.5.5,<0.6.0,>=0.4.0->langchain-chroma->granite-kitchen==0.1.0) (8.1.7)\n",
      "Requirement already satisfied: shellingham>=1.3.0 in /opt/homebrew/Caskroom/miniforge/base/envs/granite-311b/lib/python3.11/site-packages (from typer>=0.9.0->chromadb!=0.5.4,!=0.5.5,<0.6.0,>=0.4.0->langchain-chroma->granite-kitchen==0.1.0) (1.5.4)\n",
      "Requirement already satisfied: mypy-extensions>=0.3.0 in /opt/homebrew/Caskroom/miniforge/base/envs/granite-311b/lib/python3.11/site-packages (from typing-inspect<1,>=0.4.0->dataclasses-json<0.7,>=0.5.7->langchain_community<0.3.0->granite-kitchen==0.1.0) (1.0.0)\n",
      "Requirement already satisfied: httptools>=0.5.0 in /opt/homebrew/Caskroom/miniforge/base/envs/granite-311b/lib/python3.11/site-packages (from uvicorn[standard]>=0.18.3->chromadb!=0.5.4,!=0.5.5,<0.6.0,>=0.4.0->langchain-chroma->granite-kitchen==0.1.0) (0.6.1)\n",
      "Requirement already satisfied: uvloop!=0.15.0,!=0.15.1,>=0.14.0 in /opt/homebrew/Caskroom/miniforge/base/envs/granite-311b/lib/python3.11/site-packages (from uvicorn[standard]>=0.18.3->chromadb!=0.5.4,!=0.5.5,<0.6.0,>=0.4.0->langchain-chroma->granite-kitchen==0.1.0) (0.20.0)\n",
      "Requirement already satisfied: watchfiles>=0.13 in /opt/homebrew/Caskroom/miniforge/base/envs/granite-311b/lib/python3.11/site-packages (from uvicorn[standard]>=0.18.3->chromadb!=0.5.4,!=0.5.5,<0.6.0,>=0.4.0->langchain-chroma->granite-kitchen==0.1.0) (0.24.0)\n",
      "Requirement already satisfied: websockets>=10.4 in /opt/homebrew/Caskroom/miniforge/base/envs/granite-311b/lib/python3.11/site-packages (from uvicorn[standard]>=0.18.3->chromadb!=0.5.4,!=0.5.5,<0.6.0,>=0.4.0->langchain-chroma->granite-kitchen==0.1.0) (13.1)\n",
      "Requirement already satisfied: propcache>=0.2.0 in /opt/homebrew/Caskroom/miniforge/base/envs/granite-311b/lib/python3.11/site-packages (from yarl<2.0,>=1.12.0->aiohttp<4.0.0,>=3.8.3->langchain_community<0.3.0->granite-kitchen==0.1.0) (0.2.0)\n",
      "Requirement already satisfied: joblib>=1.2.0 in /opt/homebrew/Caskroom/miniforge/base/envs/granite-311b/lib/python3.11/site-packages (from scikit-learn->sentence-transformers>=2.6.0->langchain_huggingface->granite-kitchen==0.1.0) (1.4.2)\n",
      "Requirement already satisfied: threadpoolctl>=3.1.0 in /opt/homebrew/Caskroom/miniforge/base/envs/granite-311b/lib/python3.11/site-packages (from scikit-learn->sentence-transformers>=2.6.0->langchain_huggingface->granite-kitchen==0.1.0) (3.5.0)\n",
      "Requirement already satisfied: cachetools<6.0,>=2.0.0 in /opt/homebrew/Caskroom/miniforge/base/envs/granite-311b/lib/python3.11/site-packages (from google-auth>=1.0.1->kubernetes>=28.1.0->chromadb!=0.5.4,!=0.5.5,<0.6.0,>=0.4.0->langchain-chroma->granite-kitchen==0.1.0) (5.5.0)\n",
      "Requirement already satisfied: pyasn1-modules>=0.2.1 in /opt/homebrew/Caskroom/miniforge/base/envs/granite-311b/lib/python3.11/site-packages (from google-auth>=1.0.1->kubernetes>=28.1.0->chromadb!=0.5.4,!=0.5.5,<0.6.0,>=0.4.0->langchain-chroma->granite-kitchen==0.1.0) (0.4.1)\n",
      "Requirement already satisfied: rsa<5,>=3.1.4 in /opt/homebrew/Caskroom/miniforge/base/envs/granite-311b/lib/python3.11/site-packages (from google-auth>=1.0.1->kubernetes>=28.1.0->chromadb!=0.5.4,!=0.5.5,<0.6.0,>=0.4.0->langchain-chroma->granite-kitchen==0.1.0) (4.9)\n",
      "Requirement already satisfied: mdurl~=0.1 in /opt/homebrew/Caskroom/miniforge/base/envs/granite-311b/lib/python3.11/site-packages (from markdown-it-py>=2.2.0->rich>=10.11.0->chromadb!=0.5.4,!=0.5.5,<0.6.0,>=0.4.0->langchain-chroma->granite-kitchen==0.1.0) (0.1.2)\n",
      "Requirement already satisfied: humanfriendly>=9.1 in /opt/homebrew/Caskroom/miniforge/base/envs/granite-311b/lib/python3.11/site-packages (from coloredlogs->onnxruntime>=1.14.1->chromadb!=0.5.4,!=0.5.5,<0.6.0,>=0.4.0->langchain-chroma->granite-kitchen==0.1.0) (10.0)\n",
      "Requirement already satisfied: MarkupSafe>=2.0 in /opt/homebrew/Caskroom/miniforge/base/envs/granite-311b/lib/python3.11/site-packages (from jinja2->torch>=1.11.0->sentence-transformers>=2.6.0->langchain_huggingface->granite-kitchen==0.1.0) (3.0.1)\n",
      "Requirement already satisfied: mpmath<1.4,>=1.1.0 in /opt/homebrew/Caskroom/miniforge/base/envs/granite-311b/lib/python3.11/site-packages (from sympy->onnxruntime>=1.14.1->chromadb!=0.5.4,!=0.5.5,<0.6.0,>=0.4.0->langchain-chroma->granite-kitchen==0.1.0) (1.3.0)\n",
      "Requirement already satisfied: pyasn1<0.7.0,>=0.4.6 in /opt/homebrew/Caskroom/miniforge/base/envs/granite-311b/lib/python3.11/site-packages (from pyasn1-modules>=0.2.1->google-auth>=1.0.1->kubernetes>=28.1.0->chromadb!=0.5.4,!=0.5.5,<0.6.0,>=0.4.0->langchain-chroma->granite-kitchen==0.1.0) (0.6.1)\n"
     ]
    }
   ],
   "source": [
    "!pip install git+https://github.com/ibm-granite-community/granite-kitchen"
   ]
  },
  {
   "cell_type": "markdown",
   "metadata": {},
   "source": [
    "## Generate the Code from a Hypothesis _Property-Based_ Test Suite\n",
    "\n",
    "The next two cells install a testing library called `hypothesis` and then read a file of tests for a non-existent `Rational` class (for rational numbers). "
   ]
  },
  {
   "cell_type": "code",
   "execution_count": 4,
   "metadata": {},
   "outputs": [
    {
     "name": "stdout",
     "output_type": "stream",
     "text": [
      "Requirement already satisfied: hypothesis[cli] in /opt/homebrew/Caskroom/miniforge/base/envs/granite-311b/lib/python3.11/site-packages (6.112.5)\n",
      "Requirement already satisfied: attrs>=22.2.0 in /opt/homebrew/Caskroom/miniforge/base/envs/granite-311b/lib/python3.11/site-packages (from hypothesis[cli]) (24.2.0)\n",
      "Requirement already satisfied: sortedcontainers<3.0.0,>=2.1.0 in /opt/homebrew/Caskroom/miniforge/base/envs/granite-311b/lib/python3.11/site-packages (from hypothesis[cli]) (2.4.0)\n",
      "Requirement already satisfied: click>=7.0 in /opt/homebrew/Caskroom/miniforge/base/envs/granite-311b/lib/python3.11/site-packages (from hypothesis[cli]) (8.1.7)\n",
      "Requirement already satisfied: black>=19.10b0 in /opt/homebrew/Caskroom/miniforge/base/envs/granite-311b/lib/python3.11/site-packages (from hypothesis[cli]) (24.10.0)\n",
      "Requirement already satisfied: rich>=9.0.0 in /opt/homebrew/Caskroom/miniforge/base/envs/granite-311b/lib/python3.11/site-packages (from hypothesis[cli]) (13.9.2)\n",
      "Requirement already satisfied: mypy-extensions>=0.4.3 in /opt/homebrew/Caskroom/miniforge/base/envs/granite-311b/lib/python3.11/site-packages (from black>=19.10b0->hypothesis[cli]) (1.0.0)\n",
      "Requirement already satisfied: packaging>=22.0 in /opt/homebrew/Caskroom/miniforge/base/envs/granite-311b/lib/python3.11/site-packages (from black>=19.10b0->hypothesis[cli]) (24.1)\n",
      "Requirement already satisfied: pathspec>=0.9.0 in /opt/homebrew/Caskroom/miniforge/base/envs/granite-311b/lib/python3.11/site-packages (from black>=19.10b0->hypothesis[cli]) (0.12.1)\n",
      "Requirement already satisfied: platformdirs>=2 in /opt/homebrew/Caskroom/miniforge/base/envs/granite-311b/lib/python3.11/site-packages (from black>=19.10b0->hypothesis[cli]) (4.3.6)\n",
      "Requirement already satisfied: markdown-it-py>=2.2.0 in /opt/homebrew/Caskroom/miniforge/base/envs/granite-311b/lib/python3.11/site-packages (from rich>=9.0.0->hypothesis[cli]) (3.0.0)\n",
      "Requirement already satisfied: pygments<3.0.0,>=2.13.0 in /opt/homebrew/Caskroom/miniforge/base/envs/granite-311b/lib/python3.11/site-packages (from rich>=9.0.0->hypothesis[cli]) (2.18.0)\n",
      "Requirement already satisfied: mdurl~=0.1 in /opt/homebrew/Caskroom/miniforge/base/envs/granite-311b/lib/python3.11/site-packages (from markdown-it-py>=2.2.0->rich>=9.0.0->hypothesis[cli]) (0.1.2)\n"
     ]
    }
   ],
   "source": [
    "!pip install 'hypothesis[cli]'"
   ]
  },
  {
   "cell_type": "markdown",
   "metadata": {},
   "source": [
    "Load our Hypothesis tests as a string.\n",
    "This test file is adapted from this GitHub project: \n",
    "\n",
    "https://github.com/deanwampler/tdd-hypothesis-example"
   ]
  },
  {
   "cell_type": "code",
   "execution_count": 5,
   "metadata": {},
   "outputs": [
    {
     "name": "stdout",
     "output_type": "stream",
     "text": [
      "# Example unit tests using Hypothesis for property-based testing.\n",
      "# Adapted from: https://github.com/deanwampler/tdd-hypothesis-example\n",
      "# Hypothesis website: https://hypothesis.readthedocs.io/en/latest/\n",
      "\n",
      "from hypothesis import given, strategies as st\n",
      "import unittest\n",
      "from rational import Rational\n",
      "from math import gcd\n",
      "\n",
      "class TestRational(unittest.TestCase):\n",
      "    \"\"\"\n",
      "    Test the features implemented curently by Rational.\n",
      "    Add new tests for Rational arithmetic operations, like multiplication and addition,\n",
      "    watch the test fail, then implement the feature and ensure the test now passes.\n",
      "    See also other properties described in the Rational Wikipedia page:\n",
      "    https://en.wikipedia.org/wiki/Rational_number\n",
      "    \n",
      "    Also, try adding a second way to construct Rationals that accepts a string\n",
      "    argument, \"M/N\". (Now you really have to think about handling input errors!) \n",
      "    What are the requirements for valid strings, e.g., for \"M\" and \"N\"?\n",
      "    If an invalid string is provided, how should the error be handled?\n",
      "    \"\"\"\n",
      "\n",
      "    # Disallow zero for the demoninator!\n",
      "\n",
      "    nonzero_integers = st.integers().filter(lambda i: i != 0)\n",
      "\n",
      "    @given(st.integers(), nonzero_integers)\n",
      "    def test_init_takes_numerator_denominator(self, numer, denom):\n",
      "        \"\"\"\n",
      "        A \"relatively-trivial\" test, but note that the returned\n",
      "        numerator and denominator will be divided by their greatest\n",
      "        common divisor.\n",
      "        \"\"\"\n",
      "        rat = Rational(numer, denom)\n",
      "        divisor = gcd(numer, denom)\n",
      "        self.assertEqual(numer // divisor, rat.numerator)\n",
      "        self.assertEqual(denom // divisor, rat.denominator)\n",
      "\n",
      "    @given(st.integers())\n",
      "    def test_zero_denominator_raises(self, numer):\n",
      "        \"\"\"\n",
      "        Don't allow zero for the denominator!!\n",
      "        \"\"\"\n",
      "        with self.assertRaises(ValueError):\n",
      "            rat = Rational(numer, 0)\n",
      "\n",
      "    @given(st.integers(), nonzero_integers)\n",
      "    def test_a_rational_equals_itself(self, numer, denom):\n",
      "        \"\"\"\n",
      "        This test passes without adding a custom __eq__ method. \n",
      "        Without the __eq__ method, would this test actually use\n",
      "        \"logical\" instance equality or just locations in memory?\n",
      "        \"\"\"\n",
      "        rat = Rational(numer, denom)\n",
      "        self.assertEqual(rat, rat)\n",
      "\n",
      "    @given(st.integers(), nonzero_integers)\n",
      "    def test_identical_rationals_are_equal(self, numer, denom):\n",
      "        \"\"\"\n",
      "        Would this one pass if we deleted (or commented out) our custom __eq__ method? \n",
      "        Try it!\n",
      "        \"\"\"\n",
      "        rat1 = Rational(numer, denom)\n",
      "        rat2 = Rational(numer, denom)\n",
      "        self.assertEqual(rat1, rat2)\n",
      "\n",
      "    @given(st.integers(), nonzero_integers, nonzero_integers)\n",
      "    def test_equality_for_two_rationals_with_num_and_dom_that_are_multiples_of_each_other(self, numer, denom, multiple):\n",
      "        \"\"\"\n",
      "        Rule: a/b == c/d iff ad == bc\n",
      "        Since a*M/b*M == a/b, then a*M/b*M == c/d\n",
      "        \"\"\"\n",
      "        rat1 = Rational(numer*multiple, denom*multiple)\n",
      "        rat2 = Rational(numer, denom)\n",
      "        self.assertEqual(rat1, rat2)\n",
      "\n",
      "    @given(st.integers(), nonzero_integers, st.integers(), nonzero_integers)\n",
      "    def test_two_non_identical_rationals_are_not_equal_to_each_other(self, numer1, denom1, numer2, denom2):\n",
      "        \"\"\"\n",
      "        Rule: a/b == c/d iff ad == bc\n",
      "        This is a better test, because it randomly generates different instances.\n",
      "        However, the test has to check for the case where the two values happen to be\n",
      "        equivalent!\n",
      "        \"\"\"\n",
      "        rat1 = Rational(numer1, denom1)\n",
      "        rat2 = Rational(numer2, denom2)\n",
      "        if numer1*denom2 == numer2*denom1:\n",
      "            self.assertEqual(rat1, rat2)\n",
      "        else:\n",
      "            self.assertNotEqual(rat1, rat2)\n",
      "\n",
      "if __name__ == \"__main__\":\n",
      "    unittest.main()\n"
     ]
    }
   ],
   "source": [
    "with open(\"test_rational.py\") as f:\n",
    "    tests = f.read()\n",
    "print(tests)"
   ]
  },
  {
   "cell_type": "markdown",
   "metadata": {},
   "source": [
    "## Try Generating an Implementation of `Rational`\n",
    "\n",
    "Let's try Ollama locally and also calling the model in Replicate. The local model is quantized, so we expect it not to work as well."
   ]
  },
  {
   "cell_type": "code",
   "execution_count": 6,
   "metadata": {},
   "outputs": [
    {
     "name": "stdout",
     "output_type": "stream",
     "text": [
      "Requirement already satisfied: ollama in /opt/homebrew/Caskroom/miniforge/base/envs/granite-311b/lib/python3.11/site-packages (0.3.3)\n",
      "Requirement already satisfied: httpx<0.28.0,>=0.27.0 in /opt/homebrew/Caskroom/miniforge/base/envs/granite-311b/lib/python3.11/site-packages (from ollama) (0.27.2)\n",
      "Requirement already satisfied: anyio in /opt/homebrew/Caskroom/miniforge/base/envs/granite-311b/lib/python3.11/site-packages (from httpx<0.28.0,>=0.27.0->ollama) (4.6.0)\n",
      "Requirement already satisfied: certifi in /opt/homebrew/Caskroom/miniforge/base/envs/granite-311b/lib/python3.11/site-packages (from httpx<0.28.0,>=0.27.0->ollama) (2024.8.30)\n",
      "Requirement already satisfied: httpcore==1.* in /opt/homebrew/Caskroom/miniforge/base/envs/granite-311b/lib/python3.11/site-packages (from httpx<0.28.0,>=0.27.0->ollama) (1.0.6)\n",
      "Requirement already satisfied: idna in /opt/homebrew/Caskroom/miniforge/base/envs/granite-311b/lib/python3.11/site-packages (from httpx<0.28.0,>=0.27.0->ollama) (3.10)\n",
      "Requirement already satisfied: sniffio in /opt/homebrew/Caskroom/miniforge/base/envs/granite-311b/lib/python3.11/site-packages (from httpx<0.28.0,>=0.27.0->ollama) (1.3.1)\n",
      "Requirement already satisfied: h11<0.15,>=0.13 in /opt/homebrew/Caskroom/miniforge/base/envs/granite-311b/lib/python3.11/site-packages (from httpcore==1.*->httpx<0.28.0,>=0.27.0->ollama) (0.14.0)\n"
     ]
    }
   ],
   "source": [
    "!pip install ollama"
   ]
  },
  {
   "cell_type": "code",
   "execution_count": 7,
   "metadata": {},
   "outputs": [],
   "source": [
    "import ollama"
   ]
  },
  {
   "cell_type": "code",
   "execution_count": 12,
   "metadata": {},
   "outputs": [],
   "source": [
    "default_system_prompt = f\"\"\"\n",
    "    You are a helpful software engineer. You write clear, concise, well-commented code. \n",
    "    Make sure you only generate python code that makes the Hypothesis tests pass!\n",
    "    \"\"\""
   ]
  },
  {
   "cell_type": "code",
   "execution_count": 17,
   "metadata": {},
   "outputs": [],
   "source": [
    "def ollama_code_gen(test_code: str,\n",
    "                    system_prompt:str = default_system_prompt,\n",
    "                    examples: str = \"\",\n",
    "                    model: str ='granite-code:20b') -> str:\n",
    "    user_prompt = f\"\"\"\n",
    "        {examples}\n",
    "        Analyze the following Python tests written with the hypothesis library\n",
    "        (https://hypothesis.readthedocs.io/en/latest/). Write a definition of the Rational class required\n",
    "        to make these tests pass. DO NOT echo the tests in your output! Here is the test code:\n",
    "        {test_code}\n",
    "        Answer:\"\"\"\n",
    "\n",
    "    response = ollama.chat(model=model, messages=[\n",
    "      {\n",
    "        'role':'system',\n",
    "        'content': system_prompt\n",
    "      },\n",
    "      {\n",
    "        'role': 'user',\n",
    "        'content': user_prompt\n",
    "      },\n",
    "    ])\n",
    "\n",
    "    result = response['message']['content']\n",
    "    print(result)\n",
    "    return result"
   ]
  },
  {
   "cell_type": "code",
   "execution_count": 18,
   "metadata": {},
   "outputs": [
    {
     "name": "stdout",
     "output_type": "stream",
     "text": [
      "Here is an implementation of the Rational class that makes these tests pass:\n",
      "\n",
      "```python\n",
      "from math import gcd\n",
      "\n",
      "class Rational:\n",
      "    \"\"\"\n",
      "    A class representing rational numbers.\n",
      "\n",
      "    Attributes:\n",
      "        numerator (int): The numerator of the rational number.\n",
      "        denominator (int): The denominator of the rational number.\n",
      "\n",
      "    Methods:\n",
      "        __init__(self, numerator, denominator): Initializes a Rational object with the given numerator and denominator.\n",
      "        __str__(self): Returns a string representation of the Rational object.\n",
      "        __eq__(self, other): Checks if two Rational objects are equal.\n",
      "    \"\"\"\n",
      "\n",
      "    def __init__(self, numerator, denominator):\n",
      "        \"\"\"\n",
      "        Initializes a Rational object with the given numerator and denominator.\n",
      "\n",
      "        Args:\n",
      "            numerator (int): The numerator of the rational number.\n",
      "            denominator (int): The denominator of the rational number.\n",
      "\n",
      "        Raises:\n",
      "            ValueError: If the denominator is zero.\n",
      "        \"\"\"\n",
      "        if denominator == 0:\n",
      "            raise ValueError(\"Cannot create a Rational with a zero denominator.\")\n",
      "\n",
      "        divisor = gcd(numerator, denominator)\n",
      "        self.numerator = numerator // divisor\n",
      "        self.denominator = denominator // divisor\n",
      "\n",
      "    def __str__(self):\n",
      "        \"\"\"\n",
      "        Returns a string representation of the Rational object.\n",
      "\n",
      "        Returns:\n",
      "            str: A string representation of the Rational object in the form \"numerator/denominator\".\n",
      "        \"\"\"\n",
      "        return f\"{self.numerator}/{self.denominator}\"\n",
      "\n",
      "    def __eq__(self, other):\n",
      "        \"\"\"\n",
      "        Checks if two Rational objects are equal.\n",
      "\n",
      "        Args:\n",
      "            other (Rational): The other Rational object to compare with.\n",
      "\n",
      "        Returns:\n",
      "            bool: True if the two Rational objects are equal, False otherwise.\n",
      "        \"\"\"\n",
      "        return self.numerator * other.denominator == self.denominator * other.numerator\n",
      "```\n"
     ]
    }
   ],
   "source": [
    "# Construct a prompt with no tabs and newlines.\n",
    "ollama_result = ollama_code_gen(tests)"
   ]
  },
  {
   "cell_type": "markdown",
   "metadata": {},
   "source": [
    "### Let's Try It!\n",
    "\n",
    "Copy the generated `Rational` class definition in the output above. (If there isn't one, the generation failed, so try running it again!!) Paste that code into the `rational/rational.py` file, which currently contains just comments.\n",
    "\n",
    "Don't include the test code or any markdown or other text included in the generated output!\n",
    "\n",
    "Do include appropriate `import` statements, e.g., you may see the generated code calls `gcd` (for\n",
    "_greatest common divisor_, which would require this import `from math import gcd`.\n",
    "\n",
    "Is the indentation correct? Make sure each level is properly indented.\n",
    "\n",
    "Then, run the following cell, which will run the test code we read above."
   ]
  },
  {
   "cell_type": "code",
   "execution_count": 19,
   "metadata": {},
   "outputs": [
    {
     "name": "stdout",
     "output_type": "stream",
     "text": [
      "......\n",
      "----------------------------------------------------------------------\n",
      "Ran 6 tests in 0.189s\n",
      "\n",
      "OK\n"
     ]
    }
   ],
   "source": [
    "!python ./test_rational.py"
   ]
  },
  {
   "cell_type": "markdown",
   "metadata": {},
   "source": [
    "Did the tests pass? If not, what can you change in the generated `Rational` code to make them pass. If the test did pass, when you look at the generated code, does it look correct? Compare what it does with the definition of Rational you find at some reliable source, like [this Wikipedia page](https://en.wikipedia.org/wiki/Rational_number).\n",
    "\n",
    "Also, compare what you got above to `rational/rational-good-example.py`, which was generated by one of our test runs. (It is not the only possible \"good\" definition...)"
   ]
  },
  {
   "cell_type": "markdown",
   "metadata": {},
   "source": [
    "Let's try invoking the model staged in Replicate.\n",
    "\n",
    "> **NOTE:** You can select a Granite Code model from the [`ibm-granite`](https://replicate.com/ibm-granite) org on Replicate. Here we use the Replicate Langchain client to connect to the model.\n",
    ">\n",
    "> \n",
    "To connect to a model on a provider other than Replicate, substitute this code cell with one from the [LLM component recipe](https://github.com/ibm-granite-community/granite-kitchen/blob/main/recipes/Components/Langchain_LLMs.ipynb)."
   ]
  },
  {
   "cell_type": "code",
   "execution_count": 21,
   "metadata": {},
   "outputs": [],
   "source": [
    "from langchain_community.llms import Replicate\n",
    "from ibm_granite_community.notebook_utils import get_env_var\n",
    "\n",
    "default_replicate_model = Replicate(\n",
    "    model=\"ibm-granite/granite-20b-code-instruct-8k\",\n",
    "    replicate_api_token=get_env_var('REPLICATE_API_TOKEN'),\n",
    ")"
   ]
  },
  {
   "cell_type": "code",
   "execution_count": 22,
   "metadata": {},
   "outputs": [],
   "source": [
    "def replicate_code_gen(test_code: str,\n",
    "                       system_prompt:str = default_system_prompt,\n",
    "                       examples: str = \"\",\n",
    "                       replicate_model: Replicate = default_replicate_model) -> str:\n",
    "    prompt = f\"\"\"\n",
    "        system prompt: {system_prompt}\n",
    "        examples: {examples}\n",
    "        Analyze the following Python tests written with the hypothesis library\n",
    "        (https://hypothesis.readthedocs.io/en/latest/). Write a definition of the Rational class required\n",
    "        to make these tests pass. DO NOT echo the tests in your output! Here is the test code:\n",
    "        {test_code}\n",
    "        Answer:\"\"\"\n",
    "\n",
    "    result = replicate_model.invoke(prompt)\n",
    "\n",
    "#    result = response['message']['content']\n",
    "    print(result)\n",
    "    return result"
   ]
  },
  {
   "cell_type": "code",
   "execution_count": 23,
   "metadata": {},
   "outputs": [
    {
     "name": "stdout",
     "output_type": "stream",
     "text": [
      "Here is the definition of the Rational class that makes the Hypothesis tests pass:\n",
      "\n",
      "```python\n",
      "class Rational:\n",
      " def __init__(self, numerator, denominator):\n",
      " self.numerator = numerator\n",
      " self.denominator = denominator\n",
      "\n",
      " def __eq__(self, other):\n",
      " return self.numerator * other.denominator == self.denominator * other.numerator\n",
      "```\n",
      "\n",
      "The Rational class has two instance variables, numerator and denominator, which are initialized in the constructor. The __eq__ method is overridden to compare two instances of Rational based on the rule that a/b == c/d if and only if ad == bc. This ensures that the Hypothesis tests pass. \n"
     ]
    }
   ],
   "source": [
    "replicate_result = replicate_code_gen(tests)"
   ]
  },
  {
   "cell_type": "markdown",
   "metadata": {},
   "source": [
    "As above, copy just the `Rational` definition to `rational/rational.py` and run the tests:"
   ]
  },
  {
   "cell_type": "code",
   "execution_count": 25,
   "metadata": {},
   "outputs": [
    {
     "name": "stdout",
     "output_type": "stream",
     "text": [
      "...F.F\n",
      "======================================================================\n",
      "FAIL: test_init_takes_numerator_denominator (__main__.TestRational.test_init_takes_numerator_denominator)\n",
      "A \"relatively-trivial\" test, but note that the returned\n",
      "----------------------------------------------------------------------\n",
      "Traceback (most recent call last):\n",
      "  File \"/Users/deanwampler/ibm/ibm-granite-community/granite-code-cookbook/recipes/Code_Gen_from_Tests/./test_rational.py\", line 29, in test_init_takes_numerator_denominator\n",
      "    def test_init_takes_numerator_denominator(self, numer, denom):\n",
      "               ^^^^^^^\n",
      "  File \"/opt/homebrew/Caskroom/miniforge/base/envs/granite-311b/lib/python3.11/site-packages/hypothesis/core.py\", line 1722, in wrapped_test\n",
      "    raise the_error_hypothesis_found\n",
      "  File \"/Users/deanwampler/ibm/ibm-granite-community/granite-code-cookbook/recipes/Code_Gen_from_Tests/./test_rational.py\", line 38, in test_init_takes_numerator_denominator\n",
      "    self.assertEqual(denom // divisor, rat.denominator)\n",
      "AssertionError: 1 != 2\n",
      "Falsifying example: test_init_takes_numerator_denominator(\n",
      "    self=<__main__.TestRational testMethod=test_init_takes_numerator_denominator>,\n",
      "    numer=0,\n",
      "    denom=2,\n",
      ")\n",
      "Explanation:\n",
      "    These lines were always and only run by failing examples:\n",
      "        /opt/homebrew/Caskroom/miniforge/base/envs/granite-311b/lib/python3.11/unittest/case.py:864\n",
      "\n",
      "======================================================================\n",
      "FAIL: test_zero_denominator_raises (__main__.TestRational.test_zero_denominator_raises)\n",
      "Don't allow zero for the denominator!!\n",
      "----------------------------------------------------------------------\n",
      "Traceback (most recent call last):\n",
      "  File \"/Users/deanwampler/ibm/ibm-granite-community/granite-code-cookbook/recipes/Code_Gen_from_Tests/./test_rational.py\", line 41, in test_zero_denominator_raises\n",
      "    def test_zero_denominator_raises(self, numer):\n",
      "               ^^^^^^^\n",
      "  File \"/opt/homebrew/Caskroom/miniforge/base/envs/granite-311b/lib/python3.11/site-packages/hypothesis/core.py\", line 1722, in wrapped_test\n",
      "    raise the_error_hypothesis_found\n",
      "  File \"/Users/deanwampler/ibm/ibm-granite-community/granite-code-cookbook/recipes/Code_Gen_from_Tests/./test_rational.py\", line 45, in test_zero_denominator_raises\n",
      "    with self.assertRaises(ValueError):\n",
      "AssertionError: ValueError not raised\n",
      "Falsifying example: test_zero_denominator_raises(\n",
      "    self=<__main__.TestRational testMethod=test_zero_denominator_raises>,\n",
      "    numer=0,  # or any other generated value\n",
      ")\n",
      "\n",
      "----------------------------------------------------------------------\n",
      "Ran 6 tests in 0.408s\n",
      "\n",
      "FAILED (failures=2)\n"
     ]
    }
   ],
   "source": [
    "!python ./test_rational.py"
   ]
  },
  {
   "cell_type": "markdown",
   "metadata": {},
   "source": [
    "## For Further Study\n",
    "* Add new tests to `test_rational.py` for other operators, like `*`, `/`, `+`, `-`, `<`, `<=`, `>`, `>=`, then see if these operators are properly implemented. Keep in mind that `Rational(i*numerator, i*denominator)`, for some integer `i`, numerator `numerator`, and denominator `denominator`, is always \"rationalized\" to `Rational(numerator, denominator)`."
   ]
  },
  {
   "cell_type": "code",
   "execution_count": null,
   "metadata": {},
   "outputs": [],
   "source": []
  }
 ],
 "metadata": {
  "kernelspec": {
   "display_name": "Python 3 (ipykernel)",
   "language": "python",
   "name": "python3"
  },
  "language_info": {
   "codemirror_mode": {
    "name": "ipython",
    "version": 3
   },
   "file_extension": ".py",
   "mimetype": "text/x-python",
   "name": "python",
   "nbconvert_exporter": "python",
   "pygments_lexer": "ipython3",
   "version": "3.11.10"
  }
 },
 "nbformat": 4,
 "nbformat_minor": 4
}
