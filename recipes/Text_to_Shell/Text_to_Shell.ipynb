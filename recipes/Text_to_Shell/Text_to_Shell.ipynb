{
 "cells": [
  {
   "cell_type": "markdown",
   "metadata": {},
   "source": [
    "\n",
    "# Generating Bash Code with Granite Code and Ollama\n"
   ]
  },
  {
   "cell_type": "markdown",
   "metadata": {},
   "source": [
    "### Prerequisite: Install Ollama and Granite Code models\n",
    "\n",
    "1. [Download and Start Ollama](https://ollama.com/download)\n",
    "1. Install Granite Code 20b: `ollama pull granite-code:20b`\n",
    "1. Install Granite Code 8b: `ollama pull granite-code:8b`"
   ]
  },
  {
   "cell_type": "code",
   "execution_count": 1,
   "metadata": {},
   "outputs": [
    {
     "name": "stdout",
     "output_type": "stream",
     "text": [
      "Requirement already satisfied: ollama in /opt/homebrew/Caskroom/miniforge/base/envs/granite-code/lib/python3.11/site-packages (0.3.1)\n",
      "Requirement already satisfied: httpx<0.28.0,>=0.27.0 in /opt/homebrew/Caskroom/miniforge/base/envs/granite-code/lib/python3.11/site-packages (from ollama) (0.27.0)\n",
      "Requirement already satisfied: anyio in /opt/homebrew/Caskroom/miniforge/base/envs/granite-code/lib/python3.11/site-packages (from httpx<0.28.0,>=0.27.0->ollama) (4.2.0)\n",
      "Requirement already satisfied: certifi in /opt/homebrew/Caskroom/miniforge/base/envs/granite-code/lib/python3.11/site-packages (from httpx<0.28.0,>=0.27.0->ollama) (2024.7.4)\n",
      "Requirement already satisfied: httpcore==1.* in /opt/homebrew/Caskroom/miniforge/base/envs/granite-code/lib/python3.11/site-packages (from httpx<0.28.0,>=0.27.0->ollama) (1.0.5)\n",
      "Requirement already satisfied: idna in /opt/homebrew/Caskroom/miniforge/base/envs/granite-code/lib/python3.11/site-packages (from httpx<0.28.0,>=0.27.0->ollama) (3.7)\n",
      "Requirement already satisfied: sniffio in /opt/homebrew/Caskroom/miniforge/base/envs/granite-code/lib/python3.11/site-packages (from httpx<0.28.0,>=0.27.0->ollama) (1.3.0)\n",
      "Requirement already satisfied: h11<0.15,>=0.13 in /opt/homebrew/Caskroom/miniforge/base/envs/granite-code/lib/python3.11/site-packages (from httpcore==1.*->httpx<0.28.0,>=0.27.0->ollama) (0.14.0)\n"
     ]
    }
   ],
   "source": [
    "!pip install ollama"
   ]
  },
  {
   "cell_type": "markdown",
   "metadata": {},
   "source": [
    "\n",
    "## One-shot Prompt with Granite Code 20b\n",
    "\n",
    "In One-shot prompting, you provide the model with a question and no examples. The model will generate an answer given its training. Larger models tend to do better at this task.\n",
    "\n",
    "Use the [ollama-python package](https://github.com/ollama/ollama-python) to access the model."
   ]
  },
  {
   "cell_type": "code",
   "execution_count": 1,
   "metadata": {},
   "outputs": [],
   "source": [
    "import ollama"
   ]
  },
  {
   "cell_type": "markdown",
   "metadata": {},
   "source": [
    "Let's write two helper functions that we'll use for all our queries. First, we'll find it useful to determine the name of our operating system and use that string in queries. This is because shell commands sometimes have different options on Linux vs. MacOS, etc. We'll write our queries so they take this difference into account. "
   ]
  },
  {
   "cell_type": "code",
   "execution_count": 14,
   "metadata": {},
   "outputs": [],
   "source": [
    "import platform\n",
    "\n",
    "def os_name():\n",
    "    os_name = platform.system()\n",
    "    # It turns out, using \"MacOS\" is better than \"Darwin\", which is what gets returned on MacOS. \n",
    "    # For all other cases, the returned value should be fine as is, so we map the result to the desired\n",
    "    # name, but only for MacOS...\n",
    "    name_map = {'Darwin': 'MacOS'}\n",
    "    # ... then pass the os_name value as the second arg, which is used as the default return value.\n",
    "    return name_map.get(os_name, os_name)  "
   ]
  },
  {
   "cell_type": "code",
   "execution_count": 15,
   "metadata": {},
   "outputs": [
    {
     "name": "stdout",
     "output_type": "stream",
     "text": [
      "My OS is MacOS\n"
     ]
    }
   ],
   "source": [
    "print(f\"My OS is {os_name()}\")"
   ]
  },
  {
   "cell_type": "markdown",
   "metadata": {},
   "source": [
    "Now let's write a helper function for running queries, wrapping the Ollama API. Note the default model name we'll used, Granite Code 20B (parameters). Also, note how we add additional content to the user's input prompt, such \"make sure you write code that works for _my_ system!\""
   ]
  },
  {
   "cell_type": "code",
   "execution_count": 26,
   "metadata": {},
   "outputs": [],
   "source": [
    "def query(prompt: str, model: str = 'granite-code:20b') -> str:\n",
    "    response = ollama.generate(\n",
    "        model=model, \n",
    "        prompt=f\"{prompt}. Make sure you generate code that is {os_name()}-compatible!\")\n",
    "    print(response[\"response\"])\n",
    "    return response[\"response\"]"
   ]
  },
  {
   "cell_type": "code",
   "execution_count": 27,
   "metadata": {},
   "outputs": [
    {
     "name": "stdout",
     "output_type": "stream",
     "text": [
      "Here's an example of a bash script that will achieve this task:\n",
      "\n",
      "```bash\n",
      "#!/bin/bash\n",
      "find . -type f -mtime -7 | head -n 50 | xargs ls -lt\n",
      "```\n",
      "\n",
      "This script uses the `find` command to search for files (`-type f`) within the current working directory and its subdirectories. The `-mtime -7` option limits the search to files modified within the last week (i.e., 7 days). The `head -n 50` command selects the first 50 matching files, and `xargs ls -lt` displays the last modification time for each of these files.\n",
      "\n",
      "Note that this script assumes a Mac-based system as it uses the `ls` command with the `-lt` option to display the last modification time in a human-readable format. If you are using a different operating system, you may need to adjust the final command accordingly.\n"
     ]
    }
   ],
   "source": [
    "query(\"\"\"\n",
    "    Show me a bash script to print the first 50 files found under the current working directory\n",
    "    that have been modified within the last week. Make sure you show the last modification time \n",
    "    for each file in the output.\"\"\")"
   ]
  },
  {
   "cell_type": "markdown",
   "metadata": {},
   "source": [
    "Paste the command in the next cell. _**Keep the `!` shown**_, e.g., `!ls -al`, so Jupyter knows to run the command as a shell script instead of Python. (You can omit lines like `#!/bin/bash`.) \n",
    "\n",
    "Does the script work? If not try running the query again. Try modifying the query string, too."
   ]
  },
  {
   "cell_type": "code",
   "execution_count": 18,
   "metadata": {
    "scrolled": true
   },
   "outputs": [
    {
     "name": "stdout",
     "output_type": "stream",
     "text": [
      "-rw-r--r--@ 1 deanwampler  staff  15366 Aug 27 17:03 ./Text_to_Shell.ipynb\n",
      "-rw-r--r--@ 1 deanwampler  staff  26285 Aug 27 16:51 ./.ipynb_checkpoints/Text_to_Shell-checkpoint.ipynb\n"
     ]
    }
   ],
   "source": [
    "!find . -type f -mtime -7 | head -n 50 | xargs ls -lta"
   ]
  },
  {
   "cell_type": "markdown",
   "metadata": {},
   "source": [
    "## Few-shot Prompting with Granite Code 8b\n",
    "\n",
    "In few-shot prompting, you provide the model with a question and some examples. The model will generate an answer given its training. The additional examples help the model zero in on a pattern, which may be required for smaller models to perform well at this task."
   ]
  },
  {
   "cell_type": "code",
   "execution_count": 32,
   "metadata": {},
   "outputs": [],
   "source": [
    "examples = \"\"\"\n",
    "Question:\n",
    "Recursively finds files like '*.js', and filters out files with 'excludeddir' in path.\n",
    "Answer:\n",
    "find . -name '*.js' | grep -v excludeddir\n",
    "\n",
    "Question:\n",
    "Dump \\\"a0b\\\" as hexadecimal bytes\n",
    "Answer:\n",
    "printf \\\"a0b\\\" | od -tx1\n",
    "\n",
    "Question:\n",
    "create a tar ball of all pdf files in current folder\n",
    "Answer:\n",
    "find . -name *.pdf | xargs tar czvf pdf.tar\n",
    "\n",
    "Question:\n",
    "Sort all files/directories in the current directory, but no subdirectories, according to modification time and print only the recent 7 of them\n",
    "Answer:\n",
    "find . -maxdepth 1 -exec stat -f \"%Sm {}\" \\; | sort -n -r | tail -n 7\n",
    "\n",
    "Question:\n",
    "find all the empty directories in the current folder\n",
    "Answer:\n",
    "find . -type d -empty\n",
    "\n",
    "\"\"\""
   ]
  },
  {
   "cell_type": "markdown",
   "metadata": {},
   "source": [
    "Let's define another helper function for calling `ollama.chat()`"
   ]
  },
  {
   "cell_type": "code",
   "execution_count": 33,
   "metadata": {},
   "outputs": [],
   "source": [
    "def chat1(prompt: str, examples: str = examples, model: str ='granite-code:8b') -> str:\n",
    "    user_prompt = f\"\"\"\n",
    "        {examples}\n",
    "        Question:\n",
    "        {prompt}. Make sure you generate code that is {os_name()}-compatible!\n",
    "        Answer:\"\"\"\n",
    "    response = ollama.chat(model=model, messages=[\n",
    "      {\n",
    "        'role': 'user',\n",
    "        'content': user_prompt\n",
    "      },\n",
    "    ])\n",
    "    answer = response['message']['content']\n",
    "    print(answer)\n",
    "    return answer"
   ]
  },
  {
   "cell_type": "code",
   "execution_count": 34,
   "metadata": {},
   "outputs": [
    {
     "name": "stdout",
     "output_type": "stream",
     "text": [
      "find . -type f -mtime -7 | head -n 50\n"
     ]
    },
    {
     "data": {
      "text/plain": [
       "'find . -type f -mtime -7 | head -n 50'"
      ]
     },
     "execution_count": 34,
     "metadata": {},
     "output_type": "execute_result"
    }
   ],
   "source": [
    "chat1(\"\"\"\n",
    "    Show me a bash script to print the first 50 files found under the current working directory\n",
    "    that have been modified within the last week. Make sure you show the last modification time \n",
    "    for each file in the output.\"\"\")"
   ]
  },
  {
   "cell_type": "markdown",
   "metadata": {},
   "source": [
    "## Adding a System Prompt\n",
    "\n",
    "A system prompt can be used to provide additional instructions and clarity or context for the task. Here we let the model know what we expect from it.\n",
    "\n",
    "Let's define a final helper function that uses a system prompt."
   ]
  },
  {
   "cell_type": "code",
   "execution_count": 37,
   "metadata": {},
   "outputs": [],
   "source": [
    "default_system_prompt = f\"\"\"\n",
    "    You are a helpful software engineer. You write clear, concise, well-commented code.\"\"\"\n",
    "\n",
    "def chat(prompt: str, \n",
    "         system_prompt:str = default_system_prompt,\n",
    "         examples: str = examples, \n",
    "         model: str ='granite-code:8b') -> str:\n",
    "    user_prompt = f\"\"\"\n",
    "        {examples}\n",
    "        Question:\n",
    "        {prompt} Make sure you only generate code that is {os_name()}-compatible!\n",
    "        Answer:\"\"\" \n",
    "    response = ollama.chat(model=model, messages=[\n",
    "      {\n",
    "        'role':'system',\n",
    "        'content': system_prompt  \n",
    "      },\n",
    "      {\n",
    "        'role': 'user',\n",
    "        'content': user_prompt\n",
    "      },\n",
    "    ])\n",
    "    answer = response['message']['content']\n",
    "    print(answer)\n",
    "    return answer"
   ]
  },
  {
   "cell_type": "code",
   "execution_count": 39,
   "metadata": {},
   "outputs": [
    {
     "name": "stdout",
     "output_type": "stream",
     "text": [
      "Here's a bash script that prints the first 50 files found under the current working directory that have been modified within the last week, along with their last modification times:\n",
      "\n",
      "    find . -type f -mmin -1440 | head -n 50 | xargs ls -lth\n",
      "    Explanation:\n",
      "\n",
      "        The 'find' command is used to search for files in the current directory and its subdirectories that meet certain criteria. In this case, we are looking for files (indicated by '-type f') that have been modified within the last 7 days (-mmin -1440).\n",
      "        \n",
      "        The output of the 'find' command is then piped to the 'head' command, which limits the output to the first 50 lines. This ensures that we only see the most recently modified files.\n",
      "        \n",
      "        Finally, the 'xargs' command is used to pass each file name to the 'ls -lth' command, which prints a detailed list of the files along with their last modification times in human-readable format.\n"
     ]
    },
    {
     "data": {
      "text/plain": [
       "\"Here's a bash script that prints the first 50 files found under the current working directory that have been modified within the last week, along with their last modification times:\\n\\n    find . -type f -mmin -1440 | head -n 50 | xargs ls -lth\\n    Explanation:\\n\\n        The 'find' command is used to search for files in the current directory and its subdirectories that meet certain criteria. In this case, we are looking for files (indicated by '-type f') that have been modified within the last 7 days (-mmin -1440).\\n        \\n        The output of the 'find' command is then piped to the 'head' command, which limits the output to the first 50 lines. This ensures that we only see the most recently modified files.\\n        \\n        Finally, the 'xargs' command is used to pass each file name to the 'ls -lth' command, which prints a detailed list of the files along with their last modification times in human-readable format.\""
      ]
     },
     "execution_count": 39,
     "metadata": {},
     "output_type": "execute_result"
    }
   ],
   "source": [
    "chat(\"\"\"\n",
    "    Show me a bash script to print the first 50 files found under the current working directory\n",
    "    that have been modified within the last week. Make sure you show the last modification time \n",
    "    for each file in the output.\"\"\")"
   ]
  },
  {
   "cell_type": "code",
   "execution_count": null,
   "metadata": {},
   "outputs": [],
   "source": []
  }
 ],
 "metadata": {
  "kernelspec": {
   "display_name": "Python 3 (ipykernel)",
   "language": "python",
   "name": "python3"
  },
  "language_info": {
   "codemirror_mode": {
    "name": "ipython",
    "version": 3
   },
   "file_extension": ".py",
   "mimetype": "text/x-python",
   "name": "python",
   "nbconvert_exporter": "python",
   "pygments_lexer": "ipython3",
   "version": "3.11.9"
  }
 },
 "nbformat": 4,
 "nbformat_minor": 4
}
