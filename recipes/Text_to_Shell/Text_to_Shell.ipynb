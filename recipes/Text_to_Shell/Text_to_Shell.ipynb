{
 "cells": [
  {
   "cell_type": "markdown",
   "metadata": {},
   "source": [
    "\n",
    "# Generating Bash Code with Granite Code and Ollama\n"
   ]
  },
  {
   "cell_type": "markdown",
   "metadata": {},
   "source": [
    "> **NOTE:** This recipe assumes you are working on a Linux, MacOS, or other UNIX-compatible system. While we haven't tested on Windows, some of the examples may generate valid DOS or PowerShell output. See comments below.\n"
   ]
  },
  {
   "cell_type": "code",
   "execution_count": 1,
   "metadata": {},
   "outputs": [
    {
     "name": "stdout",
     "output_type": "stream",
     "text": [
      "Collecting git+https://github.com/ibm-granite-community/utils\n",
      "  Cloning https://github.com/ibm-granite-community/utils to /private/var/folders/nc/jrql4k0n2j73h7xktzxdr4pr0000gn/T/pip-req-build-a4djcg8w\n",
      "  Running command git clone --filter=blob:none --quiet https://github.com/ibm-granite-community/utils /private/var/folders/nc/jrql4k0n2j73h7xktzxdr4pr0000gn/T/pip-req-build-a4djcg8w\n",
      "  Resolved https://github.com/ibm-granite-community/utils to commit 5bd776c33c38e4945434c6eb79796b4358b0d0ef\n",
      "  Installing build dependencies ... \u001b[?25ldone\n",
      "\u001b[?25h  Getting requirements to build wheel ... \u001b[?25ldone\n",
      "\u001b[?25h  Preparing metadata (pyproject.toml) ... \u001b[?25ldone\n",
      "\u001b[?25hRequirement already satisfied: python-dotenv in /Users/fayvor/Dev/granite-code-cookbook/.venv/lib/python3.10/site-packages (from ibm_granite_community==0.1.0) (1.0.1)\n",
      "Requirement already satisfied: langchain-community<0.3.0 in /Users/fayvor/Dev/granite-code-cookbook/.venv/lib/python3.10/site-packages (from ibm_granite_community==0.1.0) (0.2.17)\n",
      "Requirement already satisfied: langchain-ollama<0.2.0 in /Users/fayvor/Dev/granite-code-cookbook/.venv/lib/python3.10/site-packages (from ibm_granite_community==0.1.0) (0.1.3)\n",
      "Requirement already satisfied: replicate in /Users/fayvor/Dev/granite-code-cookbook/.venv/lib/python3.10/site-packages (from ibm_granite_community==0.1.0) (0.34.1)\n",
      "Requirement already satisfied: langchain-pinecone in /Users/fayvor/Dev/granite-code-cookbook/.venv/lib/python3.10/site-packages (from ibm_granite_community==0.1.0) (0.1.3)\n",
      "Requirement already satisfied: langchain-milvus in /Users/fayvor/Dev/granite-code-cookbook/.venv/lib/python3.10/site-packages (from ibm_granite_community==0.1.0) (0.1.5)\n",
      "Requirement already satisfied: langchain-chroma in /Users/fayvor/Dev/granite-code-cookbook/.venv/lib/python3.10/site-packages (from ibm_granite_community==0.1.0) (0.1.4)\n",
      "Requirement already satisfied: langchain-ibm in /Users/fayvor/Dev/granite-code-cookbook/.venv/lib/python3.10/site-packages (from ibm_granite_community==0.1.0) (0.1.12)\n",
      "Requirement already satisfied: langchain-huggingface in /Users/fayvor/Dev/granite-code-cookbook/.venv/lib/python3.10/site-packages (from ibm_granite_community==0.1.0) (0.0.3)\n",
      "Collecting requests==2.32.3 (from ibm_granite_community==0.1.0)\n",
      "  Using cached requests-2.32.3-py3-none-any.whl.metadata (4.6 kB)\n",
      "Requirement already satisfied: charset-normalizer<4,>=2 in /Users/fayvor/Dev/granite-code-cookbook/.venv/lib/python3.10/site-packages (from requests==2.32.3->ibm_granite_community==0.1.0) (3.3.2)\n",
      "Requirement already satisfied: idna<4,>=2.5 in /Users/fayvor/Dev/granite-code-cookbook/.venv/lib/python3.10/site-packages (from requests==2.32.3->ibm_granite_community==0.1.0) (3.10)\n",
      "Requirement already satisfied: urllib3<3,>=1.21.1 in /Users/fayvor/Dev/granite-code-cookbook/.venv/lib/python3.10/site-packages (from requests==2.32.3->ibm_granite_community==0.1.0) (2.2.3)\n",
      "Requirement already satisfied: certifi>=2017.4.17 in /Users/fayvor/Dev/granite-code-cookbook/.venv/lib/python3.10/site-packages (from requests==2.32.3->ibm_granite_community==0.1.0) (2024.8.30)\n",
      "Requirement already satisfied: PyYAML>=5.3 in /Users/fayvor/Dev/granite-code-cookbook/.venv/lib/python3.10/site-packages (from langchain-community<0.3.0->ibm_granite_community==0.1.0) (6.0.2)\n",
      "Requirement already satisfied: SQLAlchemy<3,>=1.4 in /Users/fayvor/Dev/granite-code-cookbook/.venv/lib/python3.10/site-packages (from langchain-community<0.3.0->ibm_granite_community==0.1.0) (2.0.35)\n",
      "Requirement already satisfied: aiohttp<4.0.0,>=3.8.3 in /Users/fayvor/Dev/granite-code-cookbook/.venv/lib/python3.10/site-packages (from langchain-community<0.3.0->ibm_granite_community==0.1.0) (3.10.6)\n",
      "Requirement already satisfied: dataclasses-json<0.7,>=0.5.7 in /Users/fayvor/Dev/granite-code-cookbook/.venv/lib/python3.10/site-packages (from langchain-community<0.3.0->ibm_granite_community==0.1.0) (0.6.7)\n",
      "Requirement already satisfied: langchain<0.3.0,>=0.2.16 in /Users/fayvor/Dev/granite-code-cookbook/.venv/lib/python3.10/site-packages (from langchain-community<0.3.0->ibm_granite_community==0.1.0) (0.2.16)\n",
      "Requirement already satisfied: langchain-core<0.3.0,>=0.2.39 in /Users/fayvor/Dev/granite-code-cookbook/.venv/lib/python3.10/site-packages (from langchain-community<0.3.0->ibm_granite_community==0.1.0) (0.2.41)\n",
      "Requirement already satisfied: langsmith<0.2.0,>=0.1.112 in /Users/fayvor/Dev/granite-code-cookbook/.venv/lib/python3.10/site-packages (from langchain-community<0.3.0->ibm_granite_community==0.1.0) (0.1.128)\n",
      "Requirement already satisfied: numpy<2,>=1 in /Users/fayvor/Dev/granite-code-cookbook/.venv/lib/python3.10/site-packages (from langchain-community<0.3.0->ibm_granite_community==0.1.0) (1.26.4)\n",
      "Requirement already satisfied: tenacity!=8.4.0,<9.0.0,>=8.1.0 in /Users/fayvor/Dev/granite-code-cookbook/.venv/lib/python3.10/site-packages (from langchain-community<0.3.0->ibm_granite_community==0.1.0) (8.5.0)\n",
      "Requirement already satisfied: ollama<1,>=0.3.0 in /Users/fayvor/Dev/granite-code-cookbook/.venv/lib/python3.10/site-packages (from langchain-ollama<0.2.0->ibm_granite_community==0.1.0) (0.3.3)\n",
      "Requirement already satisfied: chromadb!=0.5.4,!=0.5.5,<0.6.0,>=0.4.0 in /Users/fayvor/Dev/granite-code-cookbook/.venv/lib/python3.10/site-packages (from langchain-chroma->ibm_granite_community==0.1.0) (0.5.9)\n",
      "Requirement already satisfied: fastapi<1,>=0.95.2 in /Users/fayvor/Dev/granite-code-cookbook/.venv/lib/python3.10/site-packages (from langchain-chroma->ibm_granite_community==0.1.0) (0.115.0)\n",
      "Requirement already satisfied: huggingface-hub>=0.23.0 in /Users/fayvor/Dev/granite-code-cookbook/.venv/lib/python3.10/site-packages (from langchain-huggingface->ibm_granite_community==0.1.0) (0.25.1)\n",
      "Requirement already satisfied: sentence-transformers>=2.6.0 in /Users/fayvor/Dev/granite-code-cookbook/.venv/lib/python3.10/site-packages (from langchain-huggingface->ibm_granite_community==0.1.0) (3.1.1)\n",
      "Requirement already satisfied: tokenizers>=0.19.1 in /Users/fayvor/Dev/granite-code-cookbook/.venv/lib/python3.10/site-packages (from langchain-huggingface->ibm_granite_community==0.1.0) (0.20.0)\n",
      "Requirement already satisfied: transformers>=4.39.0 in /Users/fayvor/Dev/granite-code-cookbook/.venv/lib/python3.10/site-packages (from langchain-huggingface->ibm_granite_community==0.1.0) (4.45.1)\n",
      "Requirement already satisfied: ibm-watsonx-ai<2.0.0,>=1.0.8 in /Users/fayvor/Dev/granite-code-cookbook/.venv/lib/python3.10/site-packages (from langchain-ibm->ibm_granite_community==0.1.0) (1.1.11)\n",
      "Requirement already satisfied: pymilvus<3.0.0,>=2.4.3 in /Users/fayvor/Dev/granite-code-cookbook/.venv/lib/python3.10/site-packages (from langchain-milvus->ibm_granite_community==0.1.0) (2.4.7)\n",
      "Requirement already satisfied: scipy<2.0,>=1.7 in /Users/fayvor/Dev/granite-code-cookbook/.venv/lib/python3.10/site-packages (from langchain-milvus->ibm_granite_community==0.1.0) (1.14.1)\n",
      "Requirement already satisfied: pinecone-client<6.0.0,>=5.0.0 in /Users/fayvor/Dev/granite-code-cookbook/.venv/lib/python3.10/site-packages (from langchain-pinecone->ibm_granite_community==0.1.0) (5.0.1)\n",
      "Requirement already satisfied: httpx<1,>=0.21.0 in /Users/fayvor/Dev/granite-code-cookbook/.venv/lib/python3.10/site-packages (from replicate->ibm_granite_community==0.1.0) (0.27.2)\n",
      "Requirement already satisfied: packaging in /Users/fayvor/Dev/granite-code-cookbook/.venv/lib/python3.10/site-packages (from replicate->ibm_granite_community==0.1.0) (24.1)\n",
      "Requirement already satisfied: pydantic>1.10.7 in /Users/fayvor/Dev/granite-code-cookbook/.venv/lib/python3.10/site-packages (from replicate->ibm_granite_community==0.1.0) (2.9.2)\n",
      "Requirement already satisfied: typing-extensions>=4.5.0 in /Users/fayvor/Dev/granite-code-cookbook/.venv/lib/python3.10/site-packages (from replicate->ibm_granite_community==0.1.0) (4.12.2)\n",
      "Requirement already satisfied: aiohappyeyeballs>=2.3.0 in /Users/fayvor/Dev/granite-code-cookbook/.venv/lib/python3.10/site-packages (from aiohttp<4.0.0,>=3.8.3->langchain-community<0.3.0->ibm_granite_community==0.1.0) (2.4.0)\n",
      "Requirement already satisfied: aiosignal>=1.1.2 in /Users/fayvor/Dev/granite-code-cookbook/.venv/lib/python3.10/site-packages (from aiohttp<4.0.0,>=3.8.3->langchain-community<0.3.0->ibm_granite_community==0.1.0) (1.3.1)\n",
      "Requirement already satisfied: attrs>=17.3.0 in /Users/fayvor/Dev/granite-code-cookbook/.venv/lib/python3.10/site-packages (from aiohttp<4.0.0,>=3.8.3->langchain-community<0.3.0->ibm_granite_community==0.1.0) (24.2.0)\n",
      "Requirement already satisfied: frozenlist>=1.1.1 in /Users/fayvor/Dev/granite-code-cookbook/.venv/lib/python3.10/site-packages (from aiohttp<4.0.0,>=3.8.3->langchain-community<0.3.0->ibm_granite_community==0.1.0) (1.4.1)\n",
      "Requirement already satisfied: multidict<7.0,>=4.5 in /Users/fayvor/Dev/granite-code-cookbook/.venv/lib/python3.10/site-packages (from aiohttp<4.0.0,>=3.8.3->langchain-community<0.3.0->ibm_granite_community==0.1.0) (6.1.0)\n",
      "Requirement already satisfied: yarl<2.0,>=1.12.0 in /Users/fayvor/Dev/granite-code-cookbook/.venv/lib/python3.10/site-packages (from aiohttp<4.0.0,>=3.8.3->langchain-community<0.3.0->ibm_granite_community==0.1.0) (1.12.1)\n",
      "Requirement already satisfied: async-timeout<5.0,>=4.0 in /Users/fayvor/Dev/granite-code-cookbook/.venv/lib/python3.10/site-packages (from aiohttp<4.0.0,>=3.8.3->langchain-community<0.3.0->ibm_granite_community==0.1.0) (4.0.3)\n",
      "Requirement already satisfied: build>=1.0.3 in /Users/fayvor/Dev/granite-code-cookbook/.venv/lib/python3.10/site-packages (from chromadb!=0.5.4,!=0.5.5,<0.6.0,>=0.4.0->langchain-chroma->ibm_granite_community==0.1.0) (1.2.2)\n",
      "Requirement already satisfied: chroma-hnswlib==0.7.6 in /Users/fayvor/Dev/granite-code-cookbook/.venv/lib/python3.10/site-packages (from chromadb!=0.5.4,!=0.5.5,<0.6.0,>=0.4.0->langchain-chroma->ibm_granite_community==0.1.0) (0.7.6)\n",
      "Requirement already satisfied: uvicorn>=0.18.3 in /Users/fayvor/Dev/granite-code-cookbook/.venv/lib/python3.10/site-packages (from uvicorn[standard]>=0.18.3->chromadb!=0.5.4,!=0.5.5,<0.6.0,>=0.4.0->langchain-chroma->ibm_granite_community==0.1.0) (0.30.6)\n",
      "Requirement already satisfied: posthog>=2.4.0 in /Users/fayvor/Dev/granite-code-cookbook/.venv/lib/python3.10/site-packages (from chromadb!=0.5.4,!=0.5.5,<0.6.0,>=0.4.0->langchain-chroma->ibm_granite_community==0.1.0) (3.6.6)\n",
      "Requirement already satisfied: onnxruntime>=1.14.1 in /Users/fayvor/Dev/granite-code-cookbook/.venv/lib/python3.10/site-packages (from chromadb!=0.5.4,!=0.5.5,<0.6.0,>=0.4.0->langchain-chroma->ibm_granite_community==0.1.0) (1.19.2)\n",
      "Requirement already satisfied: opentelemetry-api>=1.2.0 in /Users/fayvor/Dev/granite-code-cookbook/.venv/lib/python3.10/site-packages (from chromadb!=0.5.4,!=0.5.5,<0.6.0,>=0.4.0->langchain-chroma->ibm_granite_community==0.1.0) (1.27.0)\n",
      "Requirement already satisfied: opentelemetry-exporter-otlp-proto-grpc>=1.2.0 in /Users/fayvor/Dev/granite-code-cookbook/.venv/lib/python3.10/site-packages (from chromadb!=0.5.4,!=0.5.5,<0.6.0,>=0.4.0->langchain-chroma->ibm_granite_community==0.1.0) (1.27.0)\n",
      "Requirement already satisfied: opentelemetry-instrumentation-fastapi>=0.41b0 in /Users/fayvor/Dev/granite-code-cookbook/.venv/lib/python3.10/site-packages (from chromadb!=0.5.4,!=0.5.5,<0.6.0,>=0.4.0->langchain-chroma->ibm_granite_community==0.1.0) (0.48b0)\n",
      "Requirement already satisfied: opentelemetry-sdk>=1.2.0 in /Users/fayvor/Dev/granite-code-cookbook/.venv/lib/python3.10/site-packages (from chromadb!=0.5.4,!=0.5.5,<0.6.0,>=0.4.0->langchain-chroma->ibm_granite_community==0.1.0) (1.27.0)\n",
      "Requirement already satisfied: pypika>=0.48.9 in /Users/fayvor/Dev/granite-code-cookbook/.venv/lib/python3.10/site-packages (from chromadb!=0.5.4,!=0.5.5,<0.6.0,>=0.4.0->langchain-chroma->ibm_granite_community==0.1.0) (0.48.9)\n",
      "Requirement already satisfied: tqdm>=4.65.0 in /Users/fayvor/Dev/granite-code-cookbook/.venv/lib/python3.10/site-packages (from chromadb!=0.5.4,!=0.5.5,<0.6.0,>=0.4.0->langchain-chroma->ibm_granite_community==0.1.0) (4.66.5)\n",
      "Requirement already satisfied: overrides>=7.3.1 in /Users/fayvor/Dev/granite-code-cookbook/.venv/lib/python3.10/site-packages (from chromadb!=0.5.4,!=0.5.5,<0.6.0,>=0.4.0->langchain-chroma->ibm_granite_community==0.1.0) (7.7.0)\n",
      "Requirement already satisfied: importlib-resources in /Users/fayvor/Dev/granite-code-cookbook/.venv/lib/python3.10/site-packages (from chromadb!=0.5.4,!=0.5.5,<0.6.0,>=0.4.0->langchain-chroma->ibm_granite_community==0.1.0) (6.4.5)\n",
      "Requirement already satisfied: grpcio>=1.58.0 in /Users/fayvor/Dev/granite-code-cookbook/.venv/lib/python3.10/site-packages (from chromadb!=0.5.4,!=0.5.5,<0.6.0,>=0.4.0->langchain-chroma->ibm_granite_community==0.1.0) (1.66.1)\n",
      "Requirement already satisfied: bcrypt>=4.0.1 in /Users/fayvor/Dev/granite-code-cookbook/.venv/lib/python3.10/site-packages (from chromadb!=0.5.4,!=0.5.5,<0.6.0,>=0.4.0->langchain-chroma->ibm_granite_community==0.1.0) (4.2.0)\n",
      "Requirement already satisfied: typer>=0.9.0 in /Users/fayvor/Dev/granite-code-cookbook/.venv/lib/python3.10/site-packages (from chromadb!=0.5.4,!=0.5.5,<0.6.0,>=0.4.0->langchain-chroma->ibm_granite_community==0.1.0) (0.12.5)\n",
      "Requirement already satisfied: kubernetes>=28.1.0 in /Users/fayvor/Dev/granite-code-cookbook/.venv/lib/python3.10/site-packages (from chromadb!=0.5.4,!=0.5.5,<0.6.0,>=0.4.0->langchain-chroma->ibm_granite_community==0.1.0) (31.0.0)\n",
      "Requirement already satisfied: mmh3>=4.0.1 in /Users/fayvor/Dev/granite-code-cookbook/.venv/lib/python3.10/site-packages (from chromadb!=0.5.4,!=0.5.5,<0.6.0,>=0.4.0->langchain-chroma->ibm_granite_community==0.1.0) (5.0.1)\n",
      "Requirement already satisfied: orjson>=3.9.12 in /Users/fayvor/Dev/granite-code-cookbook/.venv/lib/python3.10/site-packages (from chromadb!=0.5.4,!=0.5.5,<0.6.0,>=0.4.0->langchain-chroma->ibm_granite_community==0.1.0) (3.10.7)\n",
      "Requirement already satisfied: rich>=10.11.0 in /Users/fayvor/Dev/granite-code-cookbook/.venv/lib/python3.10/site-packages (from chromadb!=0.5.4,!=0.5.5,<0.6.0,>=0.4.0->langchain-chroma->ibm_granite_community==0.1.0) (13.8.1)\n",
      "Requirement already satisfied: marshmallow<4.0.0,>=3.18.0 in /Users/fayvor/Dev/granite-code-cookbook/.venv/lib/python3.10/site-packages (from dataclasses-json<0.7,>=0.5.7->langchain-community<0.3.0->ibm_granite_community==0.1.0) (3.22.0)\n",
      "Requirement already satisfied: typing-inspect<1,>=0.4.0 in /Users/fayvor/Dev/granite-code-cookbook/.venv/lib/python3.10/site-packages (from dataclasses-json<0.7,>=0.5.7->langchain-community<0.3.0->ibm_granite_community==0.1.0) (0.9.0)\n",
      "Requirement already satisfied: starlette<0.39.0,>=0.37.2 in /Users/fayvor/Dev/granite-code-cookbook/.venv/lib/python3.10/site-packages (from fastapi<1,>=0.95.2->langchain-chroma->ibm_granite_community==0.1.0) (0.38.6)\n",
      "Requirement already satisfied: anyio in /Users/fayvor/Dev/granite-code-cookbook/.venv/lib/python3.10/site-packages (from httpx<1,>=0.21.0->replicate->ibm_granite_community==0.1.0) (4.6.0)\n",
      "Requirement already satisfied: httpcore==1.* in /Users/fayvor/Dev/granite-code-cookbook/.venv/lib/python3.10/site-packages (from httpx<1,>=0.21.0->replicate->ibm_granite_community==0.1.0) (1.0.5)\n",
      "Requirement already satisfied: sniffio in /Users/fayvor/Dev/granite-code-cookbook/.venv/lib/python3.10/site-packages (from httpx<1,>=0.21.0->replicate->ibm_granite_community==0.1.0) (1.3.1)\n",
      "Requirement already satisfied: h11<0.15,>=0.13 in /Users/fayvor/Dev/granite-code-cookbook/.venv/lib/python3.10/site-packages (from httpcore==1.*->httpx<1,>=0.21.0->replicate->ibm_granite_community==0.1.0) (0.14.0)\n",
      "Requirement already satisfied: filelock in /Users/fayvor/Dev/granite-code-cookbook/.venv/lib/python3.10/site-packages (from huggingface-hub>=0.23.0->langchain-huggingface->ibm_granite_community==0.1.0) (3.16.1)\n",
      "Requirement already satisfied: fsspec>=2023.5.0 in /Users/fayvor/Dev/granite-code-cookbook/.venv/lib/python3.10/site-packages (from huggingface-hub>=0.23.0->langchain-huggingface->ibm_granite_community==0.1.0) (2024.9.0)\n",
      "Requirement already satisfied: pandas<2.2.0,>=0.24.2 in /Users/fayvor/Dev/granite-code-cookbook/.venv/lib/python3.10/site-packages (from ibm-watsonx-ai<2.0.0,>=1.0.8->langchain-ibm->ibm_granite_community==0.1.0) (2.1.4)\n",
      "Requirement already satisfied: lomond in /Users/fayvor/Dev/granite-code-cookbook/.venv/lib/python3.10/site-packages (from ibm-watsonx-ai<2.0.0,>=1.0.8->langchain-ibm->ibm_granite_community==0.1.0) (0.3.3)\n",
      "Requirement already satisfied: tabulate in /Users/fayvor/Dev/granite-code-cookbook/.venv/lib/python3.10/site-packages (from ibm-watsonx-ai<2.0.0,>=1.0.8->langchain-ibm->ibm_granite_community==0.1.0) (0.9.0)\n",
      "Requirement already satisfied: ibm-cos-sdk<2.14.0,>=2.12.0 in /Users/fayvor/Dev/granite-code-cookbook/.venv/lib/python3.10/site-packages (from ibm-watsonx-ai<2.0.0,>=1.0.8->langchain-ibm->ibm_granite_community==0.1.0) (2.13.6)\n",
      "Requirement already satisfied: importlib-metadata in /Users/fayvor/Dev/granite-code-cookbook/.venv/lib/python3.10/site-packages (from ibm-watsonx-ai<2.0.0,>=1.0.8->langchain-ibm->ibm_granite_community==0.1.0) (8.4.0)\n",
      "Requirement already satisfied: langchain-text-splitters<0.3.0,>=0.2.0 in /Users/fayvor/Dev/granite-code-cookbook/.venv/lib/python3.10/site-packages (from langchain<0.3.0,>=0.2.16->langchain-community<0.3.0->ibm_granite_community==0.1.0) (0.2.4)\n",
      "Requirement already satisfied: jsonpatch<2.0,>=1.33 in /Users/fayvor/Dev/granite-code-cookbook/.venv/lib/python3.10/site-packages (from langchain-core<0.3.0,>=0.2.39->langchain-community<0.3.0->ibm_granite_community==0.1.0) (1.33)\n",
      "Requirement already satisfied: pinecone-plugin-inference<2.0.0,>=1.0.3 in /Users/fayvor/Dev/granite-code-cookbook/.venv/lib/python3.10/site-packages (from pinecone-client<6.0.0,>=5.0.0->langchain-pinecone->ibm_granite_community==0.1.0) (1.1.0)\n",
      "Requirement already satisfied: pinecone-plugin-interface<0.0.8,>=0.0.7 in /Users/fayvor/Dev/granite-code-cookbook/.venv/lib/python3.10/site-packages (from pinecone-client<6.0.0,>=5.0.0->langchain-pinecone->ibm_granite_community==0.1.0) (0.0.7)\n",
      "Requirement already satisfied: annotated-types>=0.6.0 in /Users/fayvor/Dev/granite-code-cookbook/.venv/lib/python3.10/site-packages (from pydantic>1.10.7->replicate->ibm_granite_community==0.1.0) (0.7.0)\n",
      "Requirement already satisfied: pydantic-core==2.23.4 in /Users/fayvor/Dev/granite-code-cookbook/.venv/lib/python3.10/site-packages (from pydantic>1.10.7->replicate->ibm_granite_community==0.1.0) (2.23.4)\n",
      "Requirement already satisfied: setuptools>69 in /Users/fayvor/Dev/granite-code-cookbook/.venv/lib/python3.10/site-packages (from pymilvus<3.0.0,>=2.4.3->langchain-milvus->ibm_granite_community==0.1.0) (75.1.0)\n",
      "Requirement already satisfied: protobuf>=3.20.0 in /Users/fayvor/Dev/granite-code-cookbook/.venv/lib/python3.10/site-packages (from pymilvus<3.0.0,>=2.4.3->langchain-milvus->ibm_granite_community==0.1.0) (4.25.5)\n",
      "Requirement already satisfied: environs<=9.5.0 in /Users/fayvor/Dev/granite-code-cookbook/.venv/lib/python3.10/site-packages (from pymilvus<3.0.0,>=2.4.3->langchain-milvus->ibm_granite_community==0.1.0) (9.5.0)\n",
      "Requirement already satisfied: ujson>=2.0.0 in /Users/fayvor/Dev/granite-code-cookbook/.venv/lib/python3.10/site-packages (from pymilvus<3.0.0,>=2.4.3->langchain-milvus->ibm_granite_community==0.1.0) (5.10.0)\n",
      "Requirement already satisfied: milvus-lite<2.5.0,>=2.4.0 in /Users/fayvor/Dev/granite-code-cookbook/.venv/lib/python3.10/site-packages (from pymilvus<3.0.0,>=2.4.3->langchain-milvus->ibm_granite_community==0.1.0) (2.4.10)\n",
      "Requirement already satisfied: torch>=1.11.0 in /Users/fayvor/Dev/granite-code-cookbook/.venv/lib/python3.10/site-packages (from sentence-transformers>=2.6.0->langchain-huggingface->ibm_granite_community==0.1.0) (2.2.2)\n",
      "Requirement already satisfied: scikit-learn in /Users/fayvor/Dev/granite-code-cookbook/.venv/lib/python3.10/site-packages (from sentence-transformers>=2.6.0->langchain-huggingface->ibm_granite_community==0.1.0) (1.5.2)\n",
      "Requirement already satisfied: Pillow in /Users/fayvor/Dev/granite-code-cookbook/.venv/lib/python3.10/site-packages (from sentence-transformers>=2.6.0->langchain-huggingface->ibm_granite_community==0.1.0) (10.4.0)\n",
      "Requirement already satisfied: greenlet!=0.4.17 in /Users/fayvor/Dev/granite-code-cookbook/.venv/lib/python3.10/site-packages (from SQLAlchemy<3,>=1.4->langchain-community<0.3.0->ibm_granite_community==0.1.0) (3.1.1)\n",
      "Requirement already satisfied: regex!=2019.12.17 in /Users/fayvor/Dev/granite-code-cookbook/.venv/lib/python3.10/site-packages (from transformers>=4.39.0->langchain-huggingface->ibm_granite_community==0.1.0) (2024.9.11)\n",
      "Requirement already satisfied: safetensors>=0.4.1 in /Users/fayvor/Dev/granite-code-cookbook/.venv/lib/python3.10/site-packages (from transformers>=4.39.0->langchain-huggingface->ibm_granite_community==0.1.0) (0.4.5)\n",
      "Requirement already satisfied: pyproject_hooks in /Users/fayvor/Dev/granite-code-cookbook/.venv/lib/python3.10/site-packages (from build>=1.0.3->chromadb!=0.5.4,!=0.5.5,<0.6.0,>=0.4.0->langchain-chroma->ibm_granite_community==0.1.0) (1.1.0)\n",
      "Requirement already satisfied: tomli>=1.1.0 in /Users/fayvor/Dev/granite-code-cookbook/.venv/lib/python3.10/site-packages (from build>=1.0.3->chromadb!=0.5.4,!=0.5.5,<0.6.0,>=0.4.0->langchain-chroma->ibm_granite_community==0.1.0) (2.0.1)\n",
      "Requirement already satisfied: ibm-cos-sdk-core==2.13.6 in /Users/fayvor/Dev/granite-code-cookbook/.venv/lib/python3.10/site-packages (from ibm-cos-sdk<2.14.0,>=2.12.0->ibm-watsonx-ai<2.0.0,>=1.0.8->langchain-ibm->ibm_granite_community==0.1.0) (2.13.6)\n",
      "Requirement already satisfied: ibm-cos-sdk-s3transfer==2.13.6 in /Users/fayvor/Dev/granite-code-cookbook/.venv/lib/python3.10/site-packages (from ibm-cos-sdk<2.14.0,>=2.12.0->ibm-watsonx-ai<2.0.0,>=1.0.8->langchain-ibm->ibm_granite_community==0.1.0) (2.13.6)\n",
      "Requirement already satisfied: jmespath<=1.0.1,>=0.10.0 in /Users/fayvor/Dev/granite-code-cookbook/.venv/lib/python3.10/site-packages (from ibm-cos-sdk<2.14.0,>=2.12.0->ibm-watsonx-ai<2.0.0,>=1.0.8->langchain-ibm->ibm_granite_community==0.1.0) (1.0.1)\n",
      "Requirement already satisfied: python-dateutil<3.0.0,>=2.9.0 in /Users/fayvor/Dev/granite-code-cookbook/.venv/lib/python3.10/site-packages (from ibm-cos-sdk-core==2.13.6->ibm-cos-sdk<2.14.0,>=2.12.0->ibm-watsonx-ai<2.0.0,>=1.0.8->langchain-ibm->ibm_granite_community==0.1.0) (2.9.0.post0)\n",
      "INFO: pip is looking at multiple versions of ibm-cos-sdk-core to determine which version is compatible with other requirements. This could take a while.\n",
      "Collecting ibm-cos-sdk<2.14.0,>=2.12.0 (from ibm-watsonx-ai<2.0.0,>=1.0.8->langchain-ibm->ibm_granite_community==0.1.0)\n",
      "  Using cached ibm_cos_sdk-2.13.6-py3-none-any.whl\n",
      "  Using cached ibm_cos_sdk-2.13.5-py3-none-any.whl\n",
      "Collecting ibm-cos-sdk-core==2.13.5 (from ibm-cos-sdk<2.14.0,>=2.12.0->ibm-watsonx-ai<2.0.0,>=1.0.8->langchain-ibm->ibm_granite_community==0.1.0)\n",
      "  Using cached ibm_cos_sdk_core-2.13.5-py3-none-any.whl\n",
      "Collecting ibm-cos-sdk-s3transfer==2.13.5 (from ibm-cos-sdk<2.14.0,>=2.12.0->ibm-watsonx-ai<2.0.0,>=1.0.8->langchain-ibm->ibm_granite_community==0.1.0)\n",
      "  Using cached ibm_cos_sdk_s3transfer-2.13.5-py3-none-any.whl\n",
      "Collecting urllib3<3,>=1.21.1 (from requests==2.32.3->ibm_granite_community==0.1.0)\n",
      "  Using cached urllib3-2.1.0-py3-none-any.whl.metadata (6.4 kB)\n",
      "Requirement already satisfied: jsonpointer>=1.9 in /Users/fayvor/Dev/granite-code-cookbook/.venv/lib/python3.10/site-packages (from jsonpatch<2.0,>=1.33->langchain-core<0.3.0,>=0.2.39->langchain-community<0.3.0->ibm_granite_community==0.1.0) (3.0.0)\n",
      "Requirement already satisfied: six>=1.9.0 in /Users/fayvor/Dev/granite-code-cookbook/.venv/lib/python3.10/site-packages (from kubernetes>=28.1.0->chromadb!=0.5.4,!=0.5.5,<0.6.0,>=0.4.0->langchain-chroma->ibm_granite_community==0.1.0) (1.16.0)\n",
      "Requirement already satisfied: google-auth>=1.0.1 in /Users/fayvor/Dev/granite-code-cookbook/.venv/lib/python3.10/site-packages (from kubernetes>=28.1.0->chromadb!=0.5.4,!=0.5.5,<0.6.0,>=0.4.0->langchain-chroma->ibm_granite_community==0.1.0) (2.35.0)\n",
      "Requirement already satisfied: websocket-client!=0.40.0,!=0.41.*,!=0.42.*,>=0.32.0 in /Users/fayvor/Dev/granite-code-cookbook/.venv/lib/python3.10/site-packages (from kubernetes>=28.1.0->chromadb!=0.5.4,!=0.5.5,<0.6.0,>=0.4.0->langchain-chroma->ibm_granite_community==0.1.0) (1.8.0)\n",
      "Requirement already satisfied: requests-oauthlib in /Users/fayvor/Dev/granite-code-cookbook/.venv/lib/python3.10/site-packages (from kubernetes>=28.1.0->chromadb!=0.5.4,!=0.5.5,<0.6.0,>=0.4.0->langchain-chroma->ibm_granite_community==0.1.0) (2.0.0)\n",
      "Requirement already satisfied: oauthlib>=3.2.2 in /Users/fayvor/Dev/granite-code-cookbook/.venv/lib/python3.10/site-packages (from kubernetes>=28.1.0->chromadb!=0.5.4,!=0.5.5,<0.6.0,>=0.4.0->langchain-chroma->ibm_granite_community==0.1.0) (3.2.2)\n",
      "Requirement already satisfied: durationpy>=0.7 in /Users/fayvor/Dev/granite-code-cookbook/.venv/lib/python3.10/site-packages (from kubernetes>=28.1.0->chromadb!=0.5.4,!=0.5.5,<0.6.0,>=0.4.0->langchain-chroma->ibm_granite_community==0.1.0) (0.7)\n",
      "Requirement already satisfied: coloredlogs in /Users/fayvor/Dev/granite-code-cookbook/.venv/lib/python3.10/site-packages (from onnxruntime>=1.14.1->chromadb!=0.5.4,!=0.5.5,<0.6.0,>=0.4.0->langchain-chroma->ibm_granite_community==0.1.0) (15.0.1)\n",
      "Requirement already satisfied: flatbuffers in /Users/fayvor/Dev/granite-code-cookbook/.venv/lib/python3.10/site-packages (from onnxruntime>=1.14.1->chromadb!=0.5.4,!=0.5.5,<0.6.0,>=0.4.0->langchain-chroma->ibm_granite_community==0.1.0) (24.3.25)\n",
      "Requirement already satisfied: sympy in /Users/fayvor/Dev/granite-code-cookbook/.venv/lib/python3.10/site-packages (from onnxruntime>=1.14.1->chromadb!=0.5.4,!=0.5.5,<0.6.0,>=0.4.0->langchain-chroma->ibm_granite_community==0.1.0) (1.13.3)\n",
      "Requirement already satisfied: deprecated>=1.2.6 in /Users/fayvor/Dev/granite-code-cookbook/.venv/lib/python3.10/site-packages (from opentelemetry-api>=1.2.0->chromadb!=0.5.4,!=0.5.5,<0.6.0,>=0.4.0->langchain-chroma->ibm_granite_community==0.1.0) (1.2.14)\n",
      "Requirement already satisfied: zipp>=0.5 in /Users/fayvor/Dev/granite-code-cookbook/.venv/lib/python3.10/site-packages (from importlib-metadata->ibm-watsonx-ai<2.0.0,>=1.0.8->langchain-ibm->ibm_granite_community==0.1.0) (3.20.2)\n",
      "Requirement already satisfied: googleapis-common-protos~=1.52 in /Users/fayvor/Dev/granite-code-cookbook/.venv/lib/python3.10/site-packages (from opentelemetry-exporter-otlp-proto-grpc>=1.2.0->chromadb!=0.5.4,!=0.5.5,<0.6.0,>=0.4.0->langchain-chroma->ibm_granite_community==0.1.0) (1.65.0)\n",
      "Requirement already satisfied: opentelemetry-exporter-otlp-proto-common==1.27.0 in /Users/fayvor/Dev/granite-code-cookbook/.venv/lib/python3.10/site-packages (from opentelemetry-exporter-otlp-proto-grpc>=1.2.0->chromadb!=0.5.4,!=0.5.5,<0.6.0,>=0.4.0->langchain-chroma->ibm_granite_community==0.1.0) (1.27.0)\n",
      "Requirement already satisfied: opentelemetry-proto==1.27.0 in /Users/fayvor/Dev/granite-code-cookbook/.venv/lib/python3.10/site-packages (from opentelemetry-exporter-otlp-proto-grpc>=1.2.0->chromadb!=0.5.4,!=0.5.5,<0.6.0,>=0.4.0->langchain-chroma->ibm_granite_community==0.1.0) (1.27.0)\n",
      "Requirement already satisfied: opentelemetry-instrumentation-asgi==0.48b0 in /Users/fayvor/Dev/granite-code-cookbook/.venv/lib/python3.10/site-packages (from opentelemetry-instrumentation-fastapi>=0.41b0->chromadb!=0.5.4,!=0.5.5,<0.6.0,>=0.4.0->langchain-chroma->ibm_granite_community==0.1.0) (0.48b0)\n",
      "Requirement already satisfied: opentelemetry-instrumentation==0.48b0 in /Users/fayvor/Dev/granite-code-cookbook/.venv/lib/python3.10/site-packages (from opentelemetry-instrumentation-fastapi>=0.41b0->chromadb!=0.5.4,!=0.5.5,<0.6.0,>=0.4.0->langchain-chroma->ibm_granite_community==0.1.0) (0.48b0)\n",
      "Requirement already satisfied: opentelemetry-semantic-conventions==0.48b0 in /Users/fayvor/Dev/granite-code-cookbook/.venv/lib/python3.10/site-packages (from opentelemetry-instrumentation-fastapi>=0.41b0->chromadb!=0.5.4,!=0.5.5,<0.6.0,>=0.4.0->langchain-chroma->ibm_granite_community==0.1.0) (0.48b0)\n",
      "Requirement already satisfied: opentelemetry-util-http==0.48b0 in /Users/fayvor/Dev/granite-code-cookbook/.venv/lib/python3.10/site-packages (from opentelemetry-instrumentation-fastapi>=0.41b0->chromadb!=0.5.4,!=0.5.5,<0.6.0,>=0.4.0->langchain-chroma->ibm_granite_community==0.1.0) (0.48b0)\n",
      "Requirement already satisfied: wrapt<2.0.0,>=1.0.0 in /Users/fayvor/Dev/granite-code-cookbook/.venv/lib/python3.10/site-packages (from opentelemetry-instrumentation==0.48b0->opentelemetry-instrumentation-fastapi>=0.41b0->chromadb!=0.5.4,!=0.5.5,<0.6.0,>=0.4.0->langchain-chroma->ibm_granite_community==0.1.0) (1.16.0)\n",
      "Requirement already satisfied: asgiref~=3.0 in /Users/fayvor/Dev/granite-code-cookbook/.venv/lib/python3.10/site-packages (from opentelemetry-instrumentation-asgi==0.48b0->opentelemetry-instrumentation-fastapi>=0.41b0->chromadb!=0.5.4,!=0.5.5,<0.6.0,>=0.4.0->langchain-chroma->ibm_granite_community==0.1.0) (3.8.1)\n",
      "Requirement already satisfied: pytz>=2020.1 in /Users/fayvor/Dev/granite-code-cookbook/.venv/lib/python3.10/site-packages (from pandas<2.2.0,>=0.24.2->ibm-watsonx-ai<2.0.0,>=1.0.8->langchain-ibm->ibm_granite_community==0.1.0) (2024.2)\n",
      "Requirement already satisfied: tzdata>=2022.1 in /Users/fayvor/Dev/granite-code-cookbook/.venv/lib/python3.10/site-packages (from pandas<2.2.0,>=0.24.2->ibm-watsonx-ai<2.0.0,>=1.0.8->langchain-ibm->ibm_granite_community==0.1.0) (2024.2)\n",
      "Requirement already satisfied: monotonic>=1.5 in /Users/fayvor/Dev/granite-code-cookbook/.venv/lib/python3.10/site-packages (from posthog>=2.4.0->chromadb!=0.5.4,!=0.5.5,<0.6.0,>=0.4.0->langchain-chroma->ibm_granite_community==0.1.0) (1.6)\n",
      "Requirement already satisfied: backoff>=1.10.0 in /Users/fayvor/Dev/granite-code-cookbook/.venv/lib/python3.10/site-packages (from posthog>=2.4.0->chromadb!=0.5.4,!=0.5.5,<0.6.0,>=0.4.0->langchain-chroma->ibm_granite_community==0.1.0) (2.2.1)\n",
      "Requirement already satisfied: markdown-it-py>=2.2.0 in /Users/fayvor/Dev/granite-code-cookbook/.venv/lib/python3.10/site-packages (from rich>=10.11.0->chromadb!=0.5.4,!=0.5.5,<0.6.0,>=0.4.0->langchain-chroma->ibm_granite_community==0.1.0) (3.0.0)\n",
      "Requirement already satisfied: pygments<3.0.0,>=2.13.0 in /Users/fayvor/Dev/granite-code-cookbook/.venv/lib/python3.10/site-packages (from rich>=10.11.0->chromadb!=0.5.4,!=0.5.5,<0.6.0,>=0.4.0->langchain-chroma->ibm_granite_community==0.1.0) (2.18.0)\n",
      "Requirement already satisfied: exceptiongroup>=1.0.2 in /Users/fayvor/Dev/granite-code-cookbook/.venv/lib/python3.10/site-packages (from anyio->httpx<1,>=0.21.0->replicate->ibm_granite_community==0.1.0) (1.2.2)\n",
      "Requirement already satisfied: networkx in /Users/fayvor/Dev/granite-code-cookbook/.venv/lib/python3.10/site-packages (from torch>=1.11.0->sentence-transformers>=2.6.0->langchain-huggingface->ibm_granite_community==0.1.0) (3.3)\n",
      "Requirement already satisfied: jinja2 in /Users/fayvor/Dev/granite-code-cookbook/.venv/lib/python3.10/site-packages (from torch>=1.11.0->sentence-transformers>=2.6.0->langchain-huggingface->ibm_granite_community==0.1.0) (3.1.4)\n",
      "Requirement already satisfied: click>=8.0.0 in /Users/fayvor/Dev/granite-code-cookbook/.venv/lib/python3.10/site-packages (from typer>=0.9.0->chromadb!=0.5.4,!=0.5.5,<0.6.0,>=0.4.0->langchain-chroma->ibm_granite_community==0.1.0) (8.1.7)\n",
      "Requirement already satisfied: shellingham>=1.3.0 in /Users/fayvor/Dev/granite-code-cookbook/.venv/lib/python3.10/site-packages (from typer>=0.9.0->chromadb!=0.5.4,!=0.5.5,<0.6.0,>=0.4.0->langchain-chroma->ibm_granite_community==0.1.0) (1.5.4)\n",
      "Requirement already satisfied: mypy-extensions>=0.3.0 in /Users/fayvor/Dev/granite-code-cookbook/.venv/lib/python3.10/site-packages (from typing-inspect<1,>=0.4.0->dataclasses-json<0.7,>=0.5.7->langchain-community<0.3.0->ibm_granite_community==0.1.0) (1.0.0)\n",
      "Requirement already satisfied: httptools>=0.5.0 in /Users/fayvor/Dev/granite-code-cookbook/.venv/lib/python3.10/site-packages (from uvicorn[standard]>=0.18.3->chromadb!=0.5.4,!=0.5.5,<0.6.0,>=0.4.0->langchain-chroma->ibm_granite_community==0.1.0) (0.6.1)\n",
      "Requirement already satisfied: uvloop!=0.15.0,!=0.15.1,>=0.14.0 in /Users/fayvor/Dev/granite-code-cookbook/.venv/lib/python3.10/site-packages (from uvicorn[standard]>=0.18.3->chromadb!=0.5.4,!=0.5.5,<0.6.0,>=0.4.0->langchain-chroma->ibm_granite_community==0.1.0) (0.20.0)\n",
      "Requirement already satisfied: watchfiles>=0.13 in /Users/fayvor/Dev/granite-code-cookbook/.venv/lib/python3.10/site-packages (from uvicorn[standard]>=0.18.3->chromadb!=0.5.4,!=0.5.5,<0.6.0,>=0.4.0->langchain-chroma->ibm_granite_community==0.1.0) (0.24.0)\n",
      "Requirement already satisfied: websockets>=10.4 in /Users/fayvor/Dev/granite-code-cookbook/.venv/lib/python3.10/site-packages (from uvicorn[standard]>=0.18.3->chromadb!=0.5.4,!=0.5.5,<0.6.0,>=0.4.0->langchain-chroma->ibm_granite_community==0.1.0) (13.1)\n",
      "Requirement already satisfied: joblib>=1.2.0 in /Users/fayvor/Dev/granite-code-cookbook/.venv/lib/python3.10/site-packages (from scikit-learn->sentence-transformers>=2.6.0->langchain-huggingface->ibm_granite_community==0.1.0) (1.4.2)\n",
      "Requirement already satisfied: threadpoolctl>=3.1.0 in /Users/fayvor/Dev/granite-code-cookbook/.venv/lib/python3.10/site-packages (from scikit-learn->sentence-transformers>=2.6.0->langchain-huggingface->ibm_granite_community==0.1.0) (3.5.0)\n",
      "Requirement already satisfied: cachetools<6.0,>=2.0.0 in /Users/fayvor/Dev/granite-code-cookbook/.venv/lib/python3.10/site-packages (from google-auth>=1.0.1->kubernetes>=28.1.0->chromadb!=0.5.4,!=0.5.5,<0.6.0,>=0.4.0->langchain-chroma->ibm_granite_community==0.1.0) (5.5.0)\n",
      "Requirement already satisfied: pyasn1-modules>=0.2.1 in /Users/fayvor/Dev/granite-code-cookbook/.venv/lib/python3.10/site-packages (from google-auth>=1.0.1->kubernetes>=28.1.0->chromadb!=0.5.4,!=0.5.5,<0.6.0,>=0.4.0->langchain-chroma->ibm_granite_community==0.1.0) (0.4.1)\n",
      "Requirement already satisfied: rsa<5,>=3.1.4 in /Users/fayvor/Dev/granite-code-cookbook/.venv/lib/python3.10/site-packages (from google-auth>=1.0.1->kubernetes>=28.1.0->chromadb!=0.5.4,!=0.5.5,<0.6.0,>=0.4.0->langchain-chroma->ibm_granite_community==0.1.0) (4.9)\n",
      "Requirement already satisfied: mdurl~=0.1 in /Users/fayvor/Dev/granite-code-cookbook/.venv/lib/python3.10/site-packages (from markdown-it-py>=2.2.0->rich>=10.11.0->chromadb!=0.5.4,!=0.5.5,<0.6.0,>=0.4.0->langchain-chroma->ibm_granite_community==0.1.0) (0.1.2)\n",
      "Requirement already satisfied: humanfriendly>=9.1 in /Users/fayvor/Dev/granite-code-cookbook/.venv/lib/python3.10/site-packages (from coloredlogs->onnxruntime>=1.14.1->chromadb!=0.5.4,!=0.5.5,<0.6.0,>=0.4.0->langchain-chroma->ibm_granite_community==0.1.0) (10.0)\n",
      "Requirement already satisfied: MarkupSafe>=2.0 in /Users/fayvor/Dev/granite-code-cookbook/.venv/lib/python3.10/site-packages (from jinja2->torch>=1.11.0->sentence-transformers>=2.6.0->langchain-huggingface->ibm_granite_community==0.1.0) (2.1.5)\n",
      "Requirement already satisfied: mpmath<1.4,>=1.1.0 in /Users/fayvor/Dev/granite-code-cookbook/.venv/lib/python3.10/site-packages (from sympy->onnxruntime>=1.14.1->chromadb!=0.5.4,!=0.5.5,<0.6.0,>=0.4.0->langchain-chroma->ibm_granite_community==0.1.0) (1.3.0)\n",
      "Requirement already satisfied: pyasn1<0.7.0,>=0.4.6 in /Users/fayvor/Dev/granite-code-cookbook/.venv/lib/python3.10/site-packages (from pyasn1-modules>=0.2.1->google-auth>=1.0.1->kubernetes>=28.1.0->chromadb!=0.5.4,!=0.5.5,<0.6.0,>=0.4.0->langchain-chroma->ibm_granite_community==0.1.0) (0.6.1)\n",
      "Using cached requests-2.32.3-py3-none-any.whl (64 kB)\n",
      "Using cached urllib3-2.1.0-py3-none-any.whl (104 kB)\n",
      "Installing collected packages: urllib3, requests, ibm-cos-sdk-core, ibm-cos-sdk-s3transfer, ibm-cos-sdk\n",
      "  Attempting uninstall: urllib3\n",
      "    Found existing installation: urllib3 2.2.3\n",
      "    Uninstalling urllib3-2.2.3:\n",
      "      Successfully uninstalled urllib3-2.2.3\n",
      "  Attempting uninstall: requests\n",
      "    Found existing installation: requests 2.32.2\n",
      "    Uninstalling requests-2.32.2:\n",
      "      Successfully uninstalled requests-2.32.2\n",
      "  Attempting uninstall: ibm-cos-sdk-core\n",
      "    Found existing installation: ibm-cos-sdk-core 2.13.6\n",
      "    Uninstalling ibm-cos-sdk-core-2.13.6:\n",
      "      Successfully uninstalled ibm-cos-sdk-core-2.13.6\n",
      "  Attempting uninstall: ibm-cos-sdk-s3transfer\n",
      "    Found existing installation: ibm-cos-sdk-s3transfer 2.13.6\n",
      "    Uninstalling ibm-cos-sdk-s3transfer-2.13.6:\n",
      "      Successfully uninstalled ibm-cos-sdk-s3transfer-2.13.6\n",
      "  Attempting uninstall: ibm-cos-sdk\n",
      "    Found existing installation: ibm-cos-sdk 2.13.6\n",
      "    Uninstalling ibm-cos-sdk-2.13.6:\n",
      "      Successfully uninstalled ibm-cos-sdk-2.13.6\n",
      "Successfully installed ibm-cos-sdk-2.13.5 ibm-cos-sdk-core-2.13.5 ibm-cos-sdk-s3transfer-2.13.5 requests-2.32.3 urllib3-2.1.0\n"
     ]
    }
   ],
   "source": [
    "!pip install git+https://github.com/ibm-granite-community/utils"
   ]
  },
  {
   "cell_type": "markdown",
   "metadata": {},
   "source": [
    "### Select a model\n",
    "\n",
    "Two Granite Code models are available in the [`ibm-granite`](https://replicate.com/ibm-granite) org on Replicate:\n",
    "\n",
    "`ibm-granite/granite-8b-code-instruct-128k`\n",
    "\n",
    "`ibm-granite/granite-20b-code-instruct-8k`"
   ]
  },
  {
   "cell_type": "code",
   "execution_count": 2,
   "metadata": {},
   "outputs": [],
   "source": [
    "from langchain_community.llms import Replicate\n",
    "from ibm_granite_community.notebook_utils import get_env_var\n",
    "\n",
    "model = Replicate(\n",
    "    model=\"ibm-granite/granite-20b-code-instruct-8k\",\n",
    "    replicate_api_token=get_env_var('REPLICATE_API_TOKEN'),\n",
    ")"
   ]
  },
  {
   "cell_type": "markdown",
   "metadata": {},
   "source": [
    "\n",
    "## One-shot Prompt with Granite Code 3b\n",
    "\n",
    "In One-shot prompting, you provide the model with a question and no examples. The model will generate an answer given its training. Larger models tend to do better at this task."
   ]
  },
  {
   "cell_type": "markdown",
   "metadata": {},
   "source": [
    "Let's write two helper functions that we'll use for all our queries. First, we'll find it useful to determine the name of our operating system and use that string in queries. This is because shell commands sometimes have different options on Linux vs. MacOS, etc. We'll write our queries so they take this difference into account. Note that `platform.system()` returns `Windows` on Windows system."
   ]
  },
  {
   "cell_type": "markdown",
   "metadata": {},
   "source": [
    "> **TIPS:** If you are using MacOS, you can install Linux-compatible versions of many commands. Consider these two options:\n",
    "> * Install GNU Coreutils on a Mac. See [these instructions](https://superuser.com/questions/476575/replace-os-xs-shell-commands-with-the-linux-versions).\n",
    "> * Install [HomeBrew](https://brew.sh/) and use it to install Linux-compatible (and other) tools."
   ]
  },
  {
   "cell_type": "code",
   "execution_count": 3,
   "metadata": {},
   "outputs": [],
   "source": [
    "import platform\n",
    "\n",
    "def os_name():\n",
    "    os_name = platform.system()\n",
    "    # It turns out, using \"MacOS\" is better than \"Darwin\", which is what gets returned on MacOS.\n",
    "    # For all other cases, the returned value should be fine as is, so we map the result to the desired\n",
    "    # name, but only for MacOS...\n",
    "    name_map = {'Darwin': 'MacOS'}\n",
    "    shell_map = {'Windows': 'DOS'} # On Windows and use Power Shell, change from `DOS` to `Power Shell`.\n",
    "    # ... then pass the os_name value as the second arg, which is used as the default return value.\n",
    "    # For the shell name, return `bash` by default. (You can change this to zsh, fish, etc.)\n",
    "    return name_map.get(os_name, os_name), shell_map.get(os_name, 'bash')"
   ]
  },
  {
   "cell_type": "code",
   "execution_count": 4,
   "metadata": {},
   "outputs": [
    {
     "name": "stdout",
     "output_type": "stream",
     "text": [
      "My OS is MacOS. My shell is bash.\n"
     ]
    }
   ],
   "source": [
    "my_os, my_shell = os_name()\n",
    "print(f\"My OS is {my_os}. My shell is {my_shell}.\")"
   ]
  },
  {
   "cell_type": "markdown",
   "metadata": {},
   "source": [
    "Note how we add additional context to the user's input prompt, such as _\"make sure you write code that works for _my_ system!\"_ (We'll see another way to do this below.)\n",
    "\n",
    "Prompts composition: https://python.langchain.com/docs/how_to/prompts_composition/"
   ]
  },
  {
   "cell_type": "code",
   "execution_count": 27,
   "metadata": {},
   "outputs": [
    {
     "name": "stdout",
     "output_type": "stream",
     "text": [
      "Here's a bash script that should do what you're asking for:\n",
      "```\n",
      "#!/bin/bash\n",
      "# Set the time limit to one week ago\n",
      "time_limit=$(date -v-7d +%s)\n",
      "# Loop through all files in the current directory and print their last modification time\n",
      "# if it's within the last week\n",
      "for file in $(find . -type f -mtime +$time_limit); do\n",
      " echo \"$(date -r $file) $file\"\n",
      "done | head -n 50\n",
      "```\n",
      "This script uses the `find` command to search for all files in the current directory and its subdirectories that have been modified within the last week. The `-mtime +$time_limit` option specifies that the files must have been modified more than 7 days ago.\n",
      "The `date -r` command is used to print the last modification time of each file, and the `head` command is used to limit the output to the first 50 files.\n",
      "Note that this script assumes that you're running it on a MacOS system. If you're running it on a Linux system, you may need to modify the `find` command to use the `-mmin` option instead of `-mtime`. \n"
     ]
    }
   ],
   "source": [
    "from textwrap import dedent\n",
    "\n",
    "prompt = dedent(f\"\"\"\\\n",
    "    Show me a {my_shell} script to print the first 50 files found under the current working directory\n",
    "    that have been modified within the last week. Make sure you show the last modification time\n",
    "    for each file in the output. Make sure you generate {my_shell} code that is {my_os}-compatible!\"\"\"\n",
    ")\n",
    "\n",
    "response = model.invoke(prompt)\n",
    "print(response)"
   ]
  },
  {
   "cell_type": "markdown",
   "metadata": {},
   "source": [
    "### Try the script"
   ]
  },
  {
   "cell_type": "markdown",
   "metadata": {},
   "source": [
    "Remove any markdown formatting in the output and paste the commands generated into the next cell _**after the %%bash line shown**_. Also delete the `ls -l`, which is there to allow the cell to run without error if nothing is pasted there (e.g., in our CI/CD test system). So, for example, you might have something like the following:\n",
    "\n",
    "```shell\n",
    "%%bash\n",
    "find dir -type d | do_something\n",
    "...\n",
    "```\n",
    "\n",
    "The `%%bash` \"magic\" tells Jupyter to run the commands as a shell script instead of as Python code. You can omit lines like `#!/bin/bash` and keep or remove any comments `# this is a comment...`.\n",
    "\n",
    "Does the script work? If not try running the query again. Also try modifying the query string. What difference do these steps make?"
   ]
  },
  {
   "cell_type": "code",
   "execution_count": 7,
   "metadata": {
    "scrolled": true
   },
   "outputs": [
    {
     "name": "stdout",
     "output_type": "stream",
     "text": [
      "total 20\n",
      "-rw-r--r-- 1 fayvor staff 19404 Oct  1 11:24 Text_to_Shell.ipynb\n"
     ]
    }
   ],
   "source": [
    "%%bash\n",
    "ls -l"
   ]
  },
  {
   "cell_type": "markdown",
   "metadata": {},
   "source": [
    "We explore execution of generated shell code in the next recipe we recommend you study after this one, [../Text_to_Shell_Exec](../Text_to_Shell_Exec/Text_to_Shell_Exec.ipynb)."
   ]
  },
  {
   "cell_type": "markdown",
   "metadata": {},
   "source": [
    "## Few-shot Prompting with Granite Code 3b\n",
    "\n",
    "In few-shot prompting, you provide the model with a question and some examples. The model will generate an answer given its training. The additional examples help the model zero in on a pattern, which may be required for smaller models to perform well at this task.\n",
    "\n",
    "One of the examples uses the `stat` command, which requires different syntax for Linux vs. MacOS systems.\n",
    "\n",
    "> **NOTE:** If you are using a Windows system, try changing the \"answers\" in the `examples` cell to be valid Power Shell or DOS commands. You can ignore the `stat_flags` in the next cell."
   ]
  },
  {
   "cell_type": "code",
   "execution_count": 8,
   "metadata": {},
   "outputs": [
    {
     "name": "stdout",
     "output_type": "stream",
     "text": [
      "The 'stat' flags for my OS 'MacOS' and shell 'bash' are '-f \"%m %N\" {}'\n"
     ]
    }
   ],
   "source": [
    "stat_flags = '-c \"%y %n\" {}'\n",
    "if my_os == 'MacOS':\n",
    "    stat_flags = '-f \"%m %N\" {}'\n",
    "print(f\"The 'stat' flags for my OS \\'{my_os}\\' and shell \\'{my_shell}\\' are \\'{stat_flags}\\'\")"
   ]
  },
  {
   "cell_type": "markdown",
   "metadata": {},
   "source": [
    "Here we build up a prompt template from reusable parts. See the [Langchain PipelinePrompt docs](https://python.langchain.com/docs/how_to/prompts_composition/#using-pipelineprompt)."
   ]
  },
  {
   "cell_type": "code",
   "execution_count": 28,
   "metadata": {},
   "outputs": [
    {
     "name": "stdout",
     "output_type": "stream",
     "text": [
      "['']\n"
     ]
    }
   ],
   "source": [
    "from langchain_core.prompts import PipelinePromptTemplate, PromptTemplate\n",
    "\n",
    "final_template = PromptTemplate.from_template(dedent(\"\"\"\n",
    "    {examples}\n",
    "    Question:\n",
    "    {prompt} {admonishment}\n",
    "    Answer:\"\"\"\n",
    "))\n",
    "\n",
    "examples_template = PromptTemplate.from_template(dedent(\n",
    "    f\"\"\"\\\n",
    "    Question:\n",
    "    Recursively find files that match '*.js', and filter out files with 'excludeddir' in their paths.\n",
    "    Answer:\n",
    "    find . -name '*.js' | grep -v excludeddir\n",
    "\n",
    "    Question:\n",
    "    Dump \\\"a0b\\\" as hexadecimal bytes.\n",
    "    Answer:\n",
    "    printf \\\"a0b\\\" | od -tx1\n",
    "\n",
    "    Question:\n",
    "    Create a tar ball of all pdf files in the current folder and any subdirectories.\n",
    "    Answer:\n",
    "    find . -name '*.pdf' | xargs tar czvf pdf.tar\n",
    "\n",
    "    Question:\n",
    "    Sort all files and directories in the current directory, but no subdirectories, according to modification time, and print only the seven most recently modified items.\n",
    "    Answer:\n",
    "    find . -maxdepth 1 -exec stat {stat_flags} \\; | sort -n -r | tail -n 7\n",
    "\n",
    "    Question:\n",
    "    Find all the empty directories in and under the current directory.\n",
    "    Answer:\n",
    "    find . -type d -empty\"\"\"\n",
    "))\n",
    "\n",
    "admonishment_template = PromptTemplate.from_template(\n",
    "    f\"Make sure you generate {my_shell} code that is {my_os}-compatible!\"\n",
    ")\n",
    "\n",
    "pipeline_template = PipelinePromptTemplate(\n",
    "    final_prompt=final_template,\n",
    "    pipeline_prompts=[\n",
    "        (\"examples\",examples_template),\n",
    "        (\"admonishment\",admonishment_template),\n",
    "    ]\n",
    ")\n",
    "\n",
    "print(pipeline_template.input_variables)"
   ]
  },
  {
   "cell_type": "markdown",
   "metadata": {},
   "source": [
    "### View the completed prompt"
   ]
  },
  {
   "cell_type": "code",
   "execution_count": 24,
   "metadata": {},
   "outputs": [],
   "source": [
    "prompt = dedent(f\"\"\"\\\n",
    "    Show me a {my_shell} script to print the first 50 files found under the current working directory\n",
    "    that have been modified within the last week. Make sure you show the last modification time\n",
    "    for each file in the output.\"\"\"\n",
    ")\n",
    "\n",
    "# full_prompt = pipeline_template.format() # pipeline_template.format(prompt=prompt_template)\n",
    "\n",
    "# print(full_prompt)\n",
    "chain = pipeline_template | model\n"
   ]
  },
  {
   "cell_type": "markdown",
   "metadata": {},
   "source": [
    "### Run the model"
   ]
  },
  {
   "cell_type": "code",
   "execution_count": 26,
   "metadata": {},
   "outputs": [
    {
     "ename": "IndexError",
     "evalue": "tuple index out of range",
     "output_type": "error",
     "traceback": [
      "\u001b[0;31m---------------------------------------------------------------------------\u001b[0m",
      "\u001b[0;31mIndexError\u001b[0m                                Traceback (most recent call last)",
      "Cell \u001b[0;32mIn[26], line 1\u001b[0m\n\u001b[0;32m----> 1\u001b[0m response \u001b[38;5;241m=\u001b[39m \u001b[43mchain\u001b[49m\u001b[38;5;241;43m.\u001b[39;49m\u001b[43minvoke\u001b[49m\u001b[43m(\u001b[49m\u001b[43mprompt\u001b[49m\u001b[43m)\u001b[49m\n\u001b[1;32m      2\u001b[0m \u001b[38;5;28mprint\u001b[39m(response)\n",
      "File \u001b[0;32m~/Dev/granite-code-cookbook/.venv/lib/python3.10/site-packages/langchain_core/runnables/base.py:2877\u001b[0m, in \u001b[0;36mRunnableSequence.invoke\u001b[0;34m(self, input, config, **kwargs)\u001b[0m\n\u001b[1;32m   2875\u001b[0m context\u001b[38;5;241m.\u001b[39mrun(_set_config_context, config)\n\u001b[1;32m   2876\u001b[0m \u001b[38;5;28;01mif\u001b[39;00m i \u001b[38;5;241m==\u001b[39m \u001b[38;5;241m0\u001b[39m:\n\u001b[0;32m-> 2877\u001b[0m     \u001b[38;5;28minput\u001b[39m \u001b[38;5;241m=\u001b[39m \u001b[43mcontext\u001b[49m\u001b[38;5;241;43m.\u001b[39;49m\u001b[43mrun\u001b[49m\u001b[43m(\u001b[49m\u001b[43mstep\u001b[49m\u001b[38;5;241;43m.\u001b[39;49m\u001b[43minvoke\u001b[49m\u001b[43m,\u001b[49m\u001b[43m \u001b[49m\u001b[38;5;28;43minput\u001b[39;49m\u001b[43m,\u001b[49m\u001b[43m \u001b[49m\u001b[43mconfig\u001b[49m\u001b[43m,\u001b[49m\u001b[43m \u001b[49m\u001b[38;5;241;43m*\u001b[39;49m\u001b[38;5;241;43m*\u001b[39;49m\u001b[43mkwargs\u001b[49m\u001b[43m)\u001b[49m\n\u001b[1;32m   2878\u001b[0m \u001b[38;5;28;01melse\u001b[39;00m:\n\u001b[1;32m   2879\u001b[0m     \u001b[38;5;28minput\u001b[39m \u001b[38;5;241m=\u001b[39m context\u001b[38;5;241m.\u001b[39mrun(step\u001b[38;5;241m.\u001b[39minvoke, \u001b[38;5;28minput\u001b[39m, config)\n",
      "File \u001b[0;32m~/Dev/granite-code-cookbook/.venv/lib/python3.10/site-packages/langchain_core/prompts/base.py:187\u001b[0m, in \u001b[0;36mBasePromptTemplate.invoke\u001b[0;34m(self, input, config)\u001b[0m\n\u001b[1;32m    185\u001b[0m \u001b[38;5;28;01mif\u001b[39;00m \u001b[38;5;28mself\u001b[39m\u001b[38;5;241m.\u001b[39mtags:\n\u001b[1;32m    186\u001b[0m     config[\u001b[38;5;124m\"\u001b[39m\u001b[38;5;124mtags\u001b[39m\u001b[38;5;124m\"\u001b[39m] \u001b[38;5;241m=\u001b[39m config[\u001b[38;5;124m\"\u001b[39m\u001b[38;5;124mtags\u001b[39m\u001b[38;5;124m\"\u001b[39m] \u001b[38;5;241m+\u001b[39m \u001b[38;5;28mself\u001b[39m\u001b[38;5;241m.\u001b[39mtags\n\u001b[0;32m--> 187\u001b[0m \u001b[38;5;28;01mreturn\u001b[39;00m \u001b[38;5;28;43mself\u001b[39;49m\u001b[38;5;241;43m.\u001b[39;49m\u001b[43m_call_with_config\u001b[49m\u001b[43m(\u001b[49m\n\u001b[1;32m    188\u001b[0m \u001b[43m    \u001b[49m\u001b[38;5;28;43mself\u001b[39;49m\u001b[38;5;241;43m.\u001b[39;49m\u001b[43m_format_prompt_with_error_handling\u001b[49m\u001b[43m,\u001b[49m\n\u001b[1;32m    189\u001b[0m \u001b[43m    \u001b[49m\u001b[38;5;28;43minput\u001b[39;49m\u001b[43m,\u001b[49m\n\u001b[1;32m    190\u001b[0m \u001b[43m    \u001b[49m\u001b[43mconfig\u001b[49m\u001b[43m,\u001b[49m\n\u001b[1;32m    191\u001b[0m \u001b[43m    \u001b[49m\u001b[43mrun_type\u001b[49m\u001b[38;5;241;43m=\u001b[39;49m\u001b[38;5;124;43m\"\u001b[39;49m\u001b[38;5;124;43mprompt\u001b[39;49m\u001b[38;5;124;43m\"\u001b[39;49m\u001b[43m,\u001b[49m\n\u001b[1;32m    192\u001b[0m \u001b[43m    \u001b[49m\u001b[43mserialized\u001b[49m\u001b[38;5;241;43m=\u001b[39;49m\u001b[43mdumpd\u001b[49m\u001b[43m(\u001b[49m\u001b[38;5;28;43mself\u001b[39;49m\u001b[43m)\u001b[49m\u001b[43m,\u001b[49m\n\u001b[1;32m    193\u001b[0m \u001b[43m\u001b[49m\u001b[43m)\u001b[49m\n",
      "File \u001b[0;32m~/Dev/granite-code-cookbook/.venv/lib/python3.10/site-packages/langchain_core/runnables/base.py:1786\u001b[0m, in \u001b[0;36mRunnable._call_with_config\u001b[0;34m(self, func, input, config, run_type, serialized, **kwargs)\u001b[0m\n\u001b[1;32m   1782\u001b[0m     context \u001b[38;5;241m=\u001b[39m copy_context()\n\u001b[1;32m   1783\u001b[0m     context\u001b[38;5;241m.\u001b[39mrun(_set_config_context, child_config)\n\u001b[1;32m   1784\u001b[0m     output \u001b[38;5;241m=\u001b[39m cast(\n\u001b[1;32m   1785\u001b[0m         Output,\n\u001b[0;32m-> 1786\u001b[0m         \u001b[43mcontext\u001b[49m\u001b[38;5;241;43m.\u001b[39;49m\u001b[43mrun\u001b[49m\u001b[43m(\u001b[49m\n\u001b[1;32m   1787\u001b[0m \u001b[43m            \u001b[49m\u001b[43mcall_func_with_variable_args\u001b[49m\u001b[43m,\u001b[49m\u001b[43m  \u001b[49m\u001b[38;5;66;43;03m# type: ignore[arg-type]\u001b[39;49;00m\n\u001b[1;32m   1788\u001b[0m \u001b[43m            \u001b[49m\u001b[43mfunc\u001b[49m\u001b[43m,\u001b[49m\u001b[43m  \u001b[49m\u001b[38;5;66;43;03m# type: ignore[arg-type]\u001b[39;49;00m\n\u001b[1;32m   1789\u001b[0m \u001b[43m            \u001b[49m\u001b[38;5;28;43minput\u001b[39;49m\u001b[43m,\u001b[49m\u001b[43m  \u001b[49m\u001b[38;5;66;43;03m# type: ignore[arg-type]\u001b[39;49;00m\n\u001b[1;32m   1790\u001b[0m \u001b[43m            \u001b[49m\u001b[43mconfig\u001b[49m\u001b[43m,\u001b[49m\n\u001b[1;32m   1791\u001b[0m \u001b[43m            \u001b[49m\u001b[43mrun_manager\u001b[49m\u001b[43m,\u001b[49m\n\u001b[1;32m   1792\u001b[0m \u001b[43m            \u001b[49m\u001b[38;5;241;43m*\u001b[39;49m\u001b[38;5;241;43m*\u001b[39;49m\u001b[43mkwargs\u001b[49m\u001b[43m,\u001b[49m\n\u001b[1;32m   1793\u001b[0m \u001b[43m        \u001b[49m\u001b[43m)\u001b[49m,\n\u001b[1;32m   1794\u001b[0m     )\n\u001b[1;32m   1795\u001b[0m \u001b[38;5;28;01mexcept\u001b[39;00m \u001b[38;5;167;01mBaseException\u001b[39;00m \u001b[38;5;28;01mas\u001b[39;00m e:\n\u001b[1;32m   1796\u001b[0m     run_manager\u001b[38;5;241m.\u001b[39mon_chain_error(e)\n",
      "File \u001b[0;32m~/Dev/granite-code-cookbook/.venv/lib/python3.10/site-packages/langchain_core/runnables/config.py:398\u001b[0m, in \u001b[0;36mcall_func_with_variable_args\u001b[0;34m(func, input, config, run_manager, **kwargs)\u001b[0m\n\u001b[1;32m    396\u001b[0m \u001b[38;5;28;01mif\u001b[39;00m run_manager \u001b[38;5;129;01mis\u001b[39;00m \u001b[38;5;129;01mnot\u001b[39;00m \u001b[38;5;28;01mNone\u001b[39;00m \u001b[38;5;129;01mand\u001b[39;00m accepts_run_manager(func):\n\u001b[1;32m    397\u001b[0m     kwargs[\u001b[38;5;124m\"\u001b[39m\u001b[38;5;124mrun_manager\u001b[39m\u001b[38;5;124m\"\u001b[39m] \u001b[38;5;241m=\u001b[39m run_manager\n\u001b[0;32m--> 398\u001b[0m \u001b[38;5;28;01mreturn\u001b[39;00m \u001b[43mfunc\u001b[49m\u001b[43m(\u001b[49m\u001b[38;5;28;43minput\u001b[39;49m\u001b[43m,\u001b[49m\u001b[43m \u001b[49m\u001b[38;5;241;43m*\u001b[39;49m\u001b[38;5;241;43m*\u001b[39;49m\u001b[43mkwargs\u001b[49m\u001b[43m)\u001b[49m\n",
      "File \u001b[0;32m~/Dev/granite-code-cookbook/.venv/lib/python3.10/site-packages/langchain_core/prompts/base.py:162\u001b[0m, in \u001b[0;36mBasePromptTemplate._format_prompt_with_error_handling\u001b[0;34m(self, inner_input)\u001b[0m\n\u001b[1;32m    160\u001b[0m \u001b[38;5;28;01mdef\u001b[39;00m \u001b[38;5;21m_format_prompt_with_error_handling\u001b[39m(\u001b[38;5;28mself\u001b[39m, inner_input: Dict) \u001b[38;5;241m-\u001b[39m\u001b[38;5;241m>\u001b[39m PromptValue:\n\u001b[1;32m    161\u001b[0m     _inner_input \u001b[38;5;241m=\u001b[39m \u001b[38;5;28mself\u001b[39m\u001b[38;5;241m.\u001b[39m_validate_input(inner_input)\n\u001b[0;32m--> 162\u001b[0m     \u001b[38;5;28;01mreturn\u001b[39;00m \u001b[38;5;28;43mself\u001b[39;49m\u001b[38;5;241;43m.\u001b[39;49m\u001b[43mformat_prompt\u001b[49m\u001b[43m(\u001b[49m\u001b[38;5;241;43m*\u001b[39;49m\u001b[38;5;241;43m*\u001b[39;49m\u001b[43m_inner_input\u001b[49m\u001b[43m)\u001b[49m\n",
      "File \u001b[0;32m~/Dev/granite-code-cookbook/.venv/lib/python3.10/site-packages/langchain_core/prompts/pipeline.py:62\u001b[0m, in \u001b[0;36mPipelinePromptTemplate.format_prompt\u001b[0;34m(self, **kwargs)\u001b[0m\n\u001b[1;32m     60\u001b[0m         kwargs[k] \u001b[38;5;241m=\u001b[39m prompt\u001b[38;5;241m.\u001b[39mformat_messages(\u001b[38;5;241m*\u001b[39m\u001b[38;5;241m*\u001b[39m_inputs)\n\u001b[1;32m     61\u001b[0m     \u001b[38;5;28;01melse\u001b[39;00m:\n\u001b[0;32m---> 62\u001b[0m         kwargs[k] \u001b[38;5;241m=\u001b[39m \u001b[43mprompt\u001b[49m\u001b[38;5;241;43m.\u001b[39;49m\u001b[43mformat\u001b[49m\u001b[43m(\u001b[49m\u001b[38;5;241;43m*\u001b[39;49m\u001b[38;5;241;43m*\u001b[39;49m\u001b[43m_inputs\u001b[49m\u001b[43m)\u001b[49m\n\u001b[1;32m     63\u001b[0m _inputs \u001b[38;5;241m=\u001b[39m _get_inputs(kwargs, \u001b[38;5;28mself\u001b[39m\u001b[38;5;241m.\u001b[39mfinal_prompt\u001b[38;5;241m.\u001b[39minput_variables)\n\u001b[1;32m     64\u001b[0m \u001b[38;5;28;01mreturn\u001b[39;00m \u001b[38;5;28mself\u001b[39m\u001b[38;5;241m.\u001b[39mfinal_prompt\u001b[38;5;241m.\u001b[39mformat_prompt(\u001b[38;5;241m*\u001b[39m\u001b[38;5;241m*\u001b[39m_inputs)\n",
      "File \u001b[0;32m~/Dev/granite-code-cookbook/.venv/lib/python3.10/site-packages/langchain_core/prompts/prompt.py:179\u001b[0m, in \u001b[0;36mPromptTemplate.format\u001b[0;34m(self, **kwargs)\u001b[0m\n\u001b[1;32m    170\u001b[0m \u001b[38;5;250m\u001b[39m\u001b[38;5;124;03m\"\"\"Format the prompt with the inputs.\u001b[39;00m\n\u001b[1;32m    171\u001b[0m \n\u001b[1;32m    172\u001b[0m \u001b[38;5;124;03mArgs:\u001b[39;00m\n\u001b[0;32m   (...)\u001b[0m\n\u001b[1;32m    176\u001b[0m \u001b[38;5;124;03m    A formatted string.\u001b[39;00m\n\u001b[1;32m    177\u001b[0m \u001b[38;5;124;03m\"\"\"\u001b[39;00m\n\u001b[1;32m    178\u001b[0m kwargs \u001b[38;5;241m=\u001b[39m \u001b[38;5;28mself\u001b[39m\u001b[38;5;241m.\u001b[39m_merge_partial_and_user_variables(\u001b[38;5;241m*\u001b[39m\u001b[38;5;241m*\u001b[39mkwargs)\n\u001b[0;32m--> 179\u001b[0m \u001b[38;5;28;01mreturn\u001b[39;00m \u001b[43mDEFAULT_FORMATTER_MAPPING\u001b[49m\u001b[43m[\u001b[49m\u001b[38;5;28;43mself\u001b[39;49m\u001b[38;5;241;43m.\u001b[39;49m\u001b[43mtemplate_format\u001b[49m\u001b[43m]\u001b[49m\u001b[43m(\u001b[49m\u001b[38;5;28;43mself\u001b[39;49m\u001b[38;5;241;43m.\u001b[39;49m\u001b[43mtemplate\u001b[49m\u001b[43m,\u001b[49m\u001b[43m \u001b[49m\u001b[38;5;241;43m*\u001b[39;49m\u001b[38;5;241;43m*\u001b[39;49m\u001b[43mkwargs\u001b[49m\u001b[43m)\u001b[49m\n",
      "File \u001b[0;32m~/.pyenv/versions/3.10.15/lib/python3.10/string.py:161\u001b[0m, in \u001b[0;36mFormatter.format\u001b[0;34m(self, format_string, *args, **kwargs)\u001b[0m\n\u001b[1;32m    160\u001b[0m \u001b[38;5;28;01mdef\u001b[39;00m \u001b[38;5;21mformat\u001b[39m(\u001b[38;5;28mself\u001b[39m, format_string, \u001b[38;5;241m/\u001b[39m, \u001b[38;5;241m*\u001b[39margs, \u001b[38;5;241m*\u001b[39m\u001b[38;5;241m*\u001b[39mkwargs):\n\u001b[0;32m--> 161\u001b[0m     \u001b[38;5;28;01mreturn\u001b[39;00m \u001b[38;5;28;43mself\u001b[39;49m\u001b[38;5;241;43m.\u001b[39;49m\u001b[43mvformat\u001b[49m\u001b[43m(\u001b[49m\u001b[43mformat_string\u001b[49m\u001b[43m,\u001b[49m\u001b[43m \u001b[49m\u001b[43margs\u001b[49m\u001b[43m,\u001b[49m\u001b[43m \u001b[49m\u001b[43mkwargs\u001b[49m\u001b[43m)\u001b[49m\n",
      "File \u001b[0;32m~/Dev/granite-code-cookbook/.venv/lib/python3.10/site-packages/langchain_core/utils/formatting.py:31\u001b[0m, in \u001b[0;36mStrictFormatter.vformat\u001b[0;34m(self, format_string, args, kwargs)\u001b[0m\n\u001b[1;32m     26\u001b[0m \u001b[38;5;28;01mif\u001b[39;00m \u001b[38;5;28mlen\u001b[39m(args) \u001b[38;5;241m>\u001b[39m \u001b[38;5;241m0\u001b[39m:\n\u001b[1;32m     27\u001b[0m     \u001b[38;5;28;01mraise\u001b[39;00m \u001b[38;5;167;01mValueError\u001b[39;00m(\n\u001b[1;32m     28\u001b[0m         \u001b[38;5;124m\"\u001b[39m\u001b[38;5;124mNo arguments should be provided, \u001b[39m\u001b[38;5;124m\"\u001b[39m\n\u001b[1;32m     29\u001b[0m         \u001b[38;5;124m\"\u001b[39m\u001b[38;5;124meverything should be passed as keyword arguments.\u001b[39m\u001b[38;5;124m\"\u001b[39m\n\u001b[1;32m     30\u001b[0m     )\n\u001b[0;32m---> 31\u001b[0m \u001b[38;5;28;01mreturn\u001b[39;00m \u001b[38;5;28;43msuper\u001b[39;49m\u001b[43m(\u001b[49m\u001b[43m)\u001b[49m\u001b[38;5;241;43m.\u001b[39;49m\u001b[43mvformat\u001b[49m\u001b[43m(\u001b[49m\u001b[43mformat_string\u001b[49m\u001b[43m,\u001b[49m\u001b[43m \u001b[49m\u001b[43margs\u001b[49m\u001b[43m,\u001b[49m\u001b[43m \u001b[49m\u001b[43mkwargs\u001b[49m\u001b[43m)\u001b[49m\n",
      "File \u001b[0;32m~/.pyenv/versions/3.10.15/lib/python3.10/string.py:165\u001b[0m, in \u001b[0;36mFormatter.vformat\u001b[0;34m(self, format_string, args, kwargs)\u001b[0m\n\u001b[1;32m    163\u001b[0m \u001b[38;5;28;01mdef\u001b[39;00m \u001b[38;5;21mvformat\u001b[39m(\u001b[38;5;28mself\u001b[39m, format_string, args, kwargs):\n\u001b[1;32m    164\u001b[0m     used_args \u001b[38;5;241m=\u001b[39m \u001b[38;5;28mset\u001b[39m()\n\u001b[0;32m--> 165\u001b[0m     result, _ \u001b[38;5;241m=\u001b[39m \u001b[38;5;28;43mself\u001b[39;49m\u001b[38;5;241;43m.\u001b[39;49m\u001b[43m_vformat\u001b[49m\u001b[43m(\u001b[49m\u001b[43mformat_string\u001b[49m\u001b[43m,\u001b[49m\u001b[43m \u001b[49m\u001b[43margs\u001b[49m\u001b[43m,\u001b[49m\u001b[43m \u001b[49m\u001b[43mkwargs\u001b[49m\u001b[43m,\u001b[49m\u001b[43m \u001b[49m\u001b[43mused_args\u001b[49m\u001b[43m,\u001b[49m\u001b[43m \u001b[49m\u001b[38;5;241;43m2\u001b[39;49m\u001b[43m)\u001b[49m\n\u001b[1;32m    166\u001b[0m     \u001b[38;5;28mself\u001b[39m\u001b[38;5;241m.\u001b[39mcheck_unused_args(used_args, args, kwargs)\n\u001b[1;32m    167\u001b[0m     \u001b[38;5;28;01mreturn\u001b[39;00m result\n",
      "File \u001b[0;32m~/.pyenv/versions/3.10.15/lib/python3.10/string.py:205\u001b[0m, in \u001b[0;36mFormatter._vformat\u001b[0;34m(self, format_string, args, kwargs, used_args, recursion_depth, auto_arg_index)\u001b[0m\n\u001b[1;32m    201\u001b[0m     auto_arg_index \u001b[38;5;241m=\u001b[39m \u001b[38;5;28;01mFalse\u001b[39;00m\n\u001b[1;32m    203\u001b[0m \u001b[38;5;66;03m# given the field_name, find the object it references\u001b[39;00m\n\u001b[1;32m    204\u001b[0m \u001b[38;5;66;03m#  and the argument it came from\u001b[39;00m\n\u001b[0;32m--> 205\u001b[0m obj, arg_used \u001b[38;5;241m=\u001b[39m \u001b[38;5;28;43mself\u001b[39;49m\u001b[38;5;241;43m.\u001b[39;49m\u001b[43mget_field\u001b[49m\u001b[43m(\u001b[49m\u001b[43mfield_name\u001b[49m\u001b[43m,\u001b[49m\u001b[43m \u001b[49m\u001b[43margs\u001b[49m\u001b[43m,\u001b[49m\u001b[43m \u001b[49m\u001b[43mkwargs\u001b[49m\u001b[43m)\u001b[49m\n\u001b[1;32m    206\u001b[0m used_args\u001b[38;5;241m.\u001b[39madd(arg_used)\n\u001b[1;32m    208\u001b[0m \u001b[38;5;66;03m# do any conversion on the resulting object\u001b[39;00m\n",
      "File \u001b[0;32m~/.pyenv/versions/3.10.15/lib/python3.10/string.py:270\u001b[0m, in \u001b[0;36mFormatter.get_field\u001b[0;34m(self, field_name, args, kwargs)\u001b[0m\n\u001b[1;32m    267\u001b[0m \u001b[38;5;28;01mdef\u001b[39;00m \u001b[38;5;21mget_field\u001b[39m(\u001b[38;5;28mself\u001b[39m, field_name, args, kwargs):\n\u001b[1;32m    268\u001b[0m     first, rest \u001b[38;5;241m=\u001b[39m _string\u001b[38;5;241m.\u001b[39mformatter_field_name_split(field_name)\n\u001b[0;32m--> 270\u001b[0m     obj \u001b[38;5;241m=\u001b[39m \u001b[38;5;28;43mself\u001b[39;49m\u001b[38;5;241;43m.\u001b[39;49m\u001b[43mget_value\u001b[49m\u001b[43m(\u001b[49m\u001b[43mfirst\u001b[49m\u001b[43m,\u001b[49m\u001b[43m \u001b[49m\u001b[43margs\u001b[49m\u001b[43m,\u001b[49m\u001b[43m \u001b[49m\u001b[43mkwargs\u001b[49m\u001b[43m)\u001b[49m\n\u001b[1;32m    272\u001b[0m     \u001b[38;5;66;03m# loop through the rest of the field_name, doing\u001b[39;00m\n\u001b[1;32m    273\u001b[0m     \u001b[38;5;66;03m#  getattr or getitem as needed\u001b[39;00m\n\u001b[1;32m    274\u001b[0m     \u001b[38;5;28;01mfor\u001b[39;00m is_attr, i \u001b[38;5;129;01min\u001b[39;00m rest:\n",
      "File \u001b[0;32m~/.pyenv/versions/3.10.15/lib/python3.10/string.py:225\u001b[0m, in \u001b[0;36mFormatter.get_value\u001b[0;34m(self, key, args, kwargs)\u001b[0m\n\u001b[1;32m    223\u001b[0m \u001b[38;5;28;01mdef\u001b[39;00m \u001b[38;5;21mget_value\u001b[39m(\u001b[38;5;28mself\u001b[39m, key, args, kwargs):\n\u001b[1;32m    224\u001b[0m     \u001b[38;5;28;01mif\u001b[39;00m \u001b[38;5;28misinstance\u001b[39m(key, \u001b[38;5;28mint\u001b[39m):\n\u001b[0;32m--> 225\u001b[0m         \u001b[38;5;28;01mreturn\u001b[39;00m \u001b[43margs\u001b[49m\u001b[43m[\u001b[49m\u001b[43mkey\u001b[49m\u001b[43m]\u001b[49m\n\u001b[1;32m    226\u001b[0m     \u001b[38;5;28;01melse\u001b[39;00m:\n\u001b[1;32m    227\u001b[0m         \u001b[38;5;28;01mreturn\u001b[39;00m kwargs[key]\n",
      "\u001b[0;31mIndexError\u001b[0m: tuple index out of range"
     ]
    }
   ],
   "source": [
    "response = chain.invoke(prompt)\n",
    "print(response)"
   ]
  },
  {
   "cell_type": "markdown",
   "metadata": {},
   "source": [
    "## Adding a System Prompt\n",
    "\n",
    "Finally, a _system prompt_ is the preferred way to provide additional instructions and clarity about the context for a task, especially when this same information applies for _all_ user queries in the application. When you are building an AI-enabled application for a set of use cases, you will probably spend a lot of time refining the system prompt to maximize the quality of the results!\n",
    "\n",
    "Here we define a `default_system_prompt` to let the model know what we expect from it.\n",
    "\n",
    "So, let's define a final helper function, `chat()`, that includes a system prompt, where `default_system_prompt` is the default. Also, note that we move the sentence `Make sure you only generate {shell} code that is {os}-compatible!` to the system prompt, where it really belongs!"
   ]
  },
  {
   "cell_type": "code",
   "execution_count": 31,
   "metadata": {},
   "outputs": [],
   "source": [
    "examples = [\n",
    "    {\n",
    "        \"question\": \"Recursively find files that match '*.js', and filter out files with 'excludeddir' in their paths.\", \n",
    "        \"answer\": \"find . -name '*.js' | grep -v excludeddir\",\n",
    "    },\n",
    "    {\n",
    "        \"question\": \"Dump \\\"a0b\\\" as hexadecimal bytes.\", \n",
    "        \"answer\": \"printf \\\"a0b\\\" | od -tx1\",\n",
    "    },\n",
    "    {\n",
    "        \"question\": \"Create a tar ball of all pdf files in the current folder and any subdirectories.\", \n",
    "        \"answer\": \"find . -name '*.pdf' | xargs tar czvf pdf.tar\",\n",
    "    },\n",
    "    {\n",
    "        \"question\": \"Sort all files and directories in the current directory, but no subdirectories, according to modification time, and print only the seven most recently modified items.\", \n",
    "        \"answer\": f\"find . -maxdepth 1 -exec stat {stat_flags} \\; | sort -n -r | tail -n 7\",\n",
    "    },\n",
    "    {\n",
    "        \"question\": \"Find all the empty directories in and under the current directory.\", \n",
    "        \"answer\": \"find . -type d -empty\",\n",
    "    },\n",
    "]"
   ]
  },
  {
   "cell_type": "code",
   "execution_count": 44,
   "metadata": {},
   "outputs": [
    {
     "name": "stdout",
     "output_type": "stream",
     "text": [
      "['question']\n"
     ]
    }
   ],
   "source": [
    "from langchain_core.messages import AIMessage, HumanMessage, SystemMessage\n",
    "from langchain_core.prompts import ChatPromptTemplate, FewShotChatMessagePromptTemplate\n",
    "\n",
    "system_prompt = SystemMessage(content=dedent(f\"\"\"\\\n",
    "    You are a helpful software engineer. You write clear, concise, well-commented code. \n",
    "    Make sure you only generate {my_shell} code that is {my_os}-compatible!\"\"\"\n",
    "))\n",
    "\n",
    "example_prompt = ChatPromptTemplate.from_messages(\n",
    "    [\n",
    "        (\"human\", \"{question}\"),\n",
    "        (\"ai\", \"{answer}\"),\n",
    "    ]\n",
    ")\n",
    "\n",
    "few_shot_prompt = FewShotChatMessagePromptTemplate(\n",
    "    example_prompt=example_prompt,\n",
    "    examples=examples,\n",
    ")\n",
    "\n",
    "chat_template = ChatPromptTemplate.from_messages(\n",
    "    [\n",
    "        system_prompt,\n",
    "        few_shot_prompt,\n",
    "        (\"human\", \"{question}\"),\n",
    "    ]\n",
    ")\n",
    "\n",
    "print(chat_template.input_variables)\n"
   ]
  },
  {
   "cell_type": "markdown",
   "metadata": {},
   "source": [
    "### View the completed prompt"
   ]
  },
  {
   "cell_type": "code",
   "execution_count": 45,
   "metadata": {},
   "outputs": [
    {
     "name": "stdout",
     "output_type": "stream",
     "text": [
      "System: You are a helpful software engineer. You write clear, concise, well-commented code. \n",
      "Make sure you only generate bash code that is MacOS-compatible!\n",
      "Human: Recursively find files that match '*.js', and filter out files with 'excludeddir' in their paths.\n",
      "AI: find . -name '*.js' | grep -v excludeddir\n",
      "Human: Dump \"a0b\" as hexadecimal bytes.\n",
      "AI: printf \"a0b\" | od -tx1\n",
      "Human: Create a tar ball of all pdf files in the current folder and any subdirectories.\n",
      "AI: find . -name '*.pdf' | xargs tar czvf pdf.tar\n",
      "Human: Sort all files and directories in the current directory, but no subdirectories, according to modification time, and print only the seven most recently modified items.\n",
      "AI: find . -maxdepth 1 -exec stat -f \"%m %N\" {} \\; | sort -n -r | tail -n 7\n",
      "Human: Find all the empty directories in and under the current directory.\n",
      "AI: find . -type d -empty\n",
      "Human: Show me a bash script to print the first 50 files found under the current working directory\n",
      "that have been modified within the last week. Make sure you show the last modification time\n",
      "for each file in the output.\n"
     ]
    }
   ],
   "source": [
    "prompt = dedent(f\"\"\"\\\n",
    "    Show me a {my_shell} script to print the first 50 files found under the current working directory\n",
    "    that have been modified within the last week. Make sure you show the last modification time\n",
    "    for each file in the output.\"\"\"\n",
    ")\n",
    "\n",
    "print(chat_template.format(question=prompt))"
   ]
  },
  {
   "cell_type": "markdown",
   "metadata": {},
   "source": [
    "### Run the model"
   ]
  },
  {
   "cell_type": "code",
   "execution_count": 46,
   "metadata": {},
   "outputs": [
    {
     "name": "stdout",
     "output_type": "stream",
     "text": [
      "AI: Here's a bash script to print the first 50 files found under the current working directory that have been modified within the last week, along with their last modification time:\n",
      "```\n",
      "find . -type f -mtime -7 | head -n 50 | while read file; do\n",
      " echo \"$file $(stat -f %m $file)\"\n",
      "done\n",
      "```\n",
      "This script uses the `find` command to search for all files (`-type f`) that have been modified within the last week (`-mtime -7`). It then uses the `head` command to limit the output to the first 50 files found. Finally, it uses a `while` loop to read each file name and its last modification time from the output of the `stat` command and print them to the console. \n"
     ]
    }
   ],
   "source": [
    "chain = chat_template | model\n",
    "response = chain.invoke({\"question\": prompt})\n",
    "print(response)"
   ]
  },
  {
   "cell_type": "markdown",
   "metadata": {},
   "source": [
    "If you modify `chat()` to return the whole `response`, what additional information do you get?"
   ]
  },
  {
   "cell_type": "markdown",
   "metadata": {},
   "source": [
    "Try invoking `chat()` several times. How do the responses change from one invocation to the next? Try different queries. adding more examples to the `examples` string or modifying the ones shown. Does this affect the outputs."
   ]
  }
 ],
 "metadata": {
  "kernelspec": {
   "display_name": ".venv",
   "language": "python",
   "name": "python3"
  },
  "language_info": {
   "codemirror_mode": {
    "name": "ipython",
    "version": 3
   },
   "file_extension": ".py",
   "mimetype": "text/x-python",
   "name": "python",
   "nbconvert_exporter": "python",
   "pygments_lexer": "ipython3",
   "version": "3.10.15"
  }
 },
 "nbformat": 4,
 "nbformat_minor": 4
}
