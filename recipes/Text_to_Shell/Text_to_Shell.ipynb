{
 "cells": [
  {
   "cell_type": "markdown",
   "metadata": {},
   "source": [
    "\n",
    "# Generating Bash Code with Granite Code and Ollama\n"
   ]
  },
  {
   "cell_type": "markdown",
   "metadata": {},
   "source": [
    "### Prerequisite: Install Ollama and Granite Code models\n",
    "\n",
    "1. [Download and Start Ollama](https://ollama.com/download)\n",
    "1. Install Granite Code 20b: `ollama pull granite-code:20b`\n",
    "1. Install Granite Code 8b: `ollama pull granite-code:8b`"
   ]
  },
  {
   "cell_type": "markdown",
   "metadata": {},
   "source": [
    "\n",
    "## One-shot Prompt with Granite Code 20b\n",
    "\n",
    "In One-shot prompting, you provide the model with a question and no examples. The model will generate an answer given its training. Larger models tend to do better at this task.\n",
    "\n",
    "Use the [ollama-python package](https://github.com/ollama/ollama-python) to access the model."
   ]
  },
  {
   "cell_type": "code",
   "execution_count": 9,
   "metadata": {},
   "outputs": [
    {
     "name": "stdout",
     "output_type": "stream",
     "text": [
      "You can use the following bash script to achieve this. \n",
      "\n",
      "```bash\n",
      "#!/bin/bash\n",
      "\n",
      "start_date=\"Jan 12, 2023\"\n",
      "end_date=\"Jan 20, 2024\"\n",
      "\n",
      "start=$(date -d \"$start_date\" +%s)\n",
      "end=$(date -d \"$end_date\" +%s)\n",
      "\n",
      "echo \"Number of days between the dates = $(($((end - start))/86400))\"\n",
      "```\n",
      "\n",
      "In this script, we first define the start and end dates as variables. Then, we use the `date` command with the `-d` option to convert the date strings into UNIX timestamp format using the `+%s` flag. \n",
      "\n",
      "Next, we subtract the start timestamp from the end timestamp and divide the result by the number of seconds in a day (86400) to get the number of days between the dates. Finally, we use the `echo` command to display the result.\n",
      "\n",
      "Make sure to save the script with a `.sh` extension (e.g., `calculate_days.sh`), make it executable using the `chmod +x calculate_days.sh` command, and run it using `./calculate_days.sh`. The output will be the number of days between the specified dates.\n"
     ]
    }
   ],
   "source": [
    "import ollama\n",
    "\n",
    "response = ollama.generate(\n",
    "  model='granite-code:20b',\n",
    "  prompt=\"How can I use a bash script to calculate the number of days between the dates Jan 12, 2023 and Jan 20, 2024?\"\n",
    ")\n",
    "print(response[\"response\"])"
   ]
  },
  {
   "cell_type": "markdown",
   "metadata": {},
   "source": [
    "## Few-shot Prompting with Granite Code 8b\n",
    "\n",
    "In few-shot prompting, you provide the model with a question and some examples. The model will generate an answer given its training. The additional examples help the model zero in on a pattern, which may be required for smaller models to perform well at this task."
   ]
  },
  {
   "cell_type": "code",
   "execution_count": 3,
   "metadata": {},
   "outputs": [
    {
     "name": "stdout",
     "output_type": "stream",
     "text": [
      "#!/bin/bash\n",
      "start_date=$(date -d \"Jan 12, 2023\" +%s)\n",
      "end_date=$(date -d \"Jan 20, 2024\" +%s)\n",
      "diff=$(( $end_date - $start_date ))\n",
      "echo \"$diff seconds = $(($diff/60/60/24)) days\"\n"
     ]
    }
   ],
   "source": [
    "examples = \"\"\"\n",
    "Question:\n",
    "Recursively finds files like '*.js', and filters out files with 'excludeddir' in path.\n",
    "Answer:\n",
    "find . -name '*.js' | grep -v excludeddir\n",
    "\n",
    "Question:\n",
    "Dump \\\"a0b\\\" as hexadecimal bytes\n",
    "Answer:\n",
    "printf \\\"a0b\\\" | od -tx1\n",
    "\n",
    "Question:\n",
    "create a tar ball of all pdf files in current folder\n",
    "Answer:\n",
    "find . -name *.pdf | xargs tar czvf /root/Desktop/evidence/pdf.tar\n",
    "\n",
    "Question:\n",
    "Sort all files/directories under current directory according to modification time and print only the recent 7 of them\n",
    "Answer:\n",
    "find -mindepth 1 -printf \\\"%T@ %Pn\\\" | sort -n -r | cut -d' ' -f 2- | tail -n +7\n",
    "\n",
    "Question:\n",
    "find all the empty directories in the current folder\n",
    "Answer:\n",
    "find . -type d -empty\n",
    "\n",
    "\"\"\"\n",
    "\n",
    "query = \"How can I use a bash script to calculate the number of days between the dates Jan 12, 2023 and Jan 20, 2024?\"\n",
    "\n",
    "user_prompt = examples + \"\\nQuestion:\\n\" + query + \"\\nAnswer:\\n\"\n",
    "\n",
    "response = ollama.chat(model='granite-code:8b', messages=[\n",
    "  {\n",
    "    'role': 'user',\n",
    "    'content': user_prompt\n",
    "  },\n",
    "])\n",
    "print(response['message']['content'])"
   ]
  },
  {
   "cell_type": "markdown",
   "metadata": {},
   "source": [
    "## Adding a System Prompt\n",
    "\n",
    "A system prompt can be used to provide additional instructions and clarity or context for the task. Here we let the model know what we expect from it."
   ]
  },
  {
   "cell_type": "code",
   "execution_count": 4,
   "metadata": {},
   "outputs": [
    {
     "name": "stdout",
     "output_type": "stream",
     "text": [
      "#!/bin/bash\n",
      "# Set start date as Jan 12, 2023\n",
      "start_date=\"2023-01-12\"\n",
      "# Set end date as Jan 20, 2024\n",
      "end_date=\"2024-01-20\"\n",
      "# Calculate the number of days using a one-liner\n",
      "num_days=$(date -d \"$end_date\" +%s -date \"$start_date\" +%s | bc) / (60 * 60 * 24)\n",
      "echo \"Number of days between $start_date and $end_date: $num_days\"\n"
     ]
    }
   ],
   "source": [
    "system_prompt = \"You are a helpful software engineer. You write clear, concise, well-commented code.\"\n",
    "\n",
    "response = ollama.chat(model='granite-code:8b', messages=[\n",
    "  {\n",
    "    'role':'system',\n",
    "    'content': system_prompt  \n",
    "  },\n",
    "  {\n",
    "    'role': 'user',\n",
    "    'content': user_prompt\n",
    "  },\n",
    "])\n",
    "print(response['message']['content'])\n"
   ]
  }
 ],
 "metadata": {
  "kernelspec": {
   "display_name": ".venv",
   "language": "python",
   "name": "python3"
  },
  "language_info": {
   "codemirror_mode": {
    "name": "ipython",
    "version": 3
   },
   "file_extension": ".py",
   "mimetype": "text/x-python",
   "name": "python",
   "nbconvert_exporter": "python",
   "pygments_lexer": "ipython3",
   "version": "3.12.4"
  }
 },
 "nbformat": 4,
 "nbformat_minor": 2
}
