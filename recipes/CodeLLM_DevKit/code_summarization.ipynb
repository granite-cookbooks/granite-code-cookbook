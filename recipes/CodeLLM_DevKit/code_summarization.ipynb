{
 "cells": [
  {
   "cell_type": "markdown",
   "id": "59d05bbe28e62687",
   "metadata": {
    "collapsed": false,
    "jupyter": {
     "outputs_hidden": false
    }
   },
   "source": [
    "# Using CLDK to explain Java methods\n",
    "\n",
    "In this tutorial, we will use [CLDK](https://github.com/IBM/codellm-devkit/tree/main) to generate a summary explaination for a Java method. You will explore some of the benefits of using CLDK to perform quick and easy program analysis and to build an LLM-based code summarizer. By the end of this tutorial, you will have implemented such a tool and generated a summary for a Java method.\n",
    "\n",
    "Specifically, you will learn how to perform the following tasks on Java code to create LLM prompts for code summarization:\n",
    "\n",
    "1. Create a new instance of the `CLDK` class.\n",
    "2. Create an analysis object for the target Java code.\n",
    "3. Iterate over all files in the code.\n",
    "4. Iterate over all classes in a file.\n",
    "5. Initialize `treesitter` utils for the class content.\n",
    "6. Iterate over all methods in a class.\n",
    "7. Get the code body for a method.\n",
    "8. Sanitize the class for prompting the LLM.\n",
    "\n",
    "We will write several helper methods to 1) format the LLM instruction for summarizing a given target method and 2) prompt the LLM via Ollama. We will then use CLDK to go through an application and generate the summary for the target method."
   ]
  },
  {
   "cell_type": "markdown",
   "id": "92896c8ce12b0e9e",
   "metadata": {
    "collapsed": false,
    "jupyter": {
     "outputs_hidden": false
    }
   },
   "source": [
    "## Prequisites\n",
    "\n",
    "Before we get started, let's make sure you have the following installed:\n",
    "\n",
    "1. Python 3.11 or later (you can use [pyenv](https://github.com/pyenv/pyenv) to install Python)\n",
    "2. Java 11 or later (you can use [SDKMAN!](https://sdkman.io) to install Java)\n",
    "3. Maven 3.9 or later (you can use [SDKMAN!](https://sdkman.io) to install maven)\n",
    "4. [Ollama 0.3.4](https://ollama.com/) or later.\n",
    "5. [Granite code models](https://ollama.com/library/granite-code), which will serve as our LLM for this tutorial.\n",
    "\n",
    "See the [Coding_Assistant_in_VSCode](../Coding_Assistant_in_VSCode/Coding_Assistant_in_VSCode.ipynb) recipe for instructions on setting up Ollama and installing the Granite models."
   ]
  },
  {
   "cell_type": "markdown",
   "source": [
    "### Install and run Olamma (possibly not necessary)"
   ],
   "metadata": {
    "collapsed": false
   }
  },
  {
   "cell_type": "code",
   "execution_count": 1,
   "outputs": [
    {
     "name": "stdout",
     "output_type": "stream",
     "text": [
      "  % Total    % Received % Xferd  Average Speed   Time    Time     Time  Current\r\n",
      "                                 Dload  Upload   Total   Spent    Left  Speed\r\n",
      "  0     0    0     0    0     0      0      0 --:--:-- --:--:-- --:--:--     0>>> Installing ollama to /usr/local\r\n",
      "100 13320    0 13320    0     0  51926      0 --:--:-- --:--:-- --:--:-- 52031\r\n",
      "\r\n"
     ]
    }
   ],
   "source": [
    "!curl https://ollama.ai/install.sh | sh"
   ],
   "metadata": {
    "collapsed": false,
    "ExecuteTime": {
     "start_time": "2024-09-11T12:31:12.433352Z",
     "end_time": "2024-09-11T12:31:24.585998Z"
    }
   }
  },
  {
   "cell_type": "code",
   "execution_count": null,
   "outputs": [],
   "source": [
    "import os\n",
    "os.system(\"nohup ollama serve &\")"
   ],
   "metadata": {
    "collapsed": false,
    "pycharm": {
     "is_executing": true
    }
   }
  },
  {
   "cell_type": "code",
   "execution_count": null,
   "outputs": [],
   "source": [
    "!ollama pull granite-code:3b"
   ],
   "metadata": {
    "collapsed": false,
    "pycharm": {
     "is_executing": true
    }
   }
  },
  {
   "cell_type": "markdown",
   "id": "531205b489bbec73",
   "metadata": {
    "collapsed": false,
    "jupyter": {
     "outputs_hidden": false
    }
   },
   "source": [
    "### Install Ollama Python SDK\n",
    "\n",
    "We also need the Python API for Ollama and the CLDK toolkit."
   ]
  },
  {
   "cell_type": "code",
   "execution_count": 2,
   "id": "e2a749932a800c9d",
   "metadata": {
    "collapsed": false,
    "jupyter": {
     "outputs_hidden": false
    },
    "scrolled": true,
    "ExecuteTime": {
     "start_time": "2024-09-11T12:48:04.295444Z",
     "end_time": "2024-09-11T12:48:05.109808Z"
    }
   },
   "outputs": [
    {
     "name": "stdout",
     "output_type": "stream",
     "text": [
      "Requirement already satisfied: ollama in /home/rawkintrevo/gits/ibm/ibm-granite-community/granite-code-cookbook/venv/lib/python3.11/site-packages (0.3.3)\r\n",
      "Requirement already satisfied: httpx<0.28.0,>=0.27.0 in /home/rawkintrevo/gits/ibm/ibm-granite-community/granite-code-cookbook/venv/lib/python3.11/site-packages (from ollama) (0.27.2)\r\n",
      "Requirement already satisfied: anyio in /home/rawkintrevo/gits/ibm/ibm-granite-community/granite-code-cookbook/venv/lib/python3.11/site-packages (from httpx<0.28.0,>=0.27.0->ollama) (4.4.0)\r\n",
      "Requirement already satisfied: certifi in /home/rawkintrevo/gits/ibm/ibm-granite-community/granite-code-cookbook/venv/lib/python3.11/site-packages (from httpx<0.28.0,>=0.27.0->ollama) (2024.8.30)\r\n",
      "Requirement already satisfied: httpcore==1.* in /home/rawkintrevo/gits/ibm/ibm-granite-community/granite-code-cookbook/venv/lib/python3.11/site-packages (from httpx<0.28.0,>=0.27.0->ollama) (1.0.5)\r\n",
      "Requirement already satisfied: idna in /home/rawkintrevo/gits/ibm/ibm-granite-community/granite-code-cookbook/venv/lib/python3.11/site-packages (from httpx<0.28.0,>=0.27.0->ollama) (3.8)\r\n",
      "Requirement already satisfied: sniffio in /home/rawkintrevo/gits/ibm/ibm-granite-community/granite-code-cookbook/venv/lib/python3.11/site-packages (from httpx<0.28.0,>=0.27.0->ollama) (1.3.1)\r\n",
      "Requirement already satisfied: h11<0.15,>=0.13 in /home/rawkintrevo/gits/ibm/ibm-granite-community/granite-code-cookbook/venv/lib/python3.11/site-packages (from httpcore==1.*->httpx<0.28.0,>=0.27.0->ollama) (0.14.0)\r\n",
      "\r\n",
      "\u001B[1m[\u001B[0m\u001B[34;49mnotice\u001B[0m\u001B[1;39;49m]\u001B[0m\u001B[39;49m A new release of pip is available: \u001B[0m\u001B[31;49m23.3.2\u001B[0m\u001B[39;49m -> \u001B[0m\u001B[32;49m24.2\u001B[0m\r\n",
      "\u001B[1m[\u001B[0m\u001B[34;49mnotice\u001B[0m\u001B[1;39;49m]\u001B[0m\u001B[39;49m To update, run: \u001B[0m\u001B[32;49mpip install --upgrade pip\u001B[0m\r\n"
     ]
    }
   ],
   "source": [
    "!pip install ollama"
   ]
  },
  {
   "cell_type": "markdown",
   "id": "6f42dbd286b3f7a6",
   "metadata": {
    "collapsed": false,
    "jupyter": {
     "outputs_hidden": false
    }
   },
   "source": [
    "### Install CLDK\n",
    "CLDK is avaliable at https://github.com/IBM/codellm-devkit. You can install it by running the following command:"
   ]
  },
  {
   "cell_type": "code",
   "execution_count": 7,
   "id": "327e212f20a489d6",
   "metadata": {
    "collapsed": false,
    "jupyter": {
     "outputs_hidden": false
    },
    "scrolled": true,
    "ExecuteTime": {
     "start_time": "2024-09-11T12:57:16.343801Z",
     "end_time": "2024-09-11T12:57:23.940914Z"
    }
   },
   "outputs": [
    {
     "name": "stdout",
     "output_type": "stream",
     "text": [
      "Collecting git+https://github.com/IBM/codellm-devkit.git\r\n",
      "  Cloning https://github.com/IBM/codellm-devkit.git to /tmp/pip-req-build-ebsk7xfc\r\n",
      "  Running command git clone --filter=blob:none --quiet https://github.com/IBM/codellm-devkit.git /tmp/pip-req-build-ebsk7xfc\r\n",
      "  Resolved https://github.com/IBM/codellm-devkit.git to commit e9587bcef136a6c0d593da977dd42bc0a83eaf4c\r\n",
      "  Installing build dependencies ... \u001B[?25ldone\r\n",
      "\u001B[?25h  Getting requirements to build wheel ... \u001B[?25ldone\r\n",
      "\u001B[?25h  Preparing metadata (pyproject.toml) ... \u001B[?25ldone\r\n",
      "\u001B[?25hCollecting tree-sitter-python@ git+https://github.com/tree-sitter/tree-sitter-python@0f9047c (from cldk==0.1.0.dev0)\r\n",
      "  Cloning https://github.com/tree-sitter/tree-sitter-python (to revision 0f9047c) to /tmp/pip-install-ibbxl89m/tree-sitter-python_e9ff203ae9a740558867cadc55f2e18c\r\n",
      "  Running command git clone --filter=blob:none --quiet https://github.com/tree-sitter/tree-sitter-python /tmp/pip-install-ibbxl89m/tree-sitter-python_e9ff203ae9a740558867cadc55f2e18c\r\n",
      "\u001B[33m  WARNING: Did not find branch or tag '0f9047c', assuming revision or ref.\u001B[0m\u001B[33m\r\n",
      "\u001B[0m  Running command git checkout -q 0f9047c\r\n",
      "  Resolved https://github.com/tree-sitter/tree-sitter-python to commit 0f9047c\r\n",
      "  Installing build dependencies ... \u001B[?25ldone\r\n",
      "\u001B[?25h  Getting requirements to build wheel ... \u001B[?25ldone\r\n",
      "\u001B[?25h  Preparing metadata (pyproject.toml) ... \u001B[?25ldone\r\n",
      "\u001B[?25hCollecting networkx<4.0.0,>=3.2.1 (from cldk==0.1.0.dev0)\r\n",
      "  Using cached networkx-3.3-py3-none-any.whl.metadata (5.1 kB)\r\n",
      "Collecting pandas<3.0.0,>=2.2.0 (from cldk==0.1.0.dev0)\r\n",
      "  Using cached pandas-2.2.2-cp311-cp311-manylinux_2_17_x86_64.manylinux2014_x86_64.whl.metadata (19 kB)\r\n",
      "Collecting pyarrow<16.0.0,>=15.0.0 (from cldk==0.1.0.dev0)\r\n",
      "  Using cached pyarrow-15.0.2-cp311-cp311-manylinux_2_28_x86_64.whl.metadata (3.0 kB)\r\n",
      "Collecting pydantic<3.0.0,>=2.6.1 (from cldk==0.1.0.dev0)\r\n",
      "  Using cached pydantic-2.9.1-py3-none-any.whl.metadata (146 kB)\r\n",
      "Requirement already satisfied: requests<3.0.0,>=2.31.0 in /home/rawkintrevo/gits/ibm/ibm-granite-community/granite-code-cookbook/venv/lib/python3.11/site-packages (from cldk==0.1.0.dev0) (2.32.3)\r\n",
      "Collecting rich<14.0.0,>=13.7.1 (from cldk==0.1.0.dev0)\r\n",
      "  Using cached rich-13.8.1-py3-none-any.whl.metadata (18 kB)\r\n",
      "Collecting tree-sitter<0.23.0,>=0.22.3 (from cldk==0.1.0.dev0)\r\n",
      "  Using cached tree_sitter-0.22.3-cp311-cp311-manylinux_2_17_x86_64.manylinux2014_x86_64.whl.metadata (10 kB)\r\n",
      "Collecting tree-sitter-c<0.22.0,>=0.21.0 (from cldk==0.1.0.dev0)\r\n",
      "  Using cached tree_sitter_c-0.21.4-cp38-abi3-manylinux_2_5_x86_64.manylinux1_x86_64.manylinux_2_17_x86_64.manylinux2014_x86_64.whl.metadata (1.8 kB)\r\n",
      "Collecting tree-sitter-go<0.22.0,>=0.21.0 (from cldk==0.1.0.dev0)\r\n",
      "  Using cached tree_sitter_go-0.21.2-cp38-abi3-manylinux_2_5_x86_64.manylinux1_x86_64.manylinux_2_17_x86_64.manylinux2014_x86_64.whl.metadata (1.7 kB)\r\n",
      "Collecting tree-sitter-java<0.22.0,>=0.21.0 (from cldk==0.1.0.dev0)\r\n",
      "  Using cached tree_sitter_java-0.21.0-cp38-abi3-manylinux_2_5_x86_64.manylinux1_x86_64.manylinux_2_17_x86_64.manylinux2014_x86_64.whl.metadata (1.8 kB)\r\n",
      "Collecting tree-sitter-javascript<0.22.0,>=0.21.0 (from cldk==0.1.0.dev0)\r\n",
      "  Using cached tree_sitter_javascript-0.21.4-cp38-abi3-manylinux_2_5_x86_64.manylinux1_x86_64.manylinux_2_17_x86_64.manylinux2014_x86_64.whl.metadata (1.9 kB)\r\n",
      "Collecting tree-sitter-languages<2.0.0,>=1.10.2 (from cldk==0.1.0.dev0)\r\n",
      "  Using cached tree_sitter_languages-1.10.2-cp311-cp311-manylinux_2_17_x86_64.manylinux2014_x86_64.whl.metadata (10 kB)\r\n",
      "Collecting wget<4.0,>=3.2 (from cldk==0.1.0.dev0)\r\n",
      "  Using cached wget-3.2-py3-none-any.whl\r\n",
      "Collecting numpy>=1.23.2 (from pandas<3.0.0,>=2.2.0->cldk==0.1.0.dev0)\r\n",
      "  Using cached numpy-2.1.1-cp311-cp311-manylinux_2_17_x86_64.manylinux2014_x86_64.whl.metadata (60 kB)\r\n",
      "Requirement already satisfied: python-dateutil>=2.8.2 in /home/rawkintrevo/gits/ibm/ibm-granite-community/granite-code-cookbook/venv/lib/python3.11/site-packages (from pandas<3.0.0,>=2.2.0->cldk==0.1.0.dev0) (2.9.0.post0)\r\n",
      "Collecting pytz>=2020.1 (from pandas<3.0.0,>=2.2.0->cldk==0.1.0.dev0)\r\n",
      "  Using cached pytz-2024.2-py2.py3-none-any.whl.metadata (22 kB)\r\n",
      "Collecting tzdata>=2022.7 (from pandas<3.0.0,>=2.2.0->cldk==0.1.0.dev0)\r\n",
      "  Using cached tzdata-2024.1-py2.py3-none-any.whl.metadata (1.4 kB)\r\n",
      "Collecting numpy>=1.23.2 (from pandas<3.0.0,>=2.2.0->cldk==0.1.0.dev0)\r\n",
      "  Using cached numpy-1.26.4-cp311-cp311-manylinux_2_17_x86_64.manylinux2014_x86_64.whl.metadata (61 kB)\r\n",
      "Collecting annotated-types>=0.6.0 (from pydantic<3.0.0,>=2.6.1->cldk==0.1.0.dev0)\r\n",
      "  Using cached annotated_types-0.7.0-py3-none-any.whl.metadata (15 kB)\r\n",
      "Collecting pydantic-core==2.23.3 (from pydantic<3.0.0,>=2.6.1->cldk==0.1.0.dev0)\r\n",
      "  Using cached pydantic_core-2.23.3-cp311-cp311-manylinux_2_17_x86_64.manylinux2014_x86_64.whl.metadata (6.6 kB)\r\n",
      "Requirement already satisfied: typing-extensions>=4.6.1 in /home/rawkintrevo/gits/ibm/ibm-granite-community/granite-code-cookbook/venv/lib/python3.11/site-packages (from pydantic<3.0.0,>=2.6.1->cldk==0.1.0.dev0) (4.12.2)\r\n",
      "Requirement already satisfied: charset-normalizer<4,>=2 in /home/rawkintrevo/gits/ibm/ibm-granite-community/granite-code-cookbook/venv/lib/python3.11/site-packages (from requests<3.0.0,>=2.31.0->cldk==0.1.0.dev0) (3.3.2)\r\n",
      "Requirement already satisfied: idna<4,>=2.5 in /home/rawkintrevo/gits/ibm/ibm-granite-community/granite-code-cookbook/venv/lib/python3.11/site-packages (from requests<3.0.0,>=2.31.0->cldk==0.1.0.dev0) (3.8)\r\n",
      "Requirement already satisfied: urllib3<3,>=1.21.1 in /home/rawkintrevo/gits/ibm/ibm-granite-community/granite-code-cookbook/venv/lib/python3.11/site-packages (from requests<3.0.0,>=2.31.0->cldk==0.1.0.dev0) (2.2.2)\r\n",
      "Requirement already satisfied: certifi>=2017.4.17 in /home/rawkintrevo/gits/ibm/ibm-granite-community/granite-code-cookbook/venv/lib/python3.11/site-packages (from requests<3.0.0,>=2.31.0->cldk==0.1.0.dev0) (2024.8.30)\r\n",
      "Collecting markdown-it-py>=2.2.0 (from rich<14.0.0,>=13.7.1->cldk==0.1.0.dev0)\r\n",
      "  Using cached markdown_it_py-3.0.0-py3-none-any.whl.metadata (6.9 kB)\r\n",
      "Requirement already satisfied: pygments<3.0.0,>=2.13.0 in /home/rawkintrevo/gits/ibm/ibm-granite-community/granite-code-cookbook/venv/lib/python3.11/site-packages (from rich<14.0.0,>=13.7.1->cldk==0.1.0.dev0) (2.18.0)\r\n",
      "Collecting mdurl~=0.1 (from markdown-it-py>=2.2.0->rich<14.0.0,>=13.7.1->cldk==0.1.0.dev0)\r\n",
      "  Using cached mdurl-0.1.2-py3-none-any.whl.metadata (1.6 kB)\r\n",
      "Requirement already satisfied: six>=1.5 in /home/rawkintrevo/gits/ibm/ibm-granite-community/granite-code-cookbook/venv/lib/python3.11/site-packages (from python-dateutil>=2.8.2->pandas<3.0.0,>=2.2.0->cldk==0.1.0.dev0) (1.16.0)\r\n",
      "Using cached networkx-3.3-py3-none-any.whl (1.7 MB)\r\n",
      "Using cached pandas-2.2.2-cp311-cp311-manylinux_2_17_x86_64.manylinux2014_x86_64.whl (13.0 MB)\r\n",
      "Using cached pyarrow-15.0.2-cp311-cp311-manylinux_2_28_x86_64.whl (38.3 MB)\r\n",
      "Using cached pydantic-2.9.1-py3-none-any.whl (434 kB)\r\n",
      "Using cached pydantic_core-2.23.3-cp311-cp311-manylinux_2_17_x86_64.manylinux2014_x86_64.whl (2.1 MB)\r\n",
      "Using cached rich-13.8.1-py3-none-any.whl (241 kB)\r\n",
      "Using cached tree_sitter-0.22.3-cp311-cp311-manylinux_2_17_x86_64.manylinux2014_x86_64.whl (544 kB)\r\n",
      "Using cached tree_sitter_c-0.21.4-cp38-abi3-manylinux_2_5_x86_64.manylinux1_x86_64.manylinux_2_17_x86_64.manylinux2014_x86_64.whl (96 kB)\r\n",
      "Using cached tree_sitter_go-0.21.2-cp38-abi3-manylinux_2_5_x86_64.manylinux1_x86_64.manylinux_2_17_x86_64.manylinux2014_x86_64.whl (65 kB)\r\n",
      "Using cached tree_sitter_java-0.21.0-cp38-abi3-manylinux_2_5_x86_64.manylinux1_x86_64.manylinux_2_17_x86_64.manylinux2014_x86_64.whl (116 kB)\r\n",
      "Using cached tree_sitter_javascript-0.21.4-cp38-abi3-manylinux_2_5_x86_64.manylinux1_x86_64.manylinux_2_17_x86_64.manylinux2014_x86_64.whl (76 kB)\r\n",
      "Using cached tree_sitter_languages-1.10.2-cp311-cp311-manylinux_2_17_x86_64.manylinux2014_x86_64.whl (8.4 MB)\r\n",
      "Using cached annotated_types-0.7.0-py3-none-any.whl (13 kB)\r\n",
      "Using cached markdown_it_py-3.0.0-py3-none-any.whl (87 kB)\r\n",
      "Using cached numpy-1.26.4-cp311-cp311-manylinux_2_17_x86_64.manylinux2014_x86_64.whl (18.3 MB)\r\n",
      "Using cached pytz-2024.2-py2.py3-none-any.whl (508 kB)\r\n",
      "Using cached tzdata-2024.1-py2.py3-none-any.whl (345 kB)\r\n",
      "Using cached mdurl-0.1.2-py3-none-any.whl (10.0 kB)\r\n",
      "Building wheels for collected packages: cldk, tree-sitter-python\r\n",
      "  Building wheel for cldk (pyproject.toml) ... \u001B[?25ldone\r\n",
      "\u001B[?25h  Created wheel for cldk: filename=cldk-0.1.0.dev0-py3-none-any.whl size=68645 sha256=7f354bdef4ca7bf9e42adc52d069a1f26349f409beefe53ff1822d6c7e8aa5a8\r\n",
      "  Stored in directory: /tmp/pip-ephem-wheel-cache-svvpvdei/wheels/76/0e/3a/46ce0a5841fb5d524e1b6a228e7abc08e25150f0386ea1e964\r\n",
      "  Building wheel for tree-sitter-python (pyproject.toml) ... \u001B[?25lerror\r\n",
      "  \u001B[1;31merror\u001B[0m: \u001B[1msubprocess-exited-with-error\u001B[0m\r\n",
      "  \r\n",
      "  \u001B[31m×\u001B[0m \u001B[32mBuilding wheel for tree-sitter-python \u001B[0m\u001B[1;32m(\u001B[0m\u001B[32mpyproject.toml\u001B[0m\u001B[1;32m)\u001B[0m did not run successfully.\r\n",
      "  \u001B[31m│\u001B[0m exit code: \u001B[1;36m1\u001B[0m\r\n",
      "  \u001B[31m╰─>\u001B[0m \u001B[31m[34 lines of output]\u001B[0m\r\n",
      "  \u001B[31m   \u001B[0m running bdist_wheel\r\n",
      "  \u001B[31m   \u001B[0m running build\r\n",
      "  \u001B[31m   \u001B[0m creating build\r\n",
      "  \u001B[31m   \u001B[0m creating build/lib.linux-x86_64-cpython-311\r\n",
      "  \u001B[31m   \u001B[0m creating build/lib.linux-x86_64-cpython-311/tree_sitter_python\r\n",
      "  \u001B[31m   \u001B[0m creating build/lib.linux-x86_64-cpython-311/tree_sitter_python/queries\r\n",
      "  \u001B[31m   \u001B[0m copying queries/highlights.scm -> build/lib.linux-x86_64-cpython-311/tree_sitter_python/queries\r\n",
      "  \u001B[31m   \u001B[0m copying queries/tags.scm -> build/lib.linux-x86_64-cpython-311/tree_sitter_python/queries\r\n",
      "  \u001B[31m   \u001B[0m running build_py\r\n",
      "  \u001B[31m   \u001B[0m copying bindings/python/tree_sitter_python/__init__.py -> build/lib.linux-x86_64-cpython-311/tree_sitter_python\r\n",
      "  \u001B[31m   \u001B[0m running egg_info\r\n",
      "  \u001B[31m   \u001B[0m writing bindings/python/tree_sitter_python.egg-info/PKG-INFO\r\n",
      "  \u001B[31m   \u001B[0m writing dependency_links to bindings/python/tree_sitter_python.egg-info/dependency_links.txt\r\n",
      "  \u001B[31m   \u001B[0m writing requirements to bindings/python/tree_sitter_python.egg-info/requires.txt\r\n",
      "  \u001B[31m   \u001B[0m writing top-level names to bindings/python/tree_sitter_python.egg-info/top_level.txt\r\n",
      "  \u001B[31m   \u001B[0m reading manifest file 'bindings/python/tree_sitter_python.egg-info/SOURCES.txt'\r\n",
      "  \u001B[31m   \u001B[0m adding license file 'LICENSE'\r\n",
      "  \u001B[31m   \u001B[0m writing manifest file 'bindings/python/tree_sitter_python.egg-info/SOURCES.txt'\r\n",
      "  \u001B[31m   \u001B[0m copying bindings/python/tree_sitter_python/__init__.pyi -> build/lib.linux-x86_64-cpython-311/tree_sitter_python\r\n",
      "  \u001B[31m   \u001B[0m copying bindings/python/tree_sitter_python/binding.c -> build/lib.linux-x86_64-cpython-311/tree_sitter_python\r\n",
      "  \u001B[31m   \u001B[0m copying bindings/python/tree_sitter_python/py.typed -> build/lib.linux-x86_64-cpython-311/tree_sitter_python\r\n",
      "  \u001B[31m   \u001B[0m running build_ext\r\n",
      "  \u001B[31m   \u001B[0m building '_binding' extension\r\n",
      "  \u001B[31m   \u001B[0m creating build/temp.linux-x86_64-cpython-311\r\n",
      "  \u001B[31m   \u001B[0m creating build/temp.linux-x86_64-cpython-311/bindings\r\n",
      "  \u001B[31m   \u001B[0m creating build/temp.linux-x86_64-cpython-311/bindings/python\r\n",
      "  \u001B[31m   \u001B[0m creating build/temp.linux-x86_64-cpython-311/bindings/python/tree_sitter_python\r\n",
      "  \u001B[31m   \u001B[0m creating build/temp.linux-x86_64-cpython-311/src\r\n",
      "  \u001B[31m   \u001B[0m x86_64-linux-gnu-gcc -Wsign-compare -DNDEBUG -g -fwrapv -O2 -Wall -g -fstack-protector-strong -Wformat -Werror=format-security -g -fwrapv -O2 -fPIC -DPy_LIMITED_API=0x03080000 -DPY_SSIZE_T_CLEAN -Isrc -I/home/rawkintrevo/gits/ibm/ibm-granite-community/granite-code-cookbook/venv/include -I/usr/include/python3.11 -c bindings/python/tree_sitter_python/binding.c -o build/temp.linux-x86_64-cpython-311/bindings/python/tree_sitter_python/binding.o -std=c11\r\n",
      "  \u001B[31m   \u001B[0m bindings/python/tree_sitter_python/binding.c:1:10: fatal error: Python.h: No such file or directory\r\n",
      "  \u001B[31m   \u001B[0m     1 | #include <Python.h>\r\n",
      "  \u001B[31m   \u001B[0m       |          ^~~~~~~~~~\r\n",
      "  \u001B[31m   \u001B[0m compilation terminated.\r\n",
      "  \u001B[31m   \u001B[0m error: command '/usr/bin/x86_64-linux-gnu-gcc' failed with exit code 1\r\n",
      "  \u001B[31m   \u001B[0m \u001B[31m[end of output]\u001B[0m\r\n",
      "  \r\n",
      "  \u001B[1;35mnote\u001B[0m: This error originates from a subprocess, and is likely not a problem with pip.\r\n",
      "\u001B[31m  ERROR: Failed building wheel for tree-sitter-python\u001B[0m\u001B[31m\r\n",
      "\u001B[0m\u001B[?25hSuccessfully built cldk\r\n",
      "Failed to build tree-sitter-python\r\n",
      "\u001B[31mERROR: Could not build wheels for tree-sitter-python, which is required to install pyproject.toml-based projects\u001B[0m\u001B[31m\r\n",
      "\u001B[0m\r\n",
      "\u001B[1m[\u001B[0m\u001B[34;49mnotice\u001B[0m\u001B[1;39;49m]\u001B[0m\u001B[39;49m A new release of pip is available: \u001B[0m\u001B[31;49m23.3.2\u001B[0m\u001B[39;49m -> \u001B[0m\u001B[32;49m24.2\u001B[0m\r\n",
      "\u001B[1m[\u001B[0m\u001B[34;49mnotice\u001B[0m\u001B[1;39;49m]\u001B[0m\u001B[39;49m To update, run: \u001B[0m\u001B[32;49mpip install --upgrade pip\u001B[0m\r\n"
     ]
    }
   ],
   "source": [
    "!pip install git+https://github.com/IBM/codellm-devkit.git"
   ]
  },
  {
   "cell_type": "markdown",
   "id": "dd8ec5b9c837898f",
   "metadata": {
    "collapsed": false,
    "jupyter": {
     "outputs_hidden": false
    }
   },
   "source": [
    "## Analyze and Summarize Java Code\n",
    "\n",
    "First we get the sample Java code, then we will use CLDK to analyze and summarize it.\n",
    "\n",
    "### Get the Sample Java Code\n",
    "For this tutorial, we will use [Apache Commons CLI](https://github.com/apache/commons-cli) as the sample Java code. You can download the source code to a temporary directory by running the following commands:"
   ]
  },
  {
   "cell_type": "code",
   "execution_count": 8,
   "id": "c196e58b3ce90c34",
   "metadata": {
    "collapsed": false,
    "jupyter": {
     "outputs_hidden": false
    },
    "scrolled": true,
    "ExecuteTime": {
     "start_time": "2024-09-11T13:00:01.049985Z",
     "end_time": "2024-09-11T13:00:01.098902Z"
    }
   },
   "outputs": [
    {
     "name": "stdout",
     "output_type": "stream",
     "text": [
      "total 4\n",
      "drwxrwxr-x 4 rawkintrevo rawkintrevo 4096 Apr 12 21:23 commons-cli-rel-commons-cli-1.7.0\n"
     ]
    }
   ],
   "source": [
    "%%bash\n",
    "COMMONS=commons-cli-1.7.0\n",
    "test -d temp || ( \\\n",
    "  mkdir -p temp && \\\n",
    "  cd temp && \\\n",
    "  wget https://github.com/apache/commons-cli/archive/refs/tags/rel/$COMMONS.zip -O $COMMONS.zip && \\\n",
    "  unzip -o $COMMONS.zip && \\\n",
    "  rm -f $COMMONS.zip && \\\n",
    "  cd - \\\n",
    ") && ls -l temp/"
   ]
  },
  {
   "cell_type": "markdown",
   "id": "44e875e7ce6db504",
   "metadata": {
    "collapsed": false,
    "jupyter": {
     "outputs_hidden": false
    }
   },
   "source": [
    "You should see `commons-cli-rel-commons-cli-1.7.0` in `temp`."
   ]
  },
  {
   "cell_type": "markdown",
   "id": "6ad70b81e8957fc0",
   "metadata": {
    "collapsed": false,
    "jupyter": {
     "outputs_hidden": false
    }
   },
   "source": [
    "### Generate the Code Summary\n",
    "\n",
    "Code summarization or code explanation is the task of converting code written in a programming language to natural language. It has several benefits, such as understanding code without looking at its details, documenting code for better maintenance, etc. To perform code summarization, one needs to understand the basic details of the code implementation, and use that knowledge to generate the summary using various AI-based approaches. Here, we use LLMs, specifically Granite Code 83 Instruct. We will show how a developer can easily use CLDK to analyze code by calling various APIs without having to implement analyses with lower-level tools."
   ]
  },
  {
   "cell_type": "markdown",
   "id": "15555404790e1411",
   "metadata": {
    "collapsed": false,
    "jupyter": {
     "outputs_hidden": false
    }
   },
   "source": [
    "#### Step 1: Add the neccessary imports"
   ]
  },
  {
   "cell_type": "code",
   "execution_count": 9,
   "id": "8e8e5de7e5c68020",
   "metadata": {
    "collapsed": false,
    "jupyter": {
     "outputs_hidden": false
    },
    "ExecuteTime": {
     "start_time": "2024-09-11T13:00:05.799867Z",
     "end_time": "2024-09-11T13:00:06.366662Z"
    }
   },
   "outputs": [],
   "source": [
    "import ollama\n",
    "from cldk import CLDK\n",
    "from cldk.analysis import AnalysisLevel"
   ]
  },
  {
   "cell_type": "markdown",
   "id": "ffc4ee9a6d27acc2",
   "metadata": {
    "collapsed": false,
    "jupyter": {
     "outputs_hidden": false
    }
   },
   "source": [
    "#### Step 2: Define a function for creating the LLM prompt\n",
    "\n",
    "This function instructs the LLM to summarize a Java method and includes relevant code for the task."
   ]
  },
  {
   "cell_type": "code",
   "execution_count": 10,
   "id": "9e23523c71636727",
   "metadata": {
    "collapsed": false,
    "jupyter": {
     "outputs_hidden": false
    },
    "ExecuteTime": {
     "start_time": "2024-09-11T13:00:10.317415Z",
     "end_time": "2024-09-11T13:00:10.328156Z"
    }
   },
   "outputs": [],
   "source": [
    "def format_inst(code, focal_method, focal_class, language):\n",
    "    \"\"\"\n",
    "    Format the instruction for the given focal method and class.\n",
    "    \"\"\"\n",
    "    inst = f\"Question: Can you write a brief summary for the method `{focal_method}` in the class `{focal_class}` below?\\n\"\n",
    "\n",
    "    inst += \"\\n\"\n",
    "    inst += f\"```{language}\\n\"\n",
    "    inst += code\n",
    "    inst += \"```\" if code.endswith(\"\\n\") else \"\\n```\"\n",
    "    inst += \"\\n\"\n",
    "    return inst"
   ]
  },
  {
   "cell_type": "markdown",
   "id": "dd8439be222b5caa",
   "metadata": {
    "collapsed": false,
    "jupyter": {
     "outputs_hidden": false
    }
   },
   "source": [
    "#### Step 3: Define a function to call the LLM\n",
    "\n",
    "In this case, Granite Code 3b Instruct, invoked using Ollama."
   ]
  },
  {
   "cell_type": "code",
   "execution_count": 11,
   "id": "62807e0cbf985ae6",
   "metadata": {
    "collapsed": false,
    "jupyter": {
     "outputs_hidden": false
    },
    "ExecuteTime": {
     "start_time": "2024-09-11T13:00:18.279833Z",
     "end_time": "2024-09-11T13:00:18.326854Z"
    }
   },
   "outputs": [],
   "source": [
    "def prompt_ollama(message: str, model_id: str = \"granite-code:3b-instruct\") -> str:\n",
    "    \"\"\"Prompt local model on Ollama\"\"\"\n",
    "    response_object = ollama.generate(model=model_id, prompt=message, options={\"temperature\":0.2})\n",
    "    return response_object[\"response\"]"
   ]
  },
  {
   "cell_type": "markdown",
   "id": "1022e86e38e12767",
   "metadata": {
    "collapsed": false,
    "jupyter": {
     "outputs_hidden": false
    }
   },
   "source": [
    "#### Step 4: Create an instance of CLDK, specifying the programming language of the source code\n",
    "\n",
    "Java in this case."
   ]
  },
  {
   "cell_type": "code",
   "execution_count": 12,
   "id": "a2c8bbe4e3244f60",
   "metadata": {
    "collapsed": false,
    "jupyter": {
     "outputs_hidden": false
    },
    "ExecuteTime": {
     "start_time": "2024-09-11T13:00:20.863415Z",
     "end_time": "2024-09-11T13:00:20.875535Z"
    }
   },
   "outputs": [],
   "source": [
    "cldk = CLDK(language=\"java\")"
   ]
  },
  {
   "cell_type": "markdown",
   "id": "23dd4a6e5d5cb0c5",
   "metadata": {
    "collapsed": false,
    "jupyter": {
     "outputs_hidden": false
    }
   },
   "source": [
    "#### Step 5: Select the analysis engine and analysis level\n",
    "\n",
    "CLDK uses different analysis engines---[CodeAnalyzer](https://github.com/IBM/codenet-minerva-code-analyzer) (built over [WALA](https://github.com/wala/WALA) and [JavaParser](https://github.com/javaparser/javaparser)), [Treesitter](https://tree-sitter.github.io/tree-sitter/), and [CodeQL](https://codeql.github.com/) (future). CodeAnalyzer is the default analysis engine. CLDK supports different analysis levels: 1) symbol table, 2) call graph, 3) program dependency graph, and 4) system dependency graph. The analysis level can be selected using the `AnalysisLevel` enumerated type. For this example, we select the symbol-table analysis level, with CodeAnalyzer as the default analysis engine."
   ]
  },
  {
   "cell_type": "code",
   "execution_count": 13,
   "id": "fdd09f5e77d4a68a",
   "metadata": {
    "collapsed": false,
    "jupyter": {
     "outputs_hidden": false
    },
    "ExecuteTime": {
     "start_time": "2024-09-11T13:00:26.170775Z",
     "end_time": "2024-09-11T13:00:40.003937Z"
    }
   },
   "outputs": [],
   "source": [
    "# Create an analysis object for the Java application\n",
    "analysis = cldk.analysis(project_path=\"temp/commons-cli-rel-commons-cli-1.7.0\", analysis_level=AnalysisLevel.symbol_table, analysis_json_path='analysis')"
   ]
  },
  {
   "cell_type": "markdown",
   "id": "d8fa2cda-61b5-4491-9c01-ee50431c8ad7",
   "metadata": {},
   "source": [
    "Note that a file [./analysis/analysis.json](./analysis/analysis.json) was created. This file will be used in the other notebooks, too!"
   ]
  },
  {
   "cell_type": "markdown",
   "id": "f148325e92781e13",
   "metadata": {
    "collapsed": false,
    "jupyter": {
     "outputs_hidden": false
    }
   },
   "source": [
    "#### Step 6: Iterate over all the class files and create the prompt\n",
    "\n",
    "In this case, we want to provide a sanitized Java class in the prompt, containing only the relevant information for summarizing the target method. To illustrate, consider the floowing class:\n",
    "\n",
    "```java\n",
    "package com.ibm.org;\n",
    "import A.B.C.D;\n",
    "...\n",
    "public class Foo {\n",
    " // code comment\n",
    " public void bar(){\n",
    "    int a;\n",
    "    a = baz();\n",
    "    // do something\n",
    "    }\n",
    " private int baz()\n",
    " {\n",
    "    // do something\n",
    " }\n",
    " public String dummy (String a)\n",
    " {\n",
    "    // do somthing\n",
    " }\n",
    "```\n",
    "Let's say we want to generate a summary for method `bar`. To understand what it does, we add the callees of this method in the prompt, which in this case includes `baz`. We remove the other methods, imports, comments, etc. All of this can be achieved with a single call to CLDK's `sanitize_focal_class` API. In this process, we also use Treesitter to analyze the code.  After creating the sanitized code, we call the previously defined `format_inst` method to create the LLM prompt and pass the prompt to `prompt_ollama` to generate the method summary."
   ]
  },
  {
   "cell_type": "code",
   "execution_count": null,
   "id": "462ef7dceae367ad",
   "metadata": {
    "collapsed": false,
    "jupyter": {
     "outputs_hidden": false
    },
    "pycharm": {
     "is_executing": true
    }
   },
   "outputs": [],
   "source": [
    "# For simplicity, we run the code summarization on a single class and method\n",
    "# (this filter can be removed to run this code over the entire application)\n",
    "target_class = \"org.apache.commons.cli.GnuParser\"\n",
    "target_method = \"flatten(Options, String[], boolean)\"\n",
    "\n",
    "# Iterate over all classes in the application\n",
    "for class_name in analysis.get_classes():\n",
    "    if class_name == target_class:\n",
    "        print(f\"Class: {class_name}\")\n",
    "        class_file_path = analysis.get_java_file(qualified_class_name=class_name)\n",
    "\n",
    "        # Read code for the class\n",
    "        with open(class_file_path, \"r\") as f:\n",
    "            code_body = f.read()\n",
    "\n",
    "        # Initialize treesitter utils for the class file content\n",
    "        tree_sitter_utils = cldk.tree_sitter_utils(source_code=code_body)\n",
    "\n",
    "        # Iterate over all methods in class\n",
    "        for method in analysis.get_methods_in_class(qualified_class_name=class_name):\n",
    "            if method == target_method:\n",
    "\n",
    "                # Get all the method details\n",
    "                method_details = analysis.get_method(qualified_class_name=class_name,\n",
    "                                                     qualified_method_name=method)\n",
    "\n",
    "                # Sanitize the class for analysis with respect to the target method\n",
    "                sanitized_class = tree_sitter_utils.sanitize_focal_class(method_details.declaration)\n",
    "\n",
    "                # Format the instruction for the given target method and class\n",
    "                instruction = format_inst(\n",
    "                    code=sanitized_class,\n",
    "                    focal_method=method_details.declaration,\n",
    "                    focal_class=class_name.split(\".\")[-1],\n",
    "                    language=\"java\"\n",
    "                )\n",
    "\n",
    "                print(f\"Instruction:\\n{instruction}\\n\")\n",
    "                print(f\"Generating code summary and it will take few minutes (or even seconds) based on where the model has been hosted...\\n\")\n",
    "\n",
    "                # Prompt the local model on Ollama\n",
    "                llm_output = prompt_ollama(message=instruction)\n",
    "\n",
    "                # Print the LLM output\n",
    "                print(f\"LLM Output:\\n{llm_output}\")"
   ]
  },
  {
   "cell_type": "markdown",
   "id": "ff0f2e54",
   "metadata": {},
   "source": [
    "After the LLM's response is received, you should see the generated summary of the `flatten` method printed out (similar to the following text).\n",
    "\n",
    "\n",
    "**LLM Output:**\n",
    "Sure! The method `protected String[] flatten(final Options options, final String[] arguments, final boolean stopAtNonOption)` in the class `GnuParser` is responsible for parsing command-line arguments according to the GNU convention. It takes three parameters: `options`, which represents a collection of valid command-line options; `arguments`, which is an array of strings representing the command-line arguments to be parsed; and `stopAtNonOption`, which determines whether to stop processing arguments once a non-option argument is encountered.\n",
    "\n",
    "The method iterates through each argument in the `arguments` array and performs various checks based on the argument's format. If the argument starts with \"--\", it adds the entire argument to the `tokens` list. If the argument is \"-\", it adds \"-\" to the `tokens` list. If the argument starts with a hyphen but does not match any known option, it determines whether to stop processing arguments or add the argument to the `tokens` list based on the value of `stopAtNonOption`.\n",
    "\n",
    "If an argument matches a known option, it is added to the `tokens` list along with its associated value (if applicable). The method also handles cases where the argument appears in a different format, such as \"-Dproperty=value\" or \"--option=value\".\n",
    "\n",
    "Finally, the method returns the `tokens` list as an array of strings.\n"
   ]
  }
 ],
 "metadata": {
  "kernelspec": {
   "display_name": "Python 3 (ipykernel)",
   "language": "python",
   "name": "python3"
  },
  "language_info": {
   "codemirror_mode": {
    "name": "ipython",
    "version": 3
   },
   "file_extension": ".py",
   "mimetype": "text/x-python",
   "name": "python",
   "nbconvert_exporter": "python",
   "pygments_lexer": "ipython3",
   "version": "3.11.9"
  }
 },
 "nbformat": 4,
 "nbformat_minor": 5
}
