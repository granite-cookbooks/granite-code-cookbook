{
 "cells": [
  {
   "cell_type": "code",
   "execution_count": 1,
   "metadata": {},
   "outputs": [
    {
     "name": "stdout",
     "output_type": "stream",
     "text": [
      "Requirement already satisfied: replicate in /Users/anupamchakraborty/Code/granite-code-cookbook/.codecb_env/lib/python3.11/site-packages (0.31.0)\n",
      "Requirement already satisfied: httpx<1,>=0.21.0 in /Users/anupamchakraborty/Code/granite-code-cookbook/.codecb_env/lib/python3.11/site-packages (from replicate) (0.27.0)\n",
      "Requirement already satisfied: packaging in /Users/anupamchakraborty/Code/granite-code-cookbook/.codecb_env/lib/python3.11/site-packages (from replicate) (24.1)\n",
      "Requirement already satisfied: pydantic>1.10.7 in /Users/anupamchakraborty/Code/granite-code-cookbook/.codecb_env/lib/python3.11/site-packages (from replicate) (2.8.2)\n",
      "Requirement already satisfied: typing-extensions>=4.5.0 in /Users/anupamchakraborty/Code/granite-code-cookbook/.codecb_env/lib/python3.11/site-packages (from replicate) (4.12.2)\n",
      "Requirement already satisfied: anyio in /Users/anupamchakraborty/Code/granite-code-cookbook/.codecb_env/lib/python3.11/site-packages (from httpx<1,>=0.21.0->replicate) (4.4.0)\n",
      "Requirement already satisfied: certifi in /Users/anupamchakraborty/Code/granite-code-cookbook/.codecb_env/lib/python3.11/site-packages (from httpx<1,>=0.21.0->replicate) (2024.7.4)\n",
      "Requirement already satisfied: httpcore==1.* in /Users/anupamchakraborty/Code/granite-code-cookbook/.codecb_env/lib/python3.11/site-packages (from httpx<1,>=0.21.0->replicate) (1.0.5)\n",
      "Requirement already satisfied: idna in /Users/anupamchakraborty/Code/granite-code-cookbook/.codecb_env/lib/python3.11/site-packages (from httpx<1,>=0.21.0->replicate) (3.7)\n",
      "Requirement already satisfied: sniffio in /Users/anupamchakraborty/Code/granite-code-cookbook/.codecb_env/lib/python3.11/site-packages (from httpx<1,>=0.21.0->replicate) (1.3.1)\n",
      "Requirement already satisfied: h11<0.15,>=0.13 in /Users/anupamchakraborty/Code/granite-code-cookbook/.codecb_env/lib/python3.11/site-packages (from httpcore==1.*->httpx<1,>=0.21.0->replicate) (0.14.0)\n",
      "Requirement already satisfied: annotated-types>=0.4.0 in /Users/anupamchakraborty/Code/granite-code-cookbook/.codecb_env/lib/python3.11/site-packages (from pydantic>1.10.7->replicate) (0.7.0)\n",
      "Requirement already satisfied: pydantic-core==2.20.1 in /Users/anupamchakraborty/Code/granite-code-cookbook/.codecb_env/lib/python3.11/site-packages (from pydantic>1.10.7->replicate) (2.20.1)\n",
      "Requirement already satisfied: langchain-community in /Users/anupamchakraborty/Code/granite-code-cookbook/.codecb_env/lib/python3.11/site-packages (0.2.11)\n",
      "Requirement already satisfied: PyYAML>=5.3 in /Users/anupamchakraborty/Code/granite-code-cookbook/.codecb_env/lib/python3.11/site-packages (from langchain-community) (6.0.2)\n",
      "Requirement already satisfied: SQLAlchemy<3,>=1.4 in /Users/anupamchakraborty/Code/granite-code-cookbook/.codecb_env/lib/python3.11/site-packages (from langchain-community) (2.0.32)\n",
      "Requirement already satisfied: aiohttp<4.0.0,>=3.8.3 in /Users/anupamchakraborty/Code/granite-code-cookbook/.codecb_env/lib/python3.11/site-packages (from langchain-community) (3.10.1)\n",
      "Requirement already satisfied: dataclasses-json<0.7,>=0.5.7 in /Users/anupamchakraborty/Code/granite-code-cookbook/.codecb_env/lib/python3.11/site-packages (from langchain-community) (0.6.7)\n",
      "Requirement already satisfied: langchain<0.3.0,>=0.2.12 in /Users/anupamchakraborty/Code/granite-code-cookbook/.codecb_env/lib/python3.11/site-packages (from langchain-community) (0.2.12)\n",
      "Requirement already satisfied: langchain-core<0.3.0,>=0.2.27 in /Users/anupamchakraborty/Code/granite-code-cookbook/.codecb_env/lib/python3.11/site-packages (from langchain-community) (0.2.28)\n",
      "Requirement already satisfied: langsmith<0.2.0,>=0.1.0 in /Users/anupamchakraborty/Code/granite-code-cookbook/.codecb_env/lib/python3.11/site-packages (from langchain-community) (0.1.98)\n",
      "Requirement already satisfied: numpy<2,>=1 in /Users/anupamchakraborty/Code/granite-code-cookbook/.codecb_env/lib/python3.11/site-packages (from langchain-community) (1.26.4)\n",
      "Requirement already satisfied: requests<3,>=2 in /Users/anupamchakraborty/Code/granite-code-cookbook/.codecb_env/lib/python3.11/site-packages (from langchain-community) (2.32.3)\n",
      "Requirement already satisfied: tenacity!=8.4.0,<9.0.0,>=8.1.0 in /Users/anupamchakraborty/Code/granite-code-cookbook/.codecb_env/lib/python3.11/site-packages (from langchain-community) (8.5.0)\n",
      "Requirement already satisfied: aiohappyeyeballs>=2.3.0 in /Users/anupamchakraborty/Code/granite-code-cookbook/.codecb_env/lib/python3.11/site-packages (from aiohttp<4.0.0,>=3.8.3->langchain-community) (2.3.4)\n",
      "Requirement already satisfied: aiosignal>=1.1.2 in /Users/anupamchakraborty/Code/granite-code-cookbook/.codecb_env/lib/python3.11/site-packages (from aiohttp<4.0.0,>=3.8.3->langchain-community) (1.3.1)\n",
      "Requirement already satisfied: attrs>=17.3.0 in /Users/anupamchakraborty/Code/granite-code-cookbook/.codecb_env/lib/python3.11/site-packages (from aiohttp<4.0.0,>=3.8.3->langchain-community) (24.2.0)\n",
      "Requirement already satisfied: frozenlist>=1.1.1 in /Users/anupamchakraborty/Code/granite-code-cookbook/.codecb_env/lib/python3.11/site-packages (from aiohttp<4.0.0,>=3.8.3->langchain-community) (1.4.1)\n",
      "Requirement already satisfied: multidict<7.0,>=4.5 in /Users/anupamchakraborty/Code/granite-code-cookbook/.codecb_env/lib/python3.11/site-packages (from aiohttp<4.0.0,>=3.8.3->langchain-community) (6.0.5)\n",
      "Requirement already satisfied: yarl<2.0,>=1.0 in /Users/anupamchakraborty/Code/granite-code-cookbook/.codecb_env/lib/python3.11/site-packages (from aiohttp<4.0.0,>=3.8.3->langchain-community) (1.9.4)\n",
      "Requirement already satisfied: marshmallow<4.0.0,>=3.18.0 in /Users/anupamchakraborty/Code/granite-code-cookbook/.codecb_env/lib/python3.11/site-packages (from dataclasses-json<0.7,>=0.5.7->langchain-community) (3.21.3)\n",
      "Requirement already satisfied: typing-inspect<1,>=0.4.0 in /Users/anupamchakraborty/Code/granite-code-cookbook/.codecb_env/lib/python3.11/site-packages (from dataclasses-json<0.7,>=0.5.7->langchain-community) (0.9.0)\n",
      "Requirement already satisfied: langchain-text-splitters<0.3.0,>=0.2.0 in /Users/anupamchakraborty/Code/granite-code-cookbook/.codecb_env/lib/python3.11/site-packages (from langchain<0.3.0,>=0.2.12->langchain-community) (0.2.2)\n",
      "Requirement already satisfied: pydantic<3,>=1 in /Users/anupamchakraborty/Code/granite-code-cookbook/.codecb_env/lib/python3.11/site-packages (from langchain<0.3.0,>=0.2.12->langchain-community) (2.8.2)\n",
      "Requirement already satisfied: jsonpatch<2.0,>=1.33 in /Users/anupamchakraborty/Code/granite-code-cookbook/.codecb_env/lib/python3.11/site-packages (from langchain-core<0.3.0,>=0.2.27->langchain-community) (1.33)\n",
      "Requirement already satisfied: packaging<25,>=23.2 in /Users/anupamchakraborty/Code/granite-code-cookbook/.codecb_env/lib/python3.11/site-packages (from langchain-core<0.3.0,>=0.2.27->langchain-community) (24.1)\n",
      "Requirement already satisfied: typing-extensions>=4.7 in /Users/anupamchakraborty/Code/granite-code-cookbook/.codecb_env/lib/python3.11/site-packages (from langchain-core<0.3.0,>=0.2.27->langchain-community) (4.12.2)\n",
      "Requirement already satisfied: orjson<4.0.0,>=3.9.14 in /Users/anupamchakraborty/Code/granite-code-cookbook/.codecb_env/lib/python3.11/site-packages (from langsmith<0.2.0,>=0.1.0->langchain-community) (3.10.6)\n",
      "Requirement already satisfied: charset-normalizer<4,>=2 in /Users/anupamchakraborty/Code/granite-code-cookbook/.codecb_env/lib/python3.11/site-packages (from requests<3,>=2->langchain-community) (3.3.2)\n",
      "Requirement already satisfied: idna<4,>=2.5 in /Users/anupamchakraborty/Code/granite-code-cookbook/.codecb_env/lib/python3.11/site-packages (from requests<3,>=2->langchain-community) (3.7)\n",
      "Requirement already satisfied: urllib3<3,>=1.21.1 in /Users/anupamchakraborty/Code/granite-code-cookbook/.codecb_env/lib/python3.11/site-packages (from requests<3,>=2->langchain-community) (2.2.2)\n",
      "Requirement already satisfied: certifi>=2017.4.17 in /Users/anupamchakraborty/Code/granite-code-cookbook/.codecb_env/lib/python3.11/site-packages (from requests<3,>=2->langchain-community) (2024.7.4)\n",
      "Requirement already satisfied: jsonpointer>=1.9 in /Users/anupamchakraborty/Code/granite-code-cookbook/.codecb_env/lib/python3.11/site-packages (from jsonpatch<2.0,>=1.33->langchain-core<0.3.0,>=0.2.27->langchain-community) (3.0.0)\n",
      "Requirement already satisfied: annotated-types>=0.4.0 in /Users/anupamchakraborty/Code/granite-code-cookbook/.codecb_env/lib/python3.11/site-packages (from pydantic<3,>=1->langchain<0.3.0,>=0.2.12->langchain-community) (0.7.0)\n",
      "Requirement already satisfied: pydantic-core==2.20.1 in /Users/anupamchakraborty/Code/granite-code-cookbook/.codecb_env/lib/python3.11/site-packages (from pydantic<3,>=1->langchain<0.3.0,>=0.2.12->langchain-community) (2.20.1)\n",
      "Requirement already satisfied: mypy-extensions>=0.3.0 in /Users/anupamchakraborty/Code/granite-code-cookbook/.codecb_env/lib/python3.11/site-packages (from typing-inspect<1,>=0.4.0->dataclasses-json<0.7,>=0.5.7->langchain-community) (1.0.0)\n",
      "Requirement already satisfied: sqlite-utils in /Users/anupamchakraborty/Code/granite-code-cookbook/.codecb_env/lib/python3.11/site-packages (3.37)\n",
      "Requirement already satisfied: sqlite-fts4 in /Users/anupamchakraborty/Code/granite-code-cookbook/.codecb_env/lib/python3.11/site-packages (from sqlite-utils) (1.0.3)\n",
      "Requirement already satisfied: click in /Users/anupamchakraborty/Code/granite-code-cookbook/.codecb_env/lib/python3.11/site-packages (from sqlite-utils) (8.1.7)\n",
      "Requirement already satisfied: click-default-group>=1.2.3 in /Users/anupamchakraborty/Code/granite-code-cookbook/.codecb_env/lib/python3.11/site-packages (from sqlite-utils) (1.2.4)\n",
      "Requirement already satisfied: tabulate in /Users/anupamchakraborty/Code/granite-code-cookbook/.codecb_env/lib/python3.11/site-packages (from sqlite-utils) (0.9.0)\n",
      "Requirement already satisfied: python-dateutil in /Users/anupamchakraborty/Code/granite-code-cookbook/.codecb_env/lib/python3.11/site-packages (from sqlite-utils) (2.9.0.post0)\n",
      "Requirement already satisfied: pluggy in /Users/anupamchakraborty/Code/granite-code-cookbook/.codecb_env/lib/python3.11/site-packages (from sqlite-utils) (1.5.0)\n",
      "Requirement already satisfied: six>=1.5 in /Users/anupamchakraborty/Code/granite-code-cookbook/.codecb_env/lib/python3.11/site-packages (from python-dateutil->sqlite-utils) (1.16.0)\n"
     ]
    }
   ],
   "source": [
    "!pip install replicate\n",
    "!pip install langchain-community\n",
    "!pip install sqlite-utils"
   ]
  },
  {
   "cell_type": "code",
   "execution_count": 2,
   "metadata": {},
   "outputs": [],
   "source": [
    "from langchain_community.utilities import SQLDatabase\n",
    "\n",
    "# Note: to run in Colab, you need to upload the TwitterDataset//social_media.db file in the repo to the Colab folder first.\n",
    "db = SQLDatabase.from_uri(\"sqlite:///TwitterDataset//social_media.db\", sample_rows_in_table_info=0)\n",
    "\n",
    "def get_schema():\n",
    "    return db.get_table_info()"
   ]
  },
  {
   "cell_type": "code",
   "execution_count": 3,
   "metadata": {},
   "outputs": [
    {
     "name": "stdout",
     "output_type": "stream",
     "text": [
      "\n",
      "CREATE TABLE location (\n",
      "\t\"LocationID\" INTEGER, \n",
      "\t\"Country\" TEXT, \n",
      "\t\"State\" TEXT, \n",
      "\t\"StateCode\" TEXT, \n",
      "\t\"City\" TEXT\n",
      ")\n",
      "\n",
      "\n",
      "CREATE TABLE tweet (\n",
      "\t\"TweetId\" TEXT, \n",
      "\t\"Weekday\" TEXT, \n",
      "\t\"Hour\" INTEGER, \n",
      "\t\"Day\" INTEGER, \n",
      "\t\"Lang\" TEXT, \n",
      "\t\"IsReshare\" INTEGER, \n",
      "\t\"Reach\" INTEGER, \n",
      "\t\"RetweetCount\" INTEGER, \n",
      "\t\"Likes\" INTEGER, \n",
      "\t\"Klout\" INTEGER, \n",
      "\t\"Sentiment\" REAL, \n",
      "\t\"Text\" TEXT, \n",
      "\t\"LocationID\" INTEGER, \n",
      "\t\"UserID\" TEXT\n",
      ")\n",
      "\n",
      "\n",
      "CREATE TABLE user (\n",
      "\t\"UserID\" TEXT, \n",
      "\t\"Gender\" TEXT\n",
      ")\n"
     ]
    }
   ],
   "source": [
    "db_schema = get_schema()\n",
    "print(db_schema)"
   ]
  },
  {
   "cell_type": "code",
   "execution_count": 4,
   "metadata": {},
   "outputs": [],
   "source": [
    "import getpass, os\n",
    "\n",
    "replicate_api_token = getpass.getpass()\n",
    "\n",
    "os.environ[\"REPLICATE_API_TOKEN\"] = replicate_api_token"
   ]
  },
  {
   "cell_type": "code",
   "execution_count": 5,
   "metadata": {},
   "outputs": [],
   "source": [
    "import replicate\n",
    "\n",
    "deployment = replicate.deployments.get(\"ibm-granite/granite-code-20b\")"
   ]
  },
  {
   "cell_type": "markdown",
   "metadata": {},
   "source": [
    "# Examples of Zero-Shot Prompting"
   ]
  },
  {
   "cell_type": "code",
   "execution_count": 6,
   "metadata": {},
   "outputs": [],
   "source": [
    "def make_zeroshot_prompt(db_schema, question):\n",
    "    prompt = f\"\"\"You are an Social Media analyst with 15 years of experience writing complex SQL queries. Consider the Twitter tables with the following schema:\n",
    "    {db_schema}\n",
    "\n",
    "    Write a SQL query that would answer the user's question; just return the SQL query and nothing else.\n",
    "\n",
    "    Question: {question}\n",
    "\n",
    "    SQL Query:\"\"\"\n",
    "    return prompt"
   ]
  },
  {
   "cell_type": "code",
   "execution_count": 7,
   "metadata": {},
   "outputs": [],
   "source": [
    "def get_answer_using_zeroshot(db_schema, question):\n",
    "    prompt = make_zeroshot_prompt(db_schema, question)\n",
    "\n",
    "    prediction = deployment.predictions.create(\n",
    "        input={\"prompt\": prompt, \"max_length\":100, \"temperature\":0.0}\n",
    "    )\n",
    "    prediction.wait()\n",
    "    \n",
    "    sql_query = ''.join(prediction.output)\n",
    "    result = db.run(sql_query)\n",
    "    \n",
    "    return sql_query, result"
   ]
  },
  {
   "cell_type": "markdown",
   "metadata": {},
   "source": [
    "## Queries for Zero-Shot Prompting"
   ]
  },
  {
   "cell_type": "code",
   "execution_count": 8,
   "metadata": {},
   "outputs": [
    {
     "name": "stdout",
     "output_type": "stream",
     "text": [
      "sql_query : SELECT COUNT(*) FROM tweet WHERE Lang = 'en' \n",
      "result : [(16,)]\n"
     ]
    }
   ],
   "source": [
    "question = \"How many tweets are in English?\"\n",
    "sql_query, result = get_answer_using_zeroshot(db_schema, question)\n",
    "print(f\"sql_query : {sql_query}\")\n",
    "print(f\"result : {result}\")"
   ]
  },
  {
   "cell_type": "code",
   "execution_count": 9,
   "metadata": {},
   "outputs": [
    {
     "name": "stdout",
     "output_type": "stream",
     "text": [
      "sql_query : SELECT Text\n",
      "FROM tweet\n",
      "WHERE IsReshare = 1; \n",
      "result : [('\"Retweeting an amazing fact.\"',), ('\"Sharing a valuable resource!\"',), ('\"Retweeting some late-night thoughts.\"',), ('\"Exploring new ideas at work.\"',), ('\"Retweeting an interesting debate.\"',), ('\"El tiempo está increíble hoy.\"',), ('\"TGIF! Plans for the weekend?\"',), ('\"Chilling with friends.\"',)]\n"
     ]
    }
   ],
   "source": [
    "question = \"Please list the texts of all tweets that are reshared.\"\n",
    "sql_query, result = get_answer_using_zeroshot(db_schema, question)\n",
    "print(f\"sql_query : {sql_query}\")\n",
    "print(f\"result : {result}\")"
   ]
  },
  {
   "cell_type": "code",
   "execution_count": 10,
   "metadata": {},
   "outputs": [
    {
     "name": "stdout",
     "output_type": "stream",
     "text": [
      "sql_query : SELECT COUNT(*) FROM tweet WHERE IsReshare = 1 AND LocationID IN (SELECT LocationID FROM location WHERE State = 'Ontario'); \n",
      "result : [(1,)]\n"
     ]
    }
   ],
   "source": [
    "question = \"How many reshared tweets are there in Ontario?\"\n",
    "sql_query, result = get_answer_using_zeroshot(db_schema, question)\n",
    "print(f\"sql_query : {sql_query}\")\n",
    "print(f\"result : {result}\")"
   ]
  },
  {
   "cell_type": "code",
   "execution_count": 11,
   "metadata": {},
   "outputs": [
    {
     "name": "stdout",
     "output_type": "stream",
     "text": [
      "sql_query: SELECT City, COUNT(*) as NumberOfTweets\n",
      "FROM tweet\n",
      "JOIN location ON tweet.LocationID = location.LocationID\n",
      "GROUP BY City\n",
      "ORDER BY NumberOfTweets DESC\n",
      "LIMIT 1; \n",
      "result: [('Los Angeles', 3)]\n"
     ]
    }
   ],
   "source": [
    "question = \"Which city has the highest number of tweets?\"\n",
    "sql_query, result = get_answer_using_zeroshot(db_schema, question)\n",
    "print(f\"sql_query: {sql_query}\")\n",
    "print(f\"result: {result}\")"
   ]
  },
  {
   "cell_type": "code",
   "execution_count": 12,
   "metadata": {},
   "outputs": [
    {
     "name": "stdout",
     "output_type": "stream",
     "text": [
      "sql_query: SELECT COUNT(*) \n",
      "FROM tweet \n",
      "JOIN user ON tweet.UserID = user.UserID \n",
      "WHERE user.Gender = 'Male' \n",
      "AND tweet.Weekday NOT LIKE '%Weekend%' \n",
      "result: [(11,)]\n"
     ]
    }
   ],
   "source": [
    "question = \"What is the total number of tweets made by male users on weekdays?\" #Generated SQL query is wrong\n",
    "sql_query, result = get_answer_using_zeroshot(db_schema, question)\n",
    "print(f\"sql_query: {sql_query}\")\n",
    "print(f\"result: {result}\")"
   ]
  },
  {
   "cell_type": "markdown",
   "metadata": {},
   "source": [
    "# Examples of Few-Shot Prompting"
   ]
  },
  {
   "cell_type": "code",
   "execution_count": 13,
   "metadata": {},
   "outputs": [],
   "source": [
    "def make_fewshot_prompt(db_schema, user_question):\n",
    "    prompt = f\"\"\"\n",
    "    You are a social media data analyst with 15 years of experience writing complex SQL queries. Generate SQL queries by understanding user input.\n",
    "\n",
    "    You will be given the entire database which is being queired: {db_schema}\n",
    "    Your task is to come with the SQL query from the plaintext provided by the user, which when queried on the above database will result in accurate output.\n",
    "    You are only required generate the SQL query. Do not generate the output from that SQL query or any other explanation.\n",
    "    Do not generate any explanation or comments at all. Just give the SQL query you came up with as it is.\n",
    "    Few examples are given below for your reference.\n",
    "\n",
    "    Example 1: What is the total number of tweets made by female users on weekends?\n",
    "    Answer Query 1: SELECT COUNT(*) AS total_tweets FROM tweet T JOIN user U ON T.UserID = U.UserID WHERE U.Gender = 'Female' AND T.Weekday IN ('Saturday', 'Sunday');\n",
    "\n",
    "    Example 2: What is the average sentiment score for tweets made in the United States?\n",
    "    Answer Query 2: SELECT AVG(T.Sentiment) AS avg_sentiment FROM tweet T JOIN location L ON T.LocationID = L.LocationID WHERE L.Country = 'United States';\n",
    "\n",
    "    Example 3: List the top 5 users with the highest total reach across all their tweets.\n",
    "    Answer Query 3: SELECT U.UserID, SUM(T.Reach) AS total_reach FROM tweet T JOIN user U ON T.UserID = U.UserID GROUP BY U.UserID ORDER BY total_reach DESC LIMIT 5;\n",
    "    User: {user_question}\n",
    "    Assistant:\n",
    "    \"\"\"\n",
    "\n",
    "    return prompt"
   ]
  },
  {
   "cell_type": "code",
   "execution_count": 14,
   "metadata": {},
   "outputs": [],
   "source": [
    "def get_answer_using_fewshot(db_schema, question):\n",
    "    prompt = make_fewshot_prompt(db_schema, question)\n",
    "\n",
    "    prediction = deployment.predictions.create(\n",
    "        input={\"prompt\": prompt, \"max_length\":100, \"temperature\":0.0}\n",
    "    )\n",
    "    prediction.wait()\n",
    "    \n",
    "    sql_query = ''.join(prediction.output)\n",
    "    result = db.run(sql_query)\n",
    "    \n",
    "    return sql_query, result"
   ]
  },
  {
   "cell_type": "markdown",
   "metadata": {},
   "source": [
    "## Queries with Few-Shot prompting"
   ]
  },
  {
   "cell_type": "code",
   "execution_count": 16,
   "metadata": {},
   "outputs": [
    {
     "name": "stdout",
     "output_type": "stream",
     "text": [
      "sql_query: SELECT COUNT(*) AS total_tweets FROM tweet T JOIN user U ON T.UserID = U.UserID WHERE U.Gender = 'Male' AND T.Weekday IN ('Monday', 'Tuesday', 'Wednesday', 'Thursday', 'Friday'); \n",
      "result: [(10,)]\n"
     ]
    }
   ],
   "source": [
    "question = \"What is the total number of tweets made by male users on weekdays?\"\n",
    "sql_query, result = get_answer_using_fewshot(db_schema, question)\n",
    "print(f\"sql_query: {sql_query}\")\n",
    "print(f\"result: {result}\")"
   ]
  },
  {
   "cell_type": "code",
   "execution_count": null,
   "metadata": {},
   "outputs": [],
   "source": [
    "question = \"Which city has the highest number of tweets?\"\n",
    "sql_query, result = get_answer_using_fewshot(db_schema, question)\n",
    "print(f\"sql_query: {sql_query}\")\n",
    "print(f\"result: {result}\")"
   ]
  },
  {
   "cell_type": "code",
   "execution_count": 17,
   "metadata": {},
   "outputs": [
    {
     "name": "stdout",
     "output_type": "stream",
     "text": [
      "sql_query: SELECT SUM(T.Reach) AS total_reach, AVG(T.Likes) AS avg_likes\n",
      "FROM tweet T\n",
      "JOIN user U ON T.UserID = U.UserID\n",
      "WHERE U.Gender = 'Male' AND T.IsReshare = 1; \n",
      "result: [(6000, 34.5)]\n"
     ]
    }
   ],
   "source": [
    "question = \"Find the total reach and average likes for tweets that were reshared by male users.\"\n",
    "sql_query, result = get_answer_using_fewshot(db_schema, question)\n",
    "print(f\"sql_query: {sql_query}\")\n",
    "print(f\"result: {result}\")"
   ]
  },
  {
   "cell_type": "code",
   "execution_count": 18,
   "metadata": {},
   "outputs": [
    {
     "name": "stdout",
     "output_type": "stream",
     "text": [
      "sql_query: SELECT U.Gender, COUNT(*) AS count_tweets \n",
      "FROM tweet T \n",
      "JOIN user U ON T.UserID = U.UserID \n",
      "WHERE T.Sentiment < 0 \n",
      "GROUP BY U.Gender; \n",
      "result: [('Female', 4), ('Male', 3)]\n"
     ]
    }
   ],
   "source": [
    "question = \"Retrieve the list of users who posted tweets with a sentiment score below 0, grouped by their gender, along with the count of such tweets.\"\n",
    "sql_query, result = get_answer_using_fewshot(db_schema, question)\n",
    "print(f\"sql_query: {sql_query}\")\n",
    "print(f\"result: {result}\")"
   ]
  },
  {
   "cell_type": "code",
   "execution_count": 19,
   "metadata": {},
   "outputs": [
    {
     "name": "stdout",
     "output_type": "stream",
     "text": [
      "sql_query: SELECT T.UserID, COUNT(*) AS total_tweets \n",
      "FROM tweet T \n",
      "JOIN user U ON T.UserID = U.UserID \n",
      "GROUP BY T.UserID \n",
      "ORDER BY total_tweets DESC \n",
      "LIMIT 1; \n",
      "result: [('U001', 3)]\n"
     ]
    }
   ],
   "source": [
    "question = \"Find the user(s) who posted the maximum number of tweets in a single day.\" #Generated SQL query is wrong\n",
    "sql_query, result = get_answer_using_fewshot(db_schema, question)\n",
    "print(f\"sql_query: {sql_query}\")\n",
    "print(f\"result: {result}\")"
   ]
  },
  {
   "cell_type": "markdown",
   "metadata": {},
   "source": [
    "# Chain of Thought Reasoning"
   ]
  },
  {
   "cell_type": "code",
   "execution_count": 22,
   "metadata": {},
   "outputs": [
    {
     "name": "stdout",
     "output_type": "stream",
     "text": [
      "sql_query: SELECT T.UserID, T.Day, COUNT(*) AS total_tweets \n",
      "FROM tweet T \n",
      "GROUP BY T.UserID, T.Day \n",
      "ORDER BY total_tweets DESC \n",
      "LIMIT 1; \n",
      "result: [('U001', 8, 2)]\n"
     ]
    }
   ],
   "source": [
    "question = \"\"\"Find the user(s) who posted the maximum number of tweets in a single day.\n",
    "              First calculate tweets posted by each user on each day.\n",
    "              Second sort the result in descending order of the number of tweets.\n",
    "              Third findout the maximum number of tweets posted by a user in a single day.\n",
    "              Finally select the user(s) who posted the maximum number of tweets in a single day.\"\"\"\n",
    "\n",
    "sql_query, result = get_answer_using_fewshot(db_schema, question)\n",
    "print(f\"sql_query: {sql_query}\")\n",
    "print(f\"result: {result}\")"
   ]
  },
  {
   "cell_type": "code",
   "execution_count": 20,
   "metadata": {},
   "outputs": [
    {
     "name": "stdout",
     "output_type": "stream",
     "text": [
      "sql_query: SELECT (COUNT(*) * 100.0 / (SELECT COUNT(*) FROM tweet WHERE Sentiment > 0)) AS percentage FROM tweet T JOIN user U ON T.UserID = U.UserID WHERE U.Gender = 'Male' AND T.Sentiment > 0; \n",
      "result: [(66.66666666666667,)]\n"
     ]
    }
   ],
   "source": [
    "question = \"\"\"Among all tweets with a positive sentiment, what is the percentage of all those posted by a male user?\n",
    "              First calculate tweets with a positive sentiment those posted by a male user.\n",
    "              Second calculate all tweets with a positive sentiment.\n",
    "              Finally calculate the percentage of the first result of the second result.\"\"\"\n",
    "\n",
    "sql_query, result = get_answer_using_fewshot(db_schema, question)\n",
    "print(f\"sql_query: {sql_query}\")\n",
    "print(f\"result: {result}\")"
   ]
  },
  {
   "cell_type": "code",
   "execution_count": null,
   "metadata": {},
   "outputs": [],
   "source": []
  }
 ],
 "metadata": {
  "kernelspec": {
   "display_name": ".codecb_env",
   "language": "python",
   "name": "python3"
  },
  "language_info": {
   "codemirror_mode": {
    "name": "ipython",
    "version": 3
   },
   "file_extension": ".py",
   "mimetype": "text/x-python",
   "name": "python",
   "nbconvert_exporter": "python",
   "pygments_lexer": "ipython3",
   "version": "3.11.7"
  }
 },
 "nbformat": 4,
 "nbformat_minor": 2
}
