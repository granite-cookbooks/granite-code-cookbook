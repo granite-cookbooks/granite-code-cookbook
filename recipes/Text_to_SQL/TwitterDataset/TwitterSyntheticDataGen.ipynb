{
 "cells": [
  {
   "cell_type": "code",
   "execution_count": 1,
   "metadata": {},
   "outputs": [
    {
     "name": "stdout",
     "output_type": "stream",
     "text": [
      "Requirement already satisfied: pandas in /Users/anupamchakraborty/Code/granite-code-cookbook/.codecb_env/lib/python3.11/site-packages (2.2.2)\n",
      "Requirement already satisfied: numpy>=1.23.2 in /Users/anupamchakraborty/Code/granite-code-cookbook/.codecb_env/lib/python3.11/site-packages (from pandas) (1.26.4)\n",
      "Requirement already satisfied: python-dateutil>=2.8.2 in /Users/anupamchakraborty/Code/granite-code-cookbook/.codecb_env/lib/python3.11/site-packages (from pandas) (2.9.0.post0)\n",
      "Requirement already satisfied: pytz>=2020.1 in /Users/anupamchakraborty/Code/granite-code-cookbook/.codecb_env/lib/python3.11/site-packages (from pandas) (2024.1)\n",
      "Requirement already satisfied: tzdata>=2022.7 in /Users/anupamchakraborty/Code/granite-code-cookbook/.codecb_env/lib/python3.11/site-packages (from pandas) (2024.1)\n",
      "Requirement already satisfied: six>=1.5 in /Users/anupamchakraborty/Code/granite-code-cookbook/.codecb_env/lib/python3.11/site-packages (from python-dateutil>=2.8.2->pandas) (1.16.0)\n",
      "Requirement already satisfied: sqlite-utils in /Users/anupamchakraborty/Code/granite-code-cookbook/.codecb_env/lib/python3.11/site-packages (3.37)\n",
      "Requirement already satisfied: sqlite-fts4 in /Users/anupamchakraborty/Code/granite-code-cookbook/.codecb_env/lib/python3.11/site-packages (from sqlite-utils) (1.0.3)\n",
      "Requirement already satisfied: click in /Users/anupamchakraborty/Code/granite-code-cookbook/.codecb_env/lib/python3.11/site-packages (from sqlite-utils) (8.1.7)\n",
      "Requirement already satisfied: click-default-group>=1.2.3 in /Users/anupamchakraborty/Code/granite-code-cookbook/.codecb_env/lib/python3.11/site-packages (from sqlite-utils) (1.2.4)\n",
      "Requirement already satisfied: tabulate in /Users/anupamchakraborty/Code/granite-code-cookbook/.codecb_env/lib/python3.11/site-packages (from sqlite-utils) (0.9.0)\n",
      "Requirement already satisfied: python-dateutil in /Users/anupamchakraborty/Code/granite-code-cookbook/.codecb_env/lib/python3.11/site-packages (from sqlite-utils) (2.9.0.post0)\n",
      "Requirement already satisfied: pluggy in /Users/anupamchakraborty/Code/granite-code-cookbook/.codecb_env/lib/python3.11/site-packages (from sqlite-utils) (1.5.0)\n",
      "Requirement already satisfied: six>=1.5 in /Users/anupamchakraborty/Code/granite-code-cookbook/.codecb_env/lib/python3.11/site-packages (from python-dateutil->sqlite-utils) (1.16.0)\n"
     ]
    }
   ],
   "source": [
    "!pip install  pandas\n",
    "!pip install sqlite-utils"
   ]
  },
  {
   "cell_type": "code",
   "execution_count": 2,
   "metadata": {},
   "outputs": [],
   "source": [
    "import pandas as pd\n",
    "import sqlite3"
   ]
  },
  {
   "cell_type": "code",
   "execution_count": 3,
   "metadata": {},
   "outputs": [],
   "source": [
    "tweeter_df = pd.read_csv('Tweet.csv')\n",
    "location_df = pd.read_csv('Location.csv')\n",
    "user_df = pd.read_csv('User.csv')"
   ]
  },
  {
   "cell_type": "code",
   "execution_count": 4,
   "metadata": {},
   "outputs": [],
   "source": [
    "# Connect to the SQLite database (or create it if it doesn't exist)\n",
    "conn = sqlite3.connect('social_media.db')"
   ]
  },
  {
   "cell_type": "code",
   "execution_count": 5,
   "metadata": {},
   "outputs": [
    {
     "data": {
      "text/plain": [
       "10"
      ]
     },
     "execution_count": 5,
     "metadata": {},
     "output_type": "execute_result"
    }
   ],
   "source": [
    "# Write the DataFrame to the SQLite database\n",
    "tweeter_df.to_sql('tweet', conn, if_exists='replace', index=False)\n",
    "location_df.to_sql('location', conn, if_exists='replace', index=False)\n",
    "user_df.to_sql('user', conn, if_exists='replace', index=False)"
   ]
  },
  {
   "cell_type": "code",
   "execution_count": 6,
   "metadata": {},
   "outputs": [
    {
     "name": "stdout",
     "output_type": "stream",
     "text": [
      "[('U001', 'Male'), ('U002', 'Female'), ('U003', 'Male'), ('U004', 'Female'), ('U005', 'Male'), ('U006', 'Female'), ('U007', 'Male'), ('U008', 'Female'), ('U009', 'Male'), ('U010', 'Female')]\n"
     ]
    }
   ],
   "source": [
    "# Fetch and print the results\n",
    "cursor = conn.cursor()\n",
    "cursor.execute(\"SELECT * FROM user;\")\n",
    "rows = cursor.fetchall()\n",
    "print(rows)"
   ]
  },
  {
   "cell_type": "code",
   "execution_count": 7,
   "metadata": {},
   "outputs": [
    {
     "name": "stdout",
     "output_type": "stream",
     "text": [
      "Schema for table: tweet\n",
      "Column: TweetId, Type: TEXT\n",
      "Column: Weekday, Type: TEXT\n",
      "Column: Hour, Type: INTEGER\n",
      "Column: Day, Type: INTEGER\n",
      "Column: Lang, Type: TEXT\n",
      "Column: IsReshare, Type: INTEGER\n",
      "Column: Reach, Type: INTEGER\n",
      "Column: RetweetCount, Type: INTEGER\n",
      "Column: Likes, Type: INTEGER\n",
      "Column: Klout, Type: INTEGER\n",
      "Column: Sentiment, Type: REAL\n",
      "Column: Text, Type: TEXT\n",
      "Column: LocationID, Type: INTEGER\n",
      "Column: UserID, Type: TEXT\n",
      "\n",
      "\n",
      "Schema for table: location\n",
      "Column: LocationID, Type: INTEGER\n",
      "Column: Country, Type: TEXT\n",
      "Column: State, Type: TEXT\n",
      "Column: StateCode, Type: TEXT\n",
      "Column: City, Type: TEXT\n",
      "\n",
      "\n",
      "Schema for table: user\n",
      "Column: UserID, Type: TEXT\n",
      "Column: Gender, Type: TEXT\n",
      "\n",
      "\n"
     ]
    }
   ],
   "source": [
    "# Get the list of all tables in the database\n",
    "cursor.execute(\"SELECT name FROM sqlite_master WHERE type='table';\")\n",
    "tables = cursor.fetchall()\n",
    "\n",
    "for table_name in tables:\n",
    "    table_name = table_name[0]\n",
    "    print(f\"Schema for table: {table_name}\")\n",
    "\n",
    "    # Get the schema details for each table\n",
    "    cursor.execute(f\"PRAGMA table_info({table_name});\")\n",
    "    columns = cursor.fetchall()\n",
    "\n",
    "    # Print column details\n",
    "    for column in columns:\n",
    "        print(f\"Column: {column[1]}, Type: {column[2]}\")\n",
    "\n",
    "    print(\"\\n\")\n",
    "\n",
    "# Close the connection\n",
    "conn.close()\n"
   ]
  },
  {
   "cell_type": "code",
   "execution_count": null,
   "metadata": {},
   "outputs": [],
   "source": []
  }
 ],
 "metadata": {
  "kernelspec": {
   "display_name": ".venv",
   "language": "python",
   "name": "python3"
  },
  "language_info": {
   "codemirror_mode": {
    "name": "ipython",
    "version": 3
   },
   "file_extension": ".py",
   "mimetype": "text/x-python",
   "name": "python",
   "nbconvert_exporter": "python",
   "pygments_lexer": "ipython3",
   "version": "3.11.7"
  }
 },
 "nbformat": 4,
 "nbformat_minor": 2
}
